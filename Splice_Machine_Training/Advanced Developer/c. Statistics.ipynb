{
    "cells": [
        {
            "cell_type": "code",
            "execution_count": null,
            "metadata": {},
            "outputs": [],
            "source": [
                "import os\n",
                "os.environ['JDBC_HOST'] = 'jrtest01-splice-hregion'"
            ]
        },
        {
            "cell_type": "markdown",
            "metadata": {},
            "source": [
                "# Statistics\n",
                "\n",
                "Database statistics are a form of metadata (data about data) that assists the Splice Machine query optimizer; these statistics help the optimizer to select the most efficient approach to running a query, based on information that has been gathered about the tables involved in the query.\n"
            ]
        },
        {
            "cell_type": "markdown",
            "metadata": {},
            "source": [
                "## Collecting Statistics\n",
                "\n",
                "You can collect statistics on a schema or table using the `analyze` command. As a best practice, you should run statistics on a table if an index has been created, or if you've modified more than 10% of the data. Here are some of the tools available for working with statistics in Splice Machine: \n",
                "\n",
                "* By default, statistics are calculated on all columns of a table. To selectively calculate them on one or more columns, you can use built-in stored procedure `SYSCS_UTIL.DISABLE_COLUMN_STATISTICS(schema, table, column)` to specify which column(s) are to be used.\n",
                "\n",
                "* You can query the `SYSTABLESTATISTICS` system view to view statistics for specific tables. \n",
                "\n",
                "* You can query the `SYSCOLUMNSTATISTICS` system view to view statistics for specific columns in a table.\n",
                "\n",
                "* The `ANALYZE TABLE` command collects statistics for a specific table in the current schema. It also collects statistics for any indexes associated with the table in the schema.\n",
                "\n",
                "* The `ANALYZE SCHEMA` command collects statistics for every table in the schema. It also collects statistics for any indexes associated with every table in the schema."
            ]
        },
        {
            "cell_type": "markdown",
            "metadata": {},
            "source": [
                "## Interpreting Analyze Output\n",
                "\n",
                "The following table summarizes what you'll see in the output of the `analyze` command:\n",
                "\n",
                "<table summary=\"List of columns in the output of the analyze table command.\">\n",
                "            <col />\n",
                "            <col />\n",
                "            <thead>\n",
                "                <tr>\n",
                "                    <th>Value</th>\n",
                "                    <th>Description</th>\n",
                "                </tr>\n",
                "            </thead>\n",
                "            <tbody>\n",
                "                <tr>\n",
                "                    <td><code>schemaName</code></td>\n",
                "                    <td>The name of the schema.</td>\n",
                "                </tr>\n",
                "                <tr>\n",
                "                    <td><code>tableName</code></td>\n",
                "                    <td>The name of the table.</td>\n",
                "                </tr>\n",
                "                <tr>\n",
                "                    <td><code>partition</code></td>\n",
                "                    <td>The Splice Machine partition. We merge the statistics for all table partitions, so the partition will show as <code>-All-</code> when you specify one of the non-merged type values for the <code>statsType</code> parameter.</td>\n",
                "                </tr>\n",
                "                <tr>\n",
                "                    <td><code>rowsCollected</code></td>\n",
                "                    <td>The total number of rows collected for the table.</td>\n",
                "                </tr>\n",
                "                <tr>\n",
                "                    <td><code>partitionSize</code></td>\n",
                "                    <td>The combined size of the table's partitions.</td>\n",
                "                </tr>\n",
                "                <tr>\n",
                "                    <td><code>statsType</code></td>\n",
                "                    <td><p>The type of statistics, which is one of these values:</p>\n",
                "                        <table>\n",
                "                            <col />\n",
                "                            <col />\n",
                "                            <tbody>\n",
                "                                <tr>\n",
                "                                    <td>0</td>\n",
                "                                    <td>Full table (not sampled) statistics that reflect the unmerged partition values.</td>\n",
                "                                </tr>\n",
                "                                <tr>\n",
                "                                    <td>1</td>\n",
                "                                    <td>Sampled statistics that reflect the unmerged partition values.</td>\n",
                "                                </tr>\n",
                "                                <tr>\n",
                "                                    <td>2</td>\n",
                "                                    <td>Full table (not sampled) statistics that reflect the table values after all partitions have been merged.</td>\n",
                "                                </tr>\n",
                "                                <tr>\n",
                "                                    <td>3</td>\n",
                "                                    <td>Sampled statistics that reflect the table values after all partitions have been merged.</td>\n",
                "                                </tr>\n",
                "                            </tbody>\n",
                "                        </table>\n",
                "                    </td>\n",
                "                </tr>\n",
                "                <tr>\n",
                "                    <td><code>sampleFraction</code></td>\n",
                "                    <td>\n",
                "                        <p>The sampling percentage, expressed as <code>0.0</code> to <code>1.0</code>, </p>\n",
                "                        <ul>\n",
                "                            <li>If <code>statsType=0</code> or <code>statsType=1</code> (full statistics), this value is not used, and is shown as <code>0</code>.</li>\n",
                "                            <li>If <code>statsType=2</code> or <code>statsType=3</code>, this value is the percentage or rows to be sampled. A value of <code>0</code> means no rows, and a value of <code>1</code> means all rows (same as full statistics).</li>\n",
                "                        </ul>\n",
                "                    </td>\n",
                "                </tr>\n",
                "            </tbody>\n",
                "        </table>\n"
            ]
        },
        {
            "cell_type": "markdown",
            "metadata": {},
            "source": [
                "        \n",
                "Click *Shift + Enter* to:\n",
                "\n",
                "* creates a schema\n",
                "* creates a table\n",
                "* inserts some records\n",
                "* runs the `analyze table` command to collect statistics for the table      "
            ]
        },
        {
            "cell_type": "code",
            "execution_count": null,
            "metadata": {},
            "outputs": [],
            "source": [
                "%%sql \n",
                "\n",
                "create schema test;\n",
                "set schema test;\n",
                "\n",
                "create table index_example (i int primary key, j int);\n",
                "insert into index_example values (1,1),(2,2),(3,3),(4,4),(5,5),(6,6),(7,7),(8,8),(9,9),(10,10);\n",
                "insert into index_example select i+10,j+10 from index_example;\n",
                "insert into index_example select i+20,j+20 from index_example;\n",
                "insert into index_example select i+40,j+40 from index_example;\n",
                "insert into index_example select i+80,j+80 from index_example;\n",
                "insert into index_example select i+160,j+160 from index_example;\n",
                "insert into index_example select i+320,j+320 from index_example;\n",
                "insert into index_example select i+640,j+640 from index_example;\n",
                "insert into index_example select i+1280,j+1280 from index_example;\n",
                "insert into index_example select i+2560,j+2560 from index_example;\n",
                "insert into index_example select i+6000,j+6000 from index_example;\n",
                "insert into index_example select i+12000,j+12000 from index_example;\n",
                "insert into index_example select i+24000,j+24000 from index_example;\n",
                "insert into index_example select i+48000,j+48000 from index_example;\n",
                "insert into index_example select i+96000,j+96000 from index_example;\n",
                "insert into index_example select i+200000,j+200000 from index_example;\n",
                "insert into index_example select i+400000,j+400000 from index_example;\n",
                "insert into index_example select i+800000,j+800000 from index_example;\n",
                "\n",
                "analyze table test.index_example;"
            ]
        },
        {
            "cell_type": "markdown",
            "metadata": {},
            "source": [
                "## For Further Exploration and Understanding\n",
                "\n",
                "To gain a better understanding of using statistics, try using the `ANALYZE` command as follows:\n",
                "\n",
                "1. Create a table with some data, similar to the example in this notebook.\n",
                "\n",
                "2. Run an `EXPLAIN` plan on a sample `SELECT` query. Notice any discrepancies, such as row counts, in the `EXPLAIN` output.\n",
                "\n",
                "3. Run `ANALYZE` on the table.\n",
                "\n",
                "4. Run `EXPLAIN` plan again and verify that it picked up the correct statistics.\n",
                "\n",
                "5. Collect statistics on a specific set of columns. This may optimize for certain cases in which statistics only need to be collected for a few columns.\n",
                "\n",
                "6. Drop statistics for the schema, and than recalculate schema statistics.\n",
                "\n"
            ]
        },
        {
            "cell_type": "markdown",
            "metadata": {},
            "source": [
                "## Where to Go Next\n",
                "\n",
                "The next notebook in this class, [*Bulk Data Loading*](./d.%20Bulk%20Data%20Loading.ipynb), introduces and walks you through using our Bulk HFile Import mechanism for highly performant loading of data.\n"
            ]
        }
    ],
    "metadata": {
        "kernelspec": {
            "display_name": "Python 3",
            "language": "python",
            "name": "python3"
        },
        "language_info": {
            "codemirror_mode": {
                "name": "ipython",
                "version": 3
            },
            "file_extension": ".py",
            "mimetype": "text/x-python",
            "name": "python",
            "nbconvert_exporter": "python",
            "pygments_lexer": "ipython3",
            "version": "3.7.3"
        },
        "toc": {
            "base_numbering": 1,
            "nav_menu": {},
            "number_sections": false,
            "sideBar": false,
            "skip_h1_title": false,
            "title_cell": "Table of Contents",
            "title_sidebar": "Contents",
            "toc_cell": false,
            "toc_position": {},
            "toc_section_display": false,
            "toc_window_display": false
        }
    },
    "nbformat": 4,
    "nbformat_minor": 2
}
{
    "cells": [
        {
            "cell_type": "code",
            "execution_count": null,
            "metadata": {},
            "outputs": [],
            "source": [
                "import os\n",
                "os.environ['JDBC_HOST'] = 'jrtest01-splice-hregion'"
            ]
        },
        {
            "cell_type": "markdown",
            "metadata": {},
            "source": [
                "# Transactions in Splice Machine\n",
                "\n",
                "In the *For Developers, Part II* course we showed you how transactions are processed and handled in Splice Machine, using Spark and Scala. In this notebook we'll take a deeper dive, and will explain the concept of transactions and how Splice Machine handles them.\n",
                "\n",
                "First, let's define a _transaction_, which is a series of events that appear single-threaded to the user. A transaction consists of the events between a begin timestamp and a commit timestamp. A transaction can be in one of four states:\n",
                "\n",
                "<table class=\"splicezep\">\n",
                "    <thead>\n",
                "        <tr>\n",
                "            <th>State</th>\n",
                "            <th>Description</th>\n",
                "        </tr>\n",
                "    </thead>\n",
                "    <tbody>\n",
                "        <tr>\n",
                "            <td>Active</td>\n",
                "            <td>The transaction always begins in this state.</td>\n",
                "        </tr>\n",
                "        <tr>\n",
                "            <td>Rollback</td>\n",
                "            <td>The transaction is moved to the rolled back state.</td>\n",
                "        </tr>\n",
                "        <tr>\n",
                "            <td>Committed</td>\n",
                "            <td>The transaction has been committed to the database.</td>\n",
                "        </tr>\n",
                "        <tr>\n",
                "            <td>Error</td>\n",
                "            <td>This is logically equivalent to the rolled back state, but an uncontrollable error has occurred and should be investigated.</td>\n",
                "        </tr>\n",
                "    </tbody>\n",
                "</table>\n",
                "\n",
                "In Splice Machine, transactions are durably stored in the `SPLICE_TXN` table. This is a normal Hbase table, __not__ a Splice Machine table. `SPLICE_TXN` is not governed by transactional semantics; instead, it relies on Hbase's atomic row operations (`increment`, `compareAndSet`, and `put`). The rowkey is an 8-bit transaction ID with bits reversed to avoid sequential ordering."
            ]
        },
        {
            "cell_type": "markdown",
            "metadata": {},
            "source": [
                "## Snapshot Isolation\n",
                "\n",
                "Splice Machine uses state-of-the-art snapshot isolation as a form of multi-version concurrency control (MVCC). Writers do not block readers and Splice Machine is able to provide fast, high concurrency. Transactions are defined with begin and commit timestamps. Overlapping transactions that write to the same row will conflict. Reads will see data committed with a later timestamp than the transaction's begin timestamp.\n",
                "\n",
                "Here is a diagram that depicts how transactions are handled using snapshot isolation:\n",
                "\n",
                "<img src=\"https://splice-training.s3.amazonaws.com/external/images/SIExample.png\" width=\"640\">\n",
                "<br/>\n"
            ]
        },
        {
            "cell_type": "markdown",
            "metadata": {},
            "source": [
                "<p style=\"padding-top:200px;\">This diagram depicts 3 transactions:</p>\n",
                "\n",
                "* Transaction `T1` starts at timeline `t2`\n",
                "* 10 is added to Item A at timeline `t3` in the `T1` transaction\n",
                "* Transaction `T2` starts at timeline `t4`\n",
                "* 10 is added to Item A at timeline `t5` in the `T1` transaction\n",
                "* Transaction `T1` is committed at timeline `t6`\n",
                "* Transaction `T3` starts at timeline `t7`\n",
                "* 10 is added to Item B at timeline `t9` in the `T2` transaction\n",
                "* Item C is set to Item A + 10 at timeline `t10` in the `T2` transaction\n",
                "* Transaction `T2` is committed at timeline `T11`\n",
                "* Transaction `T3` attempts to add 10 to Item B at timeline `t13` but receives a write-write conflict because Item B was been updated by transaction `T1` after transaction `T3` was started\n",
                "* Transaction `T3` is rolled back \n",
                "* A new transaction `T3'` is started at timeline `t16` \n",
                "* 10 os added to Item B at timeline `t17`\n",
                "* Transaction `T3'` is committed at timeline `t18`\n"
            ]
        },
        {
            "cell_type": "markdown",
            "metadata": {},
            "source": [
                "## Where to Go Next\n",
                "The next notebook in this class, [*Query Optimization*](./f.%20Query%20Optimization.ipynb), shows you advanced optimization techniques for boosting query performance.\n"
            ]
        }
    ],
    "metadata": {
        "kernelspec": {
            "display_name": "Python 3",
            "language": "python",
            "name": "python3"
        },
        "language_info": {
            "codemirror_mode": {
                "name": "ipython",
                "version": 3
            },
            "file_extension": ".py",
            "mimetype": "text/x-python",
            "name": "python",
            "nbconvert_exporter": "python",
            "pygments_lexer": "ipython3",
            "version": "3.7.3"
        },
        "toc": {
            "base_numbering": 1,
            "nav_menu": {},
            "number_sections": false,
            "sideBar": false,
            "skip_h1_title": false,
            "title_cell": "Table of Contents",
            "title_sidebar": "Contents",
            "toc_cell": false,
            "toc_position": {},
            "toc_section_display": false,
            "toc_window_display": false
        }
    },
    "nbformat": 4,
    "nbformat_minor": 2
}
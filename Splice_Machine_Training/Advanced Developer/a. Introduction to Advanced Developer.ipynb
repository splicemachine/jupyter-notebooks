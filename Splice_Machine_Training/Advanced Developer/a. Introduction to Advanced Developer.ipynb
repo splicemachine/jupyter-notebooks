{
 "cells": [
  {
   "cell_type": "markdown",
   "metadata": {},
   "source": [
    "# Introduction to Splice Machine Advanced Developer Training\n",
    "\n",
    "This class is recommended for query writers, ETL processors, and developers who are working with Splice Machine. \n",
    "\n",
    "To understand this content, you need to have first completed our *Splice Machine Developer Training, Part I* and *Splice Machine Developer Training, Part II* classes.\n",
    "\n",
    "You can expect to spend 2-3 hours completing this class, which contains the following sequence of notebooks:\n",
    "\n",
    "<table class=\"splicezepOddEven\">\n",
    "    <col />\n",
    "    <col />\n",
    "    <tbody>\n",
    "        <tr>\n",
    "            <td>1.</td>\n",
    "            <td>This class starts with our <a href=\"./b.%20Architecture.ipynb\"><em>Architecture</em></a> notebook, which will give you and understanding of the architecture of Splice Machine.</td>\n",
    "        </tr>\n",
    "        <tr>\n",
    "            <td>2.</td>\n",
    "            <td>The <a href=\"./c.%20Statistics.ipynb\"><em>Statistics</em></a> notebook shows you how we use database statistics to optimize queries, and how you can use those same statistics for query tuning.</td>\n",
    "        </tr>\n",
    "        <tr>\n",
    "            <td>3.</td>\n",
    "            <td>The <a href=\"./d.%20Bulk%20Data%20Loading.ipynb\"><em>Bulk Data Loading</em></a> notebook introduces and walks you through using our Bulk HFile Import mechanism for highly performant loading of data.</td>\n",
    "        </tr>\n",
    "        <tr>\n",
    "            <td>4.</td>\n",
    "            <td>The <a href=\"./e.%20Transactions%20in%20Splice%20Machine.ipynb\"><em>Transactions in Splice Machine</em></a> notebook teaches you how transactions are processed in Splice Machine.</td>\n",
    "        </tr>\n",
    "        <tr>\n",
    "            <td>5.</td>\n",
    "            <td>The <a href=\"./f.%20Query%20Optimization.ipynb\"><em>Query Optimization</em></a> notebook shows you advanced optimization techniques for boosting query performance.</td>\n",
    "        </tr>\n",
    "        <tr>\n",
    "            <td>6.</td>\n",
    "            <td>The <a href=\"./g.%20Prepared%20Statements.ipynb\"><em>Prepared Statements</em></a> notebook teaches you how to use prepared statements for querying your databases.</td>\n",
    "        </tr>       \n",
    "        <tr>\n",
    "            <td>7.</td>\n",
    "            <td>The <a href=\"./h.%20User%20Defined%20Functions%20%26%20Procedures.ipynb\"><em>User-Defined Functions and Procedures</em></a> notebook walks you through creating, using, and modifying functions and procedures that you can use for complex database queries.</td>\n",
    "        </tr>       \n",
    "        <tr>\n",
    "            <td>8.</td>\n",
    "            <td>The <a href=\"./i.%20Using%20spark-submit%20with%20Native%20Spark%20Datasource.ipynb\"><em>Using spark-submit with the Native Spark DataSource</em></a> notebook shows you how to take advantage of the Splice Machine Native Spark DataSource when running apps with spark-submit.</td>\n",
    "        </tr>       \n",
    "        <tr>\n",
    "            <td>9.</td>\n",
    "            <td>The <a href=\"./j.%20Exercises.ipynb\"><em>Exercises for This Class</em></a> notebook contains a number of exercises that you should complete to test your understanding of the content in this class.</td>\n",
    "        </tr>       \n",
    "    </tbody>\n",
    "</table>\n",
    "\n",
    "Note that each notebook contains a link to the next notebook in the sequence, and many of the notebooks also contain links to related pages in our Splice Machine Documentation web."
   ]
  },
  {
   "cell_type": "markdown",
   "metadata": {},
   "source": [
    "## Where to Go Next\n",
    "Please start this class with the [*Architecture*](./b.%20Architecture.ipynb) notebook, which provides an overview of the architecture of Splice Machine."
   ]
  }
 ],
 "metadata": {
  "kernelspec": {
   "display_name": "Python 3",
   "language": "python",
   "name": "python3"
  },
  "language_info": {
   "codemirror_mode": {
    "name": "ipython",
    "version": 3
   },
   "file_extension": ".py",
   "mimetype": "text/x-python",
   "name": "python",
   "nbconvert_exporter": "python",
   "pygments_lexer": "ipython3",
   "version": "3.7.3"
  },
  "toc": {
   "base_numbering": 1,
   "nav_menu": {},
   "number_sections": false,
   "sideBar": false,
   "skip_h1_title": false,
   "title_cell": "Table of Contents",
   "title_sidebar": "Contents",
   "toc_cell": false,
   "toc_position": {},
   "toc_section_display": false,
   "toc_window_display": false
  }
 },
 "nbformat": 4,
 "nbformat_minor": 2
}

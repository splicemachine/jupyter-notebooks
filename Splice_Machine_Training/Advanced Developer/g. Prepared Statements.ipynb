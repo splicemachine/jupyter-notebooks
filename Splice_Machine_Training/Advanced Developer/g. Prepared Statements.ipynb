{
 "cells": [
  {
   "cell_type": "markdown",
   "metadata": {},
   "source": [
    "# Prepared Statements\n",
    "\n",
    "This notebook teaches you how to use prepared statements for querying your databases. Prepared statements are faster to use when you have to run the same statement multiple times, with different data. That's because the SQL in a prepared statement is validated only once, whereas if you just use a statement, the SQL is validated each time you execute the statement.\n",
    "\n",
    "You can use prepared statements in two ways in Splice Machine:\n",
    "\n",
    "* The *Using sqlshell* section below shows you how to use the Splice Machine sqlshell to prepare sql statements.\n",
    "* The *Using Java* section below shows you how to prepare statements in Java.\n"
   ]
  },
  {
   "cell_type": "markdown",
   "metadata": {},
   "source": [
    "## Using sqlshell for Prepared Statements\n",
    "\n",
    "Using the Splice Machine sqlshell command line interpreter, `splice>`, we can prepare and execute SQL statements with ease. The sqlshell application is typically installed on every region server in your Splice Machine cluster and is also available in the standalone version of Splice Machine. \n",
    "\n",
    "Here is the syntax for the `PREPARE` statement:\n",
    "\n",
    "```\n",
    "PREPARE identifier AS string\n",
    "```\n",
    "\n",
    "where:\n",
    "\n",
    "   * `identifier` is the identifier to assign to the prepared statement.\n",
    "   * `string` is the command string to prepare.\n",
    "\n",
    "After a SQL statement is prepared, you can use the `execute` command to run the sql statement.\n",
    "\n",
    "Here is an example:\n",
    "\n",
    "```\n",
    "splice> prepare seeMenu as 'SELECT * FROM menu';\n",
    "splice> execute seeMenu;\n",
    "COURSE    |ITEM                |PRICE\n",
    "-----------------------------------------------\n",
    "entree    |lamb chop           |14\n",
    "dessert   |creme brulee        |6\n",
    "```\n",
    "\n",
    "The `prepare` command can accept variables, which allows you to `execute` the statement for different values. For example:\n",
    "\n",
    "```\n",
    "splice> prepare addYears as 'update children set age = age + ? where name = ?';\n",
    "splice> execute addYears using 'values (10, ''Abigail'')';\n",
    "splice> execute addYears using 'values (5, ''Wendy'')';\n",
    "splice> execute addYears using 'values (2, ''Joshua'')';\n",
    "```\n",
    "\n",
    "<p class=\"noteIcon\">These commands will not work when executed from a third-party sql tool like <i>dbVisualizer</i> or <i>dBeaver</i>. The SQL syntax is specific to Splice Machine.</p>"
   ]
  },
  {
   "cell_type": "markdown",
   "metadata": {},
   "source": [
    "## Using Java for Prepared Statements\n",
    "\n",
    "You can use the `java.sql.PreparedStatement` java class to prepare SQL statements for execution in any java application. \n",
    "\n",
    "Here is an example of a Java method that uses a prepared statement to execute a SQL statement:\n",
    "\n",
    "```\n",
    "public static void GET_NUM_ORDERS(int storeNum, ResultSet[] rs) throws SQLException {\n",
    "\tConnection conn = DriverManager.getConnection(\"jdbc:default:connection\");\n",
    "\n",
    "\tString query = \"select count(o_orderkey) from orders \" +\n",
    "\t\t\t\t\"where o_custkey = ?\";\n",
    "\n",
    "\tPreparedStatement pstmt = conn.prepareStatement(query);\n",
    "\tpstmt.setInt(1, storeNum);\n",
    "\n",
    "\trs[0] = pstmt.executeQuery();\n",
    "}\n",
    "```\n",
    "\n",
    "This method uses a `java.sql.Connection`, which is retrieved from the `DriverManager`, to return a prepared statement for the query. A `PreparedStatement` object, `pstmt`, is created, and a value is set using the `setInt` method. Finally, the query is executed using the `executeQuery` method. \n"
   ]
  },
  {
   "cell_type": "markdown",
   "metadata": {},
   "source": [
    "## Where to Go Next\n",
    "The next notebook in this class, [*User-Defined Functions and Procedures*](./h.%20User%20Defined%20Functions%20%26%20Procedures.ipynb), walks you through creating, using, and modifying functions and procedures that you can use for complex database queries.\n"
   ]
  }
 ],
 "metadata": {
  "kernelspec": {
   "display_name": "Python 3",
   "language": "python",
   "name": "python3"
  },
  "language_info": {
   "codemirror_mode": {
    "name": "ipython",
    "version": 3
   },
   "file_extension": ".py",
   "mimetype": "text/x-python",
   "name": "python",
   "nbconvert_exporter": "python",
   "pygments_lexer": "ipython3",
   "version": "3.7.3"
  },
  "toc": {
   "base_numbering": 1,
   "nav_menu": {},
   "number_sections": false,
   "sideBar": false,
   "skip_h1_title": false,
   "title_cell": "Table of Contents",
   "title_sidebar": "Contents",
   "toc_cell": false,
   "toc_position": {},
   "toc_section_display": false,
   "toc_window_display": false
  }
 },
 "nbformat": 4,
 "nbformat_minor": 2
}

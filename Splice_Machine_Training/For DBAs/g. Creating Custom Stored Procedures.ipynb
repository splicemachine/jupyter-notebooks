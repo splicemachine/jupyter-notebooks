{
 "cells": [
  {
   "cell_type": "markdown",
   "metadata": {},
   "source": [
    "<link rel=\"stylesheet\" href=\"https://doc.splicemachine.com/zeppelin/css/zepstyles2.css\" />\n",
    "\n",
    "# Creating Custom Stored Procedures\n",
    "\n",
    "This notebook describes how to create and use custom stored procedures written in Java in Splice Machine, in these sections:\n",
    "\n",
    "* *Your Stored Procedure Development Environment*\n",
    "* *Local Deployment of the Jar File*\n",
    "* *Running Your Custom Procedure Locally*\n",
    "\n",
    "You can create custom functions and procedures to deploy in your database; you can then call them as needed from your SQL.\n",
    "\n",
    "<p class=\"noteIcon\">This notebook describes how to create custom stored procedures. You will need to adapt this to your own development environment.</p>\n"
   ]
  },
  {
   "cell_type": "markdown",
   "metadata": {},
   "source": [
    "## Your Stored Procedure Development Environment\n",
    "\n",
    "The *environment* in which your stored procedure code is developed may change depending upon your need: we recommend that you flesh out the actual functionality of your custom code in a local (standalone) Splice Machine envirmonment. Once you have refined your code and it behaves to your satisfaction in your local environment, you can then re-deploy the developed code to your target instance. \n",
    "\n",
    "This notebook covers all of these steps - though as you will see, these steps occur OUTSIDE of an actual Notebook when running in a local environment. Replace any instances of `<your-file-name>` in the examples with your specific file name, rememberig to remove the `<` and `>` brackets.\n"
   ]
  },
  {
   "cell_type": "markdown",
   "metadata": {},
   "source": [
    "## Local Development of the Custom Code in an IDE\n",
    "\n",
    "As mentioned above, Splice Machine strongly recommends that you develop your custom Java code using an Integrated Development Environment (IDE) on your local machine. This is most frequently done on a Mac or Linux computer. That way you can develop, test, and tune locally, before deploying to a full cluster. The product of your code should be a JDK 1.8-compatible JAR file.\n",
    "\n",
    "The following steps are for developing your procedure using the IntelliJ IDEA on MacOS:\n",
    "\n",
    "### Setting Up Your Project\n",
    "\n",
    "Inside of IntelliJ IDEA, do the following:\n",
    "1. Select `File -> New -> Project...`\n",
    "2. Choose `Java with 1.8` as the Project SDK\n",
    "3. Skip creating from a template unless you prefer to use one\n",
    "4. Give your project a name and location; for example: `CompanyACustom1`\n",
    "5. If desired, create a new package (`File -> New -> Package`), such as `com.splicemachine.companya`\n",
    "\n",
    "### Configuring to output a JAR file\n",
    "Inside of IntelliJ IDEA, do the following:\n",
    "\n",
    "1. Select `File -> Project Structure...`\n",
    "2. Select `Artifacts`, and click `+`\n",
    "3. Choose `JAR -> From modules with dependencies `\n",
    "3. Check `Build on make` and then click `OK`\n",
    "\n",
    "### Coding your function or procedure\n",
    "\n",
    "1. Create a file by right-clicking on your src or package folder, and selecting `New -> Java Class`\n",
    "2. Paste in code like the following:\n",
    "\n",
    "```\n",
    "package com.splicemachine.companya;\n",
    "\n",
    "import java.sql.SQLException;\n",
    "import java.sql.Connection;\n",
    "import java.sql.DriverManager;\n",
    "import java.sql.PreparedStatement;\n",
    "\n",
    "\n",
    "public class Custom1 {\n",
    "\n",
    "\n",
    "    public static void customIncrement () throws SQLException {\n",
    "        try (Connection con = DriverManager.getConnection(\"jdbc:default:connection\")) {\n",
    "\n",
    "            String incrementSQL = \"update SPLICE.INCREMENTTEST set i = i + 1\";\n",
    "\n",
    "            try (PreparedStatement ps = con.prepareStatement(incrementSQL)) {\n",
    "                int resultSet = ps.executeUpdate();\n",
    "            } catch (SQLException e) {\n",
    "                con.rollback();\n",
    "                e.printStackTrace();\n",
    "                throw e;\n",
    "            }\n",
    "        }\n",
    "    }\n",
    "}\n",
    "```\n",
    "\n",
    "### Build your JAR file\n",
    "1. `Build -> Artifacts... JAR`\n",
    "2. Use your command line interface to navigate to where the JAR file is created, e.g. out/artifacts/CompanyACustom1_jar/Custom1.jar\n",
    "\n",
    "You are now ready to deploy your JAR file to test!\n"
   ]
  },
  {
   "cell_type": "markdown",
   "metadata": {},
   "source": [
    "## Development Guidelines\n",
    "Before we develop the code and deploy the JAR file, it is worth going through some simple best practices:\n",
    "\n",
    "1. It's useful for code organization to use a package for the code, e.g. com.splicemachine.yourcompanyname.\n",
    "2. Notice you don't need a *main* code block in your class, because you'll be directly calling the class's specific method.\n",
    "3. The example we've shown is a stored procedure, which means it does not return any results. When you create a function, it must return a result.\n",
    "4. You need to ensure that your method throws `SQLException` if SQL is being executed.  Be sure to use `try/catch` blocks similar to those shown in the example, to deal with any possible run-time exceptions.\n"
   ]
  },
  {
   "cell_type": "markdown",
   "metadata": {},
   "source": [
    "## Local Deployment of the JAR file\n",
    "\n",
    "Once you've got your code up and running  you can deploy into your development environment. Carefully edit and execute the commands below IN YOUR LOCAL ENVIRONMENT (not in Zeppelin) to align to your custom procedure and environment:\n",
    "\n",
    "```\n",
    "CALL SQLJ.INSTALL_JAR('<your-full-path-to>/Custom1.jar', 'SPLICE.Custom1', 0);\n",
    "CALL SYSCS_UTIL.SYSCS_SET_GLOBAL_DATABASE_PROPERTY('derby.database.classpath', 'SPLICE.custom1');\n",
    "CREATE PROCEDURE SPLICE.customincrement() PARAMETER STYLE JAVA MODIFIES SQL DATA LANGUAGE JAVA DYNAMIC RESULT SETS 0 EXTERNAL NAME 'com.splicemachine.companya.Custom1.customIncrement';\n",
    "```\n"
   ]
  },
  {
   "cell_type": "markdown",
   "metadata": {},
   "source": [
    "## Run Your Procedure in Your Local Database Environment\n",
    "\n",
    "You can create a table on which the stored procedure will operate, in your local environment. For example:\n",
    "```\n",
    "create table incrementtest (i int);\n",
    "insert into incrementtest values 1;\n",
    "```\n",
    "\n",
    "And now you put your stored procedure into action:\n",
    "\n",
    "```\n",
    "call customincrement();\n",
    "select * from incrementtest;\n",
    "```\n"
   ]
  },
  {
   "cell_type": "markdown",
   "metadata": {},
   "source": [
    "## Where to Go Next\n",
    "Congratulations! You've just completed the *Splice Machine DBAs Class*. \n",
    "\n",
    "Visit [*Our Training Classes*](../About/Our%20Training%20Classes.ipynb) notebook learn about our other training classes.\n"
   ]
  }
 ],
 "metadata": {
  "kernelspec": {
   "display_name": "Python 3",
   "language": "python",
   "name": "python3"
  },
  "language_info": {
   "codemirror_mode": {
    "name": "ipython",
    "version": 3
   },
   "file_extension": ".py",
   "mimetype": "text/x-python",
   "name": "python",
   "nbconvert_exporter": "python",
   "pygments_lexer": "ipython3",
   "version": "3.7.3"
  },
  "toc": {
   "base_numbering": 1,
   "nav_menu": {},
   "number_sections": false,
   "sideBar": false,
   "skip_h1_title": false,
   "title_cell": "Table of Contents",
   "title_sidebar": "Contents",
   "toc_cell": false,
   "toc_position": {},
   "toc_section_display": false,
   "toc_window_display": false
  }
 },
 "nbformat": 4,
 "nbformat_minor": 2
}

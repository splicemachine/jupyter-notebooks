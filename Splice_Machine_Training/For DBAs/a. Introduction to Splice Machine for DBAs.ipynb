{
    "cells": [
        {
            "cell_type": "markdown",
            "metadata": {},
            "source": [
                "# Introduction to Splice Machine for DBAs\n",
                "This class is recommended for DBAs who are working with Splice Machine. To understand this content, you need to:\n",
                "\n",
                "* have experience with databases\n",
                "* be comfortable working with Hadoop. \n",
                "\n",
                "You can expect to spend 2-3 hours completing this *Splice Machine DBAs* class, which contains the following sequence of notebooks:\n",
                "\n",
                "<table class=\"splicezepOddEven\">\n",
                "    <col />\n",
                "    <col />\n",
                "    <tbody>\n",
                "        <tr>\n",
                "            <td>1.</td>\n",
                "            <td>If you've not already done so, please visit our <a href=\"../For%20All:%20Basic%20Training/Splice%20Machine%20Basics.ipynb\"><em>Splice Machine Basics</em></a> notebook for an overview of Splice Machine before diving into this set of notebooks.</td>\n",
                "        </tr>\n",
                "        <tr>\n",
                "            <td>2.</td>\n",
                "            <td>And if you're new to using Jupyter, our <a href=\"../For%20All:%20Basic%20Training/Jupyter%20Notebook%20Basics.ipynb\"><em>Jupyter Notebook Basics</em></a> notebook is a brief introduction to running and creating/modifying Jupyter notebooks, which you'll need to know before proceeding with the other notebooks in this section.</td>\n",
                "        </tr>\n",
                "        <tr>\n",
                "            <td>3.</td>\n",
                "            <td>This class starts with our <a href=\"./b.%20Importing%20Data%20and%20Running%20Queries.ipynb\"><em>Importing Data and Running Queries</em></a> notebook, which introduces you to querying your Splice Machine database.</td>\n",
                "        </tr>\n",
                "        <tr>\n",
                "            <td>4.</td>\n",
                "            <td>The <a href=\"./c.%20Tuning%20Queries%20for%20Performance.ipynb\"><em>Tuning Queries for Performance</em></a> notebook introduces a number of tips you can employ to help generate the lowest cost plan and best performance for your queries, including: collecting statistics, compacting, creating primary keys and indexes, and strategies for joining tables.</td>\n",
                "        </tr>\n",
                "        <tr>\n",
                "            <td>5.</td>\n",
                "            <td>The <a href=\"./d.%20Using%20the%20Database%20Console.ipynb\"><em>Using the Database Console</em></a> notebook introduces the dashboard you can use to monitor queries sent to the Spark engine; this allows you to follow the progress of queries running in Spark, monitor GC usage, and terminate queries when necessary.</td>\n",
                "        </tr>\n",
                "        <tr>\n",
                "            <td>6.</td>\n",
                "            <td>The <a href=\"./e.%20Explaining%20and%20Hinting.ipynb\"><em>Explaining and Hinting</em></a> notebook teaches you how to understand query execution plans and how to use <em>hints</em> to influence execution plans.</td>\n",
                "        </tr>\n",
                "        <tr>\n",
                "            <td>7.</td>\n",
                "            <td>The <a href=\"./f.%20The%20Life%20of%20a%20Query.ipynb\"><em>The Life of a Query</em></a> notebook is a more in-depth walk-through of creating, populating, and querying TPCH benchmark data in Splice Machine.</td>\n",
                "        </tr>\n",
                "        <tr>\n",
                "            <td>8.</td>\n",
                "            <td>The <a href=\"./g.%20Creating%20Custom%20Stored%20Procedures.ipynb\"><em>Creating Custom Stored Procedures</em></a> notebook show you how to create and deploy custom, stored functions and procedures that you can call from your SQL queries in Splice Machine.</td>\n",
                "        </tr>\n",
                "    </tbody>\n",
                "</table>\n",
                "\n",
                "\n",
                "Note that each notebook contains a link to the next notebook in the sequence, and most notebooks also contain links to related pages in our Splice Machine Documentation web.\n"
            ]
        },
        {
            "cell_type": "markdown",
            "metadata": {},
            "source": [
                "## Where to Go Next\n",
                "Please start this class with the [*Importing Data and Running Queries*](./b.%20Importing%20Data%20and%20Running%20Queries.ipynb) notebook for an introduction to running Splice Machine database queries."
            ]
        }
    ],
    "metadata": {
        "kernelspec": {
            "display_name": "Python 3",
            "language": "python",
            "name": "python3"
        },
        "language_info": {
            "codemirror_mode": {
                "name": "ipython",
                "version": 3
            },
            "file_extension": ".py",
            "mimetype": "text/x-python",
            "name": "python",
            "nbconvert_exporter": "python",
            "pygments_lexer": "ipython3",
            "version": "3.7.3"
        },
        "toc": {
            "base_numbering": 1,
            "nav_menu": {},
            "number_sections": false,
            "sideBar": false,
            "skip_h1_title": false,
            "title_cell": "Table of Contents",
            "title_sidebar": "Contents",
            "toc_cell": false,
            "toc_position": {},
            "toc_section_display": false,
            "toc_window_display": false
        }
    },
    "nbformat": 4,
    "nbformat_minor": 2
}

{
 "cells": [
  {
   "cell_type": "code",
   "execution_count": null,
   "metadata": {},
   "outputs": [],
   "source": [
    "import os\n",
    "os.environ['JDBC_HOST'] = 'jrtest01-splice-hregion'"
   ]
  },
  {
   "cell_type": "code",
   "execution_count": 1,
   "metadata": {},
   "outputs": [
    {
     "data": {
      "text/html": [
       "<link rel=\"stylesheet\" href=\"https://doc.splicemachine.com/jupyter/css/custom.css\">\n"
      ],
      "text/plain": [
       "<IPython.core.display.HTML object>"
      ]
     },
     "metadata": {},
     "output_type": "display_data"
    }
   ],
   "source": [
    "%%HTML\n",
    "<link rel=\"stylesheet\" href=\"https://doc.splicemachine.com/jupyter/css/custom.css\">"
   ]
  },
  {
   "cell_type": "markdown",
   "metadata": {},
   "source": [
    "<link rel=\"stylesheet\" href=\"https://doc.splicemachine.com/zeppelin/css/zepstyles2.css\" />\n",
    "\n",
    "# Preparing Data for Import\n",
    "\n",
    "The easiest way to get your database tables populated is to import data from flat files (csv, etc.). Splice Machine imports data directly from HDFS, AWS S3, and Azure Block Storage.  \n",
    "\n",
    "For this training we'll use S3; the data we'll import has already been created and is ready to load.  If you want to learn more about how to import your own data, read on; otherwise, continue to the [*Importing Data into Your Database*](/#/notebook/2DVR1D5BP) notebook.\n",
    "\n",
    "## Preparing Your Own Data for Import\n",
    "When you want to experiment with loading your own data from S3, you can follow the steps below to get your data into an S3 bucket. Additionally you will want to make sure that your data is in a format that can be properly imported. To copy your database to S3, you need to have an AWS account with access to S3 buckets.\n",
    "\n",
    "<p class=\"noteImportant\">The flat files you use to import should include delimiters such as commas between fields in a record, and should use a  newline to terminate each record.\n",
    "\n",
    "## Copying Small Files From Your Local Machine\n",
    "For small files on your local machine, you may be able to use the AWS Web UI to upload your files, as follows:\n",
    "\n",
    "1. Log in to your AWS account\n",
    "2. Navigate to the S3 area\n",
    "3. Create an S3 bucket, if necessary\n",
    "4. Navigate to your S3 bucket\n",
    "5. Click the _Upload_ button\n",
    "6. Select the files to copy  or use drag-and-drop to copy them to S3\n",
    "\n",
    "## Copying Large Files\n",
    "The files that you want to import into your database are typically large and not located on your local computer; this means that you need to use the *AWS Command Line Interface* to copy these files to S3. The AWS CLI site, <a href=\"https://aws.amazon.com/cli/\" target=\"_blank\">https://aws.amazon.com/cli/</a>, shows you how to install and use this interface to copy your data up to an S3 bucket.\n",
    "\n",
    "Splice Machine has extensive online documentation on importing options and best practices; the best starting point is our <a href=\"https://doc.splicemachine.com/bestpractices_ingest_overview.html\" target=\"_blank\"><em>Data Ingestion Best Practices</em></a> chapter. \n",
    "\n",
    "<p class=\"noteNote\">If you need assistance with copying your data to S3, please visit our <a href=\"https://splicemachine.slack.com/messages/splice-community/\" target=\"_blank\"><em>splice-community Slack channel</em></a>; if you've not already done so, you can register for this channel <a href=\"https://www.splicemachine.com/community/slack-channel-signup/\" target=\"_blank\">here</a>.</p>\n"
   ]
  },
  {
   "cell_type": "markdown",
   "metadata": {},
   "source": [
    "## Where to Go Next\n",
    "\n",
    "Now that you've learned about preparing your data to import into your Splice Machine database, please continue on to the [*Importing Data into Your Database*](./c.%20Importing%20Data%20into%20Your%20Database.ipynb) notebook.\n"
   ]
  },
  {
   "cell_type": "markdown",
   "metadata": {},
   "source": [
    "## Related Documentation\n",
    "The <a href=\"https://doc.splicemachine.com/bestpractices_ingest_overview.htmll\" target=\"_blank\"><em>Best Practices: Ingesting Data - Overview</em></a> in our documentation provides details about and examples of using our different data importation processes."
   ]
  }
 ],
 "metadata": {
  "kernelspec": {
   "display_name": "Python 3",
   "language": "python",
   "name": "python3"
  },
  "language_info": {
   "codemirror_mode": {
    "name": "ipython",
    "version": 3
   },
   "file_extension": ".py",
   "mimetype": "text/x-python",
   "name": "python",
   "nbconvert_exporter": "python",
   "pygments_lexer": "ipython3",
   "version": "3.7.3"
  },
  "toc": {
   "base_numbering": 1,
   "nav_menu": {},
   "number_sections": false,
   "sideBar": false,
   "skip_h1_title": false,
   "title_cell": "Table of Contents",
   "title_sidebar": "Contents",
   "toc_cell": false,
   "toc_position": {},
   "toc_section_display": false,
   "toc_window_display": false
  }
 },
 "nbformat": 4,
 "nbformat_minor": 2
}

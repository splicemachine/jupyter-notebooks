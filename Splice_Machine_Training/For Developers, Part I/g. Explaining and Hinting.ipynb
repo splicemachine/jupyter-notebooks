{
 "cells": [
  {
   "cell_type": "code",
   "execution_count": null,
   "metadata": {},
   "outputs": [],
   "source": [
    "import os\n",
    "os.environ['JDBC_HOST'] = 'jrtest01-splice-hregion'"
   ]
  },
  {
   "cell_type": "code",
   "execution_count": 1,
   "metadata": {},
   "outputs": [
    {
     "data": {
      "text/html": [
       "<link rel=\"stylesheet\" href=\"https://doc.splicemachine.com/jupyter/css/custom.css\">\n"
      ],
      "text/plain": [
       "<IPython.core.display.HTML object>"
      ]
     },
     "metadata": {},
     "output_type": "display_data"
    }
   ],
   "source": [
    "%%HTML\n",
    "<link rel=\"stylesheet\" href=\"https://doc.splicemachine.com/jupyter/css/custom.css\">"
   ]
  },
  {
   "cell_type": "markdown",
   "metadata": {},
   "source": [
    "<link rel=\"stylesheet\" href=\"https://doc.splicemachine.com/zeppelin/css/zepstyles2.css\" />\n",
    "\n",
    "# Explaining and Hinting\n",
    "\n",
    "In this notebook we'll dig into the explain and hint capabilities that we've briefly seen so far.  We'll see how they can help us in:\n",
    "\n",
    "1. *Understanding the Query Execution Plan*\n",
    "2. *Influencing the Query Execution Plan with Hints*\n"
   ]
  },
  {
   "cell_type": "markdown",
   "metadata": {},
   "source": [
    "## 1. Understanding the Query Execution Plan\n",
    "\n",
    "This section describes more fully what information is in the Explain plan for a query; the key pieces of information in a plan include the:\n",
    "\n",
    "*  ordering of the joins and other steps in the query\n",
    "*  use of Tables vs Indexes\n",
    "*  need for IndexLookup, which can slow a query down\n",
    "*  join Strategies employed\n",
    "*  actual row count and cost estimates at each step\n",
    "*  presence of predicate pushdowns where available\n",
    "*  indication of which *engine* will run the query: *control* or *Spark*\n",
    "\n",
    "We'll delve a bit deeper into pushing down predicates and join ordering/strategies to help you understand plans.\n",
    "\n",
    "### Explain and Predicates\n",
    "\n",
    "Let's start with a query variant that is based on the `index_example` table that we created earlier in this class. Run the next cell to display the plan for this query. \n",
    "\n",
    "You'll notice that on the very right of the plan are two lines with *preds=* on them. *Preds* is short for *predicates*, which in databases are true/false conditions that are tested during query execution.\n"
   ]
  },
  {
   "cell_type": "code",
   "execution_count": null,
   "metadata": {},
   "outputs": [],
   "source": [
    "%%sql \n",
    "\n",
    "explain select a.i, a.j from\n",
    "    dev1.index_example a\n",
    "    ,dev1.index_example b --splice-properties joinStrategy=sortmerge\n",
    "     where a.i = b.i\n",
    "     and a.j = 700000"
   ]
  },
  {
   "cell_type": "markdown",
   "metadata": {},
   "source": [
    "### About Predicates\n",
    "\n",
    "Starting on the bottom line, we see an `IndexScan` with the preds specification on it; this is called a *Predicate Pushdown*. A pushdown means: when we perform this `IndexScan`, we'll bring this predicate (`A.J = 700000`) along with us, and will perform the scan using this predicate, passing up to the next part of the plan ONLY the rows that match. Predicate pushdowns are extremely efficient when performed on keyed results (primary keys or indexes), because only the minimal number of rows are pushed up to the next step.\n",
    "\n",
    "The other kind of predicate shown here is of the form `[(A.I[5:1] = B.I[5:3])]`. You can ignore the numbers for now; the key part is `A.I = B.I`.  You can see that this is the join predicate, required for the actual join operation.\n",
    "\n",
    "The main takeaway is that, as with most databases: when you can *push down* a predicate that filters a lot of data with a keyed filter, it helps create efficient scans for that step. If the filter is not keyed, this becomes a potential opportunity for adding an index."
   ]
  },
  {
   "cell_type": "markdown",
   "metadata": {},
   "source": [
    "### Join Ordering\n",
    "\n",
    "The actual join ordering is part of the optimization process: do I get a better cost when I start with table A and join B with it, or the other way around?\n",
    "\n",
    "Smart join ordering depends a lot on the situation.  Generally speaking, the sooner you can filter out rows (thus working with fewer rows at each step of the query), the faster the query will run.\n",
    "\n",
    "When you look at an explain plan, if you are unsure of the ordering, remember again that the order is *bottom up*. Another way to view this is to look at the counts on each row of the plan (n=1, n=2, etc.).  This dictates the table ordering being used."
   ]
  },
  {
   "cell_type": "markdown",
   "metadata": {},
   "source": [
    "## 2. Influencing the Query Execution Plan with Hints\n",
    "\n",
    "If your query is still slower than you expect, or if you want to experiment with plan alternatives, you can use Splice Machine *query hints*, which provide additional information to our optimizer.\n",
    "\n",
    "We introduced hints in an earlier notebook, *Tuning for Performance.* To recap: you add a hint to a query by appending a specially formatted *comment*. These hints must always be placed at the end of a line, and are used either after a table name or after a `FROM` clause, as shown below. Most hints are used for these reasons:\n",
    "\n",
    "<table class=\"splicezepOddEven\">\n",
    "    <col />\n",
    "    <col />\n",
    "    <thead>\n",
    "        <tr>\n",
    "            <th>Hint Type</th>\n",
    "            <th>Description</th>\n",
    "        </tr>\n",
    "    </thead>\n",
    "    <tbody>\n",
    "        <tr>\n",
    "        <tr>\n",
    "            <td>Join Order</td>\n",
    "            <td>Indicates that the join order of the tables in the plan should be exactly the same as entered in the query SQL (first to last)</td>\n",
    "        </tr>\n",
    "            <td class=\"ItalicFont\">Join Strategy</td>\n",
    "            <td><p>Explicitly specifies the join strategy to use:</p>\n",
    "                <ul>\n",
    "                    <li><code>broadcast</code></li>\n",
    "                    <li><code>sortmerge</code></li>\n",
    "                    <li><code>merge</code></li>\n",
    "                    <li><code>nestedloop</code></li>\n",
    "                </ul>\n",
    "            </td>\n",
    "        </tr>\n",
    "        <tr>\n",
    "            <td>Index Selection</td>\n",
    "            <td>Explicitly specifies the use of a specific index, or explicitly specifies to NOT use an index</td>\n",
    "        </tr>\n",
    "    </tbody>\n",
    "</table>\n",
    "\n",
    "\n"
   ]
  },
  {
   "cell_type": "markdown",
   "metadata": {},
   "source": [
    "### Syntax Matters\n",
    "As you'll see in the following example, hint syntax can look odd, because each hint needs to be at the very end of a line. For example:\n",
    "\n",
    "* If you're adding the hint to the end of a query, you must put the semicolon (`;`) that terminates that query on the next line:\n",
    "\n",
    "  ```\n",
    "  select count(*) from myTbl --splice-properties index=myIndex1\n",
    "  ;\n",
    "  ```\n",
    "\n",
    "* Similarly, if you're specifying multiple hints, each will need to be at the end of its own line:\n",
    "\n",
    "  ```\n",
    "  explain select count(*) from\n",
    "  (select a.i, a.j from --splice-properties joinOrder=fixed\n",
    "   index_example b --splice-properties index=ij\n",
    "   ,index_example a --splice-properties index=null, joinStrategy=nestedloop\n",
    "     where a.j = 700000) z ;\n",
    "  ```\n",
    "\n",
    "<div class=\"noteIcon\">\n",
    "    <p>Hints must be specified exactly; any misspelling or any extra text can result in the hint not working because it is considered a comment; for example, you <strong>must</strong> spell `joinOrder` and `joinStrategy` in exactly that way.</p>\n",
    "    <p>Splice Machine <strong>strongly recommends</strong> that you run an <code>explain</code> on any query that contains a hint before actually executing the query, so you can verify that the hint is correctly specified.\n",
    "</div>\n",
    "\n",
    "Here's the syntax to use for each hint type:\n",
    "\n",
    "<table class=\"splicezepOddEven\">\n",
    "    <col />\n",
    "    <col />\n",
    "    <col />\n",
    "    <thead>\n",
    "        <tr>\n",
    "            <th>Hint Type</th>\n",
    "            <th>Syntax Example</th>\n",
    "            <th>Usage Notes</th>\n",
    "        </tr>\n",
    "    </thead>\n",
    "    <tbody>\n",
    "        <tr>\n",
    "            <td><em>Join Order</em></td>\n",
    "            <td><code>joinOrder=fixed</code></td>\n",
    "            <td>On the <code>FROM</code> line in the query</td>\n",
    "        </tr>\n",
    "        <tr>\n",
    "            <td><em>Join Strategy</em></td>\n",
    "            <td><code>joinStrategy=broadcast</code></td>\n",
    "            <td>After the right-hand-side table. This is typically used with <code>joinOrder=fixed</code> to control which tables are joined.</td>\n",
    "       </tr>\n",
    "        <tr>\n",
    "            <td><em>Index Selection</em></td>\n",
    "            <td><code>index=ix</code></td>\n",
    "            <td>After the specified table</td>\n",
    "        </tr>\n",
    "        <tr>\n",
    "            <td><em>No index</em></td>\n",
    "            <td><code>index=null</code></td>\n",
    "            <td>After the specified table</td>\n",
    "        </tr>\n",
    "    </tbody>\n",
    "</table>\n",
    "\n",
    "Run the next cell to see a full example:"
   ]
  },
  {
   "cell_type": "code",
   "execution_count": null,
   "metadata": {},
   "outputs": [],
   "source": [
    "%%sql \n",
    "\n",
    "explain select count(*) from\n",
    "  (select a.i, a.j from --splice-properties joinOrder=fixed\n",
    "    dev1.index_example b --splice-properties index=ij\n",
    "    , dev1.index_example a --splice-properties index=null, joinStrategy=nestedloop\n",
    "     where a.j = 700000) z ;\n"
   ]
  },
  {
   "cell_type": "markdown",
   "metadata": {},
   "source": [
    "### Examples of When to Hint\n",
    "\n",
    "If the optimizer doesn't give you the execution plan that you were expecting, you can supply hints to guide it. You can also use hints as an experimental tool to discover what happens when a different plan gets chosen: you'll typically find that the cost shown when you use `explain` is higher than the cost chosen by the optimizer.\n",
    "\n",
    "If you find that your plan (after hinting) is not running faster,  please visit our <a href=\"https://splicemachine.slack.com/messages/splice-community/\" target=\"_blank\"><em>splice-community</em> Slack channel</a> and ask for help; if you've not already done so, you can register for this channel <a href=\"https://www.splicemachine.com/community/slack-channel-signup/\" target=\"_blank\">here</a>.\n"
   ]
  },
  {
   "cell_type": "markdown",
   "metadata": {},
   "source": [
    "## Where to Go Next\n",
    "To complete this class, please complete the exercises in the  [*Exercises for This Class*](./h.%20Exercises.ipynb) notebook."
   ]
  }
 ],
 "metadata": {
  "kernelspec": {
   "display_name": "Python 3",
   "language": "python",
   "name": "python3"
  },
  "language_info": {
   "codemirror_mode": {
    "name": "ipython",
    "version": 3
   },
   "file_extension": ".py",
   "mimetype": "text/x-python",
   "name": "python",
   "nbconvert_exporter": "python",
   "pygments_lexer": "ipython3",
   "version": "3.7.3"
  },
  "toc": {
   "base_numbering": 1,
   "nav_menu": {},
   "number_sections": false,
   "sideBar": false,
   "skip_h1_title": false,
   "title_cell": "Table of Contents",
   "title_sidebar": "Contents",
   "toc_cell": false,
   "toc_position": {},
   "toc_section_display": false,
   "toc_window_display": false
  }
 },
 "nbformat": 4,
 "nbformat_minor": 2
}

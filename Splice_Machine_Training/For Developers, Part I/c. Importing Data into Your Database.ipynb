{
 "cells": [
  {
   "cell_type": "markdown",
   "metadata": {},
   "source": [
    "<link rel=\"stylesheet\" href=\"https://doc.splicemachine.com/zeppelin/css/zepstyles2.css\" />\n",
    "\n",
    "# Importing Data into Your Database\n",
    "\n",
    "This notebook shows you how to import data into your Splice Machine database from flat files; we'll walk you through a simple example, after which you'll be able to import your own data into your database. This notebook contains these sections:\n",
    "\n",
    "* The *Import Data Checklist* summarizes important details about the format of the data you're importing.\n",
    "* *Using the `IMPORT_DATA` Command* shows the syntax for importing data using our `IMPORT_DATA` system procedure, and include\n",
    "\n",
    ">Before starting to work with this notebook, you should already have your data stored in delimited format (such as CSV); if that's not yet true, please review the previous notebook in this class, [*Preparing Data for Import*](./b.%20Preparing%20Data%20for%20Import.ipynb), which walks you through getting your data ready to import.\n",
    "\n",
    "\n",
    "## Additional Data Ingestion Information\n",
    "In addition to using our `import_data` procedure to load flat files into a database, Splice Machine provides a number of *advanced* import processes for loading very large datasets into your database, including the use of bulk HFiles, and pre-splitting data for more efficient mapping into HBase regions. These are described, along with examples, in the  <a href=\"https://doc.splicemachine.com/tutorials_import_intro.html\" target=\"_blank\"><em>Importing Data Tutorial</em></a> in our documentation.\n"
   ]
  },
  {
   "cell_type": "markdown",
   "metadata": {},
   "source": [
    "## Import Data Checklist\n",
    "\n",
    "When you import data from flat files into your database, you need to specify a number of details about your data files to get them correctly imported. Before starting this process, please make sure your data formats will work, as defined here:\n",
    "\n",
    "\n",
    "<table class=\"splicezep\">\n",
    "    <col />\n",
    "    <col />\n",
    "    <thead>\n",
    "        <tr>\n",
    "            <th>Data File Detail</th>\n",
    "            <th>Specific Requirements</th>\n",
    "        </tr>\n",
    "    </thead>\n",
    "    <tbody>\n",
    "        <tr>\n",
    "            <td>Field delimited?</td>\n",
    "            <td>The fields in each row <strong>must</strong> have delimiters between them</td>\n",
    "        </tr>\n",
    "        <tr>\n",
    "            <td>Rows terminated?</td>\n",
    "            <td>Each row <strong>must</strong> be terminated with a newline character</td>\n",
    "        </tr>\n",
    "        <tr>\n",
    "            <td>Header row included?</td>\n",
    "            <td>Header rows are not allowed; if your data contains one, you <strong>must</strong> remove it.</td>\n",
    "        </tr>\n",
    "        <tr>\n",
    "            <td><code>Date</code>, <code>time</code>, <code>timestamp</code> data types</td>\n",
    "            <td> If you are using <code>date</code>, <code>time</code>, and/or <code>timestamp</code> data types in the target table, you need to know how that data is represented in the flat file; your file <strong>must</strong> use a consistent representation, and you must specify that format when using the import command.</td>\n",
    "        </tr>\n",
    "        <tr>\n",
    "            <td><code>Char</code> and <code>Varchar</code> data</td>\n",
    "            <td><p>If any of your <code>char</code> or <code>varchar</code> data contains your delimiter character, you <strong>need to use</strong> a special character delimiter.</p>\n",
    "                <p>If any of your <code>char</code> or <code>varchar</code> data contains newline characters, you <strong>need to use</strong> the <code>oneLineRecords</code> parameter.</p>\n",
    "            </td>\n",
    "        </tr>\n",
    "    </tbody>\n",
    "</table>\n",
    "\n",
    "\n",
    "<p class=\"noteIcon\">It is a good idea to test your import, delimiting, date formatting, etc., on a small amount of data first before loading all of your data. That's what we'll do in this notebook.</p>\n"
   ]
  },
  {
   "cell_type": "markdown",
   "metadata": {},
   "source": [
    "## Using the IMPORT_DATA Command\n",
    "\n",
    "Syntax for the `IMPORT_DATA` command looks like this:\n",
    "```\n",
    "call SYSCS_UTIL.IMPORT_DATA (\n",
    "\tschemaName,\n",
    "\ttableName,\n",
    "\tinsertColumnList | null,\n",
    "\tfileOrDirectoryName,\n",
    "\tcolumnDelimiter | null,\n",
    "\tcharacterDelimiter | null,\n",
    "\ttimestampFormat | null,\n",
    "\tdateFormat | null,\n",
    "\ttimeFormat | null,\n",
    "\tbadRecordsAllowed,\n",
    "\tbadRecordDirectory | null,\n",
    "\toneLineRecords | null,\n",
    "\tcharset | null \n",
    ");\n",
    "```\n",
    "Notice that many of the parameters allow you to apply the default value by specifying `null`.\n",
    "\n",
    "<p class=\"noteNote\">You can find full details about these parameters, including the default value for each, in <a href=\"https://doc.splicemachine.com/sqlref_sysprocs_importdata.html\" target=\"_blank\">our `IMPORT_DATA` documentation.</a></p>\n"
   ]
  },
  {
   "cell_type": "markdown",
   "metadata": {},
   "source": [
    "## Step-by-Step Example of Importing Data\n",
    "\n",
    "This example allows you to walk through importing data one step at a time, in these steps:\n",
    "\n",
    "1. *Create our Database Schema and Table*\n",
    "2. *Import a Small Data Sample* to make sure our data format is okay\n",
    "3. *Make Minor Data Changes and Corresponding Parameter Changes*\n",
    "4. *Imported Updated Data*\n",
    "4. *Review Parameter Changes*\n"
   ]
  },
  {
   "cell_type": "markdown",
   "metadata": {},
   "source": [
    "### 1. Create our Database Schema and  Table\n",
    "\n",
    "You can get started by clicking *Shift + Enter* to run the next paragraph in this Notebook, which uses the `%%sql` magic to create a new table named `import_example` in a new schema named `DEV1` in your database.\n"
   ]
  },
  {
   "cell_type": "code",
   "execution_count": null,
   "metadata": {},
   "outputs": [],
   "source": [
    "%%sql \n",
    "\n",
    "create table dev1.import_example (i int, v varchar(20), t timestamp);"
   ]
  },
  {
   "cell_type": "markdown",
   "metadata": {},
   "source": [
    "### 2. Import a Small Data Sample\n",
    "\n",
    "Now we'll import a small sample of our data to make sure that we've got our import set up correctly. We've created a sample data file named *example1.csv* that contains these two records:\n",
    "\n",
    "<pre>100,hello there,2017-01-01 00:00:00\n",
    "200,how are you,2017-02-01 00:00:00</pre>\n",
    "\n",
    "Import the data in this file by clicking *Shift + Enter* to run the next paragraph, which calls our `IMPORT_DATA` function"
   ]
  },
  {
   "cell_type": "code",
   "execution_count": null,
   "metadata": {},
   "outputs": [],
   "source": [
    "%%sql \n",
    "\n",
    "call SYSCS_UTIL.IMPORT_DATA('DEV1','import_example',null,'s3a://splice-examples/import/example1.csv',null,null,null,null,null,0,null,null,null);"
   ]
  },
  {
   "cell_type": "markdown",
   "metadata": {},
   "source": [
    "<br />\n",
    "\n",
    "You'll notice that after you run the paragraph, you see a short report that indicates how many rows were successfully loaded, and how many failed to load, In this example, all 2 rows were successfully loaded.\n",
    "\n",
    "You have probably also noticed that we used default values by specifying `null` for all of the parameters that have defaults; here's what those defaults mean:\n",
    "\n",
    "<table class=\"splicezep\">\n",
    "    <col />\n",
    "    <col />\n",
    "    <thead>\n",
    "        <tr>\n",
    "            <th>Parameter</th>\n",
    "            <th>NULL Value Details</th>\n",
    "        </tr>\n",
    "    </thead>\n",
    "    <tbody>\n",
    "        <tr>\n",
    "            <td><code>insertColumnList</code></td>\n",
    "            <td>Our column list exactly matches the columns and ordering of columns in the table, so there's not need to specify a list.</td>\n",
    "        </tr>\n",
    "        <tr>\n",
    "            <td><code>columnDelimiter</code></td>\n",
    "            <td>Our data uses the default comma character (<code>,</code>) to delimit columns.</td>\n",
    "        </tr>\n",
    "        <tr>\n",
    "            <td><code>stringDelimiter</code></td>\n",
    "            <td>None of our data fields contain the comma character, so we don't need a string delimiter character.</td>\n",
    "        </tr>\n",
    "        <tr>\n",
    "            <td><code>timestampFormat</code></td>\n",
    "            <td>Our data matches the default timestamp format, which is <code>yyyy-MM-dd HH:mm:ss</code></td>\n",
    "        </tr>\n",
    "        <tr>\n",
    "            <td><code>dateFormat</code></td>\n",
    "            <td>Our data doesn't contain any date columns, so there's no need to specify a format.</td>\n",
    "        </tr>\n",
    "        <tr>\n",
    "            <td><code>timeFormat</code></td>\n",
    "            <td>Our data doesn't contain any time columns, so there's no need to specify a format.</td>\n",
    "        </tr>\n",
    "        <tr>\n",
    "            <td><code>badRecordDirectory</code></td>\n",
    "            <td>We left this <code>null</code>, which is allowable, but not considered a good practice. Splice Machine advises specifying a bad record directory so that you can diagnose any record import problems.</td>\n",
    "        </tr>\n",
    "        <tr>\n",
    "            <td><code>oneLineRecords</code></td>\n",
    "            <td>We were able to leave this as <code>null</code> because our records each fit on one line. If your data contains any newline characters, you must specify <code>false</code> for this parameter, and you must include delimiters around the data.</td>\n",
    "        </tr>\n",
    "        <tr>\n",
    "            <td><code>charset</code></td>\n",
    "            <td>This parameter is currently ignored; Splice Machine assumes that your data uses utf-8 encoding.</td>\n",
    "        </tr>\n",
    "    </tbody>\n",
    "</table>\n"
   ]
  },
  {
   "cell_type": "markdown",
   "metadata": {},
   "source": [
    "### 3. Make Minor Data Changes and Corresponding Parameter Changes\n",
    "\n",
    "Now we'll make a few minor changes in our input data to see how that influences our import command. The modified data is stored in a CSV file in an S3 bucket on AWS. \n",
    "Let's change the data a bit, and see how that influences the `import_data` command. \n",
    "\n",
    "The updated data, stored in *example2.csv*, looks like this:\n",
    "\n",
    "<pre>\n",
    "'hello\n",
    "there'|2017-01-01 00:00:00.123456\n",
    "'how, are you'|2017-02-01 00:00:00.123456\n",
    "</pre>\n",
    "\n",
    "### 4. Import the Updated Data\n",
    "Now import the data in the example2.csv file by running the next paragraph, which again uses the *%%sql* magic:\n"
   ]
  },
  {
   "cell_type": "code",
   "execution_count": null,
   "metadata": {},
   "outputs": [],
   "source": [
    "%%sql \n",
    "\n",
    "call SYSCS_UTIL.IMPORT_DATA('DEV1','import_example','v,t','s3a://splice-examples/import/example2.csv','|','''','yyyy-MM-dd HH:mm:ss.SSSSSS',null,null,0,null,false,null)"
   ]
  },
  {
   "cell_type": "markdown",
   "metadata": {},
   "source": [
    "### 5. Review our Parameter Changes\n",
    "\n",
    "Let's examine the changes in our call to `IMPORT_DATA` due to changes in our data file:\n",
    "\n",
    "<table class=\"splicezep\">\n",
    "    <col />\n",
    "    <col />\n",
    "    <thead>\n",
    "        <tr>\n",
    "            <th>Parameter</th>\n",
    "            <th>Details</th>\n",
    "        </tr>\n",
    "    </thead>\n",
    "    <tbody>\n",
    "        <tr>\n",
    "            <td><code>insertColumnList</code></td>\n",
    "            <td><p>In this case, we only want to import two of the three columns in our input data, so we specify the names of the columns we want imported.</p>\n",
    "                <p class=\"noteNote\">The default value (or <code>null</code> if no default value is defined in the database) is inserted for records that don't contain a value in a column being imported.</p>\n",
    "            </td>\n",
    "        </tr>\n",
    "        <tr>\n",
    "            <td><code>columnDelimiter</code></td>\n",
    "            <td>At least one of our records includes a string that contains the default delimiter (comma), so need to use a different delimiter character. Our sample file uses the <code>|</code> character.</td>\n",
    "        </tr>\n",
    "        <tr>\n",
    "            <td><code>stringDelimiter</code></td>\n",
    "            <td><p>We want to be able to include commas and newlines in our input data fields, so we enclose string data in our input file in single quote (<code>'</code>) characters.</p>\n",
    "                <p class=\"noteNote\">You need to escape the single quote character in your parameter values, which is why you see four single quotes (<code>''''</code>).</p>\n",
    "            </td>\n",
    "        </tr>\n",
    "        <tr>\n",
    "            <td><code>timestampFormat</code></td>\n",
    "            <td>Our data now includes microseconds, so we need to change our format specification to <code>yyyy-MM-dd HH:mm:ss.SSSSSS</code>.</td>\n",
    "        </tr>\n",
    "        <tr>\n",
    "            <td><code>oneLineRecords</code></td>\n",
    "            <td>One of our input records contains a newline, so we must explicitly set this value to <code>false</code>.</td>\n",
    "        </tr>\n",
    "    </tbody>\n",
    "</table>\n"
   ]
  },
  {
   "cell_type": "markdown",
   "metadata": {},
   "source": [
    "## Where to Go Next\n",
    "\n",
    "Once you have successfully imported your own data, you're ready to run queries. See our next tutorial, [*Running Queries*](./d.%20Running%20Queries.ipynb).\n"
   ]
  },
  {
   "cell_type": "markdown",
   "metadata": {},
   "source": [
    "## Related Documentation\n",
    "The <a href=\"https://doc.splicemachine.com/bestpractices_ingest_overview.html\" target=\"_blank\"><em>Best Practices: Ingesting Data - Overview</em></a> in our documentation provides details about and examples of using our different data importation processes.\n"
   ]
  }
 ],
 "metadata": {
  "kernelspec": {
   "display_name": "Python 3",
   "language": "python",
   "name": "python3"
  },
  "language_info": {
   "codemirror_mode": {
    "name": "ipython",
    "version": 3
   },
   "file_extension": ".py",
   "mimetype": "text/x-python",
   "name": "python",
   "nbconvert_exporter": "python",
   "pygments_lexer": "ipython3",
   "version": "3.7.3"
  },
  "toc": {
   "base_numbering": 1,
   "nav_menu": {},
   "number_sections": false,
   "sideBar": false,
   "skip_h1_title": false,
   "title_cell": "Table of Contents",
   "title_sidebar": "Contents",
   "toc_cell": false,
   "toc_position": {},
   "toc_section_display": false,
   "toc_window_display": false
  }
 },
 "nbformat": 4,
 "nbformat_minor": 2
}

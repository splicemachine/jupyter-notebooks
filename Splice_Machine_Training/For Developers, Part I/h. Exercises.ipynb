{
    "cells": [
        {
            "cell_type": "code",
            "execution_count": null,
            "metadata": {},
            "outputs": [],
            "source": [
                "import os\n",
                "os.environ['JDBC_HOST'] = 'jrtest01-splice-hregion'"
            ]
        },
        {
            "cell_type": "markdown",
            "metadata": {},
            "source": [
                "<link rel=\"stylesheet\" href=\"https://doc.splicemachine.com/zeppelin/css/zepstyles2.css\" />\n",
                "\n",
                "# Exercises: Splice Machine Beginning Developers Class\n",
                "\n",
                "This notebook contains follow-on exercises for the material that we covered in this class. You can complete these exercises and run the paragraphs in this notebook to verify your understanding of what was covered.\n",
                "\n",
                "You'll be performing the following actions in these exercises:\n",
                "\n",
                "1. Creating Tables\n",
                "2. Importing Data\n",
                "3. Collecting Statistics\n",
                "3. Running Queries\n",
                "4. Monitoring Queries\n",
                "5. Tuning Queries\n",
                "\n",
                "The data you'll be loading is on your local machine, which will prove useful if you need to debug the data import process."
            ]
        },
        {
            "cell_type": "markdown",
            "metadata": {},
            "source": [
                "## 1. Creating Tables\n",
                "In this exercise, we'll:\n",
                "\n",
                "* Examine the data we want in the table\n",
                "* Create a table with a primary key\n",
                "\n",
                "### Our Sample Data\n",
                "We'll be loading up sample movie rating data over the course of our training classes; for this exercise, we'll start by looking at a sample of the raw ratings data:\n",
                "\n",
                "```\n",
                "196|242|3|1997-12-04 07:55:49\n",
                "186|302|3|1998-04-04 11:22:22\n",
                "22|377|1|1997-11-06 23:18:360\n",
                "```\n",
                "\n",
                "The data contains four fields, separated by `|` characters in the input:\n",
                "&nbsp;&nbsp;&nbsp;&nbsp; `user_id | item_id | rating | timestamp`\n",
                "\n",
                "### Create the Table Definition\n",
                "Now, let's create a table specification for the raw ratings data shown above, and call it `RATING_DATA`. Be sure to put in a Primary Key definition.\n",
                "\n",
                "<p class=\"noteQuestion\">What do you think the Primary Key should be?</p>\n",
                "\n",
                "Insert the SQL to create the table in the next paragraph, and then run the cell to actually create the table in your database.\n",
                "\n",
                "For help with the syntax, review the notebooks in this class, or read about creating tables in <a href=\"doc.splicemachine.com/sqlref_statements_createtable.html\" target=\"_blank\">our documentation.</a>\n"
            ]
        },
        {
            "cell_type": "code",
            "execution_count": null,
            "metadata": {},
            "outputs": [],
            "source": [
                "%%sql \n"
            ]
        },
        {
            "cell_type": "markdown",
            "metadata": {},
            "source": [
                "## 2. Importing Data\n",
                "\n",
                "Now we'll import all of our ratings data, which contains 100,000 rows. We've copied the data file into this docker image, so you can examine it if needed; you'll find the data here:\n",
                "&nbsp;&nbsp;&nbsp;&nbsp; `/opt/data/rating.csv`\n",
                "\n",
                "NOTE: if you ever need to log into your docker image, go to a fresh terminal window and enter `docker exec -it spliceserver /bin/bash`, then navigate to the appropriate directory.\n",
                "\n",
                "Enter the proper `IMPORT` call to load the data in the next paragraph, then run to actually load the data into the table in your database. You can review examples from this class or in our documentation for any required help.\n",
                "\n",
                "<p class=\"noteHint\">use `/opt/data` as your BAD records file directory; if you have trouble with the import, you'll find valuable information in that directory.\n",
                "\n",
                "#### Questions:\n",
                "1. What should the Schema specification be?\n",
                "2. What is the field delimiter?\n",
                "3. Do you need a character delimiter?\n",
                "4. What should the timestamp format be?\n",
                "5. What should the bad record count be?\n"
            ]
        },
        {
            "cell_type": "code",
            "execution_count": null,
            "metadata": {},
            "outputs": [],
            "source": [
                "%%sql \n"
            ]
        },
        {
            "cell_type": "markdown",
            "metadata": {},
            "source": [
                "## 3. Collecting Statistics\n",
                "\n",
                "Now let's run the simple command to collect statistics for your table. Enter the command in the next paragraph, and then run the cell:\n"
            ]
        },
        {
            "cell_type": "code",
            "execution_count": null,
            "metadata": {},
            "outputs": [],
            "source": [
                "%%sql \n"
            ]
        },
        {
            "cell_type": "markdown",
            "metadata": {},
            "source": [
                "## 4. Running Queries\n",
                "\n",
                "Now let's run some queries. \n",
                "\n",
                "Each of the following paragraphs poses a question; you should:\n",
                "\n",
                "* Enter a query that will answer that question.\n",
                "* Run the cell."
            ]
        },
        {
            "cell_type": "markdown",
            "metadata": {},
            "source": [
                "## a. How many total records are there in RATING_DATA?"
            ]
        },
        {
            "cell_type": "code",
            "execution_count": null,
            "metadata": {},
            "outputs": [],
            "source": [
                "%%sql \n"
            ]
        },
        {
            "cell_type": "markdown",
            "metadata": {},
            "source": [
                "## b. Did the last query run through HBase (control) or Spark?  "
            ]
        },
        {
            "cell_type": "code",
            "execution_count": null,
            "metadata": {},
            "outputs": [],
            "source": [
                "%%sql \n"
            ]
        },
        {
            "cell_type": "markdown",
            "metadata": {},
            "source": [
                "## c. What are the top 20 movies based on average rating?  (Extra credit: your answer might need to do some cast-ing to be most accurate)"
            ]
        },
        {
            "cell_type": "code",
            "execution_count": null,
            "metadata": {},
            "outputs": [],
            "source": [
                "%%sql \n"
            ]
        },
        {
            "cell_type": "markdown",
            "metadata": {},
            "source": [
                "## d. What rating did User 100 give Movie 300?"
            ]
        },
        {
            "cell_type": "code",
            "execution_count": null,
            "metadata": {},
            "outputs": [],
            "source": [
                "%%sql \n"
            ]
        },
        {
            "cell_type": "markdown",
            "metadata": {},
            "source": [
                "## e. What is the most popular rating given out?"
            ]
        },
        {
            "cell_type": "code",
            "execution_count": null,
            "metadata": {},
            "outputs": [],
            "source": [
                "%%sql \n"
            ]
        },
        {
            "cell_type": "markdown",
            "metadata": {},
            "source": [
                "## f. How many ratings did Movie 50 get?"
            ]
        },
        {
            "cell_type": "code",
            "execution_count": null,
            "metadata": {},
            "outputs": [],
            "source": [
                "%%sql \n"
            ]
        },
        {
            "cell_type": "markdown",
            "metadata": {},
            "source": [
                "## g. How might we have sped that query up?"
            ]
        },
        {
            "cell_type": "code",
            "execution_count": null,
            "metadata": {},
            "outputs": [],
            "source": [
                "%%sql \n"
            ]
        },
        {
            "cell_type": "markdown",
            "metadata": {},
            "source": [
                "## Monitoring Queries\n",
                "\n",
                "Now we'll monitor a query. \n",
                "\n",
                "* First, please rerun the query that told you how many records are in the `RATING_DATA` table.\n",
                "* Then, if you haven't already done so, point your browser to `localhost:4040` and look at the queries that were run in Spark.\n",
                "\n",
                "#### Questions:\n",
                "\n",
                "1. How long did the `count(*)` query take to run?\n",
                "2. How many stages was it?  Why?\n",
                "3. Which stage took longer to run?  Why?\n",
                "4. How many tasks ran in each stage?\n",
                "5. What do you think needs to happen in order for more tasks to be created?\n",
                "6. What query did we run earlier that we will NOT see in the Spark UI?"
            ]
        },
        {
            "cell_type": "markdown",
            "metadata": {},
            "source": [
                "## Tuning Queries\n",
                "\n",
                "Finally, let's do some tuning on a query.  Let's suppose we want to run a query where we find out how many users gave a rating of 1\n"
            ]
        },
        {
            "cell_type": "code",
            "execution_count": null,
            "metadata": {},
            "outputs": [],
            "source": [
                "%%sql \n"
            ]
        },
        {
            "cell_type": "markdown",
            "metadata": {},
            "source": [
                "Not bad, but can we do better?  \n",
                "\n",
                "If you ran an EXPLAIN on the query first (and if you haven't yet, do that now), you'll see that we did a full table scan on the RATING_DATA table.\n",
                "\n",
                "Create an index for this table to help the query run faster.  Once you have created your index, be sure to use EXPLAIN on the original query to help you see that the query will use the index.  There is a subtlety here - if EXPLAIN is not choosing your index, review the index sections of the Tuning Queries for Performance.\n",
                "\n",
                "Once you have your index being chosen, you should see your query run faster."
            ]
        },
        {
            "cell_type": "code",
            "execution_count": null,
            "metadata": {},
            "outputs": [],
            "source": [
                "%%sql \n"
            ]
        },
        {
            "cell_type": "markdown",
            "metadata": {},
            "source": [
                "## Where to Go Next\n",
                "Congratulations! You've just completed the *Splice Machine Developer's Class, Part I*. \n",
                "\n",
                "To continue learning about developing with Splice Machine, consider taking our  [*Splice Machine Developers, Part II*](../For%20Developers%2C%20Part%20II/a.%20Introduction%20to%20Developer%20Training%2C%20Part%20II.ipynb) class.\n",
                "\n",
                "Visit [*Our Training Classes*](../About/Our%20Training%20Classes.ipynb) notebook to learn about our other training classes.\n",
                "\n"
            ]
        }
    ],
    "metadata": {
        "kernelspec": {
            "display_name": "Python 3",
            "language": "python",
            "name": "python3"
        },
        "language_info": {
            "codemirror_mode": {
                "name": "ipython",
                "version": 3
            },
            "file_extension": ".py",
            "mimetype": "text/x-python",
            "name": "python",
            "nbconvert_exporter": "python",
            "pygments_lexer": "ipython3",
            "version": "3.7.3"
        },
        "toc": {
            "base_numbering": 1,
            "nav_menu": {},
            "number_sections": false,
            "sideBar": false,
            "skip_h1_title": false,
            "title_cell": "Table of Contents",
            "title_sidebar": "Contents",
            "toc_cell": false,
            "toc_position": {},
            "toc_section_display": false,
            "toc_window_display": false
        }
    },
    "nbformat": 4,
    "nbformat_minor": 2
}
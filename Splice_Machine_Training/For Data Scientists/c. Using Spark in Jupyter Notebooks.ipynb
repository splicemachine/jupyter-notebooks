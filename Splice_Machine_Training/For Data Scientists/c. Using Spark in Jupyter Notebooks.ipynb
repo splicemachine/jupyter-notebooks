{
    "cells": [
        {
            "cell_type": "code",
            "execution_count": null,
            "metadata": {},
            "outputs": [],
            "source": [
                "import os\n",
                "os.environ['JDBC_HOST'] = 'jrtest01-splice-hregion'\n"
            ]
        },
        {
            "cell_type": "code",
            "execution_count": null,
            "metadata": {},
            "outputs": [],
            "source": [
                "# setup-- \n",
                "import os\n",
                "import pyspark\n",
                "from splicemachine.spark.context import PySpliceContext\n",
                "from pyspark.conf import SparkConf\n",
                "from pyspark.sql import SparkSession\n",
                "\n",
                "# make sure pyspark tells workers to use python3 not 2 if both are installed\n",
                "os.environ['PYSPARK_PYTHON'] = '/usr/bin/python3'\n",
                "jdbc_host = os.environ['JDBC_HOST']\n",
                "\n",
                "conf = pyspark.SparkConf()\n",
                "sc = pyspark.SparkContext(conf=conf)\n",
                "\n",
                "spark = SparkSession.builder.config(conf=conf).getOrCreate()\n",
                "'''jdbc:splice://{FRAMEWORKNAME}-proxy.marathon.mesos:1527/splicedb;user=splice;password=admin'''\n",
                "\n",
                "splicejdbc=f'jdbc:splice://{jdbc_host}:1527/splicedb;user=splice;password=admin'\n",
                "\n",
                "splice = PySpliceContext(spark, splicejdbc)\n"
            ]
        },
        {
            "cell_type": "markdown",
            "metadata": {},
            "source": [
                "<link rel=\"stylesheet\" href=\"https://doc.splicemachine.com/zeppelin/css/zepstyles2.css\" />\n",
                "\n",
                "# Using Spark in Jupyter Notebooks\n",
                "This notebook demonstrates how to use Spark in a Jupyter notebook, in the following sections:\n",
                "\n",
                "* *Loading Data Into A Table Using Spark*\n",
                "* *Using Spark SQL to Query the Loaded Data*\n",
                "\n",
                "<div class=\"notePlain\" style=\"font-size:12px\">\n",
                "The data we use in this notebook is public data; here is access information for it:\n",
                "<p style=\"margin-left:60px;\">[Moro et al., 2011] S. Moro, R. Laureano and P. Cortez. <em>Using Data Mining for Bank Direct Marketing: An Application of the CRISP-DM Methodology.</em> In P. Novais et al. (Eds.), <em>Proceedings of the European Simulation and Modelling Conference - ESM'2011</em>, pp. 117-121, Guimar\u00e3es, Portugal, October, 2011. EUROSIS.</p>\n",
                "\n",
                "<p style=\"margin-left:60px;\">Available at: <a href=\"http://hdl.handle.net/1822/14838\">http://hdl.handle.net/1822/14838</a></p>\n",
                "</div>"
            ]
        },
        {
            "cell_type": "markdown",
            "metadata": {},
            "source": [
                "## Loading Data Into a Table Using Spark\n",
                "\n",
                "The following paragraph uses the `%spark` interpreter to load public bank data into a table. Note that Zeppelin creates and injects the SparkContext (`sc`) and sqlContext (`HiveContext` or `SqlContext`) for you, so you don't need to create them manually."
            ]
        },
        {
            "cell_type": "code",
            "execution_count": null,
            "metadata": {},
            "outputs": [],
            "source": [
                "%%scala \n",
                "import org.apache.commons.io.IOUtils\n",
                "import java.net.URL\n",
                "import java.nio.charset.Charset\n",
                "\n",
                "// Zeppelin creates and injects sc (SparkContext) and sqlContext (HiveContext or SqlContext)\n",
                "// So you don't need create them manually\n",
                "\n",
                "// load bank data\n",
                "val bankText = sc.parallelize(\n",
                "    IOUtils.toString(\n",
                "        new URL(\"https://s3.amazonaws.com/apache-zeppelin/tutorial/bank/bank.csv\"),\n",
                "        Charset.forName(\"utf8\")).split(\"\\n\"))\n",
                "\n",
                "case class Bank(age: Integer, job: String, marital: String, education: String, balance: Integer)\n",
                "\n",
                "val bank = bankText.map(s => s.split(\";\")).filter(s => s(0) != \"\\\"age\\\"\").map(\n",
                "    s => Bank(s(0).toInt, \n",
                "            s(1).replaceAll(\"\\\"\", \"\"),\n",
                "            s(2).replaceAll(\"\\\"\", \"\"),\n",
                "            s(3).replaceAll(\"\\\"\", \"\"),\n",
                "            s(5).replaceAll(\"\\\"\", \"\").toInt\n",
                "        )\n",
                ").toDF()\n",
                "bank.registerTempTable(\"bank\")"
            ]
        },
        {
            "cell_type": "markdown",
            "metadata": {},
            "source": [
                "## Using Spark SQL to Query the Loaded Data\n",
                "\n",
                "The three paragraphs below use the `%spark.sql` interpreter to query the loaded data; each displays the query results using one of the available Jupyuter data visualizations.  \n",
                "\n",
                "We also demonstrate how you can substitute variables into your queries that can be populated in a textbox.\n"
            ]
        },
        {
            "cell_type": "code",
            "execution_count": null,
            "metadata": {},
            "outputs": [],
            "source": [
                "%%scala\n",
                "// need to figure out how to convert this and visualizations in jupyter\n",
                "select age, count(1) value\n",
                "from bank \n",
                "where age < 30 \n",
                "group by age \n",
                "order by age"
            ]
        },
        {
            "cell_type": "code",
            "execution_count": null,
            "metadata": {},
            "outputs": [],
            "source": [
                "%%scala\n",
                "// need to figure out how to convert this and visualizations in jupyter\n",
                "select age, count(1) value \n",
                "from bank \n",
                "where age < ${maxAge=30} \n",
                "group by age \n",
                "order by age"
            ]
        },
        {
            "cell_type": "code",
            "execution_count": null,
            "metadata": {},
            "outputs": [],
            "source": [
                "%%scala\n",
                "// need to figure out how to convert this and visualizations in jupyter\n",
                "select age, count(1) value \n",
                "from bank \n",
                "where marital=\"${marital=single,single|divorced|married}\" \n",
                "group by age \n",
                "order by age"
            ]
        },
        {
            "cell_type": "markdown",
            "metadata": {},
            "source": [
                "## Where to Go Next\n",
                "The next notebook in this class, [*Using the Database Console*](./d.%20Using%20the%20Database%20Console.ipynb), explores using the Database Console to learn about where your queries are bogging donw and how to use that information for additional query tuning."
            ]
        }
    ],
    "metadata": {
        "kernelspec": {
            "display_name": "Python 3",
            "language": "python",
            "name": "python3"
        },
        "language_info": {
            "codemirror_mode": {
                "name": "ipython",
                "version": 3
            },
            "file_extension": ".py",
            "mimetype": "text/x-python",
            "name": "python",
            "nbconvert_exporter": "python",
            "pygments_lexer": "ipython3",
            "version": "3.7.3"
        },
        "toc": {
            "base_numbering": 1,
            "nav_menu": {},
            "number_sections": false,
            "sideBar": false,
            "skip_h1_title": false,
            "title_cell": "Table of Contents",
            "title_sidebar": "Contents",
            "toc_cell": false,
            "toc_position": {},
            "toc_section_display": false,
            "toc_window_display": false
        }
    },
    "nbformat": 4,
    "nbformat_minor": 2
}
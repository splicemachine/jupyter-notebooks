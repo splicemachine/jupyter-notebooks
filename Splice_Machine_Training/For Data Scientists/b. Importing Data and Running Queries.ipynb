{
    "cells": [
        {
            "cell_type": "code",
            "execution_count": null,
            "metadata": {},
            "outputs": [],
            "source": [
                "import os\n",
                "os.environ['JDBC_HOST'] = 'jrtest01-splice-hregion'"
            ]
        },
        {
            "cell_type": "markdown",
            "metadata": {},
            "source": [
                "<link rel=\"stylesheet\" href=\"https://doc.splicemachine.com/zeppelin/css/zepstyles2.css\" />\n",
                "\n",
                "# Importing Data and Running Queries\n",
                "This notebook introduces you importing data into your Splice Machine database and running a simple query, in these steps:\n",
                "\n",
                "1. *Creating and Populating an Example Table*\n",
                "2. *Running database queries from a Jupyter notebook*\n",
                "3. *Using `Explain Plan`* to explore the execution plan for a query "
            ]
        },
        {
            "cell_type": "markdown",
            "metadata": {},
            "source": [
                "## 1. Create and Populate our Example Table\n",
                "First we'll create a table named `import_example` in a new schema named `ds`, then we'll populate the `import_example` table with some simple data.\n",
                "\n",
                "Run the next paragraph to create and populate the table:\n"
            ]
        },
        {
            "cell_type": "code",
            "execution_count": null,
            "metadata": {},
            "outputs": [],
            "source": [
                "%%sql \n",
                "\n",
                "CREATE TABLE ds.import_example (i int, v varchar(20), t timestamp);\n",
                "\n",
                "call SYSCS_UTIL.IMPORT_DATA('DS','import_example',null,'s3a://splice-examples/import/example1.csv',null,null,null,null,null,0,null,null,null);\n"
            ]
        },
        {
            "cell_type": "markdown",
            "metadata": {},
            "source": [
                "## Running a Simple SQL Statement\n",
                "\n",
                "Splice Machine supports ANSI SQL. Our example query uses an SQL `SELECT` statement to select records from the table we created in the previous paragraph. \n",
                "\n",
                "This query selects all records in the `import_example` table that have `100` as the value of column `i`; try it by running the next paragraph.\n"
            ]
        },
        {
            "cell_type": "code",
            "execution_count": null,
            "metadata": {},
            "outputs": [],
            "source": [
                "%%sql \n",
                "\n",
                "select * from ds.import_example\n",
                "where i = 100"
            ]
        },
        {
            "cell_type": "markdown",
            "metadata": {},
            "source": [
                "## Exploring Query Execution Plans\n",
                "\n",
                "If you have a query that is not performing as expected, you can run the `explain` command to display the execution plan for the query.\n",
                "\n",
                "All you need to do is put `EXPLAIN` in front of the query and run that. This generates the plan, but does not actually run the query. Try it by running the next paragraph."
            ]
        },
        {
            "cell_type": "code",
            "execution_count": null,
            "metadata": {},
            "outputs": [],
            "source": [
                "%%sql \n",
                "\n",
                "explain select * from ds.import_example a, ds.import_example b\n",
                "where a.i = 100"
            ]
        },
        {
            "cell_type": "markdown",
            "metadata": {},
            "source": [
                "### Some Explain Plan Details\n",
                "\n",
                "To see the execution flow of a query, look at the generated plan from the *bottom up.*  The very first steps of the query are at the bottom, then each step follows above.\n",
                "\n",
                "Each row includes the action being performed (a Scan, Join, grouping, etc.) followed by:\n",
                "\n",
                "<table class=\"splicezepNoBorder\">\n",
                "    <col />\n",
                "    <col />\n",
                "    <tbody>\n",
                "        <tr>\n",
                "            <td><em>n count</em></td>\n",
                "            <td>The step of the plan (and again you can see as we go from the bottom up the count starts from 1 and goes up from there)</td>\n",
                "        </tr>\n",
                "        <tr>\n",
                "            <td><em>totalCost</em></td>\n",
                "            <td>The estimated cost for this step (and any substeps below it)</td>\n",
                "        </tr>\n",
                "        <tr>\n",
                "            <td><em>scannedRows (for Table or Index Scan steps)</em></td>\n",
                "            <td>The estimated count of how many rows need to be scanned in this step</td>\n",
                "        </tr>\n",
                "        <tr>\n",
                "            <td><em>outputRows</em></td>\n",
                "            <td>The estimated count of how many rows are passed to the next step in the plan</td>\n",
                "        </tr>\n",
                "        <tr>\n",
                "            <td><em>outputHeapSize</em></td>\n",
                "            <td>The estimated count of how much data is passed to the next step in the plan</td>\n",
                "        </tr>\n",
                "        <tr>\n",
                "            <td><em>partitions</em></td>\n",
                "            <td>The estimated number of (HBase) regions are involved in that step of the plan</td>\n",
                "        </tr>\n",
                "        <tr>\n",
                "            <td><em>preds</em></td>\n",
                "            <td>Which filtering predicates are applied in that step of the plan</td>\n",
                "        </tr>\n",
                "    </tbody>\n",
                "</table>\n",
                "\n",
                "We will see that the scannedRows and outputRows are key numbers to monitor as we tune query performance.\n",
                "\n",
                "In the *explain* example that we just ran, we can see we are scanning table `import_example` twice, then joining them with a particular strategy; in this case, the strategy is a nested-loop join.\n",
                "\n",
                "### Which Engine?\n",
                "The final steps, `Scroll Insensitive` and `Cursor` are typical end steps to the query execution.  There is one __very important__ piece of information shown on the `Cursor` line at the end:\n",
                "\n",
                "    Cursor(n=5,rows=360,updateMode=, engine=control)\n",
                "\n",
                "This line shows you which *engine* is used for the query. The engine parameter indicates which engine Splice Machine plans to use. \n",
                "\n",
                "<div class=\"noteIcon\">\n",
                "<p>As you may know, Splice Machine is a dual-engine database:</p>\n",
                "<ul style=\"margin-bottom:0; padding-bottom:0\">\n",
                "<li>Fast-running queries (e.g. those only processing a few rows) typically get executed on the <code>control</code> side, directly in HBase.</li>\n",
                "<li>Longer-running queries or queries that process a lot of data go through <code>Spark</code>.</li>\n",
                "</ul>\n",
                "</div>\n",
                "\n",
                "We'll cover more about the engines, and the Spark engine in particular, later in this class."
            ]
        },
        {
            "cell_type": "markdown",
            "metadata": {},
            "source": [
                "## Where to Go Next\n",
                "Now that you've learned about running queries in Splice Machine, please continue on to the [*Using Spark in Jupyter Notebooks*](./c.%20Using%20Spark%20in%20Jupyter%20Notebooks.ipynb) notebook to learn about the basics of using Spark with Jupyter notebooks.\n"
            ]
        }
    ],
    "metadata": {
        "kernelspec": {
            "display_name": "Python 3",
            "language": "python",
            "name": "python3"
        },
        "language_info": {
            "codemirror_mode": {
                "name": "ipython",
                "version": 3
            },
            "file_extension": ".py",
            "mimetype": "text/x-python",
            "name": "python",
            "nbconvert_exporter": "python",
            "pygments_lexer": "ipython3",
            "version": "3.7.3"
        },
        "toc": {
            "base_numbering": 1,
            "nav_menu": {},
            "number_sections": false,
            "sideBar": false,
            "skip_h1_title": false,
            "title_cell": "Table of Contents",
            "title_sidebar": "Contents",
            "toc_cell": false,
            "toc_position": {},
            "toc_section_display": false,
            "toc_window_display": false
        }
    },
    "nbformat": 4,
    "nbformat_minor": 2
}
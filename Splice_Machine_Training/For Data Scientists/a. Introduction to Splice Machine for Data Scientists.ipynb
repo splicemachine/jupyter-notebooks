{
 "cells": [
  {
   "cell_type": "markdown",
   "metadata": {},
   "source": [
    "# Introduction to Splice Machine for Data Scientists\n",
    "\n",
    "This class is recommended for data scientists and data engineers who are working with Splice Machine. To understand this content, you need to have some experience with:\n",
    "\n",
    "* using SQL\n",
    "* programming with Python or Scala\n",
    "* implementing Machine Learning, data transformation, data analysis, streaming, model design and selection, and results interpretation\n",
    "\n",
    "You can expect to spend 2-3 hours completing this *Splice Machine Data Scientist* class, which contains the following sequence of notebooks:\n",
    "\n",
    "<table class=\"splicezepOddEven\">\n",
    "    <col />\n",
    "    <col />\n",
    "    <tbody>\n",
    "        <tr>\n",
    "            <td>&nbsp;1.</td>\n",
    "            <td>If you've not already done so, please visit our <a href=\"../For%20All%20-%20Basic%20Training/Splice%20Machine%20Basics.ipynb\"><em>Splice Machine Basics</em></a> notebook for an overview of Splice Machine before diving into this set of notebooks.</td>\n",
    "        </tr>\n",
    "        <tr>\n",
    "            <td>&nbsp;2.</td>\n",
    "            <td>And if you're new to using Jupyter, our <a href=\"../For%20All%20-%20Basic%20Training/Jupyter%20Notebook%20Basics.ipynb\"><em>Jupyter Notebook Basics</em></a> notebook is a brief introduction to running and creating/modifying Jupyter notebooks, which you'll need to know before proceeding with the other notebooks in this section.</td>\n",
    "        </tr>\n",
    "        <tr>\n",
    "            <td>&nbsp;3.</td>\n",
    "            <td>This class starts with our <a href=\"./b.%20Importing%20Data%20and%20Running%20Queries.ipynb\"><em>Importing Data and Running Queries</em></a> notebook, which introduces you to querying your Splice Machine database.</td>\n",
    "        </tr>\n",
    "        <tr>\n",
    "            <td>&nbsp;4.</td>\n",
    "            <td>The <a href=\"./c.%20Using%20Spark%20in%20Jupyter%20Notebooks.ipynb\"><em>Using Spark in Jupyter Notebooks</em></a> notebook demonstrates writing and running a Spark program in Jupyter.</td>\n",
    "        </tr>\n",
    "        <tr>\n",
    "            <td>&nbsp;5.</td>\n",
    "            <td>The <a href=\"./d.%20Using%20the%20Database%20Console.ipynb\"><em>Using the Database Console</em></a> notebook introduces the dashboard you can use to monitor queries sent to the Spark engine; this allows you to follow the progress of queries running in Spark, monitor GC usage, and terminate queries when necessary.</td>\n",
    "        </tr>\n",
    "        <tr>\n",
    "            <td>&nbsp;6.</td>\n",
    "            <td>The <a href=\"./e.%20Using%20our%20Native%20Spark%20DataSource.ipynb\"><em>Using our Native Spark DataSource</em></a> notebook demonstrates how our Native Spark DataSource allows you to adopt the full power of Spark and manipulate dataframes while also having the power of full ANSI, ACID-compliant SQL.</td>\n",
    "        </tr>\n",
    "        <tr>\n",
    "            <td>&nbsp;7.</td>\n",
    "            <td>The <a href=\"./f.%20Machine%20Learning%20with%20Spark%20MLlib.ipynb\"><em>Machine Learning with Spark MLib</em></a> notebook contains Python code that uses the Machine Learning Library embedded in Spark, <em>MLlib</em>, with the Splice Machine Spark Adapter to realize in-process machine learning.</td>\n",
    "        </tr>\n",
    "        <tr>\n",
    "            <td>&nbsp;8.</td>\n",
    "            <td>The <a href=\"./g.%20KMeans%20Example.ipynb\"><em>KMeans Example</em></a> notebook presents an unsupervised-learning, clustering algorithm used to determine similarities and trends within a given dataset.</td>\n",
    "        </tr>\n",
    "        <tr>\n",
    "            <td>&nbsp;9.</td>\n",
    "            <td>The <a href=\"./h.%20Decision%20Trees%20Example.ipynb\"><em>Decision Trees Example</em></a> notebook demonstrates how to load a LIBSVM data file, parse it as an RDD of LabeledPoint and then perform classification using a decision tree with Gini impurity as an impurity measure.</td>\n",
    "        </tr>\n",
    "        <tr>\n",
    "            <td>10.</td>\n",
    "            <td>The <a href=\"./i.%20ETL%20Pipeline.ipynb\"><em>ETL Pipeline Example</em></a> notebook presents a simple example of implementing an ETL pipeline with Splice Machine.<td>\n",
    "        </tr>\n",
    "        <tr>\n",
    "            <td>11.</td>\n",
    "            <td>The <a href=\"./j.%20Exercises.ipynb\"><em>Exercises for This Class</em></a> notebook contains a number of exercises that you should complete to test your understanding of the content in this class.</td>\n",
    "        </tr>       \n",
    "    </tbody>\n",
    "</table>\n",
    "\n",
    "Note that each notebook contains a link to the next notebook in the sequence, and most notebooks also contain links to related pages in our Splice Machine Documentation web.\n",
    "\n"
   ]
  },
  {
   "cell_type": "markdown",
   "metadata": {},
   "source": [
    "## Where to Go Next\n",
    "Please start this class with the [*Importing Data and Running Queries*](./b.%20Importing%20Data%20and%20Running%20Queries.ipynb) notebook for an introduction to running Splice Machine database queries."
   ]
  }
 ],
 "metadata": {
  "kernelspec": {
   "display_name": "Python 3",
   "language": "python",
   "name": "python3"
  },
  "language_info": {
   "codemirror_mode": {
    "name": "ipython",
    "version": 3
   },
   "file_extension": ".py",
   "mimetype": "text/x-python",
   "name": "python",
   "nbconvert_exporter": "python",
   "pygments_lexer": "ipython3",
   "version": "3.7.3"
  },
  "toc": {
   "base_numbering": 1,
   "nav_menu": {},
   "number_sections": false,
   "sideBar": false,
   "skip_h1_title": false,
   "title_cell": "Table of Contents",
   "title_sidebar": "Contents",
   "toc_cell": false,
   "toc_position": {},
   "toc_section_display": false,
   "toc_window_display": false
  }
 },
 "nbformat": 4,
 "nbformat_minor": 2
}

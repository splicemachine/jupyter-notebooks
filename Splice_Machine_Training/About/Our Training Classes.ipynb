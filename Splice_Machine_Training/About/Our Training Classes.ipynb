{
    "cells": [
        {
            "cell_type": "code",
            "execution_count": null,
            "metadata": {},
            "outputs": [],
            "source": [
                "import os\n",
                "os.environ['JDBC_HOST'] = 'jrtest01-splice-hregion'"
            ]
        },
        {
            "cell_type": "markdown",
            "metadata": {},
            "source": [
                "# Our Training Classes\n",
                "\n",
                "Splice Machine offers automated training classes using interactive Jupyter notebooks.\n",
                "\n",
                "Before starting any of these classes, please spend 20 minutes or so reviewing the [Splice Machine Basics](../For%20All%20-%20Basic%20Training/Splice%20Machine%20Basics.ipynb) and [Jupyter Notebook Basics](../For%20All%20-%20Basic%20Training/Jupyter%20Notebook%20Basics.ipynb) to gain a basic understanding of how Splice Machine works, and to learn how to use the Jupyter notebooks that constitute our training classes. These notebooks are found in our *Basic Training* folder.\n",
                "\n",
                "Each of our training classes is housed in its own curriculum folder:\n",
                "\n",
                "<table class=\"splicezepOddEven\">\n",
                "    <col width=\"30% \"/>\n",
                "    <col width=\"30%\" />\n",
                "    <col width=\"30%\" />\n",
                "    <col />\n",
                "    <thead>\n",
                "        <tr>\n",
                "            <th>Class</th>\n",
                "            <th>Target Audience</th>\n",
                "            <th>Prerequisites</th>\n",
                "            <th>Time to Complete</th>\n",
                "        </tr>\n",
                "    </thead>\n",
                "    <tbody>\n",
                "        <tr>\n",
                "            <td class=\"Italic\"><a href=\"../For%20All%20-%20Basic%20Training\"><em>Basic Training</em></a></td>\n",
                "            <td>Please review the two notebooks in this folder before starting any Splice Machine Training class.</td>\n",
                "            <td>No Prerequisites</td>\n",
                "            <td>20-30 minutes</td>\n",
                "        </tr>\n",
                "        <tr>\n",
                "            <td class=\"Italic\"><a href=\"../For%20Developers%2C%20Part%20I/a.%20Introduction%20to%20Developer%20Training%2C%20Part%20I.ipynb\"><em>Splice Machine Developers, Part I</em></a></td>\n",
                "            <td>Query writers, ETL processors, developers</td>\n",
                "            <td>Experience with SQL and some programming experience with Python or Scala</td>\n",
                "            <td>1-2 hours</td>\n",
                "        </tr>\n",
                "        <tr>\n",
                "            <td class=\"Italic\"><a href=\"../For%20Developers%2C%20Part%20II/a.%20Introduction%20to%20Developer%20Training%2C%20Part%20II.ipynb\"><em>Splice Machine Developers, Part II</em></a></td>                        \n",
                "            <td>Query writers, ETL processors, developers</td>\n",
                "            <td>Completion of <em>Splice Machine Developers, Part I</em></td>\n",
                "            <td>2-3 hours</td>\n",
                "        </tr>\n",
                "        <tr>\n",
                "            <td class=\"Italic\"><a href=\"../Advanced%20Developer/a.%20Introduction%20to%20Advanced%20Developer.ipynb\"><em>Advanced Developers</em></a></td>\n",
                "            <td>Query writers, ETL processors, developers</td>\n",
                "            <td>Completion of <em>Splice Machine Developers, Part II</em></td>\n",
                "            <td>3-4 hours</td>\n",
                "        </tr>\n",
                "        <tr>\n",
                "            <td class=\"Italic\"><a href=\"../For%20Data%20Scientists/a.%20Introduction%20to%20Splice%20Machine%20for%20Data%20Scientists.ipynb\"><em>Data Science with Splice Machine</em></a></td>\n",
                "            <td>Data Engineers and Data Scientists</td>\n",
                "            <td>Experience with SQL, and some programming experience with Python or Scala. You should also have experience with implementing Machine Learning, data transformation, data analysis, streaming, model design and selection, and results interpretation.</td>\n",
                "            <td>2-3 hours</td>\n",
                "        </tr>\n",
                "        <tr>\n",
                "            <td class=\"Italic\"><a href=\"../For%20DBAs/a.%20Introduction%20to%20Splice%20Machine%20for%20DBAs.ipynb\"><em>Splice Machine for DBAs</em></a></td>\n",
                "            <td>DBAs and Application Support Specialists</td>\n",
                "            <td>Experience with databases.</td>\n",
                "            <td>2-3 hours</td>\n",
                "        </tr>\n",
                "    </tbody>\n",
                "</table>\n",
                "\n",
                "\n"
            ]
        },
        {
            "cell_type": "markdown",
            "metadata": {},
            "source": []
        }
    ],
    "metadata": {
        "kernelspec": {
            "display_name": "Python 3",
            "language": "python",
            "name": "python3"
        },
        "language_info": {
            "codemirror_mode": {
                "name": "ipython",
                "version": 3
            },
            "file_extension": ".py",
            "mimetype": "text/x-python",
            "name": "python",
            "nbconvert_exporter": "python",
            "pygments_lexer": "ipython3",
            "version": "3.7.3"
        },
        "toc": {
            "base_numbering": 1,
            "nav_menu": {},
            "number_sections": false,
            "sideBar": false,
            "skip_h1_title": false,
            "title_cell": "Table of Contents",
            "title_sidebar": "Contents",
            "toc_cell": false,
            "toc_position": {},
            "toc_section_display": false,
            "toc_window_display": false
        }
    },
    "nbformat": 4,
    "nbformat_minor": 2
}
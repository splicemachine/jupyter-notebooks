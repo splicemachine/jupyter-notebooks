{
 "cells": [
  {
   "cell_type": "code",
   "execution_count": null,
   "metadata": {},
   "outputs": [],
   "source": [
    "import os\n",
    "os.environ['JDBC_HOST'] = 'jrtest01-splice-hregion'"
   ]
  },
  {
   "cell_type": "code",
   "execution_count": null,
   "metadata": {},
   "outputs": [],
   "source": [
    "# setup-- \n",
    "import os\n",
    "import pyspark\n",
    "from splicemachine.spark.context import PySpliceContext\n",
    "from pyspark.conf import SparkConf\n",
    "from pyspark.sql import SparkSession\n",
    "\n",
    "# make sure pyspark tells workers to use python3 not 2 if both are installed\n",
    "os.environ['PYSPARK_PYTHON'] = '/usr/bin/python3'\n",
    "jdbc_host = os.environ['JDBC_HOST']\n",
    "\n",
    "conf = pyspark.SparkConf()\n",
    "sc = pyspark.SparkContext(conf=conf)\n",
    "\n",
    "spark = SparkSession.builder.config(conf=conf).getOrCreate()\n",
    "\n",
    "splicejdbc=f\"jdbc:splice://{jdbc_host}:1527/splicedb;user=splice;password=admin\"\n",
    "\n",
    "splice = PySpliceContext(spark, splicejdbc)\n"
   ]
  },
  {
   "cell_type": "code",
   "execution_count": null,
   "metadata": {},
   "outputs": [],
   "source": [
    "%%sql\n",
    "%defaultDatasource jdbc:splice://jrtest01-splice-hregion:1527/splicedb;user=splice;password=admin"
   ]
  },
  {
   "cell_type": "markdown",
   "metadata": {},
   "source": [
    "\n",
    "# Introduction to Jupyter Notebooks\n",
    "\n",
    "This tutorial gives a brief introduction for running and creating/modifying notebooks. Splice Machine uses *Jupyter Notebooks* to give users a flexible, interactive mechanism for working with the database and any code working with it. Here's some basic Zeppelin Notebook terminology:\n",
    "\n",
    "* Notebooks are broken into *paragraphs*. You are now viewing the first paragraph in this notebook.\n",
    " \n",
    "* Each paragraph has a *cell type* (sometimes called a backend) that knows how to process the source content in the paragraph. \n",
    "  We are using the *markdown* interpreter in the paragraph that you're currently reading. Markdown generates HTML from easy-to-read, plain text input that uses simplified formatting instructions.\n",
    " \n",
    "* You run a paragraph by clicking the *Run* button at the top. After the paragraph runs, you can see its results. For example, the result of running this Markdown paragraph is to see the formatted text that you are currently reading.\n",
    "\n",
    "The next paragraph in this notebook, which is immediately below this paragraph, is an empty Markdown paragraph. You can enter markdown text into it to see how a Markdown paragraph works. Follow these steps:\n",
    "\n",
    "* Enter some text on the line below\n",
    "* Click the *Run* button above, or *Shift+Enter* on your keyboard"
   ]
  },
  {
   "cell_type": "markdown",
   "metadata": {},
   "source": [
    "Replace this cell with anything properly formatted markdown"
   ]
  },
  {
   "cell_type": "markdown",
   "metadata": {},
   "source": [
    "When using Jupyter Notebooks, you can change the cell type with the dropdown above. The two main types are *Markdown* (which you see here) and *Code*\n",
    "\n",
    "* When using the *Code* type, you can using something called [magic](https://ipython.readthedocs.io/en/stable/interactive/magics.html) to change the language you want to write in\n",
    "* To see the available magic types, you can run <code>%lsmagic</code> and run that cell"
   ]
  },
  {
   "cell_type": "code",
   "execution_count": null,
   "metadata": {},
   "outputs": [],
   "source": [
    "%lsmagic"
   ]
  },
  {
   "cell_type": "markdown",
   "metadata": {},
   "source": [
    "### Line magics are magic functions that help you within that individual line of code\n",
    "### Cell magics are magic functions that help you within that *entire cell*\n",
    "* For example, the <code>%timeit</code> magic can help you with timing some line of code, and <code>%%timeit</code> can time the entire cell<br>\n",
    "* Below we'll run a simple <code>%timeit</code> and <code>%%timeit</code> magics."
   ]
  },
  {
   "cell_type": "code",
   "execution_count": null,
   "metadata": {},
   "outputs": [],
   "source": [
    "%timeit x = [i for i in range(1000)]"
   ]
  },
  {
   "cell_type": "code",
   "execution_count": null,
   "metadata": {},
   "outputs": [],
   "source": [
    "%%timeit\n",
    "x = []\n",
    "for i in range(1000):\n",
    "    x.append(i)"
   ]
  },
  {
   "cell_type": "markdown",
   "metadata": {},
   "source": [
    "### It seems list comprehension is much faster! \n",
    "Below we'll show one more example running sql directly against the Splice Database.<br>\n",
    "To learn more about magic functions, click [here](https://ipython.readthedocs.io/en/stable/interactive/magics.html)"
   ]
  },
  {
   "cell_type": "code",
   "execution_count": null,
   "metadata": {},
   "outputs": [],
   "source": [
    "%%sql \n",
    "\n",
    "create table a (i int, j int);\n",
    "\n",
    "insert into a values (1,1),(10,2),(100,3);\n",
    "\n",
    "select * from a;\n"
   ]
  },
  {
   "cell_type": "markdown",
   "metadata": {},
   "source": [
    "## Where to Go Next\n",
    "\n",
    "We recommend that you work through the Splice Machine training class that best fits how you plan to work with Splice Machine; these are described in the [*Our Training Classes*](../About/Our%20Training%20Classes.ipynb) notebook. Each of our classes ranges from 1-3 hours time to complete.\n",
    "\n",
    "Again, we encourage you to visit the <a href=\"https://jupyter.readthedocs.io/en/latest/\" target=\"_blank\">Jupyter documentation site</a> to learn about other Jupyter features, including copying, saving, and importing notebooks.\n"
   ]
  }
 ],
 "metadata": {
  "kernelspec": {
   "display_name": "Python 3",
   "language": "python",
   "name": "python3"
  },
  "language_info": {
   "codemirror_mode": {
    "name": "ipython",
    "version": 3
   },
   "file_extension": ".py",
   "mimetype": "text/x-python",
   "name": "python",
   "nbconvert_exporter": "python",
   "pygments_lexer": "ipython3",
   "version": "3.7.3"
  },
  "toc": {
   "base_numbering": 1,
   "nav_menu": {},
   "number_sections": false,
   "sideBar": false,
   "skip_h1_title": false,
   "title_cell": "Table of Contents",
   "title_sidebar": "Contents",
   "toc_cell": false,
   "toc_position": {},
   "toc_section_display": false,
   "toc_window_display": false
  }
 },
 "nbformat": 4,
 "nbformat_minor": 2
}

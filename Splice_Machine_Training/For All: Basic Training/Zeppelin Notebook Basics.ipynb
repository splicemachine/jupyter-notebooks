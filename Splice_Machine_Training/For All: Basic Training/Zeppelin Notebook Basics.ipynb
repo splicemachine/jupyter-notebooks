{
    "cells": [
        {
            "cell_type": "code",
            "execution_count": null,
            "metadata": {},
            "outputs": [],
            "source": [
                "import os\n",
                "os.environ['JDBC_HOST'] = 'jrtest01-splice-hregion'\n"
            ]
        },
        {
            "cell_type": "code",
            "execution_count": null,
            "metadata": {},
            "outputs": [],
            "source": [
                "# setup-- \n",
                "import os\n",
                "import pyspark\n",
                "from splicemachine.spark.context import PySpliceContext\n",
                "from pyspark.conf import SparkConf\n",
                "from pyspark.sql import SparkSession\n",
                "\n",
                "# make sure pyspark tells workers to use python3 not 2 if both are installed\n",
                "os.environ['PYSPARK_PYTHON'] = '/usr/bin/python3'\n",
                "jdbc_host = os.environ['JDBC_HOST']\n",
                "\n",
                "conf = pyspark.SparkConf()\n",
                "sc = pyspark.SparkContext(conf=conf)\n",
                "\n",
                "spark = SparkSession.builder.config(conf=conf).getOrCreate()\n",
                "'''jdbc:splice://{FRAMEWORKNAME}-proxy.marathon.mesos:1527/splicedb;user=splice;password=admin'''\n",
                "\n",
                "splicejdbc=f'jdbc:splice://{jdbc_host}:1527/splicedb;user=splice;password=admin'\n",
                "\n",
                "splice = PySpliceContext(spark, splicejdbc)\n"
            ]
        },
        {
            "cell_type": "markdown",
            "metadata": {},
            "source": [
                "<link rel=\"stylesheet\" href=\"https://doc.splicemachine.com/zeppelin/css/zepstyles2.css\" />\n",
                "\n",
                "# Zeppelin Notebook Basics\n",
                "This notebook is a brief introduction for running and creating/modifying notebooks. Splice Machine uses Zeppelin Notebooks to give users a flexible, interactive mechanism for working with the database and any code working with it. We show you how to:\n",
                "\n",
                "1. *Edit a simple markdown paragraph in Zeppelin.*\n",
                "2. *Use Zeppelin's controls to run, edit, and add or delete paragraphs in a notebook.*\n",
                "3. *View and modify the set of Zeppelin *Interpreters* available in a notebook.*\n",
                "4. *Run a simple Splice Machine database query in Zeppelin.*\n",
                "\n",
                "## Basic Zeppelin Terminology\n",
                "Here's some basic Zeppelin Notebook terminology:\n",
                "\n",
                "* Notebooks are broken into *paragraphs*. You are now viewing the first paragraph in this notebook.\n",
                " \n",
                "* Each paragraph has an *interpreter* (sometimes called a backend) that knows how to process the source content in the paragraph. \n",
                "  We are using the *%md* (short for *Markdown*) interpreter in the paragraph that you're currently reading. Markdown generates HTML from easy-to-read, plain text input that uses simplified formatting instructions.\n",
                "\n",
                "* Each paragraph has an *Editor* associated with it that you can use to enter or view the code or text that constitutes the paragraph.\n",
                " \n",
                "* You run a paragraph by clicking its <img class=\"inline\" src=\"https://doc.splicemachine.com/zeppelin/images/zepPlayIcon.png\" alt=\"Run Zep Paragraph Icon\"> *Run* button. After the paragraph runs, you can see its results. For example, the result of running this Markdown paragraph is to see the formatted text that you are currently reading."
            ]
        },
        {
            "cell_type": "markdown",
            "metadata": {},
            "source": [
                "The paragraph below this one is an empty Markdown paragraph. You can enter markdown text into it to see how a Markdown paragraph works. Follow these steps:\n",
                "\n",
                "* Enter some text on the line below the `%md`.\n",
                "* Click the <img class=\"inline\" src=\"https://doc.splicemachine.com/zeppelin/images/zepPlayIcon.png\" alt=\"Zeppelin Notebook Play button\"> *Play* icon to run the paragraph.\n",
                "* Display the output of your paragraph, if not already shown, by clicking the  <img class=\"inline\" src=\"https://doc.splicemachine.com/zeppelin/images/zepResultsIcon.png\" alt=\"Zeppelin Notebook Results button\"> *Results* icon.\n",
                "* Return to editing the code for your paragraph by clicking the  <img class=\"inline\" src=\"https://doc.splicemachine.com/zeppelin/images/zepEditorIcon.png\" alt=\"Zeppelin Notebook Edit button\"> *Edit* icon."
            ]
        },
        {
            "cell_type": "markdown",
            "metadata": {},
            "source": [
                "Replace this text with some markdown of your own, then click the Play icon to see the results."
            ]
        },
        {
            "cell_type": "markdown",
            "metadata": {},
            "source": [
                "## Working with Paragraphs\n",
                "\n",
                "Each paragraph in a notebook contains code that is interpreted by the interpreter associated with the paragraph. You associate an interpreter with a paragraph by specifying the Zeppelin interpreter `%[name]` directive at the beginning of the paragraph; for example `%splicemachine` will use the `splicemachine` interpreter for the paragraph, `%md` is the Markdown interpreter, `%spark` is the Spark interpreter, and so on. \n",
                "\n",
                "See the *Using Interpreters* section below for more information about working with interpreters.\n",
                "\n",
                "### Running and Editing Paragraphs\n",
                "\n",
                "You'll notice a set of icons in the upper right section of each paragraph. Use these to work with the paragraphs in your Notebook:\n",
                "\n",
                "* Click the <img src=\"https://doc.splicemachine.com/zeppelin/images/zepPlayIcon.png\" class=\"inline\" alt=\"Zeppelin Notebook Play button\"> *Play* icon (or press `Shift-Enter`) to run the paragraph.\n",
                "* Click the  <img src=\"https://doc.splicemachine.com/zeppelin/images/zepResultsIcon.png\" class=\"inline\" alt=\"Zeppelin Notebook Results button\"> *Results* icon after running the paragraph to show or hide the results of running the paragraph.\n",
                "* Click the  <img src=\"https://doc.splicemachine.com/zeppelin/images/zepEditorIcon.png\" class=\"inline\" alt=\"Zeppelin Notebook Edit button\"> *Edit* icon (or press `Ctrl-Option-E`) to show/edit or hide the code in the paragraph. Each interpreter has an associated editor that you can use to directly modify the code and then re-run it.\n",
                "* Click the  <img src=\"https://doc.splicemachine.com/zeppelin/images/zepSettingsIcon.png\" class=\"inline\" alt=\"Zeppelin Notebook Settings button\"> *Settings* icon to reveal a list of other operations that are available for paragraphs.\n",
                "\n",
                "When you run a paragraph, Zeppelin temporarily shows its status as *Running*. If the paragraph runs successfully, you'll see the results displayed, and the status displays as *Finished*: <img src=\"https://doc.splicemachine.com/zeppelin/images/zepFinished.png\" class=\"inline\" style=\"width:145px; height:28px\" alt=\"Zeppelin Notebook Finished status display\">\n",
                "\n",
                "If Zeppelin encounters an error in running the paragraph, the status displays as *Error*:  <img src=\"https://doc.splicemachine.com/zeppelin/images/zepError.png\" class=\"inline\" style=\"height:24px; width:125px\" alt=\"Zeppelin Notebook Error status display\"> and an error message is displayed instead of the results. If you encounter an error, you can easily edit the code and rerun the paragraph.\n",
                "\n",
                "Note that a common error occurs when you've not yet bound the required interpreter to your notebook, as described in the *Using Interpreters* section, below.\n",
                "\n",
                "\n",
                "### How Long Did it Take?\n",
                "\n",
                "After the execution of a paragraph, Zeppelin reports how long it took to execute. The timing is displayed at the bottom of the results; for example:\n",
                "<img class=\"fithalfwidth\" src=\"https://doc.splicemachine.com/zeppelin/images/zepExecTime.png\" style=\"height:100%\" alt=\"Zeppelin Notebook Execution Time display\">\n",
                "\n",
                "Knowing how long a query took to complete can be vital information when we get to running more complex queries.\n",
                "\n",
                "\n",
                "### Adding/Removing Paragraphs\n",
                "\n",
                "The next thing to try is to add more empty paragraphs to your notebook. You can easily add a paragraph by hovering your mouse in the *grey* area between two paragraphs. As you hover, you'll see a `+` appear in the center of the grey area:\n",
                "<img src=\"https://doc.splicemachine.com/zeppelin/images/zepNewPgf.png\" alt=\"Zeppelin create new paragraph\">\n",
                "\n",
                "Click the `+` to insert a new paragraph.\n",
                "\n",
                "If you want to remove a paragraph, click the <img src=\"https://doc.splicemachine.com/zeppelin/images/zepSettingsIcon.png\" class=\"inline\" alt=\"Zeppelin Notebook settings button\"> *Settings* icon and then click *Remove* (or press `Ctrl-Option-D`).\n",
                "\n"
            ]
        },
        {
            "cell_type": "markdown",
            "metadata": {},
            "source": [
                "## Using Interpreters\n",
                "\n",
                "Zeppelin makes it easy for developers to create interpreters (backends) for different languages and tools:\n",
                "\n",
                "* When you create a new Notebook, you specify the default interpreter for that Notebook:\n",
                "  <img class=\"fithalfwidth\" src=\"https://doc.splicemachine.com/zeppelin/images/zepNewNote.png\" alt=\"Zeppelin Create New Note form\">\n",
                "* You specify an interpreter for each paragraph in your Notebook; the default for a new paragraph is the Notebook's default interpreter\n",
                "* There is exactly one interpreter per paragraph\n",
                "* Every paragraph in a Notebook can use a different interpreter.\n",
                "\n",
                " When you open a Notebook created by someone else (like this one), the Interpreter bindings for the Notebook are displayed at the top of the screen.\n",
                " \n",
                " <img class=\"fithalfwidth\" src=\"https://doc.splicemachine.com/zeppelin/images/zepBindings.png\" alt=\"Zeppelin Notebook Interpreter Bindings display\">\n",
                " \n",
                " You __MUST__ click the *Save* button to configure the interpreters for the notebook. If you fail to do so, you'll see an error when you attempt to run the paragraphs.\n"
            ]
        },
        {
            "cell_type": "markdown",
            "metadata": {},
            "source": [
                "## Running a Simple Database Query\n",
                "In the next paragraph, we use the `%splicemachine` interpreter to run an SQL example against your Splice Machine database. Run the query by clicking the <img src=\"https://doc.splicemachine.com/zeppelin/images/zepPlayIcon.png\" class=\"inline\" alt=\"Zeppelin Notebook Play button\"> *Play* icon to:\n",
                "\n",
                "* create a table named `a`\n",
                "* populate the table with 3 rows of data\n",
                "* select the contents of the table\n"
            ]
        },
        {
            "cell_type": "code",
            "execution_count": 6,
            "metadata": {},
            "outputs": [],
            "source": [
                "%%sql \n",
                "\n",
                "create table a (i int, j int);\n",
                "\n",
                "insert into a values (1,1),(10,2),(100,3);\n",
                "\n",
                "select * from a;\n"
            ]
        },
        {
            "cell_type": "markdown",
            "metadata": {},
            "source": [
                "<br />\n",
                "As you can see, the above example successfully used the `splicemachine` interpreter to create, populate, and select the contents of the table named `a` in your Splice Machine database. A few notes about the results of these operations:\n",
                "\n",
                "* The output from the execution of the `create` and `insert` statement displays as `Query executed successfully...`\n",
                "* The output of the `select` statement is the displayed table\n",
                "* If the output contains many rows or columns, Zeppelin automatically adds scroll bars to allow you to view all of the data\n",
                "* The results are initially displayed in tabular format; you can apply different graphical displays of the results by clicking one of the visualization icons that are shown above the results:\n",
                "  <img src=\"https://doc.splicemachine.com/zeppelin/images/zepVis1.png\" alt=\"Zeppelin Visualization Choices display\">\n",
                "  * Simply click a visualization icon to display the results using a different visualization. Most of the visualizations offer `settings` that you can configure.\n",
                "  * Click the rightmost icon to download the results in CSV or TSV format."
            ]
        },
        {
            "cell_type": "markdown",
            "metadata": {},
            "source": [
                "## Where to Go Next\n",
                "\n",
                "We recommend that you work through the Splice Machine training class that best fits how you plan to work with Splice Machine; these are described in the [*Our Training Classes*](/#/notebook/2DWTR5ZBH) notebook. Each of our classes ranges from 1-3 hours time to complete.\n"
            ]
        },
        {
            "cell_type": "markdown",
            "metadata": {},
            "source": [
                "## Related Documentation\n",
                "\n",
                "We encourage you to visit the <a href=\"https://zeppelin.apache.org/docs/0.8.1\" target=\"_blank\">Zeppelin documentation site</a> to learn about other Zeppelin features, including copying, saving, and importing notebooks.\n"
            ]
        }
    ],
    "metadata": {
        "kernelspec": {
            "display_name": "Python 3",
            "language": "python",
            "name": "python3"
        },
        "language_info": {
            "codemirror_mode": {
                "name": "ipython",
                "version": 3
            },
            "file_extension": ".py",
            "mimetype": "text/x-python",
            "name": "python",
            "nbconvert_exporter": "python",
            "pygments_lexer": "ipython3",
            "version": "3.7.3"
        },
        "toc": {
            "base_numbering": 1,
            "nav_menu": {},
            "number_sections": false,
            "sideBar": false,
            "skip_h1_title": false,
            "title_cell": "Table of Contents",
            "title_sidebar": "Contents",
            "toc_cell": false,
            "toc_position": {},
            "toc_section_display": false,
            "toc_window_display": false
        }
    },
    "nbformat": 4,
    "nbformat_minor": 2
}
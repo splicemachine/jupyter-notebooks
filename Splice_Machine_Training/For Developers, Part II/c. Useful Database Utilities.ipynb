{
 "cells": [
  {
   "cell_type": "markdown",
   "metadata": {},
   "source": [
    "<link rel=\"stylesheet\" href=\"https://doc.splicemachine.com/zeppelin/css/zepstyles2.css\" />\n",
    "\n",
    "# Useful Database Utilities\n",
    "\n",
    "This notebook describes a number of utilities that you may find useful. We'll expand this list over time.\n",
    "\n",
    "All you need to do is click *Shift + Enter* to run each paragraph and see the results."
   ]
  },
  {
   "cell_type": "code",
   "execution_count": null,
   "metadata": {},
   "outputs": [],
   "source": [
    "%%sql \n",
    "\n",
    "call SYSCS_UTIL.SYSCS_GET_VERSION_INFO();"
   ]
  },
  {
   "cell_type": "code",
   "execution_count": null,
   "metadata": {},
   "outputs": [],
   "source": [
    "%%sql \n",
    "select schemaname from sys.sysschemas;"
   ]
  },
  {
   "cell_type": "code",
   "execution_count": null,
   "metadata": {},
   "outputs": [],
   "source": [
    "%%sql \n",
    "\n",
    "select t.TABLENAME, s.SCHEMANAME from SYS.SYSTABLES t, SYS.SYSSCHEMAS s where t.SCHEMAID = s.SCHEMAID;"
   ]
  },
  {
   "cell_type": "code",
   "execution_count": null,
   "metadata": {},
   "outputs": [],
   "source": [
    "%%sql \n",
    "SELECT \n",
    "\t\t   S.SCHEMANAME AS TABLE_SCHEM, \n",
    "\t\t   T.TABLENAME AS TABLE_NAME, \n",
    "\t\t   (CASE WHEN CONGLOMS.DESCRIPTOR.isUnique() THEN FALSE ELSE TRUE END) AS NON_UNIQUE, \n",
    "\t\t   CONGLOMS.CONGLOMERATENAME AS INDEX_NAME, \n",
    "\t\t   CAST (CONGLOMS.DESCRIPTOR.getKeyColumnPosition(COLS.COLUMNNUMBER) AS SMALLINT) AS ORDINAL_POSITION, \n",
    "\t\t   COLS.COLUMNNAME AS COLUMN_NAME, \n",
    "\t\t   CASE WHEN CONGLOMS.DESCRIPTOR.isAscending( \n",
    "\t\t\t\tCONGLOMS.DESCRIPTOR.getKeyColumnPosition(COLS.COLUMNNUMBER)) THEN 'A' ELSE 'D' END AS ASC_OR_DESC, \n",
    "\t\t   CONGLOMS.CONGLOMERATENUMBER AS CONGLOM_NO \n",
    "\tFROM \n",
    "\t\t\t SYS.SYSCOLUMNS COLS\n",
    "\t\t\t,SYS.SYSTABLES T \n",
    "\t\t\t,SYS.SYSCONGLOMERATES CONGLOMS \n",
    "\t\t\t,SYS.SYSSCHEMAS S \n",
    "\tWHERE T.TABLEID = CONGLOMS.TABLEID AND T.TABLEID = COLS.REFERENCEID \n",
    "\t  AND T.SCHEMAID = S.SCHEMAID \n",
    "\t  AND CONGLOMS.ISINDEX \n",
    "\t  AND (CASE WHEN CONGLOMS.DESCRIPTOR IS NOT NULL THEN \n",
    "\t\t\t\tCONGLOMS.DESCRIPTOR.getKeyColumnPosition(COLS.COLUMNNUMBER) ELSE \n",
    "\t\t\t\t0 END) <> 0  \n",
    "\tORDER BY TABLE_SCHEM, TABLE_NAME, INDEX_NAME, ORDINAL_POSITION"
   ]
  },
  {
   "cell_type": "code",
   "execution_count": null,
   "metadata": {},
   "outputs": [],
   "source": [
    "%%sql \n",
    "SELECT  \n",
    "\t\t   S.SCHEMANAME AS TABLE_SCHEM, T.TABLENAME AS TABLE_NAME, \n",
    "\t\t   COLS.COLUMNNAME AS COLUMN_NAME, \n",
    "\t\t   CAST (CONGLOMS.DESCRIPTOR.getKeyColumnPosition(COLS.COLUMNNUMBER) AS SMALLINT) AS KEY_SEQ\n",
    "\tFROM  \n",
    "\t\t\tSYS.SYSTABLES T \n",
    "\t\t\t, SYS.SYSSCHEMAS S \n",
    "\t\t\t, SYS.SYSCONSTRAINTS CONS \n",
    "\t\t\t, SYS.SYSPRIMARYKEYS KEYS \n",
    "\t\t\t, SYS.SYSCONGLOMERATES CONGLOMS \n",
    "\t\t\t, SYS.SYSCOLUMNS COLS \n",
    "\tWHERE \n",
    "\t\t  T.SCHEMAID = S.SCHEMAID AND\t\n",
    "\t\t  T.TABLEID = COLS.REFERENCEID AND T.TABLEID = CONGLOMS.TABLEID AND \n",
    "\t\t  CONS.TABLEID = T.TABLEID AND CONS.TYPE = 'P' AND \n",
    "\t\t  CONS.CONSTRAINTID = KEYS.CONSTRAINTID AND \n",
    "\t\t  (CASE WHEN CONGLOMS.DESCRIPTOR IS NOT NULL THEN \n",
    "\t\t\t\tCONGLOMS.DESCRIPTOR.getKeyColumnPosition(COLS.COLUMNNUMBER) ELSE \n",
    "\t\t\t\t0 END) <> 0 AND \n",
    "\t\t  KEYS.CONGLOMERATEID = CONGLOMS.CONGLOMERATEID "
   ]
  },
  {
   "cell_type": "code",
   "execution_count": null,
   "metadata": {},
   "outputs": [],
   "source": [
    "%%sql \n",
    "call syscs_util.syscs_get_running_operations();"
   ]
  },
  {
   "cell_type": "markdown",
   "metadata": {},
   "source": [
    "## Where to Go Next\n",
    "\n",
    "You're now ready to learn about the [*The Life of a Query*](./d.%20The%20Life%20of%20a%20Query.ipynb) in the next notebook in this class."
   ]
  },
  {
   "cell_type": "markdown",
   "metadata": {},
   "source": [
    "## Related Documentation\n",
    "\n",
    "For more information about useful utility procedures for working with your Splice Machine database, see the <a href=\"https://doc.splicemachine.com/sqlref_sysprocs_intro.html\" target=\"_blank\">System Procedures</a> section of our SQL Reference Manual.\n"
   ]
  }
 ],
 "metadata": {
  "kernelspec": {
   "display_name": "Python 3",
   "language": "python",
   "name": "python3"
  },
  "language_info": {
   "codemirror_mode": {
    "name": "ipython",
    "version": 3
   },
   "file_extension": ".py",
   "mimetype": "text/x-python",
   "name": "python",
   "nbconvert_exporter": "python",
   "pygments_lexer": "ipython3",
   "version": "3.7.3"
  },
  "toc": {
   "base_numbering": 1,
   "nav_menu": {},
   "number_sections": false,
   "sideBar": false,
   "skip_h1_title": false,
   "title_cell": "Table of Contents",
   "title_sidebar": "Contents",
   "toc_cell": false,
   "toc_position": {},
   "toc_section_display": false,
   "toc_window_display": false
  }
 },
 "nbformat": 4,
 "nbformat_minor": 2
}

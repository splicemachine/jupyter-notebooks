{
 "cells": [
  {
   "cell_type": "code",
   "execution_count": 1,
   "metadata": {},
   "outputs": [
    {
     "data": {
      "text/html": [
       "<link rel=\"stylesheet\" href=\"https://doc.splicemachine.com/jupyter/css/custom.css\">\n"
      ],
      "text/plain": [
       "<IPython.core.display.HTML object>"
      ]
     },
     "metadata": {},
     "output_type": "display_data"
    }
   ],
   "source": [
    "%%HTML\n",
    "<link rel=\"stylesheet\" href=\"https://doc.splicemachine.com/jupyter/css/custom.css\">"
   ]
  },
  {
   "cell_type": "code",
   "execution_count": null,
   "metadata": {},
   "outputs": [],
   "source": [
    "import os\n",
    "os.environ['JDBC_HOST'] = 'jrtest01-splice-hregion'\n"
   ]
  },
  {
   "cell_type": "code",
   "execution_count": null,
   "metadata": {},
   "outputs": [],
   "source": [
    "# setup-- \n",
    "import os\n",
    "import pyspark\n",
    "from splicemachine.spark.context import PySpliceContext\n",
    "from pyspark.conf import SparkConf\n",
    "from pyspark.sql import SparkSession\n",
    "\n",
    "# make sure pyspark tells workers to use python3 not 2 if both are installed\n",
    "os.environ['PYSPARK_PYTHON'] = '/usr/bin/python3'\n",
    "jdbc_host = os.environ['JDBC_HOST']\n",
    "\n",
    "conf = pyspark.SparkConf()\n",
    "sc = pyspark.SparkContext(conf=conf)\n",
    "\n",
    "spark = SparkSession.builder.config(conf=conf).getOrCreate()\n",
    "\n",
    "splicejdbc=f'jdbc:splice://{jdbc_host}:1527/splicedb;user=splice;password=admin'\n",
    "\n",
    "splice = PySpliceContext(spark, splicejdbc)\n"
   ]
  },
  {
   "cell_type": "markdown",
   "metadata": {},
   "source": [
    "# Exercises: Splice Machine Developer's Class, Part II\n",
    "\n",
    "This notebook contains follow-on exercises for the material that we covered in this class. You can complete these exercises and run the cells in this notebook to verify your understanding of what was covered.\n",
    "\n",
    "<p class=\"noteNote\">These exercises build upon the exercises from our <em>Developer's Class, Part I</em> class, and assume that you've already loaded the data used there. If that's not true, please go back to the <a href=\"/#/notebook/2DYX3JGDF\">Exercises notebook from Part I</a>, and at least create the table and load the data before continuing here.</p>\n",
    "\n",
    "You'll be performing the following actions in these exercises:\n",
    "\n",
    "1.  Enhancing our exercise schema with an additional table and data.\n",
    "2.  Writing and monitoring more advanced queries.\n",
    "3.  Implementing additional query tuning.\n",
    "4.  Interacting with this data using the Native Spark DataSource."
   ]
  },
  {
   "cell_type": "markdown",
   "metadata": {},
   "source": [
    "## 1. Enhancing our Exercise Schema\n",
    "We'll begin these exercises by:\n",
    "\n",
    "* Extending our *Moving Rating Data* schema with a new table for user information\n",
    "* Loading data into our new table\n",
    "* Collecting statistics on the table\n",
    "\n",
    "### Our Sample User Data\n",
    "The sample user data that we'll be ingesting looks like this:\n",
    "\n",
    "```\n",
    "1|24|M|technician|85711\n",
    "2|53|F|other|94043\n",
    "3|23|M|writer|32067\n",
    "```\n",
    "\n",
    "This data contains four fields, separated by `|` characters in the input:\n",
    "&nbsp;&nbsp;&nbsp;&nbsp; `user_id | age | gender | occupation | zip_code`\n",
    "\n",
    "### Create the Table Definition\n",
    "Now, let's create a table specification for the new user information data shown above, and call it `USER_DATA`.  A couple notes about the data that you should take into consideration when defining the table:\n",
    "\n",
    "* Not all ZIP codes are integers.\n",
    "* Though we support Foreign Keys, for these exercises we will skip adding them.\n",
    "\n",
    "<p class=\"noteQuestion\">What do you think the Primary Key should be?</p>\n",
    "\n",
    "In the next cell, insert the SQL to create the table, then run the cell to actually create the table in your database.\n",
    "\n",
    "For help with the syntax, review the notebooks in this class, or read about creating tables in <a href=\"doc.splicemachine.com/sqlref_statements_createtable.html\" target=\"_blank\">our documentation.</a>\n"
   ]
  },
  {
   "cell_type": "code",
   "execution_count": null,
   "metadata": {},
   "outputs": [],
   "source": [
    "%%sql \n"
   ]
  },
  {
   "cell_type": "markdown",
   "metadata": {},
   "source": [
    "### Loading Data into the User Data Table\n",
    "\n",
    "Now we'll import all of our user data. We've copied the data file into this docker image, so you can examine it if needed; you'll find the data here:\n",
    "\n",
    "&nbsp;&nbsp;&nbsp;&nbsp; `/opt/data/user.csv`\n",
    "\n",
    "<p class=\"noteNote\">Use the following command to log into your docker image: <code>docker exec -it spliceserver /bin/bash</code>.\n",
    "\n",
    "Enter the proper `IMPORT` call to load the data in the next cell, then run to actually load the data into the table in your database. You can review examples from this class or in our documentation for any required help.\n",
    "\n",
    "<p class=\"noteHint\">Use <code>/opt/data</code> as your BAD records file directory; if you have trouble with the import, you'll find valuable information in that directory.\n",
    "\n"
   ]
  },
  {
   "cell_type": "code",
   "execution_count": null,
   "metadata": {},
   "outputs": [],
   "source": [
    "%%sql \n"
   ]
  },
  {
   "cell_type": "markdown",
   "metadata": {},
   "source": [
    "### Collecting Statistics on the User Data Table\n",
    "\n",
    "Again let's collect statistics against this table."
   ]
  },
  {
   "cell_type": "code",
   "execution_count": null,
   "metadata": {},
   "outputs": [],
   "source": [
    "%%sql \n"
   ]
  },
  {
   "cell_type": "markdown",
   "metadata": {},
   "source": [
    "## Writing and Monitoring Advanced Queries\n",
    "\n",
    "Now let's run some queries. \n",
    "\n",
    "Each of the following cells poses a question; you should enter a query that will answer that question into the `%%sql` cell below, and then run the cell."
   ]
  },
  {
   "cell_type": "markdown",
   "metadata": {},
   "source": [
    "### a. How many total records are there in USER_DATA?"
   ]
  },
  {
   "cell_type": "code",
   "execution_count": null,
   "metadata": {},
   "outputs": [],
   "source": [
    "%%sql \n"
   ]
  },
  {
   "cell_type": "markdown",
   "metadata": {},
   "source": [
    "### b. How many ratings were submitted by students?"
   ]
  },
  {
   "cell_type": "code",
   "execution_count": null,
   "metadata": {},
   "outputs": [],
   "source": [
    "%%sql \n",
    " "
   ]
  },
  {
   "cell_type": "markdown",
   "metadata": {},
   "source": [
    "### c. Which gender gave higher average ratings?"
   ]
  },
  {
   "cell_type": "code",
   "execution_count": null,
   "metadata": {},
   "outputs": [],
   "source": [
    "%%sql \n"
   ]
  },
  {
   "cell_type": "markdown",
   "metadata": {},
   "source": [
    "### d. What is the average age of reviewers who submitted at least one review of 5?"
   ]
  },
  {
   "cell_type": "code",
   "execution_count": null,
   "metadata": {},
   "outputs": [],
   "source": [
    "%%sql \n"
   ]
  },
  {
   "cell_type": "markdown",
   "metadata": {},
   "source": [
    "### e. What are the (distinct) occupations in this table?"
   ]
  },
  {
   "cell_type": "code",
   "execution_count": null,
   "metadata": {},
   "outputs": [],
   "source": [
    "%%sql \n"
   ]
  },
  {
   "cell_type": "markdown",
   "metadata": {},
   "source": [
    "### f. What is the review count by age, filtered by occupation?"
   ]
  },
  {
   "cell_type": "code",
   "execution_count": null,
   "metadata": {},
   "outputs": [],
   "source": [
    "%%sql \n"
   ]
  },
  {
   "cell_type": "markdown",
   "metadata": {},
   "source": [
    "## Additional Query Tuning\n",
    "\n",
    "Run the following query, then create indexes to make it run faster:\n",
    "\n",
    "Find the average ratings for those users with ZIP codes that start with `9` and in which the `time_entered` for the rating is  April 1, 1998."
   ]
  },
  {
   "cell_type": "code",
   "execution_count": null,
   "metadata": {},
   "outputs": [],
   "source": [
    "%%sql \n"
   ]
  },
  {
   "cell_type": "markdown",
   "metadata": {},
   "source": [
    "## Using the Native Spark DataSource with Our Data\n",
    "\n",
    "We'll now review some of the basics of the Native Spark DataSource.  First, create a PySpliceContext object:\n",
    "\n"
   ]
  },
  {
   "cell_type": "code",
   "execution_count": null,
   "metadata": {},
   "outputs": [],
   "source": [
    "\n",
    "\n"
   ]
  },
  {
   "cell_type": "markdown",
   "metadata": {},
   "source": [
    "Now create a Splice table with 2-3 columns.  Don't insert any data yet:"
   ]
  },
  {
   "cell_type": "code",
   "execution_count": null,
   "metadata": {},
   "outputs": [],
   "source": [
    "%%sql \n"
   ]
  },
  {
   "cell_type": "markdown",
   "metadata": {},
   "source": [
    "Next, create some Spark data (similar to what was done in the previous notebook), and populate the Splice table you just created:"
   ]
  },
  {
   "cell_type": "code",
   "execution_count": null,
   "metadata": {},
   "outputs": [],
   "source": [
    "\n"
   ]
  },
  {
   "cell_type": "markdown",
   "metadata": {},
   "source": [
    "Show that it made it into the Splice table:"
   ]
  },
  {
   "cell_type": "code",
   "execution_count": null,
   "metadata": {},
   "outputs": [],
   "source": [
    "%%sql \n"
   ]
  },
  {
   "cell_type": "markdown",
   "metadata": {},
   "source": [
    "## Where to Go Next\n",
    "Congratulations! You've just completed the *Splice Machine Developer's Class, Part II*. \n",
    "\n",
    "Visit [*Our Training Classes*](../About/Our%20Training%20Classes.ipynb) notebook to learn about our other training classes.\n",
    "\n"
   ]
  }
 ],
 "metadata": {
  "kernelspec": {
   "display_name": "Python 3",
   "language": "python",
   "name": "python3"
  },
  "language_info": {
   "codemirror_mode": {
    "name": "ipython",
    "version": 3
   },
   "file_extension": ".py",
   "mimetype": "text/x-python",
   "name": "python",
   "nbconvert_exporter": "python",
   "pygments_lexer": "ipython3",
   "version": "3.7.3"
  },
  "toc": {
   "base_numbering": 1,
   "nav_menu": {},
   "number_sections": false,
   "sideBar": false,
   "skip_h1_title": false,
   "title_cell": "Table of Contents",
   "title_sidebar": "Contents",
   "toc_cell": false,
   "toc_position": {},
   "toc_section_display": false,
   "toc_window_display": false
  }
 },
 "nbformat": 4,
 "nbformat_minor": 2
}

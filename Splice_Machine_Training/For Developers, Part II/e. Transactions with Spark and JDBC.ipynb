{
    "cells": [
        {
            "cell_type": "code",
            "execution_count": null,
            "metadata": {},
            "outputs": [],
            "source": [
                "import os\n",
                "os.environ['JDBC_HOST'] = 'jrtest01-splice-hregion'"
            ]
        },
        {
            "cell_type": "markdown",
            "metadata": {},
            "source": [
                "<link rel=\"stylesheet\" href=\"https://doc.splicemachine.com/zeppelin/css/zepstyles2.css\" />\n",
                "\n",
                "# Transactions with Spark and JDBC\n",
                "This notebook introduces using Spark and Scala to programmatically interact with Splice Machine via a JDBC connection. In this notebook, we'll:\n",
                "\n",
                "1. *Run setup code to create our variables and define a simple Spark procedure named `checkBalance`.*\n",
                "2. *Use JDBC calls to set and check values from the database.*\n",
                "3. *Show the use of `commit` and `rollback` to control transactional persistence of our updates.*\n",
                "<br />\n"
            ]
        },
        {
            "cell_type": "markdown",
            "metadata": {},
            "source": [
                "## Run Setup Code and Define our Procedure\n",
                "\n",
                "First, we configure the JDBC URL we'll use to connect to your Splice Machine database:"
            ]
        },
        {
            "cell_type": "code",
            "execution_count": null,
            "metadata": {},
            "outputs": [],
            "source": [
                "%%scala \n",
                "\n",
                "val localJDBCURL = \"\"\"jdbc:splice://localhost:1527/splicedb;user=splice;password=admin\"\"\"\n"
            ]
        },
        {
            "cell_type": "markdown",
            "metadata": {},
            "source": [
                "<br />\n",
                "Next, we define a simple procedure, `checkBalance` that checks and *pretty-prints* the current balance for a supplier:"
            ]
        },
        {
            "cell_type": "code",
            "execution_count": null,
            "metadata": {},
            "outputs": [],
            "source": [
                "%%scala \n",
                "import java.sql.{DriverManager,Connection}\n",
                "var conn = DriverManager.getConnection(localJDBCURL)\n",
                "conn.setAutoCommit(false)\n",
                "var statement = conn.createStatement()\n",
                "\n",
                "def checkBalance(suppKey: Integer) : Unit = {\n",
                "    var resSet = statement.executeQuery(\"SELECT S_ACCTBAL FROM DEV2.SUPPLIER WHERE S_SUPPKEY = \" + suppKey.toString())\n",
                "    while ( resSet.next() ) {\n",
                "        var bl = resSet.getString(\"S_ACCTBAL\")\n",
                "        println(\"================ Current account balance: \" + bl + \" ====================\");\n",
                "    }\n",
                "}\n"
            ]
        },
        {
            "cell_type": "markdown",
            "metadata": {},
            "source": [
                "Now we can check the balance easily at any time with the checkBalance call, passing in the supply key as a parameter:"
            ]
        },
        {
            "cell_type": "code",
            "execution_count": null,
            "metadata": {},
            "outputs": [],
            "source": [
                "%%scala \n",
                "checkBalance(6517)"
            ]
        },
        {
            "cell_type": "markdown",
            "metadata": {},
            "source": [
                "Our setup code created two useful variables we can now employ:\n",
                "\n",
                "<table class=\"splicezepNoBorder\">\n",
                "   <tbody>\n",
                "      <tr>\n",
                "          <td><code>statement</code></td>\n",
                "          <td>The standard JDBC Statement object, on which we run functions such as <code>executeUpdate</code>.\n",
                "      </tr>\n",
                "      <tr style=\"background-color: transparent;\">\n",
                "          <td><code>conn</code></td>\n",
                "          <td style=\"background-color: transparent;\" >A standard JDBC Connection object, on which run <code>commit</code> and <code>rollback</code>.\n",
                "      </tr>\n",
                "    </tbody>\n",
                "</table>\n",
                "\n",
                "\n",
                "## Committing a Transaction\n",
                "\n",
                "The first example shows an update statement which, upon committing, retains the value to which it is set.\n"
            ]
        },
        {
            "cell_type": "code",
            "execution_count": null,
            "metadata": {},
            "outputs": [],
            "source": [
                "%%scala \n",
                "statement.executeUpdate(\"update DEV2.SUPPLIER SET S_ACCTBAL = 10000 WHERE S_SUPPKEY = 6517\");\n",
                "checkBalance(6517);\n",
                "conn.commit();\n",
                "checkBalance(6517);"
            ]
        },
        {
            "cell_type": "markdown",
            "metadata": {},
            "source": [
                "## Rolling Back a Transaction\n",
                "\n",
                "If we decide to do a rollback, the value returns to the previous value before the transactional context, as shown in the next example:\n",
                "\n"
            ]
        },
        {
            "cell_type": "code",
            "execution_count": null,
            "metadata": {},
            "outputs": [],
            "source": [
                "%%scala \n",
                "statement.executeUpdate(\"update DEV2.SUPPLIER SET S_ACCTBAL = 0 WHERE S_SUPPKEY = 6517\")\n",
                "checkBalance(6517);\n",
                "conn.rollback();\n",
                "checkBalance(6517);\n"
            ]
        },
        {
            "cell_type": "markdown",
            "metadata": {},
            "source": [
                " \n",
                "<br />\n",
                "This was a simple demonstration of transactional commit and rollback, even from within Scala code.  Later on we'll get more involved with Spark libraries using the Native Spark Datasource.\n"
            ]
        },
        {
            "cell_type": "markdown",
            "metadata": {},
            "source": [
                "## Where to Go Next\n",
                "\n",
                "The next notebook in this class introduces you to [*Using our Native Spark DataSource*](./f.%20Using%20our%20Native%20Spark%20DataSource.ipynb) to work with your database."
            ]
        }
    ],
    "metadata": {
        "kernelspec": {
            "display_name": "Python 3",
            "language": "python",
            "name": "python3"
        },
        "language_info": {
            "codemirror_mode": {
                "name": "ipython",
                "version": 3
            },
            "file_extension": ".py",
            "mimetype": "text/x-python",
            "name": "python",
            "nbconvert_exporter": "python",
            "pygments_lexer": "ipython3",
            "version": "3.7.3"
        },
        "toc": {
            "base_numbering": 1,
            "nav_menu": {},
            "number_sections": false,
            "sideBar": false,
            "skip_h1_title": false,
            "title_cell": "Table of Contents",
            "title_sidebar": "Contents",
            "toc_cell": false,
            "toc_position": {},
            "toc_section_display": false,
            "toc_window_display": false
        }
    },
    "nbformat": 4,
    "nbformat_minor": 2
}
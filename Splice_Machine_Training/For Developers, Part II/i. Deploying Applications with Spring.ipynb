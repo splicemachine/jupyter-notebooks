{
 "cells": [
  {
   "cell_type": "code",
   "execution_count": 1,
   "metadata": {},
   "outputs": [
    {
     "data": {
      "text/html": [
       "<link rel=\"stylesheet\" href=\"https://doc.splicemachine.com/jupyter/css/custom.css\">\n"
      ],
      "text/plain": [
       "<IPython.core.display.HTML object>"
      ]
     },
     "metadata": {},
     "output_type": "display_data"
    }
   ],
   "source": [
    "%%HTML\n",
    "<link rel=\"stylesheet\" href=\"https://doc.splicemachine.com/jupyter/css/custom.css\">"
   ]
  },
  {
   "cell_type": "code",
   "execution_count": null,
   "metadata": {},
   "outputs": [],
   "source": [
    "import os\n",
    "os.environ['JDBC_HOST'] = 'jrtest01-splice-hregion'"
   ]
  },
  {
   "cell_type": "markdown",
   "metadata": {},
   "source": [
    "<link rel=\"stylesheet\" href=\"https://doc.splicemachine.com/zeppelin/css/zepstyles2.css\" />\n",
    "\n",
    "# Deploying Applications with Spring\n",
    "\n",
    "Splice Machine is an ACID compliant RDBMS, which means that you can build <a href=\"https://spring.io/\" target=\"_blank\"><em>Spring</em></a> applications on it.\n",
    "\n",
    "One such application is the commonly-used *Petclinic* web app. We provide links below to get you started with a Splice Machine/Spring implementation of that app.  We won't go deeper in this tutorial, but encourage you to follow up if this scenario is relevant to you.\n",
    "\n",
    "1. Access the repository: <a href=\"https://github.com/splicemachine/spring-petclinic\" target=\"_blank\">https://github.com/splicemachine/spring-petclinic</a>.\n",
    "\n",
    "2. Download a JDBC driver to use with it: find the appropriate `db-client-<version>.jar` for your application.  There is also one you can extract from this Docker image.\n",
    "    \n",
    "3. Download an ODBC driver to use with it: <a href=\"https://www.splicemachine.com/get-started/odbc-driver-download/\" target=\"_blank\">https://www.splicemachine.com/get-started/odbc-driver-download/</a>.\n",
    "\n",
    "<p class=\"noteNote\">The Petclinic app uses the same basic Java persistence model as traditional databases, as shown <a href=\"https://github.com/splicemachine/spring-petclinic/blob/master/src/main/java/org/springframework/samples/petclinic/model/Person.java\">here.</a></p>\n",
    "\n",
    "\n"
   ]
  },
  {
   "cell_type": "markdown",
   "metadata": {},
   "source": [
    "## Where to Go Next\n",
    "\n",
    "The next notebook in this class, [*ETL Pipeline Example*](./j.%20ETL%20Pipeline%20Example.ipynb) provides an example of implementing a simple ETL pipeline in a Splice Machine Zeppelin notbook.\n"
   ]
  }
 ],
 "metadata": {
  "kernelspec": {
   "display_name": "Python 3",
   "language": "python",
   "name": "python3"
  },
  "language_info": {
   "codemirror_mode": {
    "name": "ipython",
    "version": 3
   },
   "file_extension": ".py",
   "mimetype": "text/x-python",
   "name": "python",
   "nbconvert_exporter": "python",
   "pygments_lexer": "ipython3",
   "version": "3.7.3"
  },
  "toc": {
   "base_numbering": 1,
   "nav_menu": {},
   "number_sections": false,
   "sideBar": false,
   "skip_h1_title": false,
   "title_cell": "Table of Contents",
   "title_sidebar": "Contents",
   "toc_cell": false,
   "toc_position": {},
   "toc_section_display": false,
   "toc_window_display": false
  }
 },
 "nbformat": 4,
 "nbformat_minor": 2
}

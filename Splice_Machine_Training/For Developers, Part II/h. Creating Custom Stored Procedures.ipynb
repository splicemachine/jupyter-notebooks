{
 "cells": [
  {
   "cell_type": "code",
   "execution_count": 1,
   "metadata": {},
   "outputs": [
    {
     "data": {
      "text/html": [
       "<link rel=\"stylesheet\" href=\"https://doc.splicemachine.com/jupyter/css/custom.css\">\n"
      ],
      "text/plain": [
       "<IPython.core.display.HTML object>"
      ]
     },
     "metadata": {},
     "output_type": "display_data"
    }
   ],
   "source": [
    "%%HTML\n",
    "<link rel=\"stylesheet\" href=\"https://doc.splicemachine.com/jupyter/css/custom.css\">"
   ]
  },
  {
   "cell_type": "code",
   "execution_count": null,
   "metadata": {},
   "outputs": [],
   "source": [
    "import os\n",
    "os.environ['JDBC_HOST'] = 'jrtest01-splice-hregion'"
   ]
  },
  {
   "cell_type": "markdown",
   "metadata": {},
   "source": [
    "<link rel=\"stylesheet\" href=\"https://doc.splicemachine.com/zeppelin/css/zepstyles.css\" />\n",
    "\n",
    "# Introduction\n",
    "Splice Machine allows for the creation of custom functions and procedures that you can deploy to your database.  Once deployed, these functions and procedures can be called as needed from your SQL.  This notebook will show you how this is done.\n",
    "\n",
    "(Important note: when creating custom functions and procedures as described here, the code must be in Java.)\n",
    "\n"
   ]
  },
  {
   "cell_type": "markdown",
   "metadata": {},
   "source": [
    "## Your Stored Procedure Development Environment\n",
    "\n",
    "The _environment_ in which your stored procedure code is developed may change depending upon your need.  For example, while fleshing out the actual functionality of your custom code, we recommend that you do this on a local (standalone) Splice Machine environment.  You can either build this from our open source code, or download our ready-to-use standalone version.  You can find details on these options at https://www.splicemachine.com/get-started/ \n",
    "\n",
    "Once you have refined your code in a local environment and it behaves to your satisfaction, you can then re-deploy the developed code to your target instance. \n",
    "\n",
    "This notebook covers all of these steps, though as you will see, these steps occur OUTSIDE of an actual Notebook when running in a local environment.  At times you will see `<your-file-name>` in the examples shown.  These should be replaced with your specific file name, etc. accordingly, including the removal of the brackets.\n"
   ]
  },
  {
   "cell_type": "markdown",
   "metadata": {},
   "source": [
    "## Local Development of the Custom Code in an IDE\n",
    "\n",
    "We highly recommend that the initial development of the custom code is done in your local environment (e.g. Mac or Linux).  This way you can develop and test the code in a quick cycle, testing and tuning as needed, before deploying to a full cluster.  The steps described here will be for a Mac, but the process is generally the same for Linux.\n",
    "\n",
    "Using an Integrated Development Environment (IDE) is usually the best approach when developing code, since development is straightforward, as is the generation of the desired output - a JDK 1.8-compatible JAR file.  We'll be using IntelliJ IDEA here but again most IDE's should work as well.\n",
    "\n",
    "### Setting Up Your Project\n",
    "\n",
    "Inside of IntelliJ IDEA, do the following:\n",
    "1. Select *File -> New -> Project...*\n",
    "2. Choose *Java* with 1.8 as the Project SDK, then select *Next*.\n",
    "3. Skip creating from a template unless you prefer to use one, then select *Next*.\n",
    "4. Give your project a name and location (such as *CompanyACustom1*).\n",
    "5. If desired, create a new package (*File -> New -> Package*), such as `com.splicemachine.companya`.\n",
    "\n",
    "### Configuring to output a JAR file\n",
    "\n",
    "Inside of IntelliJ IDEA, do the following:\n",
    "1. Select *File -> Project Structure...*.\n",
    "2. Select *Artifacts*, then click *+*.\n",
    "3. Choose *JAR -> From modules with dependencies*.\n",
    "3. Select *Build on make*, then *OK*.\n",
    "\n",
    "### Coding your function or procedure\n",
    "\n",
    "1. Create a file: right-click on your src or package folder and select *New -> Java Class*.\n",
    "2. Paste in code similar to the following:\n",
    "\n",
    "```\n",
    "package com.splicemachine.companya;\n",
    "\n",
    "import java.sql.SQLException;\n",
    "import java.sql.Connection;\n",
    "import java.sql.DriverManager;\n",
    "import java.sql.PreparedStatement;\n",
    "\n",
    "\n",
    "public class Custom1 {\n",
    "\n",
    "\n",
    "    public static void customIncrement () throws SQLException {\n",
    "        try (Connection con = DriverManager.getConnection(\"jdbc:default:connection\")) {\n",
    "\n",
    "            String incrementSQL = \"update SPLICE.INCREMENTTEST set i = i + 1\";\n",
    "\n",
    "            try (PreparedStatement ps = con.prepareStatement(incrementSQL)) {\n",
    "                int resultSet = ps.executeUpdate();\n",
    "            } catch (SQLException e) {\n",
    "                con.rollback();\n",
    "                e.printStackTrace();\n",
    "                throw e;\n",
    "            }\n",
    "        }\n",
    "    }\n",
    "}\n",
    "```\n",
    "\n",
    "### Build your JAR file\n",
    "1. Select _Build -> Artifacts... JAR_.\n",
    "2. Use your command line interface to navigate to where the JAR file is being created, e.g. `out/artifacts/CompanyACustom1_jar/Custom1.jar`.\n",
    "\n",
    "You are now ready to deploy your JAR file to test!\n"
   ]
  },
  {
   "cell_type": "markdown",
   "metadata": {},
   "source": [
    "## Development Guidelines\n",
    "Before we develop the code and deploy the JAR file, it is worth going through some simple best practices:\n",
    "\n",
    "1. For code organization it is useful to use a package for the code, e.g. `com.splicemachine.yourcompanyname`.\n",
    "2. Notice you don't need a *main* code block in your class - you will be calling the class's specific method directly.\n",
    "3. This example is a stored procedure, therefore it is not returning any results; A function would require a return result.\n",
    "4. You will need to ensure your method throws an `SQLException` if SQL is being executed.  Be sure to use *try/catch* blocks similar to the example shown here to deal with possible run-time exceptions.\n"
   ]
  },
  {
   "cell_type": "markdown",
   "metadata": {},
   "source": [
    "## Local Deployment of the JAR file\n",
    "\n",
    "It's now time to deploy into your development environment.  Make sure it's up and running first.  Then carefully edit and execute the commands below IN YOUR LOCAL ENVIRONMENT (not in Jupyter) to align to your custom procedure and environment:\n",
    "\n",
    "```\n",
    "CALL SQLJ.INSTALL_JAR('<your-full-path-to>/Custom1.jar', 'SPLICE.Custom1', 0);\n",
    "CALL SYSCS_UTIL.SYSCS_SET_GLOBAL_DATABASE_PROPERTY('derby.database.classpath', 'SPLICE.custom1');\n",
    "CREATE PROCEDURE SPLICE.customincrement() PARAMETER STYLE JAVA MODIFIES SQL DATA LANGUAGE JAVA DYNAMIC RESULT SETS 0 EXTERNAL NAME 'com.splicemachine.companya.Custom1.customIncrement';\n",
    "```\n"
   ]
  },
  {
   "cell_type": "markdown",
   "metadata": {},
   "source": [
    "## Locally Set up and test the custom procedure\n",
    "\n",
    "First we set up the table our stored procedure will operate on.  Again for this part we will do this IN YOUR LOCAL ENVIRONMENT:\n",
    "```\n",
    "create table incrementtest (i int);\n",
    "insert into incrementtest values 1;\n",
    "```\n",
    "\n",
    "Now we can see the stored procedure in action:\n",
    "\n",
    "```\n",
    "call customincrement();\n",
    "select * from incrementtest;\n",
    "```\n"
   ]
  },
  {
   "cell_type": "markdown",
   "metadata": {},
   "source": [
    "## Deployment of the JAR file to your Service cluster\n",
    "Once you have confirmed that the code works to your satisfaction, you can now take that same JAR file and deploy it to your Splice Machine cluster on the cloud.  Here are the steps we will follow:\n",
    "\n",
    "1. Copy the JAR file you already built to S3; your Service cluster will be able to access it from here.\n",
    "2. Deploy the JAR file similarly as before.\n",
    "3. Test and run the custom procedure.\n",
    "\n",
    "These last two steps can now be run using the `%%sql` magic in Jupyter, so you should edit the recommended steps and run them as shown below."
   ]
  },
  {
   "cell_type": "markdown",
   "metadata": {},
   "source": [
    "### Copy the JAR file to S3\n",
    "\n",
    "First make sure the `aws` command tool installed in the local environment where you have your JAR file.  If not, see http://docs.aws.amazon.com/cli/latest/userguide/installing.html\n",
    "\n",
    "Once `aws` is installed, you can run the following commands in your local environment:\n",
    "\n",
    "```\n",
    "aws s3 cp <your-file-name> s3://<your-bucket-name>/<your-JAR-file-name>\n",
    "aws s3api put-object-acl --bucket <your-bucket-name> --grant-read emailAddress=\"dbaas@splicemachine.com\"  --key=<your-JAR-file-name> --region us-east-1\n",
    "```"
   ]
  },
  {
   "cell_type": "markdown",
   "metadata": {},
   "source": [
    "### Set up the custom procedure on your Service cluster"
   ]
  },
  {
   "cell_type": "code",
   "execution_count": null,
   "metadata": {},
   "outputs": [],
   "source": [
    "%%sql \n",
    "-- installing the jar and defining the procedure\n",
    "-- edit these steps for your environment\n",
    "CALL SQLJ.INSTALL_JAR('S3://<your-bucket-name>/<your-jar-file-name>', 'SPLICE.Custom1', 0);\n",
    "CALL SYSCS_UTIL.SYSCS_SET_GLOBAL_DATABASE_PROPERTY('derby.database.classpath', 'SPLICE.custom1');\n",
    "CREATE PROCEDURE SPLICE.customincrement() PARAMETER STYLE JAVA MODIFIES SQL DATA LANGUAGE JAVA DYNAMIC RESULT SETS 0 EXTERNAL NAME 'com.splicemachine.companya.Custom1.customIncrement';"
   ]
  },
  {
   "cell_type": "markdown",
   "metadata": {},
   "source": [
    "### Run the stored procedure on your Service cluster"
   ]
  },
  {
   "cell_type": "code",
   "execution_count": null,
   "metadata": {},
   "outputs": [],
   "source": [
    "%%sql \n",
    "create table incrementtest (i int);\n",
    "insert into incremenenttest values 1;\n",
    "call customincrement();\n",
    "select * from incrementtest;"
   ]
  },
  {
   "cell_type": "markdown",
   "metadata": {},
   "source": [
    "## Where to go next\n",
    "\n",
    "Now, let's look at how to [Deploy Apps with Spring](./i.%20Deploying%20Applications%20with%20Spring.ipynb)"
   ]
  }
 ],
 "metadata": {
  "kernelspec": {
   "display_name": "Python 3",
   "language": "python",
   "name": "python3"
  },
  "language_info": {
   "codemirror_mode": {
    "name": "ipython",
    "version": 3
   },
   "file_extension": ".py",
   "mimetype": "text/x-python",
   "name": "python",
   "nbconvert_exporter": "python",
   "pygments_lexer": "ipython3",
   "version": "3.7.3"
  },
  "toc": {
   "base_numbering": 1,
   "nav_menu": {},
   "number_sections": false,
   "sideBar": false,
   "skip_h1_title": false,
   "title_cell": "Table of Contents",
   "title_sidebar": "Contents",
   "toc_cell": false,
   "toc_position": {},
   "toc_section_display": false,
   "toc_window_display": false
  }
 },
 "nbformat": 4,
 "nbformat_minor": 2
}

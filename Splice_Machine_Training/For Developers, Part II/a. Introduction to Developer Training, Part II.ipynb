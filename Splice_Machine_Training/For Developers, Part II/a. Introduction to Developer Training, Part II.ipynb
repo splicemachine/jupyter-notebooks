{
    "cells": [
        {
            "cell_type": "code",
            "execution_count": null,
            "metadata": {},
            "outputs": [],
            "source": [
                "import os\n",
                "os.environ['JDBC_HOST'] = 'jrtest01-splice-hregion'"
            ]
        },
        {
            "cell_type": "markdown",
            "metadata": {},
            "source": [
                "# Introduction to Developer Training, Part II\n",
                "This curriculum is recommended for query writers, ETL processors, and developers who have completed Part 1 of our Developer training and want to proceed on to more advanced topics. To understand this content, you need to:\n",
                "\n",
                "* have experience with SQL\n",
                "* have some familiarity with Python or Scala\n",
                "\n",
                "You can expect to spend 2-3 hours completing this *Splice Machine Developers, Part II* class, which contains the following sequence of notebooks:\n",
                "\n",
                "<table class=\"splicezepOddEven\">\n",
                "    <col />\n",
                "    <col />\n",
                "    <tbody>\n",
                "        <tr>\n",
                "            <td>&nbsp;1.</td>\n",
                "            <td>If you've not already done so, please complete our <a href=\"../For%20Developers%2C%20Part%20I\"><em>Splice Machine Developers, Part 1</em></a> training class.</td>\n",
                "        </tr>\n",
                "        <tr>\n",
                "            <td>&nbsp;2.</td>\n",
                "            <td>The <a href=\"./b.%20Running%20the%20TPCH-1%20Benchmark%20Queries.ipynb\"><em>Running the TPCH-1 Benchmark Queries</em></a> notebook introduces you to the TPCH benchmark data in Splice Machine.</td>\n",
                "        </tr>\n",
                "        <tr>\n",
                "            <td>&nbsp;3.</td>\n",
                "            <td>The <a href=\"./c.%20Useful%20Database%20Utilities.ipynb\"><em>Useful Database Utilities</em></a> notebook describes a number of utilities that you may find useful when working with Splice Machine.</td>\n",
                "        </tr>\n",
                "        <tr>\n",
                "            <td>&nbsp;4.</td>\n",
                "            <td>The <a href=\"./d.%20The%20Life%20of%20a%20Query.ipynb\"><em>The Life of a Query</em></a> notebook is a more in-depth walk-through of creating, populating, and querying TPCH benchmark data in Splice Machine.</td>\n",
                "        </tr>\n",
                "        <tr>\n",
                "            <td>&nbsp;5.</td>\n",
                "            <td>The <a href=\"./e.%20Transactions%20with%20Spark%20and%20JDBC.ipynb\"><em>Transactions with Spark and JDBC</em></a> notebook provides a glimpse into the transactional nature of Splice Machine and introduces use of the <code>%spark</code> interpreter with a JDBC connection.</td>\n",
                "        </tr>\n",
                "        <tr>\n",
                "            <td>&nbsp;6.</td>\n",
                "            <td>The <a href=\"./f.%20Using%20our%20Native%20Spark%20DataSource.ipynb\"><em>Using our Native Spark DataSource</em></a> notebook demonstrates how our Native Spark DataSource allows you to adopt the full power of Spark and manipulate dataframes while also having the power of full ANSI, ACID-compliant SQL.</td>\n",
                "        </tr>\n",
                "        <tr>\n",
                "            <td>&nbsp;7.</td>\n",
                "            <td>The <a href=\"./g.%20Machine%20Learning%20with%20Spark%20MLlib.ipynb\"><em>Machine Learning with Spark MLib</em></a> notebook contains Python code that uses the Machine Learning Library embedded in Spark, <em>MLlib</em>, with the Splice Machine Spark Adapter to realize in-process machine learning.</td>\n",
                "        </tr>\n",
                "        <tr>\n",
                "            <td>&nbsp;8.</td>\n",
                "            <td>The <a href=\"./h.%20Creating%20Custom%20Stored%20Procedures.ipynb\"><em>Creating Custom Stored Procedures</em></a> notebook show you how to create and deploy custom, stored functions and procedures that you can call from your SQL queries in Splice Machine .</td>\n",
                "        </tr>\n",
                "        <tr>\n",
                "            <td>9.</td>\n",
                "            <td>The <a href=\"./i.%20Deploying%20Applications%20with%20Spring.ipynb\"><em>Deploying Apps with Spring</em></a> notebook shows you how to run a <em>Spring</em> application (the <em>Petclinic</em> web app) with Splice Machine.</td>\n",
                "        </tr>\n",
                "        <tr>\n",
                "            <td>10.</td>\n",
                "            <td>The <a href=\"./j.%20ETL%20Pipeline%20Example.ipynb\"><em>ETL Pipeline Example</em></a> notebook presents a simple example of constructing an ETL pipeline with Splice Machine.</td>\n",
                "        </tr>\n",
                "        <tr>\n",
                "            <td>11.</td>\n",
                "            <td>The <a href=\"./k.%20Exercises.ipynb\"><em>Exercises for This Class</em></a> notebook contains a number of exercises that you should complete to test your understanding of the content in this class.</td>\n",
                "        </tr>       \n",
                "   </tbody>\n",
                "</table>\n",
                "\n",
                "Note that each notebook contains a link to the next notebook in the sequence, and most notebooks also contain links to related pages in our Splice Machine Documentation web.\n"
            ]
        },
        {
            "cell_type": "markdown",
            "metadata": {},
            "source": [
                "## Where to Go Next\n",
                "Please start this class the [*Running the TPCH-1 Benchmark Queries*](./b.%20Running%20the%20TPCH-1%20Benchmark%20Queries.ipynb) notebook to learn about the TPCH benchmark in Splice Machine."
            ]
        }
    ],
    "metadata": {
        "kernelspec": {
            "display_name": "Python 3",
            "language": "python",
            "name": "python3"
        },
        "language_info": {
            "codemirror_mode": {
                "name": "ipython",
                "version": 3
            },
            "file_extension": ".py",
            "mimetype": "text/x-python",
            "name": "python",
            "nbconvert_exporter": "python",
            "pygments_lexer": "ipython3",
            "version": "3.7.3"
        },
        "toc": {
            "base_numbering": 1,
            "nav_menu": {},
            "number_sections": false,
            "sideBar": false,
            "skip_h1_title": false,
            "title_cell": "Table of Contents",
            "title_sidebar": "Contents",
            "toc_cell": false,
            "toc_position": {},
            "toc_section_display": false,
            "toc_window_display": false
        }
    },
    "nbformat": 4,
    "nbformat_minor": 2
}
{
 "cells": [
  {
   "cell_type": "code",
   "execution_count": 1,
   "metadata": {},
   "outputs": [
    {
     "data": {
      "text/html": [
       "<link rel=\"stylesheet\" href=\"https://doc.splicemachine.com/jupyter/css/custom.css\">\n"
      ],
      "text/plain": [
       "<IPython.core.display.HTML object>"
      ]
     },
     "metadata": {},
     "output_type": "display_data"
    }
   ],
   "source": [
    "%%HTML\n",
    "<link rel=\"stylesheet\" href=\"https://doc.splicemachine.com/jupyter/css/custom.css\">"
   ]
  },
  {
   "cell_type": "markdown",
   "metadata": {},
   "source": [
    "# The Life of a Query\n",
    "\n",
    "This notebook walks you through running and optimizing a query in Splice Machine, using TPC-H benchmarking data that you'll first import into your database. We explore these topics:\n",
    "\n",
    "* *Importing the TPCH Data into Your Database*\n",
    "* *Examining a Query Execution Plan*\n",
    "* *Informing the Optimizer*\n",
    "* *Adding Indexes to the Database*\n",
    "* *A Glimpse at Splice Machine Benchmark Results*\n",
    "* *Running Queries*\n"
   ]
  },
  {
   "cell_type": "markdown",
   "metadata": {},
   "source": [
    "## Importing the TPCH Data into Your Database\n",
    "\n",
    "To create the TPCH schema and tables, and then import the TPCH data, in these steps:\n",
    "\n",
    "1. Create the Schema\n",
    "2. Create the Tables\n",
    "3. Import the Data\n"
   ]
  },
  {
   "cell_type": "markdown",
   "metadata": {},
   "source": [
    "### About TPCH Data\n",
    "TPC-H (aka *TPCH*) is a decision support benchmark. It consists of a suite of business-oriented ad hoc queries and concurrent data modifications. The queries and the data populating the database have been chosen to have broad industry-wide relevance. This benchmark illustrates decision support systems that examine large volumes of data, execute queries with a high degree of complexity, and give answers to critical business questions.\n",
    "\n",
    "#### The TPCH Schema\n",
    "Here's a view of the TPC-H schema:\n",
    "\n",
    "<img class=\"fithalfwidth\" src=\"https://s3.amazonaws.com/splice-examples/images/tutorials/sample-data-tpch-schema.png\">\n"
   ]
  },
  {
   "cell_type": "markdown",
   "metadata": {},
   "source": [
    "### 1. Create the Schema\n",
    "\n",
    "First, we'll create a schema in Splice Machine for the TPC-H data."
   ]
  },
  {
   "cell_type": "code",
   "execution_count": null,
   "metadata": {},
   "outputs": [],
   "source": [
    "%%sql \n",
    "CREATE SCHEMA ADMIN_TPCH1;"
   ]
  },
  {
   "cell_type": "markdown",
   "metadata": {},
   "source": [
    "## Create the Tables\n",
    "Next we'll create the tables for the TPCH data that we'll be importing.\n"
   ]
  },
  {
   "cell_type": "code",
   "execution_count": null,
   "metadata": {},
   "outputs": [],
   "source": [
    "%%sql \n",
    "CREATE TABLE ADMIN_TPCH1.LINEITEM (\n",
    " L_ORDERKEY BIGINT NOT NULL,\n",
    " L_PARTKEY INTEGER NOT NULL,\n",
    " L_SUPPKEY INTEGER NOT NULL, \n",
    " L_LINENUMBER INTEGER NOT NULL, \n",
    " L_QUANTITY DECIMAL(15,2),\n",
    " L_EXTENDEDPRICE DECIMAL(15,2),\n",
    " L_DISCOUNT DECIMAL(15,2),\n",
    " L_TAX DECIMAL(15,2),\n",
    " L_RETURNFLAG VARCHAR(1), \n",
    " L_LINESTATUS VARCHAR(1),\n",
    " L_SHIPDATE DATE,\n",
    " L_COMMITDATE DATE,\n",
    " L_RECEIPTDATE DATE,\n",
    " L_SHIPINSTRUCT VARCHAR(25),\n",
    " L_SHIPMODE VARCHAR(10),\n",
    " L_COMMENT VARCHAR(44),\n",
    " PRIMARY KEY(L_ORDERKEY,L_LINENUMBER)\n",
    " );\n",
    " \n",
    " CREATE TABLE ADMIN_TPCH1.ORDERS (\n",
    " O_ORDERKEY BIGINT NOT NULL PRIMARY KEY,\n",
    " O_CUSTKEY INTEGER,\n",
    " O_ORDERSTATUS VARCHAR(1),\n",
    " O_TOTALPRICE DECIMAL(15,2),\n",
    " O_ORDERDATE DATE,\n",
    " O_ORDERPRIORITY VARCHAR(15),\n",
    " O_CLERK VARCHAR(15),\n",
    " O_SHIPPRIORITY INTEGER ,\n",
    " O_COMMENT VARCHAR(79)\n",
    " );\n",
    " \n",
    " CREATE TABLE ADMIN_TPCH1.CUSTOMER (\n",
    " C_CUSTKEY INTEGER NOT NULL PRIMARY KEY,\n",
    " C_NAME VARCHAR(25),\n",
    " C_ADDRESS VARCHAR(40),\n",
    " C_NATIONKEY INTEGER NOT NULL,\n",
    " C_PHONE VARCHAR(15),\n",
    " C_ACCTBAL DECIMAL(15,2),\n",
    " C_MKTSEGMENT VARCHAR(10),\n",
    " C_COMMENT VARCHAR(117)\n",
    " );\n",
    " \n",
    " CREATE TABLE ADMIN_TPCH1.PARTSUPP (\n",
    " PS_PARTKEY INTEGER NOT NULL ,\n",
    " PS_SUPPKEY INTEGER NOT NULL , \n",
    " PS_AVAILQTY INTEGER,\n",
    " PS_SUPPLYCOST DECIMAL(15,2),\n",
    " PS_COMMENT VARCHAR(199),\n",
    " PRIMARY KEY(PS_PARTKEY,PS_SUPPKEY) \n",
    " );\n",
    " \n",
    " CREATE TABLE ADMIN_TPCH1.SUPPLIER (\n",
    " S_SUPPKEY INTEGER NOT NULL PRIMARY KEY,\n",
    " S_NAME VARCHAR(25) ,\n",
    " S_ADDRESS VARCHAR(40) ,\n",
    " S_NATIONKEY INTEGER ,\n",
    " S_PHONE VARCHAR(15) ,\n",
    " S_ACCTBAL DECIMAL(15,2),\n",
    " S_COMMENT VARCHAR(101)\n",
    " );\n",
    " \n",
    " CREATE TABLE ADMIN_TPCH1.PART (\n",
    " P_PARTKEY INTEGER NOT NULL PRIMARY KEY,\n",
    " P_NAME VARCHAR(55) ,\n",
    " P_MFGR VARCHAR(25) ,\n",
    " P_BRAND VARCHAR(10) ,\n",
    " P_TYPE VARCHAR(25) ,\n",
    " P_SIZE INTEGER ,\n",
    " P_CONTAINER VARCHAR(10) ,\n",
    " P_RETAILPRICE DECIMAL(15,2),\n",
    " P_COMMENT VARCHAR(23)\n",
    " );\n",
    " \n",
    " CREATE TABLE ADMIN_TPCH1.REGION (\n",
    " R_REGIONKEY INTEGER NOT NULL PRIMARY KEY,\n",
    " R_NAME VARCHAR(25),\n",
    " R_COMMENT VARCHAR(152)\n",
    " );\n",
    " \n",
    " CREATE TABLE ADMIN_TPCH1.NATION (\n",
    " N_NATIONKEY INTEGER NOT NULL,\n",
    " N_NAME VARCHAR(25),\n",
    " N_REGIONKEY INTEGER NOT NULL,\n",
    " N_COMMENT VARCHAR(152),\n",
    " PRIMARY KEY (N_NATIONKEY)\n",
    " );"
   ]
  },
  {
   "cell_type": "markdown",
   "metadata": {},
   "source": [
    "### 3. Import the TPCH Data\n",
    "\n",
    "Splice Machine has pre-loaded flat files with the TPCH data into an S3 bucket to facilitate importing the data. All we need to do is run an `IMPORT` statement for each table.\n",
    "\n",
    "<p class=\"noteNote\">Importing this much data can take a few minutes; you'll see the result of each import displayed below the <code>IMPORT</code> statements as they complete.</p>\n"
   ]
  },
  {
   "cell_type": "code",
   "execution_count": null,
   "metadata": {},
   "outputs": [],
   "source": [
    "%%sql \n",
    "call SYSCS_UTIL.IMPORT_DATA ('ADMIN_TPCH1', 'LINEITEM', null, 's3a://splice-benchmark-data/flat/TPCH/1/lineitem', '|', null, null, null, null, 0, '/tmp', true, null);\n",
    "\n",
    "call SYSCS_UTIL.IMPORT_DATA ('ADMIN_TPCH1', 'ORDERS',   null, 's3a://splice-benchmark-data/flat/TPCH/1/orders',   '|', null, null, null, null, 0, '/tmp', true, null);\n",
    "\n",
    "call SYSCS_UTIL.IMPORT_DATA ('ADMIN_TPCH1', 'CUSTOMER', null, 's3a://splice-benchmark-data/flat/TPCH/1/customer', '|', null, null, null, null, 0, '/tmp', true, null);\n",
    "\n",
    "call SYSCS_UTIL.IMPORT_DATA ('ADMIN_TPCH1', 'PARTSUPP', null, 's3a://splice-benchmark-data/flat/TPCH/1/partsupp', '|', null, null, null, null, 0, '/tmp', true, null);\n",
    "\n",
    "call SYSCS_UTIL.IMPORT_DATA ('ADMIN_TPCH1', 'SUPPLIER', null, 's3a://splice-benchmark-data/flat/TPCH/1/supplier', '|', null, null, null, null, 0, '/tmp', true, null);\n",
    "\n",
    "call SYSCS_UTIL.IMPORT_DATA ('ADMIN_TPCH1', 'PART',     null, 's3a://splice-benchmark-data/flat/TPCH/1/part',     '|', null, null, null, null, 0, '/tmp', true, null);\n",
    "\n",
    "call SYSCS_UTIL.IMPORT_DATA ('ADMIN_TPCH1', 'REGION',   null, 's3a://splice-benchmark-data/flat/TPCH/1/region',   '|', null, null, null, null, 0, '/tmp', true, null);\n",
    "\n",
    "call SYSCS_UTIL.IMPORT_DATA ('ADMIN_TPCH1', 'NATION',   null, 's3a://splice-benchmark-data/flat/TPCH/1/nation',   '|', null, null, null, null, 0, '/tmp', true, null);\n"
   ]
  },
  {
   "cell_type": "markdown",
   "metadata": {},
   "source": [
    "## Examining a Query Execution Plan\n",
    "\n",
    "In the next few sections of this notebook, we'll examine execution plans for TPC-H Query 4, which is known as the <em>Order Priority Checking Query</em>. This query counts the number of orders ordered in a given quarter of a given year in which at least one lineitem was received by the customer later than its committed date; you can use it to determine how well the order priority system is working and gives an assessment of customer satisfaction.\n",
    "\n",
    "Splice Machine generates an execution plan prior to running your query. You can use the `explain` command to generate and display the execution plan without actually running the query; this can help you to determine optimizing strategies for your queries. \n",
    "<p class=\"noteIcon\">The <a href=\"https://doc.splicemachine.com/developers_tuning_explainplan_examples.html\" target=\"_blank\">Reading Explain Plans</a> topic in our documentation describes how to read explain plans.</p>\n"
   ]
  },
  {
   "cell_type": "code",
   "execution_count": null,
   "metadata": {},
   "outputs": [],
   "source": [
    "%%sql \n",
    "-- QUERY 04\n",
    "explain  select\n",
    "\to_orderpriority,\n",
    "\tcount(*) as order_count\n",
    "from\n",
    "\tADMIN_TPCH1.orders\n",
    "where\n",
    "\to_orderdate >= date('1993-07-01')\n",
    "\tand o_orderdate < add_months('1993-07-01',3)\n",
    "\tand exists (\n",
    "\t\tselect\n",
    "\t\t\t*\n",
    "\t\tfrom\n",
    "\t\t\tADMIN_TPCH1.lineitem\n",
    "\t\twhere\n",
    "\t\t\tl_orderkey = o_orderkey\n",
    "\t\t\tand l_commitdate < l_receiptdate\n",
    "\t)\n",
    "group by\n",
    "\to_orderpriority\n",
    "order by\n",
    "\to_orderpriority\n",
    "-- END OF QUERY"
   ]
  },
  {
   "cell_type": "markdown",
   "metadata": {},
   "source": [
    "## Optimizing Query Performance\n",
    "\n",
    "In this section we'll look at optimizing the execution plan for TPCH Query 4. We'll:\n",
    "\n",
    "* Collect Statistics to Inform the Optimizer\n",
    "* Add Indexes to Further Optimize the Plan\n",
    "* Compare Execution Plans\n",
    "\n",
    "When creating a plan for a query, our optimizer performs a number of important and valuable actions, including:\n",
    "\n",
    "* It creates an access plan, which determine the best path for accessing the data the query will operate upon; for example, the access path might be to scan an entire table or to use an index.\n",
    "* When joining tables, the optimizer evaluates the best *join order* and the *join strategy* to use.\n",
    "* The optimizer unrolls subqueries to reduce processing time\n",
    "\n",
    "Since there often are different options available (whether or not to use an index, which join order, etc.), we evaluate the different possibilities, score them, then choose the best we find.  Of course coming up with good scores requires good knowledge about your database, and that's where the statistics collection comes in.\n",
    "\n",
    "You use our `analyze` command to collect statistics from your database, which the optimizer uses when planning the execution of a query.\n",
    "\n",
    "<p class=\"noteIcon\">Cost-based optimizers are powerful features of modern databases that enable query plans to change as the data profiles change. Optimizers make use of count distinct, quantiles, and most frequent item counts as heuristics.</p>\n",
    "\n",
    "Collecting these metrics can be extremely expensive but if approximate results are acceptable (which is typically the case with query optimization), there is a class of specialized algorithms, called streaming algorithms, or *sketches*, that can produce results orders-of magnitude faster and with mathematically proven error bounds. Splice Machine leverages the <a href=\"https://datasketches.github.io/docs/TheChallenge.html\" target=\"_blank\">Yahoo Sketches Library</a> for its statistics gathering. \n",
    "\n",
    "### Collect Statistics\n",
    "Our first optimization is to collect statistics to inform the optimizer about our database. We use our `analyze` command to collect statistics on a schema (or table). This process requires a couple minutes.\n"
   ]
  },
  {
   "cell_type": "code",
   "execution_count": null,
   "metadata": {},
   "outputs": [],
   "source": [
    "%%sql \n",
    "analyze schema ADMIN_TPCH1;"
   ]
  },
  {
   "cell_type": "markdown",
   "metadata": {},
   "source": [
    "### Rerun the Explain Plan After Collecting Statistics\n",
    "\n",
    "Now let's re-run the `explain` plan for Query 4 and see how the optimizer changed the plan after gathering statistics. LINEITEM's scannedRows estimate is appropriately at 6M rows, etc:\n"
   ]
  },
  {
   "cell_type": "code",
   "execution_count": null,
   "metadata": {},
   "outputs": [],
   "source": [
    "%%sql \n",
    "-- QUERY 04\n",
    "explain select\n",
    "\to_orderpriority,\n",
    "\tcount(*) as order_count\n",
    "from\n",
    "\tADMIN_TPCH1.orders\n",
    "where\n",
    "\to_orderdate >= date('1993-07-01')\n",
    "\tand o_orderdate < add_months('1993-07-01',3)\n",
    "\tand exists (\n",
    "\t\tselect\n",
    "\t\t\t*\n",
    "\t\tfrom\n",
    "\t\t\tADMIN_TPCH1.lineitem\n",
    "\t\twhere\n",
    "\t\t\tl_orderkey = o_orderkey\n",
    "\t\t\tand l_commitdate < l_receiptdate\n",
    "\t)\n",
    "group by\n",
    "\to_orderpriority\n",
    "order by\n",
    "\to_orderpriority\n",
    "-- END OF QUERY"
   ]
  },
  {
   "cell_type": "markdown",
   "metadata": {},
   "source": [
    "### Compare Execution Plans After Analyzing the Database\n",
    "\n",
    "Now let's compare the plans to see what changed. At a quick glance, you'll notice that a very large difference in the `totalCost` numbers for every operation in the plan:\n",
    "\n",
    "#### After Collecting Statistics\n",
    "```\n",
    "Plan\n",
    "Cursor(n=13,rows=5,updateMode=READ_ONLY (1),engine=Spark)\n",
    "  ->  ScrollInsensitive(n=12,totalCost=16920.058,outputRows=5,outputHeapSize=127 B,partitions=41)\n",
    "    ->  OrderBy(n=11,totalCost=16919.956,outputRows=5,outputHeapSize=127 B,partitions=41)\n",
    "      ->  ProjectRestrict(n=10,totalCost=16517.046,outputRows=1604125,outputHeapSize=127 B,partitions=41)\n",
    "        ->  GroupBy(n=9,totalCost=3955.595,outputRows=1604125,outputHeapSize=39.081 MB,partitions=41)\n",
    "          ->  ProjectRestrict(n=8,totalCost=3004,outputRows=435327,outputHeapSize=39.081 MB,partitions=41)\n",
    "            ->  MergeSortJoin(n=7,totalCost=3955.595,outputRows=1604125,outputHeapSize=39.081 MB,partitions=41,preds=[(ExistsFlatSubquery-0-1.L_ORDERKEY[7:1] = O_ORDERKEY[7:2])])\n",
    "              ->  TableScan[ORDERS(1616)](n=6,totalCost=3004,scannedRows=1500000,outputRows=435327,outputHeapSize=39.081 MB,partitions=41,preds=[(O_ORDERDATE[5:2] >= 1993-07-01),(O_ORDERDATE[5:2] < dataTypeServices: DATE )])\n",
    "              ->  ProjectRestrict(n=5,totalCost=11385.304,outputRows=1980401,outputHeapSize=31.163 MB,partitions=41)\n",
    "                ->  Distinct(n=4,totalCost=277.69,outputRows=1501009,outputHeapSize=23.619 MB,partitions=1)\n",
    "                  ->  ProjectRestrict(n=3,totalCost=11385.304,outputRows=1980401,outputHeapSize=31.163 MB,partitions=41)\n",
    "                    ->  ProjectRestrict(n=2,totalCost=11385.304,outputRows=1980401,outputHeapSize=31.163 MB,partitions=41,preds=[(L_COMMITDATE[0:2] < L_RECEIPTDATE[0:3])])\n",
    "                      ->  TableScan[LINEITEM(1600)](n=1,totalCost=11286.284,scannedRows=6001215,outputRows=6001215,outputHeapSize=31.163 MB,partitions=41)\n",
    "```\n",
    "\n",
    "#### Before Collecting Statistics\n",
    "```\n",
    "Plan\n",
    "Cursor(n=13,rows=36753750,updateMode=READ_ONLY (1),engine=Spark)\n",
    "  ->  ScrollInsensitive(n=12,totalCost=1576165.614,outputRows=36753750,outputHeapSize=139.022 MB,partitions=41)\n",
    "    ->  OrderBy(n=11,totalCost=838921.423,outputRows=36753750,outputHeapSize=139.022 MB,partitions=41)\n",
    "      ->  ProjectRestrict(n=10,totalCost=400696.835,outputRows=36753750,outputHeapSize=139.022 MB,partitions=41)\n",
    "        ->  GroupBy(n=9,totalCost=98186.501,outputRows=36753750,outputHeapSize=139.022 MB,partitions=41)\n",
    "          ->  ProjectRestrict(n=8,totalCost=75629,outputRows=11837789,outputHeapSize=139.022 MB,partitions=41)\n",
    "            ->  MergeSortJoin(n=7,totalCost=98186.501,outputRows=36753750,outputHeapSize=139.022 MB,partitions=41,preds=[(ExistsFlatSubquery-0-1.L_ORDERKEY[7:1] = O_ORDERKEY[7:2])])\n",
    "              ->  TableScan[ORDERS(1616)](n=6,totalCost=75629,scannedRows=37812500,outputRows=11837789,outputHeapSize=139.022 MB,partitions=41,preds=[(O_ORDERDATE[5:2] >= 1993-07-01),(O_ORDERDATE[5:2] < dataTypeServices: DATE )])\n",
    "              ->  ProjectRestrict(n=5,totalCost=275416.5,outputRows=45375000,outputHeapSize=129.819 MB,partitions=41)\n",
    "                ->  Distinct(n=4,totalCost=6717.476,outputRows=45375000,outputHeapSize=129.819 MB,partitions=1)\n",
    "                  ->  ProjectRestrict(n=3,totalCost=275416.5,outputRows=45375000,outputHeapSize=129.819 MB,partitions=41)\n",
    "                    ->  ProjectRestrict(n=2,totalCost=275416.5,outputRows=45375000,outputHeapSize=129.819 MB,partitions=41,preds=[(L_COMMITDATE[0:2] < L_RECEIPTDATE[0:3])])\n",
    "                      ->  TableScan[LINEITEM(1600)](n=1,totalCost=275004,scannedRows=137500000,outputRows=137500000,outputHeapSize=129.819 MB,partitions=41)\n",
    "```\n"
   ]
  },
  {
   "cell_type": "markdown",
   "metadata": {},
   "source": [
    "### Optimize by Adding Indexes\n",
    "\n",
    "Splice Machine tables have primary keys defined either implicitly or explicitly. Data is stored in order of these keys.\n",
    "\n",
    "<div class=\"noteNote\" style=\"max-width:40%;\">The primary key is not optimal for all queries.</div>\n",
    "\n",
    "Unlike HBase and other key-value stores, Splice Machine can use *secondary indexes* to improve the performance of data manipulation statements. In addition, `UNIQUE` indexes provide a form of data integrity checking.\n",
    "\n",
    "In Splice Machine, an index is just another HBase table, keyed on the index itself.\n",
    "\n",
    "### Adding an index on ORDERS\n",
    "\n",
    "Note that in the explain for this query, we are scanning the entire ORDERS table, even though we only will require a subset of the data.  Adding an index on O_ORDERDATE should help, BUT it's important to know\n",
    "that the plan is telling us even if we use an index, we still will be returning many rows to the next step (outputRows>400K).  So we should be careful to avoid the `IndexLookup` problem discussed previously, and\n",
    "add other columns we'll need as well.\n"
   ]
  },
  {
   "cell_type": "code",
   "execution_count": null,
   "metadata": {},
   "outputs": [],
   "source": [
    "%%sql \n",
    "\n",
    "create index ADMIN_TPCH1.O_DATE_PRI_KEY_IDX on ADMIN_TPCH1.ORDERS(\n",
    " O_ORDERDATE,\n",
    " O_ORDERPRIORITY,\n",
    " O_ORDERKEY\n",
    " );\n"
   ]
  },
  {
   "cell_type": "markdown",
   "metadata": {},
   "source": [
    "Here's the query again on which to rerun explain, so we can compare plans.\n"
   ]
  },
  {
   "cell_type": "code",
   "execution_count": null,
   "metadata": {},
   "outputs": [],
   "source": [
    "%%sql \n",
    "-- QUERY 04\n",
    "explain select\n",
    "\to_orderpriority,\n",
    "\tcount(*) as order_count\n",
    "from\n",
    "\tADMIN_TPCH1.orders\n",
    "where\n",
    "\to_orderdate >= date('1993-07-01')\n",
    "\tand o_orderdate < add_months('1993-07-01',3)\n",
    "\tand exists (\n",
    "\t\tselect\n",
    "\t\t\t*\n",
    "\t\tfrom\n",
    "\t\t\tADMIN_TPCH1.lineitem\n",
    "\t\twhere\n",
    "\t\t\tl_orderkey = o_orderkey\n",
    "\t\t\tand l_commitdate < l_receiptdate\n",
    "\t)\n",
    "group by\n",
    "\to_orderpriority\n",
    "order by\n",
    "\to_orderpriority\n",
    "-- END OF QUERY"
   ]
  },
  {
   "cell_type": "markdown",
   "metadata": {},
   "source": [
    "### Compare Updated Execution Plans\n",
    "\n",
    "We can now compare how the query will execute with indexing in place versus without indexes. You'll again notice that, among other differences, the `totalCost` values are lower for most operations because the optimizer was able to take advantage of the indexes we added.\n",
    "\n",
    "#### Query Plan After Indexing\n",
    "```\n",
    "Plan\n",
    "Cursor(n=14,rows=5,updateMode=READ_ONLY (1),engine=Spark)\n",
    "  ->  ScrollInsensitive(n=13,totalCost=15353.855,outputRows=5,outputHeapSize=127 B,partitions=41)\n",
    "    ->  OrderBy(n=12,totalCost=15353.753,outputRows=5,outputHeapSize=127 B,partitions=41)\n",
    "      ->  ProjectRestrict(n=11,totalCost=14988.138,outputRows=1604125,outputHeapSize=127 B,partitions=41)\n",
    "        ->  GroupBy(n=10,totalCost=2463.089,outputRows=1604125,outputHeapSize=39.081 MB,partitions=41)\n",
    "          ->  ProjectRestrict(n=9,totalCost=6001884,outputRows=435332,outputHeapSize=39.081 MB,partitions=41)\n",
    "            ->  MergeSortJoin(n=8,totalCost=2463.089,outputRows=1604125,outputHeapSize=39.081 MB,partitions=41,preds=[(ExistsFlatSubquery-0-1.L_ORDERKEY[7:1] = O_ORDERKEY[7:2])])\n",
    "              ->  ProjectRestrict(n=7,totalCost=6001884,outputRows=435332,outputHeapSize=39.081 MB,partitions=41)\n",
    "                ->  IndexScan[O_DATE_PRI_KEY_IDX(1745)](n=6,totalCost=1547.029,scannedRows=1160172,outputRows=435332,outputHeapSize=39.081 MB,partitions=41,baseTable=ORDERS(1616),preds=[(O_ORDERDATE[5:1] < dataTypeServices: DATE ),(O_ORDERDATE[5:1] >= 1993-07-01)])\n",
    "              ->  ProjectRestrict(n=5,totalCost=11385.304,outputRows=1980401,outputHeapSize=31.163 MB,partitions=41)\n",
    "                ->  Distinct(n=4,totalCost=277.69,outputRows=1501009,outputHeapSize=23.619 MB,partitions=1)\n",
    "                  ->  ProjectRestrict(n=3,totalCost=11385.304,outputRows=1980401,outputHeapSize=31.163 MB,partitions=41)\n",
    "                    ->  ProjectRestrict(n=2,totalCost=11385.304,outputRows=1980401,outputHeapSize=31.163 MB,partitions=41,preds=[(L_COMMITDATE[0:2] < L_RECEIPTDATE[0:3])])\n",
    "                      ->  TableScan[LINEITEM(1600)](n=1,totalCost=11286.284,scannedRows=6001215,outputRows=6001215,outputHeapSize=31.163 MB,partitions=41)\n",
    "```\n",
    "\n",
    "#### Query Plan Before Indexing\n",
    "```\n",
    "Plan\n",
    "Cursor(n=13,rows=5,updateMode=READ_ONLY (1),engine=Spark)\n",
    "  ->  ScrollInsensitive(n=12,totalCost=16920.058,outputRows=5,outputHeapSize=127 B,partitions=41)\n",
    "    ->  OrderBy(n=11,totalCost=16919.956,outputRows=5,outputHeapSize=127 B,partitions=41)\n",
    "      ->  ProjectRestrict(n=10,totalCost=16517.046,outputRows=1604125,outputHeapSize=127 B,partitions=41)\n",
    "        ->  GroupBy(n=9,totalCost=3955.595,outputRows=1604125,outputHeapSize=39.081 MB,partitions=41)\n",
    "          ->  ProjectRestrict(n=8,totalCost=3004,outputRows=435327,outputHeapSize=39.081 MB,partitions=41)\n",
    "            ->  MergeSortJoin(n=7,totalCost=3955.595,outputRows=1604125,outputHeapSize=39.081 MB,partitions=41,preds=[(ExistsFlatSubquery-0-1.L_ORDERKEY[7:1] = O_ORDERKEY[7:2])])\n",
    "              ->  TableScan[ORDERS(1616)](n=6,totalCost=3004,scannedRows=1500000,outputRows=435327,outputHeapSize=39.081 MB,partitions=41,preds=[(O_ORDERDATE[5:2] >= 1993-07-01),(O_ORDERDATE[5:2] < dataTypeServices: DATE )])\n",
    "              ->  ProjectRestrict(n=5,totalCost=11385.304,outputRows=1980401,outputHeapSize=31.163 MB,partitions=41)\n",
    "                ->  Distinct(n=4,totalCost=277.69,outputRows=1501009,outputHeapSize=23.619 MB,partitions=1)\n",
    "                  ->  ProjectRestrict(n=3,totalCost=11385.304,outputRows=1980401,outputHeapSize=31.163 MB,partitions=41)\n",
    "                    ->  ProjectRestrict(n=2,totalCost=11385.304,outputRows=1980401,outputHeapSize=31.163 MB,partitions=41,preds=[(L_COMMITDATE[0:2] < L_RECEIPTDATE[0:3])])\n",
    "                      ->  TableScan[LINEITEM(1600)](n=1,totalCost=11286.284,scannedRows=6001215,outputRows=6001215,outputHeapSize=31.163 MB,partitions=41)\n",
    "```"
   ]
  },
  {
   "cell_type": "markdown",
   "metadata": {},
   "source": [
    "### Running Query 4\n",
    "\n",
    "Now go ahead and run TPC-H Query 4.  Again feel free to use `localhost:4040` to monitor while it runs."
   ]
  },
  {
   "cell_type": "markdown",
   "metadata": {},
   "source": [
    "## A Glimpse at Splice Machine Benchmark Results\n",
    "\n",
    "Here are some micro-benchmark results from Splice Machine running TPC-H and other benchmarks:\n",
    "\n",
    "- 2ms single record lookups on primary keys at petabyte scale\n",
    "- 20ms single record updates at petabyte scale\n",
    "- 40-way OLTP indexed joins return in <100ms\n",
    "- 150-way OLAP style joins execute in under 2 minutes\n",
    "- 440-way join executes where others can’t parse\n",
    "- Ingestion at 80MB/sec/node\n",
    "- Can run TPC-C and TPC-H simultaneously\n"
   ]
  },
  {
   "cell_type": "markdown",
   "metadata": {},
   "source": [
    "## Where to Go Next\n",
    "\n",
    "The next notebook in this class introduces you to [*Creating Custom Stored Procedures*](./g.%20Creating%20Custom%20Stored%20Procedures.ipynb) with Splice Machine."
   ]
  }
 ],
 "metadata": {
  "kernelspec": {
   "display_name": "Python 3",
   "language": "python",
   "name": "python3"
  },
  "language_info": {
   "codemirror_mode": {
    "name": "ipython",
    "version": 3
   },
   "file_extension": ".py",
   "mimetype": "text/x-python",
   "name": "python",
   "nbconvert_exporter": "python",
   "pygments_lexer": "ipython3",
   "version": "3.7.3"
  },
  "toc": {
   "base_numbering": 1,
   "nav_menu": {},
   "number_sections": false,
   "sideBar": false,
   "skip_h1_title": false,
   "title_cell": "Table of Contents",
   "title_sidebar": "Contents",
   "toc_cell": false,
   "toc_position": {},
   "toc_section_display": false,
   "toc_window_display": false
  }
 },
 "nbformat": 4,
 "nbformat_minor": 2
}

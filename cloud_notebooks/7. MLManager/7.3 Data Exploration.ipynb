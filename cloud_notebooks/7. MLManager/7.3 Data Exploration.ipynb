{
 "cells": [
  {
   "attachments": {
    "image.png": {
     "image/png": "[encoded data removed]"
    }
   },
   "cell_type": "markdown",
   "metadata": {},
   "source": [
    "# Data Exploration in Splice Machine\n",
    "<blockquote><p class='quotation'><span style='font-size:15px'> Data exploration couldn't be easier on Splice. Our built in, scalable Spark Sessions allow you to run massive analytics, and our robust library support removes the learning curve. In this notebook, we'll ingest our SQL table into a Spark Dataframe using the Native Spark Datasource, and then use <code>Koalas</code> to give us Pandas API syntax on distributed Spark Dataframes! <a href=https://koalas.readthedocs.io/en/latest/getting_started/index.html>Koalas</a> is a powerful library and removes the need to learn PySpark syntax to run large scale analytics on your data.<br>\n",
    "\n",
    "In order to use Koalas (or any other custom library you'd like), simply <code>pip install</code> right in a notebook. If importing koalas fails after the install, you may need to restart the kernel after installing:\n",
    "![image.png](attachment:image.png)\n",
    "\n",
    "Then, simply import the library and you're ready to go!<br><br>\n",
    "Note: If you've already installed Koalas in another notebook (or in a terminal session), you won't need to reinstall it.\n",
    "<footer>Splice Machine</footer>\n"
   ]
  },
  {
   "cell_type": "code",
   "execution_count": null,
   "metadata": {},
   "outputs": [],
   "source": [
    "!pip install -q koalas"
   ]
  },
  {
   "cell_type": "markdown",
   "metadata": {},
   "source": [
    "#### Let's start our Spark Session"
   ]
  },
  {
   "cell_type": "code",
   "execution_count": null,
   "metadata": {},
   "outputs": [],
   "source": [
    "# Setup\n",
    "import warnings\n",
    "warnings.simplefilter(\"ignore\")\n",
    "warnings.filterwarnings(\"ignore\")\n",
    "\n",
    "import databricks.koalas as ks\n",
    "from pyspark.sql import SparkSession\n",
    "from splicemachine.spark import PySpliceContext\n",
    "from splicemachine.mlflow_support.utilities import get_user\n",
    "\n",
    "spark = SparkSession.builder.getOrCreate()\n",
    "splice = PySpliceContext(spark)\n",
    "schema = get_user()"
   ]
  },
  {
   "cell_type": "markdown",
   "metadata": {},
   "source": [
    "## Ingesting Data\n",
    "<blockquote><p class='quotation'><span style='font-size:15px'> There are a variety of ways to ingest data into Splice Machine. here we'll use the built in <code>IMPORT_DATA</code> SQL function to bring data from s3 directly into a Splice Machine table. From there we'll be able to investigate our features. <footer>Splice Machine</footer>\n",
    "</blockquote>"
   ]
  },
  {
   "cell_type": "code",
   "execution_count": null,
   "metadata": {},
   "outputs": [],
   "source": [
    "%%sql\n",
    "drop table if exists cc_fraud_data; \n",
    "create table cc_fraud_data (\n",
    "    time_offset integer,\n",
    "    expected_weekly_trans_cnt double,\n",
    "    expected_weekly_trans_amnt double,\n",
    "    expected_daily_trans_cnt double,\n",
    "    expected_daily_trans_amnt double,\n",
    "    weekly_trans_cnt double,\n",
    "    weekly_trans_amnt double,\n",
    "    daily_trans_cnt double,\n",
    "    daily_trans_amnt double,\n",
    "    rolling_avg_weekly_trans_cnt double,\n",
    "    rolling_avg_weekly_trans_amnt double,\n",
    "    rolling_avg_daily_trans_cnt double,\n",
    "    rolling_avg_daily_trans_amnt double,\n",
    "    MACD_trans_amnt double,\n",
    "    MACD_trans_cnt double,\n",
    "    RSI_trans_amnt double,\n",
    "    RSI_trans_cnt double,\n",
    "    Aroon_trans_amnt double,\n",
    "    Aroon_trans_cnt double,\n",
    "    ADX_trans_amnt double,\n",
    "    ADX_trans_cnt double,\n",
    "    current_balance double,\n",
    "    rolling_avg_balance double,\n",
    "    MACD_balance double,\n",
    "    Aroon_balance double,\n",
    "    RSI_balance double,\n",
    "    ADX_balance double,\n",
    "    credit_score double,\n",
    "    credit_limit double,\n",
    "    amount decimal(10,2),\n",
    "    class_result int\n",
    ");\n",
    "\n",
    "call SYSCS_UTIL.IMPORT_DATA (\n",
    "     null,\n",
    "     'cc_fraud_data',\n",
    "     null,\n",
    "     's3a://splice-demo/kaggle-fraud-data/creditcard.csv',\n",
    "     ',',\n",
    "     null,\n",
    "     null,\n",
    "     null,\n",
    "     null,\n",
    "     -1,\n",
    "     's3a://splice-demo/kaggle-fraud-data/bad',\n",
    "     null, \n",
    "     null);\n",
    "     "
   ]
  },
  {
   "cell_type": "markdown",
   "metadata": {},
   "source": [
    "## We can use `SQL` natively to investigate our data"
   ]
  },
  {
   "cell_type": "code",
   "execution_count": null,
   "metadata": {},
   "outputs": [],
   "source": [
    "%%sql\n",
    "-- Get the class distribution of our label\n",
    "select class_result, count(*) as NUM_Occurrences\n",
    "from cc_fraud_data \n",
    "group by class_result"
   ]
  },
  {
   "cell_type": "code",
   "execution_count": null,
   "metadata": {},
   "outputs": [],
   "source": [
    "%%sql \n",
    "-- Calculate averages for some important metrics\n",
    "SELECT class_result, AVG(expected_weekly_trans_cnt) as avg_expected_weekly_trans_cnt, \n",
    "AVG(MACD_trans_amnt) as avg_MACD_trans_amnt, \n",
    "AVG(RSI_trans_amnt) as avg_RSI_trans_amnt\n",
    "from cc_fraud_data\n",
    "group by class_result"
   ]
  },
  {
   "cell_type": "markdown",
   "metadata": {},
   "source": [
    "## Using the Native Spark Data Source (and Koalas) to get our data in PySpark"
   ]
  },
  {
   "cell_type": "code",
   "execution_count": null,
   "metadata": {},
   "outputs": [],
   "source": [
    "df = splice.df(f\"SELECT * FROM {schema}.cc_fraud_data\").to_koalas().astype({'AMOUNT': 'float64'})\n",
    "print(type(df))"
   ]
  },
  {
   "cell_type": "markdown",
   "metadata": {},
   "source": [
    "#### With Koalas, your dataframe looks and feels like a Pandas DF"
   ]
  },
  {
   "cell_type": "code",
   "execution_count": null,
   "metadata": {},
   "outputs": [],
   "source": [
    "df"
   ]
  },
  {
   "cell_type": "markdown",
   "metadata": {},
   "source": [
    "## Let's use Koalas\n",
    "<blockquote><p class='quotation'><span style='font-size:15px'> Now that we have our Koalas dataframe, we can use standard Pandas API, but distribute it all on Spark. Let's try some standard functions, and inspect what Koalas is doing under the hood <footer>Splice Machine</footer>\n",
    "</blockquote>"
   ]
  },
  {
   "cell_type": "code",
   "execution_count": null,
   "metadata": {
    "scrolled": true
   },
   "outputs": [],
   "source": [
    "# Sort by amount spent in transaction, looking at Amount, Current balance, and Weekly Transaction count\n",
    "df.sort_values(by='AMOUNT', ascending=False)[['AMOUNT','CURRENT_BALANCE', 'WEEKLY_TRANS_CNT']]"
   ]
  },
  {
   "cell_type": "code",
   "execution_count": null,
   "metadata": {},
   "outputs": [],
   "source": [
    "# See rows with WEEKLY_TRANS_AMNT above 25\n",
    "df[df['WEEKLY_TRANS_AMNT'] > 18]"
   ]
  },
  {
   "cell_type": "markdown",
   "metadata": {},
   "source": [
    "#### See what's happening under the hood"
   ]
  },
  {
   "cell_type": "code",
   "execution_count": null,
   "metadata": {
    "scrolled": true
   },
   "outputs": [],
   "source": [
    "# See what Koalas is doing under the hood\n",
    "df[df['WEEKLY_TRANS_AMNT'] > 18].spark.explain()"
   ]
  },
  {
   "cell_type": "markdown",
   "metadata": {},
   "source": [
    "## Great! Let's do some investigation\n",
    "<blockquote><p class='quotation'><span style='font-size:15px'>Now that we see the power of Koalas, let's use it! We'll look at some feature correlations and distributions without having to sample our data.<footer>Splice Machine</footer>\n",
    "</blockquote>"
   ]
  },
  {
   "cell_type": "markdown",
   "metadata": {},
   "source": [
    "## Investigating if there is any correlation among our features\n",
    "\n",
    "### If there is, we need to remove the correlated ones.\n",
    "\n",
    "#### Let's try this with Pandas... We'll need to take a sample of data in memory"
   ]
  },
  {
   "cell_type": "code",
   "execution_count": null,
   "metadata": {},
   "outputs": [],
   "source": [
    "import pandas as pd\n",
    "import matplotlib.pyplot as plt\n",
    "import numpy as np\n",
    "import seaborn as sns\n",
    "from pyspark.sql.types import FloatType, IntegerType\n",
    "\n",
    "%matplotlib inline\n",
    "\n",
    "sdf = df.to_spark()\n",
    "pdf = sdf.where(sdf['CLASS_RESULT']==1).toPandas().append(sdf.limit(1000).toPandas())\n",
    "corr = pdf.corr()\n",
    "\n",
    "ticks = [i for i in range(len(corr.columns))]\n",
    "# Generate a mask for the upper triangle\n",
    "mask = np.triu(np.ones_like(corr, dtype=np.bool))\n",
    "\n",
    "# Set up the matplotlib figure\n",
    "f, ax = plt.subplots(figsize=(11, 9))\n",
    "\n",
    "# Color Scheme\n",
    "cmap = \"coolwarm\"\n",
    "\n",
    "# Draw the heatmap with the mask and correct aspect ratio\n",
    "sns.heatmap(corr, mask=mask, cmap=cmap, vmax=.3, center=0,\n",
    "            square=True, linewidths=.5, cbar_kws={\"shrink\": .5})\n",
    "\n",
    "plt.xticks(ticks, corr.columns)\n",
    "plt.yticks(ticks, corr.columns)\n",
    "plt.title('Fraud Data correlation heatmap')\n",
    "plt.show()"
   ]
  },
  {
   "cell_type": "markdown",
   "metadata": {},
   "source": [
    "## It seems like there's a lot of correlation among features! \n",
    "\n",
    "<blockquote><p class='quotation'><span style='font-size:15px'>We see a lot of correlation here, which would mean we need to remove some features. But this may be because we are taking a sample of our true dataset. Let's try the same code with Koalas and get a view of the full population data.<footer>Splice Machine</footer>\n",
    "</blockquote>"
   ]
  },
  {
   "cell_type": "markdown",
   "metadata": {},
   "source": [
    "#### With Koalas..."
   ]
  },
  {
   "cell_type": "code",
   "execution_count": null,
   "metadata": {
    "scrolled": false
   },
   "outputs": [],
   "source": [
    "import pandas as pd\n",
    "import matplotlib.pyplot as plt\n",
    "import numpy as np\n",
    "import seaborn as sns\n",
    "%matplotlib inline\n",
    "\n",
    "corr = df.corr() # This is a koalas dataframe \n",
    "corr_pdf = corr.to_pandas() # Doing this so we can easily use the seaborn heatmap functionality\n",
    "\n",
    "ticks = [i for i in range(len(corr_pdf.columns))]\n",
    "mask = np.triu(np.ones_like(corr_pdf, dtype=np.bool))\n",
    "f, ax = plt.subplots(figsize=(11, 9))\n",
    "cmap = \"coolwarm\"\n",
    "\n",
    "# Draw the heatmap with the mask and correct aspect ratio\n",
    "sns.heatmap(corr_pdf, mask=mask, cmap=cmap, vmax=.3, center=0,\n",
    "            square=True, linewidths=.5, cbar_kws={\"shrink\": .5})\n",
    "\n",
    "plt.xticks(ticks, corr_pdf.columns)\n",
    "plt.yticks(ticks, corr_pdf.columns)\n",
    "plt.title('Credit Card Fraud Data Feature Correlation Heatmap')\n",
    "plt.show()"
   ]
  },
  {
   "cell_type": "markdown",
   "metadata": {},
   "source": [
    "## Wow!\n",
    "\n",
    "<blockquote><p class='quotation'><span style='font-size:15px'>That's a serious difference. It turns out there isn't any correlation here. Had we stuck with Pandas we would have introduced bias into our system.<footer>Splice Machine</footer>\n",
    "</blockquote>"
   ]
  },
  {
   "cell_type": "markdown",
   "metadata": {},
   "source": [
    "## Investigating the distribution of our features"
   ]
  },
  {
   "cell_type": "code",
   "execution_count": null,
   "metadata": {},
   "outputs": [],
   "source": [
    "features = list(df.columns)\n",
    "features.remove(\"CLASS_RESULT\")"
   ]
  },
  {
   "cell_type": "code",
   "execution_count": null,
   "metadata": {
    "scrolled": true
   },
   "outputs": [],
   "source": [
    "# Understanding our features in terms of their spread\n",
    "df[features].describe()"
   ]
  },
  {
   "cell_type": "markdown",
   "metadata": {},
   "source": [
    "### Visualizing our features distributions\n",
    "\n",
    "#### Note: This will create a lot of spark jobs! This may slow down the UI. You can minimize the monitor below by clicking the little arrow on the top left of the orange Spark Jobs bar below the cell.\n",
    "<img src=https://splice-demo.s3.amazonaws.com/Spark+Monitor+Minimize.png></img>"
   ]
  },
  {
   "cell_type": "code",
   "execution_count": null,
   "metadata": {},
   "outputs": [],
   "source": [
    "import matplotlib as mpl\n",
    "import matplotlib.pyplot as plt\n",
    "mpl.style.use('seaborn')\n",
    "\n",
    "fig, axes = plt.subplots(nrows=5, ncols=6, figsize=(30,10))\n",
    "for i,f in enumerate(features):\n",
    "    row = i%5\n",
    "    col = i//5\n",
    "    axes[row,col] = df[f].plot.hist(bins=50, alpha=0.5,normed = True, ax = axes[row,col])\n",
    "    axes[row,col].set_xlabel(f)\n",
    "    axes[row,col].set_xticks([])\n",
    "    axes[row,col].set_yticks([round(t,7) for t in axes[row,col].get_yticks()])"
   ]
  },
  {
   "cell_type": "markdown",
   "metadata": {},
   "source": [
    "## Investigating our features correlation to our target"
   ]
  },
  {
   "cell_type": "code",
   "execution_count": null,
   "metadata": {},
   "outputs": [],
   "source": [
    "fig, ax = plt.subplots(figsize=(10,8))\n",
    "\n",
    "most_correlated = corr.abs()['CLASS_RESULT'].sort_values(ascending=False).reset_index()\n",
    "most_correlated = most_correlated.iloc[1:].rename({\"index\":\"feature\",\"CLASS_RESULT\":\"correlation_to_target\"}, axis = 1)\n",
    "ax = most_correlated.plot.bar(x = \"feature\",y = \"correlation_to_target\", ax = ax, legend = None)\n",
    "ax.set_ylabel(\"Correlation to Target\") \n",
    "ax.set_title(\"Feature Correlation to Target Variable\")\n"
   ]
  },
  {
   "cell_type": "markdown",
   "metadata": {},
   "source": [
    "# Fantastic!\n",
    "<blockquote> \n",
    "We've just demonstrated our platform's ability to execute simple feature investigation routines <br>\n",
    "    Next Up: <a href='./7.4 Feature Engineering.ipynb'>Using MLManager to Engineer Features</a>\n",
    "<footer>Splice Machine</footer>\n",
    "</blockquote>"
   ]
  },
  {
   "cell_type": "code",
   "execution_count": null,
   "metadata": {},
   "outputs": [],
   "source": [
    "spark.stop()"
   ]
  }
 ],
 "metadata": {
  "kernelspec": {
   "display_name": "Python 3",
   "language": "python",
   "name": "python3"
  },
  "language_info": {
   "codemirror_mode": {
    "name": "ipython",
    "version": 3
   },
   "file_extension": ".py",
   "mimetype": "text/x-python",
   "name": "python",
   "nbconvert_exporter": "python",
   "pygments_lexer": "ipython3",
   "version": "3.7.7"
  },
  "toc": {
   "base_numbering": 1,
   "nav_menu": {},
   "number_sections": false,
   "sideBar": true,
   "skip_h1_title": false,
   "title_cell": "Table of Contents",
   "title_sidebar": "Contents",
   "toc_cell": false,
   "toc_position": {
    "height": "calc(100% - 180px)",
    "left": "10px",
    "top": "150px",
    "width": "256px"
   },
   "toc_section_display": true,
   "toc_window_display": false
  }
 },
 "nbformat": 4,
 "nbformat_minor": 4
}

{
 "cells": [
  {
   "cell_type": "markdown",
   "metadata": {},
   "source": [
    "# Welcome to Splice Machine's MLManager Chapter!\n",
    "## This will walk you through everything you need to get started with building and deploying Machine Learning models on Splice Machine\n",
    "\n",
    "Here's a Table of Contents:\n",
    "\n",
    "<table class=\"splicezepOddEven\">\n",
    "    <col width=\"20%\" />\n",
    "    <col width=\"30%\" />\n",
    "    <col />\n",
    "    <thead>\n",
    "        <tr>\n",
    "            <th>Notebook</th>\n",
    "            <th>Description</th>\n",
    "        </tr>\n",
    "    </thead>\n",
    "    <tbody>\n",
    "        <tr>\n",
    "            <td><a href=\"./7.1 Splice and Spark.ipynb\">7.1 Splice and Spark</a></td>\n",
    "            <td>How to use Splice Machine with Spark and the Native Spark DataSource. A data scientist's and engineer's direct connection to the database</td>\n",
    "        </tr>\n",
    "        <tr>\n",
    "            <td><a href=\"./7.2 Splice MLflow Support.ipynb\">7.2 Splice MLflow Support.ipynb</a></td>\n",
    "            <td>How to use Splice's embedded MLflow Support</td>\n",
    "        </tr>\n",
    "        <tr>\n",
    "            <td><a href=\"./7.3 Data Exploration.ipynb\">7.3 Data Exploration</a></td>\n",
    "            <td>How to use tools to explore and analyze your data</td>\n",
    "        </tr>\n",
    "        <tr>\n",
    "            <td><a href=\"./7.4 Feature Engineering.ipynb\">7.4 Feature Engineering</a></td>\n",
    "            <td>How to create and track and test the signal of new features</td>\n",
    "        </tr>\n",
    "        <tr>\n",
    "            <td><a href=\"./7.5 Model Creation.ipynb\">7.5 Model Creation</a></td>\n",
    "            <td>How to build and track models</td>\n",
    "        </tr>\n",
    "        <tr>\n",
    "            <td><a href=\"./7.6 Model Deployment.ipynb\">7.6 Model Deployment.ipynb</a></td>\n",
    "            <td>How to deploy your trained ML Models directly to the Database</td>\n",
    "        </tr>\n",
    "    </tbody>\n",
    "</table>\n",
    " "
   ]
  }
 ],
 "metadata": {
  "kernelspec": {
   "display_name": "Python 3",
   "language": "python",
   "name": "python3"
  },
  "language_info": {
   "codemirror_mode": {
    "name": "ipython",
    "version": 3
   },
   "file_extension": ".py",
   "mimetype": "text/x-python",
   "name": "python",
   "nbconvert_exporter": "python",
   "pygments_lexer": "ipython3",
   "version": "3.7.6"
  },
  "toc": {
   "base_numbering": 1,
   "nav_menu": {},
   "number_sections": false,
   "sideBar": false,
   "skip_h1_title": false,
   "title_cell": "Table of Contents",
   "title_sidebar": "Contents",
   "toc_cell": false,
   "toc_position": {},
   "toc_section_display": false,
   "toc_window_display": false
  }
 },
 "nbformat": 4,
 "nbformat_minor": 4
}

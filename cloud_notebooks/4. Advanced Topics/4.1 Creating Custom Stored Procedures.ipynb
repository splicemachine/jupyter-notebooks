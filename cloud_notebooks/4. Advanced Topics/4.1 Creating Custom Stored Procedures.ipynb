{
 "cells": [
  {
   "cell_type": "code",
   "execution_count": 1,
   "metadata": {},
   "outputs": [
    {
     "data": {
      "text/html": [
       "<link rel=\"stylesheet\" href=\"https://doc.splicemachine.com/jupyter/css/custom.css\">\n"
      ],
      "text/plain": [
       "<IPython.core.display.HTML object>"
      ]
     },
     "metadata": {},
     "output_type": "display_data"
    }
   ],
   "source": [
    "%%HTML\n",
    "<link rel=\"stylesheet\" href=\"https://doc.splicemachine.com/jupyter/css/custom.css\">"
   ]
  },
  {
   "cell_type": "markdown",
   "metadata": {},
   "source": [
    "# Introduction\n",
    "\n",
    "This notebook shows you how to create create custom stored functions and procedures that you can deploy to your Splice Machine database for use from your SQL.\n",
    "\n",
    "<p class=\"noteIcon\">Currently, stored procedures and functions must be implemented in Java.</p>"
   ]
  },
  {
   "cell_type": "markdown",
   "metadata": {},
   "source": [
    "## Your Stored Procedure Development Environment\n",
    "\n",
    "The *environment* in which your stored procedure code is developed may change depending upon your need.  For example, we recommend that you flesh out the actual functionality of your custom code in a local, standalone Splice Machine environment.\n",
    "\n",
    "You can download our ready-to-use standalone version, or you can build it yourself from our open source code, as described in our [*Getting Started with Splice Machine*](https://www.splicemachine.com/get-started/) web page.\n",
    "\n",
    "This notebook walks you through the steps to add your own stored procedure or function.\n",
    "\n",
    "<p class=\"noteNote\">You cannot develop your custom code in a Jupyter notebook; this notebook simply shows you how to so in your own environment.</p>"
   ]
  },
  {
   "cell_type": "markdown",
   "metadata": {},
   "source": [
    "## Local Development of the Custom Code in an IDE\n",
    "\n",
    "The steps described here will be for a Mac, but the process is generally the same for Linux. Using an Integrated Development Environment (IDE) is usually the best approach when developing code, since development is straightforward, as is the generation of the desired output; in this case, a JDK 1.8-compatible JAR file. We'll be using IntelliJ IDEA here, though most IDEs should work as well.\n",
    "\n",
    "Follow these steps to develop your code:\n",
    "\n",
    "1. Set up Your Project\n",
    "2. Configure Your Project to Output a JAR File\n",
    "3. Write Your Code\n",
    "4. Build Your JAR File\n",
    "\n",
    "\n",
    "### 1. Set Up Your Project\n",
    "\n",
    "Follow these steps to set up your project in IntelliJ IDEA:\n",
    "\n",
    "1. Select *File -> New -> Project...*.\n",
    "2. Choose *Java with 1.8 as the Project SDK*, then click *Next*.\n",
    "3. You can optionally decide to create from a template. Click *Next*.\n",
    "4. Give your project a name and location; e.g. `CompanyACustom1`.\n",
    "5. If desired, select *File -> New -> Package* to create a new package; e.g. `com.splicemachine.companya`.\n",
    "\n",
    "### 2. Configure Your Project to Output a JAR file\n",
    "\n",
    "Follow these steps in IntelliJ IDEA to have your project output a JAR file:\n",
    "\n",
    "1. Select *File -> Project Structure...*.\n",
    "2. Select *Artifacts*, then click *+*.\n",
    "3. Choose *JAR -> From modules with dependencies*.\n",
    "3. Select *Build on make*, then click *OK*.\n",
    "\n",
    "### 3. Write Your Code\n",
    "\n",
    "Now you can write your code:\n",
    "\n",
    "1. Create a file by right-clicking on your *src* or *package* folder, then select *New -> Java Class*.\n",
    "2. Add your code. Here's a simple example:\n",
    "\n",
    "```\n",
    "package com.splicemachine.companya;\n",
    "\n",
    "import java.sql.SQLException;\n",
    "import java.sql.Connection;\n",
    "import java.sql.DriverManager;\n",
    "import java.sql.PreparedStatement;\n",
    "\n",
    "\n",
    "public class Custom1 {\n",
    "\n",
    "\n",
    "    public static void customIncrement () throws SQLException {\n",
    "        try (Connection con = DriverManager.getConnection(\"jdbc:default:connection\")) {\n",
    "\n",
    "            String incrementSQL = \"update SPLICE.INCREMENTTEST set i = i + 1\";\n",
    "\n",
    "            try (PreparedStatement ps = con.prepareStatement(incrementSQL)) {\n",
    "                int resultSet = ps.executeUpdate();\n",
    "            } catch (SQLException e) {\n",
    "                con.rollback();\n",
    "                e.printStackTrace();\n",
    "                throw e;\n",
    "            }\n",
    "        }\n",
    "    }\n",
    "}\n",
    "```\n",
    "\n",
    "### 4. Build Your JAR File\n",
    "\n",
    "Finally, build your JAR file and start testing by following these steps:\n",
    "\n",
    "1. Select *Build -> Artifacts... JAR*.\n",
    "2. Use your command line interface to navigate to your JAR file; e.g. `out/artifacts/CompanyACustom1_jar/Custom1.jar`.\n",
    "3. Deploy your JAR file for testing.\n"
   ]
  },
  {
   "cell_type": "markdown",
   "metadata": {},
   "source": [
    "## Development Guidelines\n",
    "\n",
    "Here are some simple best practices to consider when developing and deploying your code:\n",
    "\n",
    "* It is convenient for code organization to use a package for the code; e.g. `com.splicemachine.yourcompanyname`.\n",
    "* Notice you don't need a `main` code block in your class. That's because you will be directly calling the class's specific method.\n",
    "* The example above is a stored procedure, which means that it does not return results. If you're writing a function, it needs to return a result.\n",
    "* Your procedure or function must throw `SQLException` if it is executing SQL; be sure to use `try`/`catch` blocks similar to the above example to deal with possible run-time exceptions.\n"
   ]
  },
  {
   "cell_type": "markdown",
   "metadata": {},
   "source": [
    "## Deploy Your Code in Your Development Environment\n",
    "\n",
    "To deploy your code into your development environment:\n",
    "\n",
    "1. Make sure your code is up and running.\n",
    "2. Carefully edit and execute the commands below to align to your custom procedure and environment:\n",
    "   \n",
    "```\n",
    "CALL SQLJ.INSTALL_JAR('<your-full-path-to>/Custom1.jar', 'SPLICE.Custom1', 0);\n",
    "CALL SYSCS_UTIL.SYSCS_SET_GLOBAL_DATABASE_PROPERTY('derby.database.classpath', 'SPLICE.custom1');\n",
    "CREATE PROCEDURE SPLICE.customincrement() PARAMETER STYLE JAVA MODIFIES SQL DATA LANGUAGE JAVA DYNAMIC RESULT SETS 0 EXTERNAL NAME 'com.splicemachine.companya.Custom1.customIncrement';\n",
    "```\n",
    "\n",
    "   <p class=\"noteNote\">Perform this operation in your local environment, not in a Jupyter notebook.</p>"
   ]
  },
  {
   "cell_type": "markdown",
   "metadata": {},
   "source": [
    "## Test Your Code In Your Local Environment\n",
    "\n",
    "To see your code in action, follow these steps:\n",
    "\n",
    "1. Set up the table that your code operates on, in your local environment:\n",
    "\n",
    "```\n",
    "create table incrementtest (i int);\n",
    "insert into incrementtest values 1;\n",
    "```\n",
    "\n",
    "2. Invoke your code:\n",
    "\n",
    "```\n",
    "call customincrement();\n",
    "select * from incrementtest;\n",
    "```\n"
   ]
  },
  {
   "cell_type": "markdown",
   "metadata": {},
   "source": [
    "## Deploy Your JAR file to Your Cluster\n",
    "Once you have confirmed that the code works to your satisfaction, you can deploy your JAR file to your Splice Machine cluster on the cloud. Follow the steps in this section:\n",
    "\n",
    "1. Copy the JAR file to *S3* so that your Service cluster can access it.\n",
    "2. Deploy the JAR file as you did locally. You can perform this and the next step in a Jupyter notebook, using the `%%SQL` magic.\n",
    "3. Test and run the custom procedure."
   ]
  },
  {
   "cell_type": "markdown",
   "metadata": {},
   "source": [
    "### Copy the JAR file to S3\n",
    "\n",
    "First make sure the `aws` command tool installed in the local environment where you have your JAR file; if not, [follow the instructions here](http://docs.aws.amazon.com/cli/latest/userguide/installing.html).\n",
    "\n",
    "Once `aws` is installed, you can run the following commands in your local environment:\n",
    "\n",
    "```\n",
    "aws s3 cp <your-file-name> s3://<your-bucket-name>/<your-JAR-file-name>\n",
    "aws s3api put-object-acl --bucket <your-bucket-name> --grant-read emailAddress=\"dbaas@splicemachine.com\"  --key=<your-JAR-file-name> --region us-east-1\n",
    "```"
   ]
  },
  {
   "cell_type": "markdown",
   "metadata": {},
   "source": [
    "### Deploy the JAR File On Your  Cluster\n",
    "\n",
    "Run the following SQL code to deploy your JAR file on your cluster:\n",
    "\n",
    "<p class=\"noteNote\">You can run this code in a Jupyter notebook or from the <code>splice></code> command line."
   ]
  },
  {
   "cell_type": "code",
   "execution_count": 9,
   "metadata": {},
   "outputs": [],
   "source": [
    "%%sql \n",
    "-- installing the jar and defining the procedure\n",
    "-- edit these steps for your environment\n",
    "CALL SQLJ.INSTALL_JAR('S3://<your-bucket-name>/<your-jar-file-name>', 'SPLICE.Custom1', 0);\n",
    "CALL SYSCS_UTIL.SYSCS_SET_GLOBAL_DATABASE_PROPERTY('derby.database.classpath', 'SPLICE.custom1');\n",
    "CREATE PROCEDURE SPLICE.customincrement() PARAMETER STYLE JAVA MODIFIES SQL DATA LANGUAGE JAVA DYNAMIC RESULT SETS 0 EXTERNAL NAME 'com.splicemachine.companya.Custom1.customIncrement';"
   ]
  },
  {
   "cell_type": "markdown",
   "metadata": {},
   "source": [
    "### Run Your Code On Your Cluster\n",
    "\n",
    "You can now run your code using SQL from a Jupyter notebook or from the <code>splice&gt;</code> command line. For example:"
   ]
  },
  {
   "cell_type": "code",
   "execution_count": 11,
   "metadata": {},
   "outputs": [],
   "source": [
    "%%sql \n",
    "create table incrementtest (i int);\n",
    "insert into incremenenttest values 1;\n",
    "call customincrement();\n",
    "select * from incrementtest;"
   ]
  }
 ],
 "metadata": {
  "kernelspec": {
   "display_name": "Python 3",
   "language": "python",
   "name": "python3"
  },
  "language_info": {
   "codemirror_mode": {
    "name": "ipython",
    "version": 3
   },
   "file_extension": ".py",
   "mimetype": "text/x-python",
   "name": "python",
   "nbconvert_exporter": "python",
   "pygments_lexer": "ipython3",
   "version": "3.7.3"
  },
  "toc": {
   "base_numbering": 1,
   "nav_menu": {},
   "number_sections": false,
   "sideBar": false,
   "skip_h1_title": false,
   "title_cell": "Table of Contents",
   "title_sidebar": "Contents",
   "toc_cell": false,
   "toc_position": {},
   "toc_section_display": false,
   "toc_window_display": false
  }
 },
 "nbformat": 4,
 "nbformat_minor": 2
}

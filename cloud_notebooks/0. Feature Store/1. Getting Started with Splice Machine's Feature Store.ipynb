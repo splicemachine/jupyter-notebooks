{
 "cells": [
  {
   "cell_type": "markdown",
   "metadata": {},
   "source": [
    "<style>\n",
    "#s {\n",
    "}\n",
    "h1, h2, h3, h4, h5, h6, table, button, a, p, blockquote {\n",
    "font-family:Geneva;\n",
    "}\n",
    "\n",
    ".log {\n",
    "transition: all .2s ease-in-out;\n",
    "}\n",
    "\n",
    ".log:hover {a\n",
    "transform: scale(1.05);\n",
    "}\n",
    "</style>\n",
    "<div id='s' style='width:100%'>\n",
    "<center><img class='log' src='https://splicemachine.com/wp-content/uploads/splice-logo-1.png' width='20%' style='z-index:5'></center>\n",
    "<center><h1 class='log' style='font-size:50px; color:black;'>Getting Started with Splice Machine's Feature Store</h1></center>\n",
    "</div>"
   ]
  },
  {
   "cell_type": "markdown",
   "metadata": {},
   "source": [
    "----"
   ]
  },
  {
   "cell_type": "markdown",
   "metadata": {},
   "source": [
    "# What is Splice Machine?\n",
    "## Splice Machine is an analytics platform built for real-time machine learing. It is differentiated from other analytics platforms in two ways:\n",
    "\n",
    "* #### Splice Machine's platform is powered by a single, hybrid, SQL database \n",
    "    * Most databases are optimized to do either analytic or transacational operations. Data warehouses (Snowflake, Redshift, Teradata) are optimized to do big batch analytic operations while traditional datbases (Oracle, Postgres, MySQL) are optimized to do quick primary key lookups and short range scans. Splice Machine's underlying databse is a hybrid, it does both!\n",
    "    * To learn more about how Splice Machine's datbase works under the covers, checkout this notebook. (Link to life of the query?)\n",
    "    \n",
    "* #### Splice Machine's platform has a time-series Feature Store\n",
    "    * Splice Machine's platform has a time-series Feature Store built upon its underlying hybrid database. This notebook will show you how it works!\n",
    "    \n",
    "\n"
   ]
  },
  {
   "cell_type": "markdown",
   "metadata": {},
   "source": [
    "-----"
   ]
  },
  {
   "cell_type": "markdown",
   "metadata": {},
   "source": [
    "# What is a Feature Store?\n",
    "## A Feature Store is a central repository for raw and transformed features used for machine learning. In other words, you store the features, inputs of machine learning models, in one place and reuse them in multiple models. \n",
    "## Feature Stores as we define them here at Splice Machine are responsible for doing four things:\n",
    "* #### Allow features to be reused in multiple models \n",
    "* #### Automatically build point-in-time correct training sets\n",
    "* #### Serve features to deployed models in milliseconds \n",
    "* #### Guantantee end-to-end data lineage and governance"
   ]
  },
  {
   "cell_type": "markdown",
   "metadata": {},
   "source": [
    "-----"
   ]
  },
  {
   "cell_type": "markdown",
   "metadata": {},
   "source": [
    "# In this notebook, we will explain the concepts and components of the feature store, how you can build one yourself, and why Splice Machine's single engine approach solves many of the challenges associated with Feature Stores\n",
    "\n",
    "## In this example we will create a product recommendation engine. This model will take as inputs three different data sources:\n",
    "* #### Customer Demographic Data\n",
    "* #### summary of a customers past purchase history\n",
    "* #### Summary of the items currently inside of a users cart"
   ]
  },
  {
   "cell_type": "markdown",
   "metadata": {},
   "source": [
    "## The Feature Set\n",
    "The first thing you will do when creating a feature store is to create a feature set. A feature set is a group of features that come from the same source, and are updated at the same frequency. A feature store in an enterprise might have hundreds of feature sets. In this notebook, we will build just three."
   ]
  },
  {
   "cell_type": "markdown",
   "metadata": {},
   "source": [
    "### Create an empty feature set\n",
    "We'll start by creating a feature set of customer demographics. The first step is to create empty tables, which will be populated with data later. "
   ]
  },
  {
   "cell_type": "code",
   "execution_count": null,
   "metadata": {},
   "outputs": [],
   "source": [
    "# Create a Feature Set\n",
    "fs.create_feature_set(schema_name='ecommerce_fs',table_name='customer_demographics', primary_keys = {\"CUSTOMER_ID\":\"INTEGER\"}, desc='Customer level demographic information')\n",
    "\n",
    "# Age Features\n",
    "fs.create_feature(schema_name='ecommerce_fs',table_name='customer_demographics', name='age_under_30', desc='Customer under 30', feature_data_type='INTEGER', feature_type=FeatureType.continuous,  tags=['Customer','Demographics','age'])\n",
    "fs.create_feature(schema_name='ecommerce_fs',table_name='customer_demographics', name='age_30_45', desc='Customer between 30 and 45 years old', feature_data_type='INTEGER', feature_type=FeatureType.continuous,  tags=['Customer','Demographics','age'])\n",
    "fs.create_feature(schema_name='ecommerce_fs',table_name='customer_demographics', name='age_45_65', desc='Customer between 45 and 65 years old', feature_data_type='INTEGER', feature_type=FeatureType.continuous,  tags=['Customer','Demographics','age'])\n",
    "fs.create_feature(schema_name='ecommerce_fs',table_name='customer_demographics', name='age_over_65', desc='Customer over 65', feature_data_type='INTEGER', feature_type=FeatureType.continuous,  tags=['Customer','Demographics','age'])\n",
    "\n",
    "# Marital Status Features \n",
    "fs.create_feature(schema_name='ecommerce_fs',table_name='customer_demographics', name='married', desc='Customer is married', feature_data_type='INTEGER', feature_type=FeatureType.continuous,  tags=['Customer','Demographics','marital status'])\n",
    "fs.create_feature(schema_name='ecommerce_fs',table_name='customer_demographics', name='divorced', desc='Customer is divorced', feature_data_type='INTEGER', feature_type=FeatureType.continuous,  tags=['Customer','Demographics','marital status'])\n",
    "fs.create_feature(schema_name='ecommerce_fs',table_name='customer_demographics', name='single', desc='Customer is single', feature_data_type='INTEGER', feature_type=FeatureType.continuous,  tags=['Customer','Demographics','marital status'])\n",
    "\n",
    "# Education Features \n",
    "fs.create_feature(schema_name='ecommerce_fs',table_name='customer_demographics', name='primary_education', desc='Customer has primary education', feature_data_type='INTEGER', feature_type=FeatureType.continuous,  tags=['Customer','Demographics','education'])\n",
    "fs.create_feature(schema_name='ecommerce_fs',table_name='customer_demographics', name='secondary_education', desc='Customer has secondary education', feature_data_type='INTEGER', feature_type=FeatureType.continuous,  tags=['Customer','Demographics','education'])\n",
    "fs.create_feature(schema_name='ecommerce_fs',table_name='customer_demographics', name='tertiary_education', desc='Customer has tertiary education', feature_data_type='INTEGER', feature_type=FeatureType.continuous,  tags=['Customer','Demographics','education'])\n",
    "fs.create_feature(schema_name='ecommerce_fs',table_name='customer_demographics', name='unknown_education', desc='Customer has unknown education', feature_data_type='INTEGER', feature_type=FeatureType.continuous,  tags=['Customer','Demographics','education'])\n",
    "\n",
    "# Homeowner Feature\n",
    "fs.create_feature(schema_name='ecommerce_fs',table_name='customer_demographics', name='homeowner', desc='customer is a homeowner', feature_data_type='INTEGER', feature_type=FeatureType.continuous,  tags=['Customer','Demographics','homeowner'])\n",
    "\n",
    "#country Features\n",
    "fs.create_feature(schema_name='ecommerce_fs',table_name='customer_demographics', name='mexico', desc='customer is in Mexico', feature_data_type='INTEGER', feature_type=FeatureType.continuous,  tags=['Customer','Demographics','Country'])\n",
    "fs.create_feature(schema_name='ecommerce_fs',table_name='customer_demographics', name='united_states', desc='customer is in the US', feature_data_type='INTEGER', feature_type=FeatureType.continuous,  tags=['Customer','Demographics','Country'])\n",
    "fs.create_feature(schema_name='ecommerce_fs',table_name='customer_demographics', name='canada', desc='customer is in Canada', feature_data_type='INTEGER', feature_type=FeatureType.continuous,  tags=['Customer','Demographics','Country'])\n",
    "\n",
    "#deploy the feature set \n",
    "fs.deploy_feature_set('ecommerce_fs','customer_demographics')"
   ]
  },
  {
   "cell_type": "markdown",
   "metadata": {},
   "source": [
    "Under the covers, each feature set is represented as two tables inside of Splice Machine's SQL database. The first table, in this case called `ecommerce_fs.customer_demographics` contains the most up to date versions of features. The second table, which always has the same name as the first able with the suffix `_history` added, so in this case `ecommerce_fs.customer_demographics_history`, contains a time series representation of past featue values. These two tables are linked with database triggers, automatically created by the Feature Store API, that ensure as new data is added to the current table, old values are stored in the history table. \n",
    "\n",
    "The cell above created the two empty tables. Next, we will populate them with data."
   ]
  },
  {
   "cell_type": "code",
   "execution_count": 9,
   "metadata": {},
   "outputs": [
    {
     "ename": "java.sql.SQLDataException",
     "evalue": " Row count for FIRST/NEXT/TOP must be >= 1 and row count for LIMIT must be >= 0.",
     "output_type": "error",
     "traceback": [
      "\u001b[1;31mjava.sql.SQLDataException: Row count for FIRST/NEXT/TOP must be >= 1 and row count for LIMIT must be >= 0.\u001b[0;0m"
     ]
    }
   ],
   "source": [
    "%%sql\n",
    "select top 0 * from ecommerce_fs.customer_demographics "
   ]
  },
  {
   "cell_type": "markdown",
   "metadata": {},
   "source": [
    "### Add data to the Feature Sets\n",
    "The database currently has some raw data in it, but that data ins't in the form of a Feature Set. The SQL "
   ]
  },
  {
   "cell_type": "code",
   "execution_count": null,
   "metadata": {},
   "outputs": [],
   "source": []
  }
 ],
 "metadata": {
  "kernelspec": {
   "display_name": "Python 3",
   "language": "python",
   "name": "python3"
  },
  "language_info": {
   "codemirror_mode": {
    "name": "ipython",
    "version": 3
   },
   "file_extension": ".py",
   "mimetype": "text/x-python",
   "name": "python",
   "nbconvert_exporter": "python",
   "pygments_lexer": "ipython3",
   "version": "3.7.7"
  },
  "toc": {
   "base_numbering": 1,
   "nav_menu": {},
   "number_sections": false,
   "sideBar": false,
   "skip_h1_title": false,
   "title_cell": "Table of Contents",
   "title_sidebar": "Contents",
   "toc_cell": false,
   "toc_position": {},
   "toc_section_display": false,
   "toc_window_display": false
  }
 },
 "nbformat": 4,
 "nbformat_minor": 4
}

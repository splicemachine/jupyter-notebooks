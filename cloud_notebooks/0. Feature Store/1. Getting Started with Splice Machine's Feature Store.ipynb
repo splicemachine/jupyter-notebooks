{
 "cells": [
  {
   "cell_type": "markdown",
   "metadata": {},
   "source": [
    "<style>\n",
    "#s {\n",
    "}\n",
    "h1, h2, h3, h4, h5, h6, table, button, a, p, blockquote {\n",
    "font-family:Geneva;\n",
    "}\n",
    "\n",
    ".log {\n",
    "transition: all .2s ease-in-out;\n",
    "}\n",
    "\n",
    ".log:hover {a\n",
    "transform: scale(1.05);\n",
    "}\n",
    "</style>\n",
    "<div id='s' style='width:100%'>\n",
    "<center><img class='log' src='https://splicemachine.com/wp-content/uploads/splice-logo-1.png' width='20%' style='z-index:5'></center>\n",
    "<center><h1 class='log' style='font-size:50px; color:black;'>Getting Started with Splice Machine's Feature Store</h1></center>\n",
    "</div>"
   ]
  },
  {
   "cell_type": "markdown",
   "metadata": {},
   "source": [
    "----"
   ]
  },
  {
   "cell_type": "markdown",
   "metadata": {},
   "source": [
    "# What is Splice Machine?\n",
    "## Splice Machine is an analytics platform built for real-time machine learing. It is differentiated from other analytics platforms in two ways:\n",
    "\n",
    "* #### Splice Machine's platform is powered by a single, hybrid, SQL database \n",
    "    * Most databases are optimized to do either analytic or transacational operations. Data warehouses (Snowflake, Redshift, Teradata) are optimized to do big batch analytic operations while traditional datbases (Oracle, Postgres, MySQL) are optimized to do quick primary key lookups and short range scans. Splice Machine's underlying databse is a hybrid, it does both!\n",
    "    * To learn more about how Splice Machine's datbase works under the covers, checkout this notebook. (Link to life of the query?)\n",
    "    \n",
    "* #### Splice Machine's platform has a time-series Feature Store\n",
    "    * Splice Machine's platform has a time-series Feature Store built upon its underlying hybrid database. This notebook will show you how it works!\n",
    "    \n",
    "\n"
   ]
  },
  {
   "cell_type": "markdown",
   "metadata": {},
   "source": [
    "-----"
   ]
  },
  {
   "cell_type": "markdown",
   "metadata": {},
   "source": [
    "# What is a Feature Store?\n",
    "## A Feature Store is a central repository for raw and transformed features used for machine learning. In other words, you store the features, inputs of machine learning models, in one place and reuse them in multiple models. \n",
    "## Feature Stores are responsible for doing four things:\n",
    "* #### Allow features to be reused in multiple models \n",
    "* #### Automatically build point-in-time correct training sets\n",
    "* #### Serve features to deployed models in milliseconds \n",
    "* #### Guantantee end-to-end data lineage and governance"
   ]
  },
  {
   "cell_type": "markdown",
   "metadata": {},
   "source": [
    "-----"
   ]
  },
  {
   "cell_type": "markdown",
   "metadata": {},
   "source": [
    "# In this notebook, we will explain the concepts and components of the Feature Store, how you can build one yourself, and why Splice Machine's single engine approach solves many of the challenges associated with Feature Stores\n",
    "\n",
    "-----"
   ]
  },
  {
   "cell_type": "markdown",
   "metadata": {},
   "source": [
    "# The Feature Set\n",
    "The first thing you will do when creating a feature store is to create a feature set. A feature set is a group of features that come from the same source, and are updated at the same frequency. A feature store in an enterprise might have hundreds of individual feature sets. In this notebook, we will build just three:\n",
    "* Customer Demographic Data\n",
    "* Summary of a customers past purchase history\n",
    "* Summary of the items currently inside of a users cart"
   ]
  },
  {
   "cell_type": "markdown",
   "metadata": {},
   "source": [
    "## Create an empty feature set\n",
    "We'll start by creating a feature set of customer demographics. The first step is to create empty tables, which will be populated with data later. "
   ]
  },
  {
   "cell_type": "code",
   "execution_count": null,
   "metadata": {},
   "outputs": [],
   "source": [
    "# Create a Feature Set\n",
    "fs.create_feature_set(schema_name='ecommerce_fs',table_name='customer_demographics', primary_keys = {\"CUSTOMER_ID\":\"INTEGER\"}, desc='Customer level demographic information')\n",
    "\n",
    "# Age Features\n",
    "fs.create_feature(schema_name='ecommerce_fs',table_name='customer_demographics', name='age_under_30', desc='Customer under 30', feature_data_type='INTEGER', feature_type=FeatureType.continuous,  tags=['Customer','Demographics','age'])\n",
    "fs.create_feature(schema_name='ecommerce_fs',table_name='customer_demographics', name='age_30_45', desc='Customer between 30 and 45 years old', feature_data_type='INTEGER', feature_type=FeatureType.continuous,  tags=['Customer','Demographics','age'])\n",
    "fs.create_feature(schema_name='ecommerce_fs',table_name='customer_demographics', name='age_45_65', desc='Customer between 45 and 65 years old', feature_data_type='INTEGER', feature_type=FeatureType.continuous,  tags=['Customer','Demographics','age'])\n",
    "fs.create_feature(schema_name='ecommerce_fs',table_name='customer_demographics', name='age_over_65', desc='Customer over 65', feature_data_type='INTEGER', feature_type=FeatureType.continuous,  tags=['Customer','Demographics','age'])\n",
    "\n",
    "# Marital Status Features \n",
    "fs.create_feature(schema_name='ecommerce_fs',table_name='customer_demographics', name='married', desc='Customer is married', feature_data_type='INTEGER', feature_type=FeatureType.continuous,  tags=['Customer','Demographics','marital status'])\n",
    "fs.create_feature(schema_name='ecommerce_fs',table_name='customer_demographics', name='divorced', desc='Customer is divorced', feature_data_type='INTEGER', feature_type=FeatureType.continuous,  tags=['Customer','Demographics','marital status'])\n",
    "fs.create_feature(schema_name='ecommerce_fs',table_name='customer_demographics', name='single', desc='Customer is single', feature_data_type='INTEGER', feature_type=FeatureType.continuous,  tags=['Customer','Demographics','marital status'])\n",
    "\n",
    "# Education Features \n",
    "fs.create_feature(schema_name='ecommerce_fs',table_name='customer_demographics', name='primary_education', desc='Customer has primary education', feature_data_type='INTEGER', feature_type=FeatureType.continuous,  tags=['Customer','Demographics','education'])\n",
    "fs.create_feature(schema_name='ecommerce_fs',table_name='customer_demographics', name='secondary_education', desc='Customer has secondary education', feature_data_type='INTEGER', feature_type=FeatureType.continuous,  tags=['Customer','Demographics','education'])\n",
    "fs.create_feature(schema_name='ecommerce_fs',table_name='customer_demographics', name='tertiary_education', desc='Customer has tertiary education', feature_data_type='INTEGER', feature_type=FeatureType.continuous,  tags=['Customer','Demographics','education'])\n",
    "fs.create_feature(schema_name='ecommerce_fs',table_name='customer_demographics', name='unknown_education', desc='Customer has unknown education', feature_data_type='INTEGER', feature_type=FeatureType.continuous,  tags=['Customer','Demographics','education'])\n",
    "\n",
    "# Homeowner Feature\n",
    "fs.create_feature(schema_name='ecommerce_fs',table_name='customer_demographics', name='homeowner', desc='customer is a homeowner', feature_data_type='INTEGER', feature_type=FeatureType.continuous,  tags=['Customer','Demographics','homeowner'])\n",
    "\n",
    "#country Features\n",
    "fs.create_feature(schema_name='ecommerce_fs',table_name='customer_demographics', name='mexico', desc='customer is in Mexico', feature_data_type='INTEGER', feature_type=FeatureType.continuous,  tags=['Customer','Demographics','Country'])\n",
    "fs.create_feature(schema_name='ecommerce_fs',table_name='customer_demographics', name='united_states', desc='customer is in the US', feature_data_type='INTEGER', feature_type=FeatureType.continuous,  tags=['Customer','Demographics','Country'])\n",
    "fs.create_feature(schema_name='ecommerce_fs',table_name='customer_demographics', name='canada', desc='customer is in Canada', feature_data_type='INTEGER', feature_type=FeatureType.continuous,  tags=['Customer','Demographics','Country'])\n",
    "\n",
    "#deploy the feature set \n",
    "fs.deploy_feature_set('ecommerce_fs','customer_demographics')"
   ]
  },
  {
   "cell_type": "markdown",
   "metadata": {},
   "source": [
    "## What actually is a Feature set?"
   ]
  },
  {
   "cell_type": "markdown",
   "metadata": {},
   "source": [
    "Under the covers, each feature set is represented as two tables inside of Splice Machine's SQL database. The first table, in this case called `ecommerce_fs.customer_demographics` contains the most up to date versions of features. The second table, which always has the same name as the first able with the suffix `_history` added, so in this case `ecommerce_fs.customer_demographics_history`, contains a time series representation of past featue values. These two tables are linked with database triggers, automatically created by the Feature Store API, that ensure as new data is added to the current table, old values are stored in the history table. \n",
    "\n",
    "#### Structure of a Feature Set\n",
    "<img src=\"https://splice-demo.s3.amazonaws.com/pictures/FS_tables.png\" width=\"950\"  align=\"center\" >"
   ]
  },
  {
   "cell_type": "code",
   "execution_count": null,
   "metadata": {},
   "outputs": [],
   "source": [
    "The cell above created the two empty tables. Next, we will populate them with data."
   ]
  },
  {
   "cell_type": "code",
   "execution_count": 9,
   "metadata": {},
   "outputs": [
    {
     "ename": "java.sql.SQLDataException",
     "evalue": " Row count for FIRST/NEXT/TOP must be >= 1 and row count for LIMIT must be >= 0.",
     "output_type": "error",
     "traceback": [
      "\u001b[1;31mjava.sql.SQLDataException: Row count for FIRST/NEXT/TOP must be >= 1 and row count for LIMIT must be >= 0.\u001b[0;0m"
     ]
    }
   ],
   "source": [
    "%%sql\n",
    "select * from ecommerce_fs.customer_demographics; \n",
    "select * from ecommerce_fs.customer_demographics_history;"
   ]
  },
  {
   "cell_type": "markdown",
   "metadata": {},
   "source": [
    "## Add data to the empty Feature Set\n",
    "The database currently has some raw data in it in the form of regular database tables. In the cell belo, you will create a Spark Dataframe from a regular database table, perform some feature engineering using Pyspark, and then insert the transformed data into a the Feature Set tables you created above. Feature Sets can also be created using our Feature Store API, and SQL, which you will do later on in this notebook."
   ]
  },
  {
   "cell_type": "code",
   "execution_count": null,
   "metadata": {},
   "outputs": [],
   "source": [
    "from pyspark.sql.functions import when, current_date, datediff\n",
    "\n",
    "df = splice.df('select * from ecommerce_raw.customer_demographics_ext')\n",
    "\n",
    "# age flags\n",
    "df = df.withColumn(\"age_under_30\",when(datediff(current_date() ,  df['date_of_birth']) /365.25 < 30, 1).otherwise(0))\n",
    "df = df.withColumn(\"age_30_45\",when( (datediff(current_date() ,  df['date_of_birth']) /365.25 >= 30) & (datediff(current_date() ,  df['date_of_birth']) /365.25 < 45), 1).otherwise(0))\n",
    "df = df.withColumn(\"age_45_65\",when( (datediff(current_date() ,  df['date_of_birth']) /365.25 >= 45) & (datediff(current_date() ,  df['date_of_birth']) /365.25 < 56), 1).otherwise(0))\n",
    "df = df.withColumn(\"age_over_65\",when(datediff(current_date() ,  df['date_of_birth']) /365.25 >= 65, 1).otherwise(0))\n",
    "\n",
    "#marital status\n",
    "df = df.withColumn(\"married\",when(df['marital_status'] == 'married', 1).otherwise(0))\n",
    "df = df.withColumn(\"divorced\",when(df['marital_status'] == 'divorced', 1).otherwise(0))\n",
    "df = df.withColumn(\"single\",when(df['marital_status'] == 'single', 1).otherwise(0))\n",
    "\n",
    "#education\n",
    "df = df.withColumn(\"primary_education\",when(df['education'] == 'primary', 1).otherwise(0))\n",
    "df = df.withColumn(\"secondary_education\",when(df['education'] == 'secondary', 1).otherwise(0))\n",
    "df = df.withColumn(\"tertiary_education\",when(df['education'] == 'tertiary', 1).otherwise(0))\n",
    "df = df.withColumn(\"unknown_education\",when(df['education'] == 'unknown', 1).otherwise(0))\n",
    "\n",
    "#home owner\n",
    "df = df.withColumn(\"home_owner\",when(df['home_owner'] == 'yes', 1).otherwise(0))\n",
    "\n",
    "#country\n",
    "df = df.withColumn(\"mexico\",when(df['country'] == 'MEX', 1).otherwise(0))\n",
    "df = df.withColumn(\"united_states\",when(df['country'] == 'USA', 1).otherwise(0))\n",
    "df = df.withColumn(\"canada\",when(df['country'] == 'CAN', 1).otherwise(0))\n",
    "\n",
    "splice.insert(df, 'ecommerce_fs.customer_demographics')"
   ]
  },
  {
   "cell_type": "code",
   "execution_count": 1,
   "metadata": {},
   "outputs": [
    {
     "name": "stdout",
     "output_type": "stream",
     "text": [
      "Sql started successfully\n",
      "\n"
     ]
    },
    {
     "data": {
      "application/vnd.jupyter.widget-view+json": {
       "model_id": "c55ad9e4-a320-460a-8ef0-3c9d8a4c2610",
       "version_major": 2,
       "version_minor": 0
      },
      "method": "display_data"
     },
     "metadata": {},
     "output_type": "display_data"
    },
    {
     "data": {
      "application/vnd.jupyter.widget-view+json": {
       "model_id": "cef63077-283e-45f3-a616-5e4a6d1875d0",
       "version_major": 2,
       "version_minor": 0
      },
      "method": "display_data"
     },
     "metadata": {},
     "output_type": "display_data"
    }
   ],
   "source": [
    "%%sql\n",
    "select * from ecommerce_fs.customer_demographics {limit 5};\n",
    "select * from ecommerce_fs.customer_demographics_history {limit 5};"
   ]
  },
  {
   "cell_type": "markdown",
   "metadata": {},
   "source": [
    "## Triggers automatically ensure that when a feature value is updated, feature histories are automatically maintained"
   ]
  },
  {
   "cell_type": "code",
   "execution_count": 13,
   "metadata": {},
   "outputs": [
    {
     "data": {
      "application/vnd.jupyter.widget-view+json": {
       "model_id": "49314943-72de-4fd2-8eb8-c44167620e76",
       "version_major": 2,
       "version_minor": 0
      },
      "method": "display_data"
     },
     "metadata": {},
     "output_type": "display_data"
    },
    {
     "data": {
      "application/vnd.jupyter.widget-view+json": {
       "model_id": "ce9ad429-0290-4ed9-855d-6871e7849746",
       "version_major": 2,
       "version_minor": 0
      },
      "method": "display_data"
     },
     "metadata": {},
     "output_type": "display_data"
    }
   ],
   "source": [
    "%%sql\n",
    "select * from ecommerce_fs.customer_demographics where customer_id = 12346;\n",
    "select * from ecommerce_fs.customer_demographics_history where customer_id = 12346;"
   ]
  },
  {
   "cell_type": "code",
   "execution_count": 12,
   "metadata": {},
   "outputs": [
    {
     "data": {
      "text/plain": [
       "Statement executed successfully. Affected rows : 1"
      ]
     },
     "execution_count": 9,
     "metadata": {},
     "output_type": "execute_result"
    }
   ],
   "source": [
    "%%sql\n",
    "UPDATE ecommerce_fs.customer_demographics\n",
    "set last_update_ts = current_timestamp, UNITED_STATES = 0, CANADA = 1\n",
    "WHERE customer_id = 12346"
   ]
  },
  {
   "cell_type": "code",
   "execution_count": 14,
   "metadata": {},
   "outputs": [
    {
     "data": {
      "application/vnd.jupyter.widget-view+json": {
       "model_id": "1ebdb6a4-0d03-48b0-b04f-a7a1c304630e",
       "version_major": 2,
       "version_minor": 0
      },
      "method": "display_data"
     },
     "metadata": {},
     "output_type": "display_data"
    },
    {
     "data": {
      "application/vnd.jupyter.widget-view+json": {
       "model_id": "6faca5d5-25d5-4af6-9634-65a58b43fe8f",
       "version_major": 2,
       "version_minor": 0
      },
      "method": "display_data"
     },
     "metadata": {},
     "output_type": "display_data"
    }
   ],
   "source": [
    "%%sql\n",
    "select * from ecommerce_fs.customer_demographics where customer_id = 12346;\n",
    "select * from ecommerce_fs.customer_demographics_history where customer_id = 12346;"
   ]
  },
  {
   "cell_type": "markdown",
   "metadata": {},
   "source": [
    "While you only inserted data into the `ecommerce_fs.customer_demographics` table, data was added to the `ecommerce_fs.customer_demographics_history` table too. In Splice Machine's Feature Store, triggers automatically move data from the feature set table to the feature set history table. Because these triggers are ACID compliant, consistency between the 'online' and 'offline' feature sets is guaranteed. "
   ]
  },
  {
   "cell_type": "markdown",
   "metadata": {},
   "source": [
    "## Visualize the Feature Set in the Feature Store UI\n",
    "\n",
    "Inside of the Splice Machine UI, click on the Feature Store tab on the left hand side, and then click on dashboard. You will see that you have created one feature set with several featues. Then, click on the Features List tab, you will see a list of all of the featues you just created."
   ]
  },
  {
   "cell_type": "markdown",
   "metadata": {},
   "source": [
    "## Congratulations! You have made your first feature set! While one feature set on its own is valuable, the real power of the feature stores is realized when you have multiple feature sets. \n",
    "\n",
    "-----"
   ]
  },
  {
   "cell_type": "markdown",
   "metadata": {},
   "source": [
    "# Create a second Feature Set using the Feature Store API\n",
    "While feature sets can be updated manually as demonstrated above, "
   ]
  },
  {
   "cell_type": "code",
   "execution_count": null,
   "metadata": {},
   "outputs": [],
   "source": []
  }
 ],
 "metadata": {
  "kernelspec": {
   "display_name": "Python 3",
   "language": "python",
   "name": "python3"
  },
  "language_info": {
   "codemirror_mode": {
    "name": "ipython",
    "version": 3
   },
   "file_extension": ".py",
   "mimetype": "text/x-python",
   "name": "python",
   "nbconvert_exporter": "python",
   "pygments_lexer": "ipython3",
   "version": "3.7.7"
  },
  "toc": {
   "base_numbering": 1,
   "nav_menu": {},
   "number_sections": false,
   "sideBar": false,
   "skip_h1_title": false,
   "title_cell": "Table of Contents",
   "title_sidebar": "Contents",
   "toc_cell": false,
   "toc_position": {},
   "toc_section_display": false,
   "toc_window_display": false
  }
 },
 "nbformat": 4,
 "nbformat_minor": 4
}

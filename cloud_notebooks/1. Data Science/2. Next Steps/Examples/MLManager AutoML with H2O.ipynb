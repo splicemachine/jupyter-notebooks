{
 "cells": [
  {
   "cell_type": "markdown",
   "metadata": {},
   "source": [
    "<style>\n",
    "#s {\n",
    "}\n",
    "h1, h2, h3, h4, h5, h6, table, button, a, p, blockquote {\n",
    "font-family:Geneva;\n",
    "}\n",
    "\n",
    ".log {\n",
    "transition: all .2s ease-in-out;\n",
    "}\n",
    "\n",
    ".log:hover {a\n",
    "transform: scale(1.05);\n",
    "}\n",
    "</style>\n",
    "<div id='s' style='width:100%'>\n",
    "<center><img class='log' src='https://splicemachine.com/wp-content/uploads/splice-logo-1.png' width='20%' style='z-index:5'></center>\n",
    "<center><h1 class='log' style='font-size:50px; color:black;'>Welcome to Splice Machine MLManager</h1></center>\n",
    "<center><h2 class = 'log' style='font-size:25px; color:grey;'>The data platform for intelligent applications</center>\n",
    "</div>"
   ]
  },
  {
   "cell_type": "markdown",
   "metadata": {},
   "source": [
    "<style>\n",
    "blockquote{\n",
    "  font-size: 15px;\n",
    "  background: #f9f9f9;\n",
    "  border-left: 10px solid #ccc;\n",
    "  margin: .5em 10px;\n",
    "  padding: 30em, 10px;\n",
    "  quotes: \"\\201C\"\"\\201D\"\"\\2018\"\"\\2019\";\n",
    "  padding: 10px 20px;\n",
    "  line-height: 1.4;\n",
    "}\n",
    "\n",
    "blockquote:before {\n",
    "  content: open-quote;\n",
    "  display: inline;\n",
    "  height: 0;\n",
    "  line-height: 0;\n",
    "  left: -10px;\n",
    "  position: relative;\n",
    "  top: 30px;\n",
    "  bottom:30px;\n",
    "  color: #ccc;\n",
    "  font-size: 3em;\n",
    "    display:none;\n",
    "\n",
    "}\n",
    "\n",
    "p{\n",
    "  margin: 0;\n",
    "}\n",
    "\n",
    "footer{\n",
    "  margin:0;\n",
    "  text-align: right;\n",
    "  font-size: 1em;\n",
    "  font-style: italic;\n",
    "}\n",
    "</style>\n",
    "<blockquote><p class='quotation'><b><br><span style='font-size:25px'>Why use Splice Machine ML</span></b><br><br>Splice Machine ML isn't just a machine learning platform, it is a complete machine learning lifecycle management solution, giving you total control of your models, from retrieving data to scalable deployment.  <br><br>\n",
    "    <center><img class='log' src='https://splice-demo.s3.amazonaws.com/splice-machine-data-science-process-h2o.png' width='30%' style='z-index:5'></center>\n",
    "    <br><ul><li>Our platform runs directly on Apache Spark, allowing you to complete massive jobs in parallel</li><li>Our native <code>PySpliceContext</code> lets you directly access the data in your database and convert as a Spark DataFrame, no ETL.</li><li><code>MLFlow</code> is integrated directly into all Splice Machine clusters, allowing you to keep track of your entire Data Science workflow</li><li>After you have found the best model for your task, you can easily deploy it live to AWS SageMaker or AzureML to make predictions in real time.</li><li>MLFlow does not force a standard workflow, instead it allows teams to develop their own methodology easily that fits their teams and problems</li></ul><br>In this demo we will guide you through the entire MLManager life cycle.<br></p><footer>Your friends at Splice Machine</footer></blockquote>"
   ]
  },
  {
   "cell_type": "markdown",
   "metadata": {},
   "source": [
    "<h2 style='font-size:25px;  font-weight:bold'>How does this work?</h2>\n",
    "<style>\n",
    "blockquote{\n",
    "  font-size: 15px;\n",
    "  background: #f9f9f9;\n",
    "  border-left: 10px solid #ccc;\n",
    "  margin: .5em 10px;\n",
    "  padding: 30em, 10px;\n",
    "  quotes: \"\\201C\"\"\\201D\"\"\\2018\"\"\\2019\";\n",
    "  padding: 10px 20px;\n",
    "  line-height: 1.4;\n",
    "}\n",
    "\n",
    "blockquote:before {\n",
    "  content: open-quote;\n",
    "  display: inline;\n",
    "  height: 0;\n",
    "  line-height: 0;\n",
    "  left: -10px;\n",
    "  position: relative;\n",
    "  top: 30px;\n",
    "  bottom:30px;\n",
    "  color: #ccc;\n",
    "  font-size: 3em;\n",
    "    display:none;\n",
    "\n",
    "}\n",
    "\n",
    "p{\n",
    "  margin: 0;\n",
    "}\n",
    "\n",
    "footer{\n",
    "  margin:0;\n",
    "  text-align: right;\n",
    "  font-size: 1em;\n",
    "  font-style: italic;\n",
    "}\n",
    "</style>\n",
    "<blockquote><p class='quotation'><b><br><span style='font-size:25px'>Jupyter</span></b> <br><br>Jupyter notebooks are a simple, easy and intuitive way to do data science, directly in your browser. Any Spark computations you run inside of the notebook are executed right on your cluster's Spark executors.<br><br>Jupyter notebooks also make machine learning easier. By using Jupyter <i>magics</i>, you can run different languages inside the same notebook. The language you want to run is signified by a %% sign followed by a magic at the top of a cell. For example, one of the interpreters you will become very familiar with while using our platform is <code>%%sql</code> magic. In the <code>%%sql</code> magic you can run standard SQL queries and visualize the results in Jupyter's built in visualization tools.<br> <br><i>This entire demo was written inside a Jupyter notebook</i></br><footer>Splice Machine</footer></blockquote><br>\n",
    "<blockquote><p class='quotation'><b><br><span style='font-size:25px'>MLFlow</span></b><br><br>As a data scientist constantly creating new models and testing new features, it is necessary to effectively track and manage those different ML runs. MLFlow allows you to track entire <code>experiments</code> and individual <code>run</code> parameters and metrics. The way you organize your flow is unique to you, and the intuitive Python API allows you to organize your development process and run with it.<br>\n",
    "     <center><img class='log' src='https://splice-demo.s3.amazonaws.com/New+MLFlow+UI.png' width='40%' style='z-index:5'></center>"
   ]
  },
  {
   "cell_type": "markdown",
   "metadata": {},
   "source": [
    "<br>\n",
    "<center><h1 style='font-size:35px;'>Ready? Let's get started<b style='font-size:35px'>.</b></h1></center>\n",
    "\n",
    "## Problem statement:\n",
    "### Can we predict the likelihood of fraudulent transactions after training on historical actuals? \n",
    "#### We're going to find out using Splice Machine's <code>MLManager</code>\n",
    "<br>"
   ]
  },
  {
   "cell_type": "code",
   "execution_count": null,
   "metadata": {},
   "outputs": [],
   "source": [
    "%%sql\n",
    "drop table if exists cc_fraud_data; \n",
    "create table cc_fraud_data (\n",
    "    time_offset integer,\n",
    "    expected_weekly_trans_cnt double,\n",
    "    expected_weekly_trans_amnt double,\n",
    "    expected_daily_trans_cnt double,\n",
    "    expected_daily_trans_amnt double,\n",
    "    weekly_trans_cnt double,\n",
    "    weekly_trans_amnt double,\n",
    "    daily_trans_cnt double,\n",
    "    daily_trans_amnt double,\n",
    "    rolling_avg_weekly_trans_cnt double,\n",
    "    rolling_avg_weekly_trans_amnt double,\n",
    "    rolling_avg_daily_trans_cnt double,\n",
    "    rolling_avg_daily_trans_amnt double,\n",
    "    MACD_trans_amnt double,\n",
    "    MACD_trans_cnt double,\n",
    "    RSI_trans_amnt double,\n",
    "    RSI_trans_cnt double,\n",
    "    Aroon_trans_amnt double,\n",
    "    Aroon_trans_cnt double,\n",
    "    ADX_trans_amnt double,\n",
    "    ADX_trans_cnt double,\n",
    "    current_balance double,\n",
    "    rolling_avg_balance double,\n",
    "    MACD_balance double,\n",
    "    Aroon_balance double,\n",
    "    RSI_balance double,\n",
    "    ADX_balance double,\n",
    "    credit_score double,\n",
    "    credit_limit double,\n",
    "    amount decimal(10,2),\n",
    "    class_result int,\n",
    "    primary key(time_offset)\n",
    ");\n",
    "\n",
    "call SYSCS_UTIL.IMPORT_DATA (\n",
    "     null,\n",
    "     'cc_fraud_data',\n",
    "     null,\n",
    "     's3a://splice-demo/kaggle-fraud-data/creditcard.csv',\n",
    "     ',',\n",
    "     null,\n",
    "     null,\n",
    "     null,\n",
    "     null,\n",
    "     -1,\n",
    "     's3a://splice-demo/kaggle-fraud-data/bad',\n",
    "     null, \n",
    "     null);\n",
    "     "
   ]
  },
  {
   "cell_type": "code",
   "execution_count": null,
   "metadata": {
    "scrolled": true
   },
   "outputs": [],
   "source": [
    "%%sql\n",
    "select top 10 * from cc_fraud_data"
   ]
  },
  {
   "cell_type": "markdown",
   "metadata": {},
   "source": [
    "<h1 style='font-size:30px;font-weight:bold'>Connecting to your database</h1><br>\n",
    "<blockquote><p class='quotation'><b><span style='font-size:15px'>Now, let's establish a connection to your database using Python via our <a href=\"https://www.splicemachine.com/the-splice-machine-native-spark-datasource/\">Native Spark Datasource</a>. We will use the <code>PySpliceContext</code> to establish our direct connection-- it allows us to do inserts, selects, upserts, updates and many more functions without serialization<footer>Splice Machine</footer></blockquote>"
   ]
  },
  {
   "cell_type": "code",
   "execution_count": null,
   "metadata": {},
   "outputs": [],
   "source": [
    "import warnings\n",
    "warnings.simplefilter(\"ignore\")\n",
    "warnings.filterwarnings(\"ignore\")"
   ]
  },
  {
   "cell_type": "code",
   "execution_count": null,
   "metadata": {},
   "outputs": [],
   "source": [
    "from pyspark.sql import SparkSession\n",
    "from splicemachine.spark import PySpliceContext\n",
    "# Create our Spark Session\n",
    "spark = SparkSession.builder.config('spark.dynamicAllocation.enabled',\"false\").getOrCreate()\n",
    "sc = spark.sparkContext\n",
    "# Create our Native Database Connection\n",
    "splice = PySpliceContext(spark)"
   ]
  },
  {
   "cell_type": "markdown",
   "metadata": {},
   "source": [
    "## View Our Spark UI\n",
    "<blockquote>Now that we've created a SparkSession dedicated to this notebook, we can monitor the active jobs in the Spark UI. You can navigate to <code>/sparkmonitor/PORT</code> in the URL, replacing the port with the port of your active Spark Session. You can also view the Spark Session right here in the notebook using our <code>get_spark_ui</code> function"
   ]
  },
  {
   "cell_type": "code",
   "execution_count": null,
   "metadata": {},
   "outputs": [],
   "source": [
    "from splicemachine.notebook import get_spark_ui\n",
    "help(get_spark_ui)"
   ]
  },
  {
   "cell_type": "code",
   "execution_count": null,
   "metadata": {},
   "outputs": [],
   "source": [
    "get_spark_ui()"
   ]
  },
  {
   "cell_type": "markdown",
   "metadata": {},
   "source": [
    "### Let's import our <code>Splice MLFlow Support</code>\n",
    "<blockquote><p class='quotation'><b><span style='font-size:15px'> Our Splice MLFlow Support class has a built-in <code>mlflow</code> object, so no need to import anything else. Our mlflow support allows you to access all standard mlflow functionality, along with custom built Splice functions (like database deployment). You can treat the mlflow object just like you would with standard <a href=https://www.mlflow.org/docs/1.6.0/tracking.html>mlflow</a>. Whenever custom Splice Machine functions are used, we will explain beforehand. <br><br>\n",
    "After importing our mlflow support, we will run <code>mlflow.register_splice_context</code>. This allows us to use all of the Splice Machine capabilities like storing artifacts and deploying models to the database.\n",
    "<footer>Splice Machine</footer></blockquote>"
   ]
  },
  {
   "cell_type": "code",
   "execution_count": null,
   "metadata": {},
   "outputs": [],
   "source": [
    "from splicemachine.mlflow_support import *\n",
    "mlflow.register_splice_context(splice) # allow mlflow to use our database connection for artifact storage"
   ]
  },
  {
   "cell_type": "markdown",
   "metadata": {},
   "source": [
    "<h1 style='font-size:30px;font-weight:bold'>Loading The Data</h1><br>\n",
    "<blockquote><p class='quotation'><b><br><span style='font-size:25px'>Data Loading</span></b><br><br>Loading data into Splice Machine couldn't be easier, no matter the source. Because we connect directly to our database source, there is no ETL necessary.<footer>Splice Machine</footer></blockquote>\n",
    "\n",
    "\n",
    "### Let's import our data into a Spark DataFrame using our <code>PySpliceContext</code>\n",
    "<blockquote>We can also use beakerx here and set <code>pandas_display_table()</code>to give us interactive tables for pandas dataframes. You can sort, filter, search, and even apply heatmaps and databars to columns in the table. Give it a try by clicking the ellipsis at the top of each column.</blockquote>\n",
    " \n",
    "#### Now is also a good time to create our MLFlow <code>Experiment</code> which we will call fraud_demo\n"
   ]
  },
  {
   "cell_type": "code",
   "execution_count": null,
   "metadata": {},
   "outputs": [],
   "source": [
    "from beakerx.object import beakerx\n",
    "from splicemachine.mlflow_support.utilities import get_user\n",
    "# BeakerX interactive pandas tables\n",
    "beakerx.pandas_display_table()\n",
    "#create our MLFlow experiment\n",
    "mlflow.set_experiment('fraud_demo_automl')\n",
    "schema = get_user()\n",
    "df = splice.df(f\"SELECT * FROM {schema}.cc_fraud_data\")\n",
    "df = df.withColumnRenamed('CLASS_RESULT', 'label')\n",
    "display(df.limit(10).toPandas())"
   ]
  },
  {
   "cell_type": "markdown",
   "metadata": {},
   "source": [
    "## We can now see our experiment in the MLFlow UI \n",
    "\n",
    "<blockquote>You can always navigate to <a href=/mlflow>/mlflow</a> to view the MLFlow UI, or you can view it right here in the notebook. Our experiment is called <code>fraud_demo_automl</code>"
   ]
  },
  {
   "cell_type": "code",
   "execution_count": null,
   "metadata": {},
   "outputs": [],
   "source": [
    "from splicemachine.notebook import get_mlflow_ui\n",
    "get_mlflow_ui()"
   ]
  },
  {
   "cell_type": "markdown",
   "metadata": {},
   "source": [
    "---"
   ]
  },
  {
   "cell_type": "markdown",
   "metadata": {},
   "source": [
    "# Your turn!\n",
    "## You will create a <code>run</code>  keep track of your model's metrics, parameters and other associated data. Get started using <code>mlflow.start_run()</code>. You can set <code>tags</code> to your run such as <code>team</code>, <code>purpose</code>, or anything you'd like to track your runs. You can also set a <code>run_name</code> as a parameter. \n",
    "###### The user_id will automatically be added as the user that is signed into this notebook (currently that's you)"
   ]
  },
  {
   "cell_type": "markdown",
   "metadata": {},
   "source": [
    "### In the <a href='/mlflow'>MLFlow UI</a> above, you will now see the fraud_demo_automl experiment, but there is nothing in that experiment yet. Let's start our first <code>run</code> and track our progress"
   ]
  },
  {
   "cell_type": "code",
   "execution_count": null,
   "metadata": {},
   "outputs": [],
   "source": [
    "#start our first MLFlow run\n",
    "from datetime import datetime\n",
    "\n",
    "tags = {\n",
    "        'team': 'Splice Machine',\n",
    "        'purpose': 'fraud r&d'\n",
    "}\n",
    "\n",
    "mlflow.start_run(tags=tags, run_name='automl_h2o')"
   ]
  },
  {
   "cell_type": "markdown",
   "metadata": {},
   "source": [
    "### Let's take a look at the MLFlow UI"
   ]
  },
  {
   "cell_type": "code",
   "execution_count": null,
   "metadata": {},
   "outputs": [],
   "source": [
    "from splicemachine.notebook import get_mlflow_ui\n",
    "get_mlflow_ui(experiment_id=mlflow.current_exp_id(), run_id=mlflow.current_run_id())"
   ]
  },
  {
   "cell_type": "markdown",
   "metadata": {},
   "source": [
    "# Let's Start Modeling!\n",
    "\n",
    "\n",
    "<blockquote><p class='quotation'><span style='font-size:15px'>H2O Provides a very powerful AutoML capability, and Splice Machine has natively embedded this into your environment. AutoML will runs tens or even hundreds of different ML models, picking the best one for you and showing you all results. Coupled with the native MLFlow support, all models can be easily tracked and logged with a few lines of code.</br><footer>Splice Machine</footer></blockquote>\n",
    "    \n",
    "    \n",
    "## Start our H2O Cluster\n",
    "<blockquote><p class='quotation'><span style='font-size:15px'>H2O is a distributed ML library, meaning that the models can handle massive amounts of data, and can even run on Spark. This configuration is taken care of for you in Splice Machine. When you start H2O, it automatically runs on your Spark Session (created above) and scales with your data.</br><footer>Splice Machine</footer></blockquote>"
   ]
  },
  {
   "cell_type": "code",
   "execution_count": null,
   "metadata": {
    "scrolled": true
   },
   "outputs": [],
   "source": [
    "from pysparkling import *\n",
    "\n",
    "conf = H2OConf().setInternalClusterMode()\n",
    "hc = H2OContext.getOrCreate(conf)"
   ]
  },
  {
   "cell_type": "markdown",
   "metadata": {},
   "source": [
    "#### Train AutoML"
   ]
  },
  {
   "cell_type": "code",
   "execution_count": null,
   "metadata": {},
   "outputs": [],
   "source": [
    "import h2o\n",
    "from h2o.automl import H2OAutoML\n",
    "\n",
    "# Train/Test split ratio\n",
    "RATIOS = [0.7,0.25]\n",
    "# Identify predictors and response\n",
    "x = df.columns\n",
    "y = \"label\"\n",
    "x.remove(y)\n",
    "\n",
    "# Create H2O Dataframe from Spark Dataframe\n",
    "hdf = hc.asH2OFrame(df)\n",
    "\n",
    "# Splice into train/test/validation\n",
    "train, test, valid = hdf.split_frame(ratios=RATIOS)\n",
    "\n",
    "# H2O - For binary classification, response should be a factor\n",
    "train[y] = train[y].asfactor()\n",
    "test[y] = test[y].asfactor()\n",
    "\n",
    "# Run AutoML for 20 base models, max 100 seconds\n",
    "aml = H2OAutoML(max_models=20, seed=1, exclude_algos = ['XGBoost'], max_runtime_secs=100)\n",
    "aml.train(x=x, y=y, training_frame=train)\n",
    "\n",
    "# View the AutoML Leaderboard\n",
    "lb = aml.leaderboard\n",
    "lb.head(rows=lb.nrows)  # Print all rows instead of default (10 rows)"
   ]
  },
  {
   "cell_type": "code",
   "execution_count": null,
   "metadata": {
    "scrolled": false
   },
   "outputs": [],
   "source": [
    "import plotly.graph_objects as go\n",
    "\n",
    "plb = lb.as_data_frame()\n",
    "Ys = plb.columns[1:]\n",
    "bars = []\n",
    "for y in Ys:\n",
    "    bars.append(go.Bar(name=y,x=plb.model_id,y=plb[y]))\n",
    "\n",
    "fig = go.Figure(data=bars)\n",
    "# Change the bar mode\n",
    "fig.update_layout(barmode='group')\n",
    "fig.show()\n"
   ]
  },
  {
   "cell_type": "markdown",
   "metadata": {},
   "source": [
    "## Log all parameters, metrics and models to MLFlow\n",
    "<blockquote><p class='quotation'><span style='font-size:15px'>In Splice Machine, it's easy to log <b>everything</b> about your models: Experiments, Parameters, Tags, and even Artifacts and Models. It is all stored inside your Splice Machine database so you never need to worry about it.</br><footer>Splice Machine</footer></blockquote>"
   ]
  },
  {
   "cell_type": "code",
   "execution_count": null,
   "metadata": {
    "scrolled": true
   },
   "outputs": [],
   "source": [
    "!pip install -q flatten-json\n",
    "from flatten_json import flatten\n",
    "\n",
    "for index, row in plb.iterrows():\n",
    "    mid = row.model_id\n",
    "    m = h2o.get_model(mid)\n",
    "    # Start a nested run for each model\n",
    "    with mlflow.start_run(nested=True, run_name=mid):\n",
    "        metrics = row.to_dict()\n",
    "        metrics.pop('model_id')\n",
    "        mlflow.log_metrics(metrics) # Log metrics\n",
    "        mlflow.lp('model_id', mid)\n",
    "        mlflow.log_params(dict(map(lambda kv: (kv[0],kv[1] or 'None'),flatten(m.actual_params).items()))) # Log model parameters\n",
    "        mlflow.log_model(m) # Log Model"
   ]
  },
  {
   "cell_type": "code",
   "execution_count": null,
   "metadata": {
    "scrolled": false
   },
   "outputs": [],
   "source": [
    "exp_id = mlflow.current_exp_id()\n",
    "mlflow.end_run()\n",
    "get_mlflow_ui(exp_id)"
   ]
  },
  {
   "cell_type": "markdown",
   "metadata": {},
   "source": [
    "## Deploy our model to the Database\n",
    "<blockquote><p class='quotation'><span style='font-size:15px'>That was easy! We've created a handful of models and logged all of our results to MLFlow. Now we can take our best run and deploy it to the database. Database deployment is a new mechanism to embed ML models directly into SQL tables, creating intelligent database tables. After you deploy a model to the database, you can simply insert rows, and predictions will be made for you automatically. No work on your end is required.</br><footer>Splice Machine</footer></blockquote>\n",
    "<center><img class='log' src='https://splice-demo.s3.amazonaws.com/Database+Deployment.png' width='35%' height='50% style='z-index:5'></center>\n"
   ]
  },
  {
   "cell_type": "code",
   "execution_count": null,
   "metadata": {
    "scrolled": true
   },
   "outputs": [],
   "source": [
    "# Get the best performing run\n",
    "exp = mlflow.get_experiment_by_name('fraud_demo_automl')\n",
    "best_run = mlflow.search_runs(experiment_ids=exp_id,order_by=[\"metrics.`aucpr` DESC\"]).iloc[0].run_id"
   ]
  },
  {
   "cell_type": "code",
   "execution_count": null,
   "metadata": {
    "scrolled": true
   },
   "outputs": [],
   "source": [
    "%%time\n",
    "splice.dropTableIfExists('fraudmodel_h2o')\n",
    "# Enter the schema name of the model to deploy to. You can use your username that you logged in with as the schema.\n",
    "jid = mlflow.deploy_db(schema, 'fraudmodel_h2o', best_run, primary_key={'MOMENT_KEY':'INTEGER'}, df=df.drop('label'), create_model_table=True, classes=['no_fraud','fraud'])\n",
    "mlflow.watch_job(jid)"
   ]
  },
  {
   "cell_type": "markdown",
   "metadata": {},
   "source": [
    "## Insert data into our deployed model table and immediately view results"
   ]
  },
  {
   "cell_type": "code",
   "execution_count": null,
   "metadata": {},
   "outputs": [],
   "source": [
    "%%time\n",
    "%%sql\n",
    "\n",
    "insert into fraudmodel_h2o (TIME_OFFSET,EXPECTED_WEEKLY_TRANS_CNT,EXPECTED_WEEKLY_TRANS_AMNT,EXPECTED_DAILY_TRANS_CNT,EXPECTED_DAILY_TRANS_AMNT,WEEKLY_TRANS_CNT,WEEKLY_TRANS_AMNT,DAILY_TRANS_CNT,DAILY_TRANS_AMNT,ROLLING_AVG_WEEKLY_TRANS_CNT,ROLLING_AVG_WEEKLY_TRANS_AMNT,ROLLING_AVG_DAILY_TRANS_CNT,ROLLING_AVG_DAILY_TRANS_AMNT,MACD_TRANS_AMNT,MACD_TRANS_CNT,RSI_TRANS_AMNT,RSI_TRANS_CNT,AROON_TRANS_AMNT,AROON_TRANS_CNT,ADX_TRANS_AMNT,ADX_TRANS_CNT,CURRENT_BALANCE,ROLLING_AVG_BALANCE,MACD_BALANCE,AROON_BALANCE,RSI_BALANCE,ADX_BALANCE,CREDIT_SCORE,CREDIT_LIMIT,AMOUNT,MOMENT_KEY)\n",
    "    values(0, 7.768,2.566,2.496,7.43,2.488,8.762,9.601,5.847,4.957,7.979,4.957,2.281,9.715,4.086,7.222,5.017,3.844,9.683,6.43,1.439,5.908,3.563,1.116,7.097,8.717,0.06,2.273,4.846, 10000.22, 5);\n",
    "insert into fraudmodel_h2o (TIME_OFFSET,EXPECTED_WEEKLY_TRANS_CNT,EXPECTED_WEEKLY_TRANS_AMNT,EXPECTED_DAILY_TRANS_CNT,EXPECTED_DAILY_TRANS_AMNT,WEEKLY_TRANS_CNT,WEEKLY_TRANS_AMNT,DAILY_TRANS_CNT,DAILY_TRANS_AMNT,ROLLING_AVG_WEEKLY_TRANS_CNT,ROLLING_AVG_WEEKLY_TRANS_AMNT,ROLLING_AVG_DAILY_TRANS_CNT,ROLLING_AVG_DAILY_TRANS_AMNT,MACD_TRANS_AMNT,MACD_TRANS_CNT,RSI_TRANS_AMNT,RSI_TRANS_CNT,AROON_TRANS_AMNT,AROON_TRANS_CNT,ADX_TRANS_AMNT,ADX_TRANS_CNT,CURRENT_BALANCE,ROLLING_AVG_BALANCE,MACD_BALANCE,AROON_BALANCE,RSI_BALANCE,ADX_BALANCE,CREDIT_SCORE,CREDIT_LIMIT,AMOUNT,MOMENT_KEY)\n",
    "    values(1, -5.577,-9.337,-7.048,-0.761,-2.862,-3.333,-7.063,-5.609,-2.905,-8.311,-3.427,-7.309,-0.231,-3.197,-0.681,-6.836,-3.565,-4.843,-5.158,-0.268,-5.082,-1.777,-1.195,-3.64,-2.74,-5.08,-2.38,-8.941,9284.22, 6);\n",
    "\n",
    "select * from fraudmodel_h2o;\n"
   ]
  },
  {
   "cell_type": "code",
   "execution_count": null,
   "metadata": {
    "scrolled": true
   },
   "outputs": [],
   "source": [
    "%%sql\n",
    "select cur_user, eval_time, run_id, prediction,moment_key, no_fraud, fraud from fraudmodel_h2o where moment_key=5;"
   ]
  },
  {
   "cell_type": "markdown",
   "metadata": {},
   "source": [
    "## Let's see which models are currently deployed"
   ]
  },
  {
   "cell_type": "code",
   "execution_count": null,
   "metadata": {},
   "outputs": [],
   "source": [
    "mlflow.get_deployed_models()"
   ]
  },
  {
   "cell_type": "markdown",
   "metadata": {},
   "source": [
    "## Amazing!\n",
    "### Let's recap what we just accomplished. We:\n",
    "<blockquote>\n",
    "    <ul>\n",
    "        <li>Imported a large dataset from S3 using SQL and Splice Machine stored procedures</li>\n",
    "        <li>Inspected that data both in sql and python (with pandas and spark) in the same notebook</li>\n",
    "        <li>Created a machine learning preprocessing pipeline to create feature vectors</li>\n",
    "        <li>Built a Cross Validator model (that Over Samples your training dataset) to compare different hyperparameters for a Random Forest and Logistic Regression</li>\n",
    "        <li>Saved the parameters, metrics, models, and training notebooks associated with each run to MLFlow and compared metrics in the UI</li>\n",
    "        <li>Modularized our code into functions that we when called to train a Gradient Boosted Tree and a Support Vector Machine</li>\n",
    "        <li>Inspected all of our runs in the MLFlow UI and downloaded notebooks that we wanted to look at further</li>\n",
    "        <li>Deployed our Logistic Regression model directly to a table in the database</li>\n",
    "        <li>Inserted rows of data using raw SQL and saw immediate predictions on those rows without the need for endpoints, REST APIs, or messy configuration</li>\n",
    "        <li> Tracked which models were in production </li>\n",
    "        <li>Never left the notebook for the entirety of our Data Science process</li>\n",
    "     </ul>\n",
    "</blockquote>\n",
    "\n",
    "### That's quite the job well done."
   ]
  },
  {
   "cell_type": "code",
   "execution_count": 67,
   "metadata": {},
   "outputs": [],
   "source": [
    "spark.stop()"
   ]
  },
  {
   "cell_type": "code",
   "execution_count": null,
   "metadata": {},
   "outputs": [],
   "source": []
  }
 ],
 "metadata": {
  "kernelspec": {
   "display_name": "Python 3",
   "language": "python",
   "name": "python3"
  },
  "language_info": {
   "codemirror_mode": {
    "name": "ipython",
    "version": 3
   },
   "file_extension": ".py",
   "mimetype": "text/x-python",
   "name": "python",
   "nbconvert_exporter": "python",
   "pygments_lexer": "ipython3",
   "version": "3.8.5"
  },
  "toc": {
   "base_numbering": 1,
   "nav_menu": {},
   "number_sections": false,
   "sideBar": true,
   "skip_h1_title": false,
   "title_cell": "Table of Contents",
   "title_sidebar": "Contents",
   "toc_cell": false,
   "toc_position": {
    "height": "calc(100% - 180px)",
    "left": "10px",
    "top": "150px",
    "width": "266px"
   },
   "toc_section_display": true,
   "toc_window_display": false
  },
  "widgets": {
   "application/vnd.jupyter.widget-state+json": {
    "state": {
     "012063d7-052a-42f5-ae34-cc9079782276": {
      "model_module": "beakerx",
      "model_module_version": "*",
      "model_name": "TableDisplayModel",
      "state": {
       "model": {
        "alignmentForColumn": {},
        "alignmentForType": {},
        "cellHighlighters": [],
        "columnNames": [
         "Key",
         "Value"
        ],
        "columnOrder": [],
        "columnsFrozen": {},
        "columnsFrozenRight": {},
        "columnsVisible": {},
        "contextMenuItems": [],
        "contextMenuTags": {},
        "fontColor": [],
        "hasDoubleClickAction": false,
        "headersVertical": false,
        "rendererForColumn": {},
        "rendererForType": {},
        "stringFormatForColumn": {},
        "stringFormatForType": {},
        "subtype": "Dictionary",
        "timeZone": "UTC",
        "tooManyRows": false,
        "tooltips": [],
        "type": "TableDisplay",
        "types": [],
        "values": [
         [
          "rowsImported",
          124591
         ],
         [
          "failedRows",
          160057
         ],
         [
          "files",
          1
         ],
         [
          "dataSize",
          150828752
         ],
         [
          "failedLog",
          "s3a://splice-demo/kaggle-fraud-data/bad"
         ]
        ]
       }
      }
     },
     "0743855d95644b63be3b6fee8067bb8f": {
      "model_module": "beakerx",
      "model_module_version": "*",
      "model_name": "TableDisplayModel",
      "state": {
       "layout": "IPY_MODEL_4e13a23a830448d0b41bb452ce616246",
       "model": {
        "alignmentForColumn": {},
        "alignmentForType": {},
        "cellHighlighters": [],
        "columnNames": [
         "ParamGrid",
         "ROC_AUC",
         "PR_AUC",
         "Accuracy",
         "F1",
         "TPR"
        ],
        "columnOrder": [],
        "columnsFrozen": {},
        "columnsFrozenRight": {},
        "columnsVisible": {},
        "contextMenuItems": [],
        "contextMenuTags": {},
        "fontColor": [],
        "hasDoubleClickAction": false,
        "headersVertical": false,
        "rendererForColumn": {},
        "rendererForType": {},
        "stringFormatForColumn": {},
        "stringFormatForTimes": "YYYY-MM-DD HH:mm:ss.SSS",
        "stringFormatForType": {},
        "subtype": "ListOfMaps",
        "tooManyRows": false,
        "tooltips": [],
        "type": "TableDisplay",
        "types": [
         "string",
         "double",
         "double",
         "double",
         "double",
         "double"
        ],
        "values": [
         [
          "['maxDepth = 5', 'numTrees = 10', 'maxBins = 32']",
          "0.9686222967842195",
          "0.7540040242639392",
          "0.9979940795872311",
          "0.9982688164208369",
          "0.9979940795872311"
         ],
         [
          "['maxDepth = 5', 'numTrees = 30', 'maxBins = 32']",
          "0.9677510758706147",
          "0.7682405761365608",
          "0.9984907763298864",
          "0.9986461895016367",
          "0.9984907763298864"
         ]
        ]
       }
      }
     },
     "0bdc4ee0be8c4e938856e6c5eec3e752": {
      "model_module": "beakerx",
      "model_module_version": "*",
      "model_name": "TableDisplayModel",
      "state": {
       "layout": "IPY_MODEL_f1a725ebe17a423bb16722562a6bae17",
       "model": {
        "alignmentForColumn": {},
        "alignmentForType": {},
        "cellHighlighters": [],
        "columnNames": [
         "index",
         "label"
        ],
        "columnOrder": [],
        "columnsFrozen": {},
        "columnsFrozenRight": {},
        "columnsVisible": {},
        "contextMenuItems": [],
        "contextMenuTags": {},
        "fontColor": [],
        "hasDoubleClickAction": false,
        "headersVertical": false,
        "rendererForColumn": {},
        "rendererForType": {},
        "stringFormatForColumn": {},
        "stringFormatForTimes": "YYYY-MM-DD HH:mm:ss.SSS",
        "stringFormatForType": {},
        "subtype": "ListOfMaps",
        "tooManyRows": false,
        "tooltips": [],
        "type": "TableDisplay",
        "types": [
         "string",
         "double"
        ],
        "values": [
         [
          "label",
          "1.0"
         ],
         [
          "TIME_OFFSET",
          "0.8199775491239032"
         ],
         [
          "MACD_TRANS_CNT",
          "0.7979188355657916"
         ],
         [
          "ROLLING_AVG_DAILY_TRANS_AMNT",
          "0.792152475065862"
         ],
         [
          "ROLLING_AVG_DAILY_TRANS_CNT",
          "0.7162553829931259"
         ],
         [
          "EXPECTED_DAILY_TRANS_AMNT",
          "0.7110173452695222"
         ],
         [
          "ROLLING_AVG_WEEKLY_TRANS_AMNT",
          "0.7062439588603378"
         ],
         [
          "EXPECTED_DAILY_TRANS_CNT",
          "0.680427949989604"
         ],
         [
          "RSI_TRANS_CNT",
          "0.6598230104532696"
         ],
         [
          "AROON_TRANS_AMNT",
          "0.6509388786443531"
         ],
         [
          "ROLLING_AVG_WEEKLY_TRANS_CNT",
          "0.5763154578844797"
         ],
         [
          "EXPECTED_WEEKLY_TRANS_AMNT",
          "0.5507608312515064"
         ],
         [
          "DAILY_TRANS_CNT",
          "0.5463297188679818"
         ],
         [
          "AROON_TRANS_CNT",
          "0.48842992155438886"
         ],
         [
          "EXPECTED_WEEKLY_TRANS_CNT",
          "0.4593926809479069"
         ],
         [
          "WEEKLY_TRANS_CNT",
          "0.4056759796649794"
         ],
         [
          "WEEKLY_TRANS_AMNT",
          "0.3813058250293358"
         ],
         [
          "ADX_TRANS_CNT",
          "0.23148787052661735"
         ],
         [
          "ADX_TRANS_AMNT",
          "0.20250676117854272"
         ],
         [
          "CREDIT_SCORE",
          "0.17294162872393765"
         ],
         [
          "RSI_TRANS_AMNT",
          "0.16421369428080576"
         ],
         [
          "CREDIT_LIMIT",
          "0.1469032880576098"
         ],
         [
          "DAILY_TRANS_AMNT",
          "0.12533604208456156"
         ],
         [
          "ROLLING_AVG_BALANCE",
          "0.12125601574456332"
         ],
         [
          "AROON_BALANCE",
          "0.11425785575078234"
         ],
         [
          "CURRENT_BALANCE",
          "0.071372878204952"
         ],
         [
          "RSI_BALANCE",
          "0.07010621572012411"
         ],
         [
          "MACD_TRANS_AMNT",
          "0.055163030821122"
         ],
         [
          "MACD_BALANCE",
          "0.030288378267163137"
         ],
         [
          "ADX_BALANCE",
          "0.013153887664060513"
         ]
        ]
       }
      }
     },
     "0c5498e8881d490c8d111a5b55aacab9": {
      "model_module": "beakerx",
      "model_module_version": "*",
      "model_name": "TableDisplayModel",
      "state": {
       "layout": "IPY_MODEL_f56f3550db154309a1a1192cee0cbd61",
       "model": {
        "alignmentForColumn": {},
        "alignmentForType": {},
        "cellHighlighters": [],
        "columnNames": [
         "ParamGrid",
         "ROC_AUC",
         "PR_AUC",
         "Accuracy",
         "F1",
         "TPR"
        ],
        "columnOrder": [],
        "columnsFrozen": {},
        "columnsFrozenRight": {},
        "columnsVisible": {},
        "contextMenuItems": [],
        "contextMenuTags": {},
        "fontColor": [],
        "hasDoubleClickAction": false,
        "headersVertical": false,
        "rendererForColumn": {},
        "rendererForType": {},
        "stringFormatForColumn": {},
        "stringFormatForTimes": "YYYY-MM-DD HH:mm:ss.SSS",
        "stringFormatForType": {},
        "subtype": "ListOfMaps",
        "tooManyRows": false,
        "tooltips": [],
        "type": "TableDisplay",
        "types": [
         "string",
         "double",
         "double",
         "double",
         "double",
         "double"
        ],
        "values": [
         [
          "['maxIter = 10', 'regParam = 0.0', 'elasticNetParam = 0.0']",
          "0.9714295028162425",
          "0.6323941634467111",
          "0.9800134937857801",
          "0.9882513027781056",
          "0.9800134937857801"
         ],
         [
          "['maxIter = 10', 'regParam = 0.3', 'elasticNetParam = 0.0']",
          "0.972047776085025",
          "0.6699617384590205",
          "0.9982818368678041",
          "0.9984655402873301",
          "0.9982818368678041"
         ],
         [
          "['maxIter = 100', 'regParam = 0.0', 'elasticNetParam = 0.0']",
          "0.9709466099430277",
          "0.6949358481318093",
          "0.9804915210422362",
          "0.9884959338135204",
          "0.9804915210422362"
         ],
         [
          "['maxIter = 100', 'regParam = 0.3', 'elasticNetParam = 0.0']",
          "0.9720634179472386",
          "0.6702275594876328",
          "0.9982818368678041",
          "0.9984655402873301",
          "0.9982818368678041"
         ]
        ]
       }
      }
     },
     "0e25d9141f464dc3bc161fad812f02a4": {
      "model_module": "@jupyter-widgets/controls",
      "model_module_version": "1.5.0",
      "model_name": "HBoxModel",
      "state": {
       "children": [
        "IPY_MODEL_966d02a683df4ceb915492708a374f4c",
        "IPY_MODEL_3183c0cca4de463b89648b34feb854a6"
       ],
       "layout": "IPY_MODEL_5a2d3935235a4f9b98ff5519e83f8aba"
      }
     },
     "0ee6efd1-1daf-43a9-9db1-7d85f7150e4c": {
      "model_module": "beakerx",
      "model_module_version": "*",
      "model_name": "HTMLPreModel",
      "state": {
       "font_family": "",
       "font_size": "",
       "font_style": "",
       "font_weight": "",
       "layout": "IPY_MODEL_5de7c169-ed89-4673-abe6-fa1bf7d9ab7f",
       "msg_throttle": 3,
       "placeholder": "",
       "value": "Query executed successfully. Affected rows : 0",
       "visible": true
      }
     },
     "102f220689704b1bae6006ca3cd4172a": {
      "model_module": "@jupyter-widgets/base",
      "model_module_version": "*",
      "model_name": "LayoutModel",
      "state": {
       "_model_module_version": "*",
       "_view_module_version": "*"
      }
     },
     "125ce1d1341848e0b736849e499a285e": {
      "model_module": "@jupyter-widgets/base",
      "model_module_version": "*",
      "model_name": "LayoutModel",
      "state": {
       "_model_module_version": "*",
       "_view_module_version": "*"
      }
     },
     "1324e1490ed74ad58057c27625f0c72f": {
      "model_module": "@jupyter-widgets/base",
      "model_module_version": "*",
      "model_name": "LayoutModel",
      "state": {
       "_model_module_version": "*",
       "_view_module_version": "*"
      }
     },
     "1384e248808746bb96f9693949183b48": {
      "model_module": "@jupyter-widgets/base",
      "model_module_version": "*",
      "model_name": "LayoutModel",
      "state": {
       "_model_module_version": "*",
       "_view_module_version": "*"
      }
     },
     "152cb59b63934d6099aa6f54cd4b9372": {
      "model_module": "beakerx",
      "model_module_version": "*",
      "model_name": "TableDisplayModel",
      "state": {
       "layout": "IPY_MODEL_44e6fe9f36f741fe83a9df29c8e3a8f6",
       "model": {
        "alignmentForColumn": {},
        "alignmentForType": {},
        "cellHighlighters": [],
        "columnNames": [
         "",
         "mean",
         "sd",
         "cv_1_valid",
         "cv_2_valid",
         "cv_3_valid",
         "cv_4_valid",
         "cv_5_valid"
        ],
        "columnOrder": [],
        "columnsFrozen": {},
        "columnsFrozenRight": {},
        "columnsVisible": {},
        "contextMenuItems": [],
        "contextMenuTags": {},
        "fontColor": [],
        "hasDoubleClickAction": false,
        "headersVertical": false,
        "rendererForColumn": {},
        "rendererForType": {},
        "stringFormatForColumn": {},
        "stringFormatForTimes": "YYYY-MM-DD HH:mm:ss.SSS",
        "stringFormatForType": {},
        "subtype": "ListOfMaps",
        "tooManyRows": false,
        "tooltips": [],
        "type": "TableDisplay",
        "types": [
         "string",
         "string",
         "string",
         "string",
         "string",
         "string",
         "string",
         "string"
        ],
        "values": [
         [
          "accuracy",
          "0.99885434",
          "4.0303188E-4",
          "0.99902624",
          "0.99942714",
          "0.99885434",
          "0.99856794",
          "0.99839604"
         ],
         [
          "auc",
          "0.7478554",
          "0.054172195",
          "0.79951113",
          "0.78775436",
          "0.76916766",
          "0.6733306",
          "0.7095135"
         ],
         [
          "aucpr",
          "0.032387886",
          "0.02954962",
          "0.0012607335",
          "0.06704045",
          "0.003080402",
          "0.037163068",
          "0.05339477"
         ],
         [
          "err",
          "0.0011456611",
          "4.0303188E-4",
          "9.737656E-4",
          "5.728361E-4",
          "0.0011456722",
          "0.0014320903",
          "0.0016039411"
         ],
         [
          "err_count",
          "20.0",
          "7.0356236",
          "17.0",
          "10.0",
          "20.0",
          "25.0",
          "28.0"
         ],
         [
          "f0point5",
          "0.7126499",
          "0.09310586",
          "0.73170733",
          "0.8333333",
          "0.74712646",
          "0.6666667",
          "0.58441556"
         ],
         [
          "f1",
          "0.69050634",
          "0.09043662",
          "0.73846155",
          "0.7916667",
          "0.7222222",
          "0.6376812",
          "0.5625"
         ],
         [
          "f2",
          "0.67030287",
          "0.09133997",
          "0.7453416",
          "0.75396824",
          "0.6989247",
          "0.6111111",
          "0.5421687"
         ],
         [
          "lift_top_group",
          "61.917774",
          "11.007147",
          "74.82",
          "67.49756",
          "60.63078",
          "45.027588",
          "61.61294"
         ],
         [
          "logloss",
          "0.03246813",
          "0.0116004255",
          "0.03024267",
          "0.013843719",
          "0.03444464",
          "0.040413182",
          "0.04339643"
         ],
         [
          "max_per_class_error",
          "0.34220278",
          "0.09354321",
          "0.25",
          "0.26923078",
          "0.31578946",
          "0.4054054",
          "0.47058824"
         ],
         [
          "mcc",
          "0.69128823",
          "0.09088239",
          "0.73806155",
          "0.7941517",
          "0.7227708",
          "0.6386531",
          "0.56280404"
         ],
         [
          "mean_per_class_accuracy",
          "0.82865757",
          "0.046841666",
          "0.8747418",
          "0.86529857",
          "0.8418756",
          "0.79701024",
          "0.7643615"
         ],
         [
          "mean_per_class_error",
          "0.17134245",
          "0.046841666",
          "0.12525824",
          "0.13470143",
          "0.15812437",
          "0.20298973",
          "0.23563848"
         ],
         [
          "mse",
          "0.0013405882",
          "3.6167566E-4",
          "0.0015757284",
          "7.459806E-4",
          "0.0012509429",
          "0.0015127006",
          "0.0016175882"
         ],
         [
          "pr_auc",
          "0.032387886",
          "0.02954962",
          "0.0012607335",
          "0.06704045",
          "0.003080402",
          "0.037163068",
          "0.05339477"
         ],
         [
          "precision",
          "0.728623",
          "0.09716916",
          "0.72727275",
          "0.8636364",
          "0.7647059",
          "0.6875",
          "0.6"
         ],
         [
          "r2",
          "0.3027671",
          "0.15684865",
          "0.13876304",
          "0.49838433",
          "0.4240697",
          "0.28477558",
          "0.16784285"
         ],
         [
          "recall",
          "0.6577972",
          "0.09354321",
          "0.75",
          "0.7307692",
          "0.68421054",
          "0.5945946",
          "0.5294118"
         ],
         [
          "rmse",
          "0.036297895",
          "0.005367855",
          "0.039695445",
          "0.027312646",
          "0.035368674",
          "0.03889345",
          "0.04021925"
         ]
        ]
       }
      }
     },
     "155fc5a73f3e4e909aa0f1554b36443a": {
      "model_module": "beakerx",
      "model_module_version": "*",
      "model_name": "TableDisplayModel",
      "state": {
       "layout": "IPY_MODEL_8a2c9c15fe0542f9ba36f8f4161c63d2",
       "model": {
        "alignmentForColumn": {},
        "alignmentForType": {},
        "cellHighlighters": [],
        "columnNames": [
         "",
         "0",
         "1",
         "Error",
         "Rate"
        ],
        "columnOrder": [],
        "columnsFrozen": {},
        "columnsFrozenRight": {},
        "columnsVisible": {},
        "contextMenuItems": [],
        "contextMenuTags": {},
        "fontColor": [],
        "hasDoubleClickAction": false,
        "headersVertical": false,
        "rendererForColumn": {},
        "rendererForType": {},
        "stringFormatForColumn": {},
        "stringFormatForTimes": "YYYY-MM-DD HH:mm:ss.SSS",
        "stringFormatForType": {},
        "subtype": "ListOfMaps",
        "tooManyRows": false,
        "tooltips": [],
        "type": "TableDisplay",
        "types": [
         "string",
         "double",
         "double",
         "string",
         "string"
        ],
        "values": [
         [
          "0",
          "87075.0",
          "44.0",
          "0.0005",
          " (44.0/87119.0)"
         ],
         [
          "1",
          "33.0",
          "134.0",
          "0.1976",
          " (33.0/167.0)"
         ],
         [
          "Total",
          "87108.0",
          "178.0",
          "0.0009",
          " (77.0/87286.0)"
         ]
        ]
       }
      }
     },
     "17cde73a-d767-4a61-8079-e068671d07b0": {
      "model_module": "beakerx",
      "model_module_version": "*",
      "model_name": "TableDisplayModel",
      "state": {
       "model": {
        "alignmentForColumn": {},
        "alignmentForType": {},
        "cellHighlighters": [],
        "columnNames": [
         "Key",
         "Value"
        ],
        "columnOrder": [],
        "columnsFrozen": {},
        "columnsFrozenRight": {},
        "columnsVisible": {},
        "contextMenuItems": [],
        "contextMenuTags": {},
        "fontColor": [],
        "hasDoubleClickAction": false,
        "headersVertical": false,
        "rendererForColumn": {},
        "rendererForType": {},
        "stringFormatForColumn": {},
        "stringFormatForType": {},
        "subtype": "Dictionary",
        "timeZone": "UTC",
        "tooManyRows": false,
        "tooltips": [],
        "type": "TableDisplay",
        "types": [],
        "values": [
         [
          "CUR_USER",
          "SPLICE"
         ],
         [
          "EVAL_TIME",
          {
           "timestamp": 1605186342115,
           "type": "Date"
          }
         ],
         [
          "RUN_ID",
          "9a815a3cfcbf"
         ],
         [
          "CREDIT_SCORE",
          -2.38
         ],
         [
          "PREDICTION",
          "no_fraud"
         ],
         [
          "no_fraud",
          6
         ],
         [
          "fraud",
          0.006368495753459417
         ]
        ]
       }
      }
     },
     "188571c4-96ac-4d94-8cff-53239e9bc8c2": {
      "model_module": "beakerx",
      "model_module_version": "*",
      "model_name": "HTMLPreModel",
      "state": {
       "font_family": "",
       "font_size": "",
       "font_style": "",
       "font_weight": "",
       "layout": "IPY_MODEL_71d69283-fb41-4391-9a87-0065fcf6701b",
       "msg_throttle": 3,
       "placeholder": "",
       "value": "Query executed successfully. Affected rows : 0",
       "visible": true
      }
     },
     "19bfb7c76d1a41dab4a98158ee496245": {
      "model_module": "beakerx",
      "model_module_version": "*",
      "model_name": "TableDisplayModel",
      "state": {
       "layout": "IPY_MODEL_700ebc89473e4bae89cecf90a380b7bb",
       "model": {
        "alignmentForColumn": {},
        "alignmentForType": {},
        "cellHighlighters": [],
        "columnNames": [
         "TIME_OFFSET",
         "EXPECTED_WEEKLY_TRANS_CNT",
         "EXPECTED_WEEKLY_TRANS_AMNT",
         "EXPECTED_DAILY_TRANS_CNT",
         "EXPECTED_DAILY_TRANS_AMNT",
         "WEEKLY_TRANS_CNT",
         "WEEKLY_TRANS_AMNT",
         "DAILY_TRANS_CNT",
         "DAILY_TRANS_AMNT",
         "ROLLING_AVG_WEEKLY_TRANS_CNT",
         "ROLLING_AVG_WEEKLY_TRANS_AMNT",
         "ROLLING_AVG_DAILY_TRANS_CNT",
         "ROLLING_AVG_DAILY_TRANS_AMNT",
         "MACD_TRANS_AMNT",
         "MACD_TRANS_CNT",
         "RSI_TRANS_AMNT",
         "RSI_TRANS_CNT",
         "AROON_TRANS_AMNT",
         "AROON_TRANS_CNT",
         "ADX_TRANS_AMNT",
         "ADX_TRANS_CNT",
         "CURRENT_BALANCE",
         "ROLLING_AVG_BALANCE",
         "MACD_BALANCE",
         "AROON_BALANCE",
         "RSI_BALANCE",
         "ADX_BALANCE",
         "CREDIT_SCORE",
         "CREDIT_LIMIT",
         "AMOUNT",
         "label"
        ],
        "columnOrder": [],
        "columnsFrozen": {},
        "columnsFrozenRight": {},
        "columnsVisible": {},
        "contextMenuItems": [],
        "contextMenuTags": {},
        "fontColor": [],
        "hasDoubleClickAction": false,
        "headersVertical": false,
        "rendererForColumn": {},
        "rendererForType": {},
        "stringFormatForColumn": {},
        "stringFormatForTimes": "YYYY-MM-DD HH:mm:ss.SSS",
        "stringFormatForType": {},
        "subtype": "ListOfMaps",
        "tooManyRows": false,
        "tooltips": [],
        "type": "TableDisplay",
        "types": [
         "integer",
         "double",
         "double",
         "double",
         "double",
         "double",
         "double",
         "double",
         "double",
         "double",
         "double",
         "double",
         "double",
         "double",
         "double",
         "double",
         "double",
         "double",
         "double",
         "double",
         "double",
         "double",
         "double",
         "double",
         "double",
         "double",
         "double",
         "double",
         "double",
         "string",
         "integer"
        ],
        "values": [
         [
          "0",
          "-1.3598071336738",
          "-0.0727811733098497",
          "2.53634673796914",
          "1.37815522427443",
          "-0.338320769942518",
          "0.462387777762292",
          "0.239598554061257",
          "0.0986979012610507",
          "0.363786969611213",
          "0.0907941719789316",
          "-0.551599533260813",
          "-0.617800855762348",
          "-0.991389847235408",
          "-0.311169353699879",
          "1.46817697209427",
          "-0.470400525259478",
          "0.207971241929242",
          "0.0257905801985591",
          "0.403992960255733",
          "0.251412098239705",
          "-0.018306777944153",
          "0.277837575558899",
          "-0.110473910188767",
          "0.0669280749146731",
          "0.128539358273528",
          "-0.189114843888824",
          "0.133558376740387",
          "-0.0210530534538215",
          "149.62",
          "0"
         ],
         [
          "1",
          "-1.35835406159823",
          "-1.34016307473609",
          "1.77320934263119",
          "0.379779593034328",
          "-0.503198133318193",
          "1.80049938079263",
          "0.791460956450422",
          "0.247675786588991",
          "-1.51465432260583",
          "0.207642865216696",
          "0.624501459424895",
          "0.066083685268831",
          "0.717292731410831",
          "-0.165945922763554",
          "2.34586494901581",
          "-2.89008319444231",
          "1.10996937869599",
          "-0.121359313195888",
          "-2.26185709530414",
          "0.524979725224404",
          "0.247998153469754",
          "0.771679401917229",
          "0.909412262347719",
          "-0.689280956490685",
          "-0.327641833735251",
          "-0.139096571514147",
          "-0.0553527940384261",
          "-0.0597518405929204",
          "378.66",
          "0"
         ],
         [
          "2",
          "-1.15823309349523",
          "0.877736754848451",
          "1.548717846511",
          "0.403033933955121",
          "-0.407193377311653",
          "0.0959214624684256",
          "0.592940745385545",
          "-0.270532677192282",
          "0.817739308235294",
          "0.753074431976354",
          "-0.822842877946363",
          "0.53819555014995",
          "1.3458515932154",
          "-1.11966983471731",
          "0.175121130008994",
          "-0.451449182813529",
          "-0.237033239362776",
          "-0.0381947870352842",
          "0.803486924960175",
          "0.408542360392758",
          "-0.00943069713232919",
          "0.79827849458971",
          "-0.137458079619063",
          "0.141266983824769",
          "-0.206009587619756",
          "0.502292224181569",
          "0.219422229513348",
          "0.215153147499206",
          "69.99",
          "0"
         ],
         [
          "4",
          "1.22965763450793",
          "0.141003507049326",
          "0.0453707735899449",
          "1.20261273673594",
          "0.191880988597645",
          "0.272708122899098",
          "-0.00515900288250983",
          "0.0812129398830894",
          "0.464959994783886",
          "-0.0992543211289237",
          "-1.41690724314928",
          "-0.153825826253651",
          "-0.75106271556262",
          "0.16737196252175",
          "0.0501435942254188",
          "-0.443586797916727",
          "0.00282051247234708",
          "-0.61198733994012",
          "-0.0455750446637976",
          "-0.21963255278686",
          "-0.167716265815783",
          "-0.270709726172363",
          "-0.154103786809305",
          "-0.780055415004671",
          "0.75013693580659",
          "-0.257236845917139",
          "0.0345074297438413",
          "0.00516776890624916",
          "4.99",
          "0"
         ],
         [
          "7",
          "-0.644269442348146",
          "1.41796354547385",
          "1.0743803763556",
          "-0.492199018495015",
          "0.948934094764157",
          "0.428118462833089",
          "1.12063135838353",
          "-3.80786423873589",
          "0.615374730667027",
          "1.24937617815176",
          "-0.619467796121913",
          "0.291474353088705",
          "1.75796421396042",
          "-1.32386521970526",
          "0.686132504394383",
          "-0.0761269994382006",
          "-1.2221273453247",
          "-0.358221569869078",
          "0.324504731321494",
          "-0.156741852488285",
          "1.94346533978412",
          "-1.01545470979971",
          "0.057503529867291",
          "-0.649709005559993",
          "-0.415266566234811",
          "-0.0516342969262494",
          "-1.20692108094258",
          "-1.08533918832377",
          "40.80",
          "0"
         ],
         [
          "9",
          "-0.33826175242575",
          "1.11959337641566",
          "1.04436655157316",
          "-0.222187276738296",
          "0.49936080649727",
          "-0.24676110061991",
          "0.651583206489972",
          "0.0695385865186387",
          "-0.736727316364109",
          "-0.366845639206541",
          "1.01761446783262",
          "0.836389570307029",
          "1.00684351373408",
          "-0.443522816876142",
          "0.150219101422635",
          "0.739452777052119",
          "-0.540979921943059",
          "0.47667726004282",
          "0.451772964394125",
          "0.203711454727929",
          "-0.246913936910008",
          "-0.633752642406113",
          "-0.12079408408185",
          "-0.385049925313426",
          "-0.0697330460416923",
          "0.0941988339514961",
          "0.246219304619926",
          "0.0830756493473326",
          "3.68",
          "0"
         ],
         [
          "10",
          "1.44904378114715",
          "-1.17633882535966",
          "0.913859832832795",
          "-1.37566665499943",
          "-1.97138316545323",
          "-0.62915213889734",
          "-1.4232356010359",
          "0.0484558879088564",
          "-1.72040839292037",
          "1.62665905834133",
          "1.1996439495421",
          "-0.671439778462005",
          "-0.513947152539479",
          "-0.0950450453999549",
          "0.230930409124119",
          "0.0319674667862076",
          "0.253414715863197",
          "0.854343814324194",
          "-0.221365413645481",
          "-0.387226474431156",
          "-0.00930189652490052",
          "0.313894410791098",
          "0.0277401580170247",
          "0.500512287104917",
          "0.25136735874921",
          "-0.129477953726618",
          "0.0428498709381461",
          "0.0162532619375515",
          "7.80",
          "0"
         ],
         [
          "11",
          "1.0693735878819",
          "0.287722129331455",
          "0.828612726634281",
          "2.71252042961718",
          "-0.178398016248009",
          "0.337543730282968",
          "-0.0967168617395962",
          "0.115981735546597",
          "-0.221082566236194",
          "0.460230444301678",
          "-0.773656930526689",
          "0.32338724546722",
          "-0.0110758870883779",
          "-0.178485175177916",
          "-0.65556427824926",
          "-0.19992517131173",
          "0.1240054151819",
          "-0.980496201537345",
          "-0.982916082135047",
          "-0.153197231044512",
          "-0.0368755317335273",
          "0.0744124028162195",
          "-0.0714074332998586",
          "0.104743752596029",
          "0.548264725394119",
          "0.104094153162781",
          "0.0214910583643189",
          "0.021293311477486",
          "27.50",
          "0"
         ],
         [
          "12",
          "-2.7918547659339",
          "-0.327770756658658",
          "1.64175016056605",
          "1.76747274389883",
          "-0.136588446465306",
          "0.80759646826532",
          "-0.422911389711497",
          "-1.90710747624096",
          "0.755712908314791",
          "1.1510869876677",
          "0.844555470974377",
          "0.7929439518176",
          "0.370448092803246",
          "-0.734975105820311",
          "0.406795710431001",
          "-0.303057623825763",
          "-0.155868714793874",
          "0.778265457041536",
          "2.22186801373788",
          "-1.58212204356551",
          "1.15166304848789",
          "0.222181966098225",
          "1.02058620426601",
          "0.0283166513238872",
          "-0.232746324289105",
          "-0.23555721754117",
          "-0.16477751177654",
          "-0.0301536365592253",
          "58.80",
          "0"
         ],
         [
          "13",
          "-0.436905071360625",
          "0.918966212909322",
          "0.92459077438817",
          "-0.727219053596792",
          "0.915678718106307",
          "-0.127867352079254",
          "0.707641607333935",
          "0.0879623554672504",
          "-0.66527135413364",
          "-0.737979823596458",
          "0.32409781346169",
          "0.277192107214981",
          "0.252624256310781",
          "-0.291896460370468",
          "-0.184520169327133",
          "1.14317370716197",
          "-0.92870926272403",
          "0.680469592634687",
          "0.0254364616880793",
          "-0.0470212823165035",
          "-0.194795823794671",
          "-0.672637997017793",
          "-0.156857514491897",
          "-0.888386320943716",
          "-0.342413218776576",
          "-0.049026728633951",
          "0.0796923991551505",
          "0.131023789452311",
          "0.89",
          "0"
         ]
        ]
       }
      }
     },
     "1a3610d08c4a4e1887227d2056d008d9": {
      "model_module": "@jupyter-widgets/base",
      "model_module_version": "*",
      "model_name": "LayoutModel",
      "state": {
       "_model_module_version": "*",
       "_view_module_version": "*"
      }
     },
     "1b1c0e217b8c40249077c223f223bd51": {
      "model_module": "beakerx",
      "model_module_version": "*",
      "model_name": "TableDisplayModel",
      "state": {
       "layout": "IPY_MODEL_9bbf92d0e8af429fabfb532f36e53ccf",
       "model": {
        "alignmentForColumn": {},
        "alignmentForType": {},
        "cellHighlighters": [],
        "columnNames": [
         "TIME_OFFSET",
         "EXPECTED_WEEKLY_TRANS_CNT",
         "EXPECTED_WEEKLY_TRANS_AMNT",
         "EXPECTED_DAILY_TRANS_CNT",
         "EXPECTED_DAILY_TRANS_AMNT",
         "WEEKLY_TRANS_CNT",
         "WEEKLY_TRANS_AMNT",
         "DAILY_TRANS_CNT",
         "DAILY_TRANS_AMNT",
         "ROLLING_AVG_WEEKLY_TRANS_CNT",
         "ROLLING_AVG_WEEKLY_TRANS_AMNT",
         "ROLLING_AVG_DAILY_TRANS_CNT",
         "ROLLING_AVG_DAILY_TRANS_AMNT",
         "MACD_TRANS_AMNT",
         "MACD_TRANS_CNT",
         "RSI_TRANS_AMNT",
         "RSI_TRANS_CNT",
         "AROON_TRANS_AMNT",
         "AROON_TRANS_CNT",
         "ADX_TRANS_AMNT",
         "ADX_TRANS_CNT",
         "CURRENT_BALANCE",
         "ROLLING_AVG_BALANCE",
         "MACD_BALANCE",
         "AROON_BALANCE",
         "RSI_BALANCE",
         "ADX_BALANCE",
         "CREDIT_SCORE",
         "CREDIT_LIMIT",
         "AMOUNT",
         "label"
        ],
        "columnOrder": [],
        "columnsFrozen": {},
        "columnsFrozenRight": {},
        "columnsVisible": {},
        "contextMenuItems": [],
        "contextMenuTags": {},
        "fontColor": [],
        "hasDoubleClickAction": false,
        "headersVertical": false,
        "rendererForColumn": {},
        "rendererForType": {},
        "stringFormatForColumn": {},
        "stringFormatForTimes": "YYYY-MM-DD HH:mm:ss.SSS",
        "stringFormatForType": {},
        "subtype": "ListOfMaps",
        "tooManyRows": false,
        "tooltips": [],
        "type": "TableDisplay",
        "types": [
         "integer",
         "double",
         "double",
         "double",
         "double",
         "double",
         "double",
         "double",
         "double",
         "double",
         "double",
         "double",
         "double",
         "double",
         "double",
         "double",
         "double",
         "double",
         "double",
         "double",
         "double",
         "double",
         "double",
         "double",
         "double",
         "double",
         "double",
         "double",
         "double",
         "string",
         "integer"
        ],
        "values": [
         [
          "0",
          "-1.3598071336738",
          "-0.0727811733098497",
          "2.53634673796914",
          "1.37815522427443",
          "-0.338320769942518",
          "0.462387777762292",
          "0.239598554061257",
          "0.0986979012610507",
          "0.363786969611213",
          "0.0907941719789316",
          "-0.551599533260813",
          "-0.617800855762348",
          "-0.991389847235408",
          "-0.311169353699879",
          "1.46817697209427",
          "-0.470400525259478",
          "0.207971241929242",
          "0.0257905801985591",
          "0.403992960255733",
          "0.251412098239705",
          "-0.018306777944153",
          "0.277837575558899",
          "-0.110473910188767",
          "0.0669280749146731",
          "0.128539358273528",
          "-0.189114843888824",
          "0.133558376740387",
          "-0.0210530534538215",
          "149.62",
          "0"
         ],
         [
          "1",
          "-1.35835406159823",
          "-1.34016307473609",
          "1.77320934263119",
          "0.379779593034328",
          "-0.503198133318193",
          "1.80049938079263",
          "0.791460956450422",
          "0.247675786588991",
          "-1.51465432260583",
          "0.207642865216696",
          "0.624501459424895",
          "0.066083685268831",
          "0.717292731410831",
          "-0.165945922763554",
          "2.34586494901581",
          "-2.89008319444231",
          "1.10996937869599",
          "-0.121359313195888",
          "-2.26185709530414",
          "0.524979725224404",
          "0.247998153469754",
          "0.771679401917229",
          "0.909412262347719",
          "-0.689280956490685",
          "-0.327641833735251",
          "-0.139096571514147",
          "-0.0553527940384261",
          "-0.0597518405929204",
          "378.66",
          "0"
         ],
         [
          "2",
          "-1.15823309349523",
          "0.877736754848451",
          "1.548717846511",
          "0.403033933955121",
          "-0.407193377311653",
          "0.0959214624684256",
          "0.592940745385545",
          "-0.270532677192282",
          "0.817739308235294",
          "0.753074431976354",
          "-0.822842877946363",
          "0.53819555014995",
          "1.3458515932154",
          "-1.11966983471731",
          "0.175121130008994",
          "-0.451449182813529",
          "-0.237033239362776",
          "-0.0381947870352842",
          "0.803486924960175",
          "0.408542360392758",
          "-0.00943069713232919",
          "0.79827849458971",
          "-0.137458079619063",
          "0.141266983824769",
          "-0.206009587619756",
          "0.502292224181569",
          "0.219422229513348",
          "0.215153147499206",
          "69.99",
          "0"
         ],
         [
          "4",
          "1.22965763450793",
          "0.141003507049326",
          "0.0453707735899449",
          "1.20261273673594",
          "0.191880988597645",
          "0.272708122899098",
          "-0.00515900288250983",
          "0.0812129398830894",
          "0.464959994783886",
          "-0.0992543211289237",
          "-1.41690724314928",
          "-0.153825826253651",
          "-0.75106271556262",
          "0.16737196252175",
          "0.0501435942254188",
          "-0.443586797916727",
          "0.00282051247234708",
          "-0.61198733994012",
          "-0.0455750446637976",
          "-0.21963255278686",
          "-0.167716265815783",
          "-0.270709726172363",
          "-0.154103786809305",
          "-0.780055415004671",
          "0.75013693580659",
          "-0.257236845917139",
          "0.0345074297438413",
          "0.00516776890624916",
          "4.99",
          "0"
         ],
         [
          "7",
          "-0.644269442348146",
          "1.41796354547385",
          "1.0743803763556",
          "-0.492199018495015",
          "0.948934094764157",
          "0.428118462833089",
          "1.12063135838353",
          "-3.80786423873589",
          "0.615374730667027",
          "1.24937617815176",
          "-0.619467796121913",
          "0.291474353088705",
          "1.75796421396042",
          "-1.32386521970526",
          "0.686132504394383",
          "-0.0761269994382006",
          "-1.2221273453247",
          "-0.358221569869078",
          "0.324504731321494",
          "-0.156741852488285",
          "1.94346533978412",
          "-1.01545470979971",
          "0.057503529867291",
          "-0.649709005559993",
          "-0.415266566234811",
          "-0.0516342969262494",
          "-1.20692108094258",
          "-1.08533918832377",
          "40.80",
          "0"
         ],
         [
          "9",
          "-0.33826175242575",
          "1.11959337641566",
          "1.04436655157316",
          "-0.222187276738296",
          "0.49936080649727",
          "-0.24676110061991",
          "0.651583206489972",
          "0.0695385865186387",
          "-0.736727316364109",
          "-0.366845639206541",
          "1.01761446783262",
          "0.836389570307029",
          "1.00684351373408",
          "-0.443522816876142",
          "0.150219101422635",
          "0.739452777052119",
          "-0.540979921943059",
          "0.47667726004282",
          "0.451772964394125",
          "0.203711454727929",
          "-0.246913936910008",
          "-0.633752642406113",
          "-0.12079408408185",
          "-0.385049925313426",
          "-0.0697330460416923",
          "0.0941988339514961",
          "0.246219304619926",
          "0.0830756493473326",
          "3.68",
          "0"
         ],
         [
          "10",
          "1.44904378114715",
          "-1.17633882535966",
          "0.913859832832795",
          "-1.37566665499943",
          "-1.97138316545323",
          "-0.62915213889734",
          "-1.4232356010359",
          "0.0484558879088564",
          "-1.72040839292037",
          "1.62665905834133",
          "1.1996439495421",
          "-0.671439778462005",
          "-0.513947152539479",
          "-0.0950450453999549",
          "0.230930409124119",
          "0.0319674667862076",
          "0.253414715863197",
          "0.854343814324194",
          "-0.221365413645481",
          "-0.387226474431156",
          "-0.00930189652490052",
          "0.313894410791098",
          "0.0277401580170247",
          "0.500512287104917",
          "0.25136735874921",
          "-0.129477953726618",
          "0.0428498709381461",
          "0.0162532619375515",
          "7.80",
          "0"
         ],
         [
          "11",
          "1.0693735878819",
          "0.287722129331455",
          "0.828612726634281",
          "2.71252042961718",
          "-0.178398016248009",
          "0.337543730282968",
          "-0.0967168617395962",
          "0.115981735546597",
          "-0.221082566236194",
          "0.460230444301678",
          "-0.773656930526689",
          "0.32338724546722",
          "-0.0110758870883779",
          "-0.178485175177916",
          "-0.65556427824926",
          "-0.19992517131173",
          "0.1240054151819",
          "-0.980496201537345",
          "-0.982916082135047",
          "-0.153197231044512",
          "-0.0368755317335273",
          "0.0744124028162195",
          "-0.0714074332998586",
          "0.104743752596029",
          "0.548264725394119",
          "0.104094153162781",
          "0.0214910583643189",
          "0.021293311477486",
          "27.50",
          "0"
         ],
         [
          "12",
          "-2.7918547659339",
          "-0.327770756658658",
          "1.64175016056605",
          "1.76747274389883",
          "-0.136588446465306",
          "0.80759646826532",
          "-0.422911389711497",
          "-1.90710747624096",
          "0.755712908314791",
          "1.1510869876677",
          "0.844555470974377",
          "0.7929439518176",
          "0.370448092803246",
          "-0.734975105820311",
          "0.406795710431001",
          "-0.303057623825763",
          "-0.155868714793874",
          "0.778265457041536",
          "2.22186801373788",
          "-1.58212204356551",
          "1.15166304848789",
          "0.222181966098225",
          "1.02058620426601",
          "0.0283166513238872",
          "-0.232746324289105",
          "-0.23555721754117",
          "-0.16477751177654",
          "-0.0301536365592253",
          "58.80",
          "0"
         ],
         [
          "13",
          "-0.436905071360625",
          "0.918966212909322",
          "0.92459077438817",
          "-0.727219053596792",
          "0.915678718106307",
          "-0.127867352079254",
          "0.707641607333935",
          "0.0879623554672504",
          "-0.66527135413364",
          "-0.737979823596458",
          "0.32409781346169",
          "0.277192107214981",
          "0.252624256310781",
          "-0.291896460370468",
          "-0.184520169327133",
          "1.14317370716197",
          "-0.92870926272403",
          "0.680469592634687",
          "0.0254364616880793",
          "-0.0470212823165035",
          "-0.194795823794671",
          "-0.672637997017793",
          "-0.156857514491897",
          "-0.888386320943716",
          "-0.342413218776576",
          "-0.049026728633951",
          "0.0796923991551505",
          "0.131023789452311",
          "0.89",
          "0"
         ]
        ]
       }
      }
     },
     "1c07b390-564e-4404-a694-fc413f470fe7": {
      "model_module": "beakerx",
      "model_module_version": "*",
      "model_name": "TableDisplayModel",
      "state": {
       "model": {
        "alignmentForColumn": {},
        "alignmentForType": {},
        "cellHighlighters": [],
        "columnNames": [
         "Key",
         "Value"
        ],
        "columnOrder": [],
        "columnsFrozen": {},
        "columnsFrozenRight": {},
        "columnsVisible": {},
        "contextMenuItems": [],
        "contextMenuTags": {},
        "fontColor": [],
        "hasDoubleClickAction": false,
        "headersVertical": false,
        "rendererForColumn": {},
        "rendererForType": {},
        "stringFormatForColumn": {},
        "stringFormatForType": {},
        "subtype": "Dictionary",
        "timeZone": "UTC",
        "tooManyRows": false,
        "tooltips": [],
        "type": "TableDisplay",
        "types": [],
        "values": [
         [
          "CUR_USER",
          "SPLICE"
         ],
         [
          "EVAL_TIME",
          {
           "timestamp": 1605186342115,
           "type": "Date"
          }
         ],
         [
          "RUN_ID",
          "9a815a3cfcbf"
         ],
         [
          "CREDIT_SCORE",
          -2.38
         ],
         [
          "PREDICTION",
          "no_fraud"
         ],
         [
          "no_fraud",
          6
         ],
         [
          "fraud",
          0.006368495753459417
         ]
        ]
       }
      }
     },
     "1c7da25e9d9c440abd002b022b716186": {
      "model_module": "beakerx",
      "model_module_version": "*",
      "model_name": "TableDisplayModel",
      "state": {
       "layout": "IPY_MODEL_3705840a50d14963b38abd2b25d48765",
       "model": {
        "alignmentForColumn": {},
        "alignmentForType": {},
        "cellHighlighters": [],
        "columnNames": [
         "",
         "family",
         "link",
         "regularization",
         "lambda_search",
         "number_of_predictors_total",
         "number_of_active_predictors",
         "number_of_iterations",
         "training_frame"
        ],
        "columnOrder": [],
        "columnsFrozen": {},
        "columnsFrozenRight": {},
        "columnsVisible": {},
        "contextMenuItems": [],
        "contextMenuTags": {},
        "fontColor": [],
        "hasDoubleClickAction": false,
        "headersVertical": false,
        "rendererForColumn": {},
        "rendererForType": {},
        "stringFormatForColumn": {},
        "stringFormatForTimes": "YYYY-MM-DD HH:mm:ss.SSS",
        "stringFormatForType": {},
        "subtype": "ListOfMaps",
        "tooManyRows": false,
        "tooltips": [],
        "type": "TableDisplay",
        "types": [
         "string",
         "string",
         "string",
         "string",
         "string",
         "integer",
         "string",
         "integer",
         "string"
        ],
        "values": [
         [
          "",
          "binomial",
          "logit",
          "Ridge ( lambda = 6.919E-4 )",
          "nlambda = 30, lambda.max = 1.4138, lambda.min = 6.919E-4, lambda.1se = 0.007491",
          "30",
          "30",
          "42",
          "automl_training_py_13_sid_805a"
         ]
        ]
       }
      }
     },
     "1c9f6b8b43924a06af115f97a3c10346": {
      "model_module": "@jupyter-widgets/controls",
      "model_module_version": "1.5.0",
      "model_name": "ProgressStyleModel",
      "state": {
       "description_width": "initial"
      }
     },
     "1e5130d53bb14c33abb3d03306037fe9": {
      "model_module": "beakerx",
      "model_module_version": "*",
      "model_name": "TableDisplayModel",
      "state": {
       "layout": "IPY_MODEL_85b5b28d160944b59daedd9a19ebf3fc",
       "model": {
        "alignmentForColumn": {},
        "alignmentForType": {},
        "cellHighlighters": [],
        "columnNames": [
         "c0",
         "c1",
         "c2",
         "c3",
         "c4",
         "c5",
         "c6",
         "c7",
         "c8",
         "c9"
        ],
        "columnOrder": [],
        "columnsFrozen": {},
        "columnsFrozenRight": {},
        "columnsVisible": {},
        "contextMenuItems": [],
        "contextMenuTags": {},
        "fontColor": [],
        "hasDoubleClickAction": false,
        "headersVertical": false,
        "rendererForColumn": {},
        "rendererForType": {},
        "stringFormatForColumn": {},
        "stringFormatForTimes": "YYYY-MM-DD HH:mm:ss.SSS",
        "stringFormatForType": {},
        "subtype": "ListOfMaps",
        "tooManyRows": false,
        "tooltips": [],
        "type": "TableDisplay",
        "types": [
         "string",
         "string",
         "string",
         "string",
         "string",
         "string",
         "string",
         "string",
         "string",
         "time"
        ],
        "values": [
         [
          "3103c0e650df",
          "DEPLOYED",
          "Table or Trigger Missing",
          "03210338-0175-b800-401b-0004ba2359d8",
          "INSERT",
          "d2680341-0175-b800-401b-0004ba2359d8",
          "None",
          "PROD",
          "splice",
          {
           "timestamp": 1605136182000,
           "type": "Date",
           "tz": "UTC"
          }
         ],
         [
          "3103c0e650df",
          "DEPLOYED",
          "Table or Trigger Missing",
          "947e02f1-0175-b800-401b-0004ba2359d8",
          "INSERT",
          "e32542fa-0175-b800-401b-0004ba2359d8",
          "None",
          "PROD",
          "splice",
          {
           "timestamp": 1605135690000,
           "type": "Date",
           "tz": "UTC"
          }
         ],
         [
          "4a7d5f911722",
          "DEPLOYED",
          "Table or Trigger Missing",
          "d226c673-0175-89a1-6341-0004e8b04b38",
          "INSERT",
          "bf300680-0175-89a1-6341-0004e8b04b38",
          "1c63868d-0175-89a1-6341-0004e8b04b38",
          "PROD",
          "splice",
          {
           "timestamp": 1604378308000,
           "type": "Date",
           "tz": "UTC"
          }
         ],
         [
          "7d1379351b60",
          "DEPLOYED",
          "Table or Trigger Missing",
          "8e958264-0175-89a1-6341-0004e8b04b38",
          "INSERT",
          "3e6e0271-0175-89a1-6341-0004e8b04b38",
          "None",
          "PROD",
          "splice",
          {
           "timestamp": 1604353068000,
           "type": "Date",
           "tz": "UTC"
          }
         ],
         [
          "9a815a3cfcbf",
          "DEPLOYED",
          "DEPLOYED",
          "8bd605b1-0175-b800-401b-0004ba2359d8",
          "INSERT",
          "e0ad45ba-0175-b800-401b-0004ba2359d8",
          "c598c5c3-0175-b800-401b-0004ba2359d8",
          "PROD",
          "splice",
          {
           "timestamp": 1605186334000,
           "type": "Date",
           "tz": "UTC"
          }
         ],
         [
          "9a815a3cfcbf",
          "DEPLOYED",
          "DEPLOYED",
          "9a160850-0175-b800-24a7-0004d7855b58",
          "INSERT",
          "afcdc60b-0175-b800-401b-0004ba2359d8",
          "f56f8614-0175-b800-401b-0004ba2359d8",
          "PROD",
          "splice",
          {
           "timestamp": 1605186416000,
           "type": "Date",
           "tz": "UTC"
          }
         ],
         [
          "a822dcc2e3e7",
          "DEPLOYED",
          "Table or Trigger Missing",
          "7bed0929-0175-89a1-643e-0004e84c99c8",
          "INSERT",
          "44a6ca73-0175-89a1-6341-0004e8b04b38",
          "None",
          "PROD",
          "splice",
          {
           "timestamp": 1604501266000,
           "type": "Date",
           "tz": "UTC"
          }
         ],
         [
          "f251f7b5fb3e",
          "DEPLOYED",
          "Table or Trigger Missing",
          "4a55437a-0175-b800-401b-0004ba2359d8",
          "INSERT",
          "2a30c383-0175-b800-401b-0004ba2359d8",
          "None",
          "PROD",
          "splice",
          {
           "timestamp": 1605136278000,
           "type": "Date",
           "tz": "UTC"
          }
         ]
        ]
       }
      }
     },
     "1ffd2b00f1dc466aafa163065a88ed49": {
      "model_module": "beakerx",
      "model_module_version": "*",
      "model_name": "TableDisplayModel",
      "state": {
       "layout": "IPY_MODEL_982bc9f6813341ec909da7297a877b4d",
       "model": {
        "alignmentForColumn": {},
        "alignmentForType": {},
        "cellHighlighters": [],
        "columnNames": [
         "",
         "group",
         "cumulative_data_fraction",
         "lower_threshold",
         "lift",
         "cumulative_lift",
         "response_rate",
         "score",
         "cumulative_response_rate",
         "cumulative_score",
         "capture_rate",
         "cumulative_capture_rate",
         "gain",
         "cumulative_gain"
        ],
        "columnOrder": [],
        "columnsFrozen": {},
        "columnsFrozenRight": {},
        "columnsVisible": {},
        "contextMenuItems": [],
        "contextMenuTags": {},
        "fontColor": [],
        "hasDoubleClickAction": false,
        "headersVertical": false,
        "rendererForColumn": {},
        "rendererForType": {},
        "stringFormatForColumn": {},
        "stringFormatForTimes": "YYYY-MM-DD HH:mm:ss.SSS",
        "stringFormatForType": {},
        "subtype": "ListOfMaps",
        "tooManyRows": false,
        "tooltips": [],
        "type": "TableDisplay",
        "types": [
         "string",
         "integer",
         "double",
         "double",
         "double",
         "double",
         "double",
         "double",
         "double",
         "double",
         "double",
         "double",
         "double",
         "double"
        ],
        "values": [
         [
          "",
          "1",
          "0.010001603922736751",
          "0.004970724504240025",
          "89.207248732775",
          "89.207248732775",
          "0.1706758304696449",
          "0.14197882769567152",
          "0.1706758304696449",
          "0.14197882769567152",
          "0.8922155688622755",
          "0.8922155688622755",
          "8820.7248732775",
          "8820.7248732775"
         ],
         [
          "",
          "2",
          "0.020003207845473502",
          "0.002765552789812745",
          "0.5987063673340605",
          "44.90297755005453",
          "0.001145475372279496",
          "0.003693803836066438",
          "0.0859106529209622",
          "0.07283631576586898",
          "0.005988023952095809",
          "0.8982035928143712",
          "-40.129363266593955",
          "4390.297755005453"
         ],
         [
          "",
          "3",
          "0.03000481176821025",
          "0.0018826909471787035",
          "0.5987063673340605",
          "30.134887155814372",
          "0.001145475372279496",
          "0.0022401279477883345",
          "0.057655593738067966",
          "0.0493042531598421",
          "0.005988023952095809",
          "0.9041916167664671",
          "-40.129363266593955",
          "2913.488715581437"
         ],
         [
          "",
          "4",
          "0.040006415690947005",
          "0.0015546995536615976",
          "0.5987063673340605",
          "22.750841958694295",
          "0.001145475372279496",
          "0.0016970483491627298",
          "0.043528064146620846",
          "0.037402451957172254",
          "0.005988023952095809",
          "0.9101796407185628",
          "-40.129363266593955",
          "2175.0841958694295"
         ],
         [
          "",
          "5",
          "0.05000801961368375",
          "0.0013925837495549246",
          "0.0",
          "18.200673566955437",
          "0.0",
          "0.0014677561680561694",
          "0.03482245131729668",
          "0.030215512799349042",
          "0.0",
          "0.9101796407185628",
          "-100.0",
          "1720.0673566955438"
         ],
         [
          "",
          "6",
          "0.10000458263639071",
          "0.001001355726830304",
          "0.4790748475551189",
          "9.340889306276896",
          "0.0009165902841429881",
          "0.001169334020588168",
          "0.017871462939626534",
          "0.015694087184672394",
          "0.023952095808383235",
          "0.9341317365269461",
          "-52.092515244488105",
          "834.0889306276896"
         ],
         [
          "",
          "7",
          "0.15000114565909767",
          "0.0007673982060937065",
          "0.0",
          "6.2274973462530365",
          "0.0",
          "0.0008740992408402902",
          "0.011914763614144962",
          "0.010754468503935872",
          "0.0",
          "0.9341317365269461",
          "-100.0",
          "522.7497346253036"
         ],
         [
          "",
          "8",
          "0.20000916527278143",
          "0.0006409353568299413",
          "0.0",
          "4.670444653138448",
          "0.0",
          "0.0006973118767943893",
          "0.008935731469813267",
          "0.008239891308525597",
          "0.0",
          "0.9341317365269461",
          "-100.0",
          "367.0444653138448"
         ],
         [
          "",
          "9",
          "0.30000229131819534",
          "0.0005159995980290137",
          "0.3593061356663392",
          "3.2335082374775386",
          "0.000687442713107241",
          "0.0005707754246930823",
          "0.006186511876575269",
          "0.00568371459447648",
          "0.03592814371257485",
          "0.9700598802395209",
          "-64.06938643336608",
          "223.35082374775385"
         ],
         [
          "",
          "10",
          "0.40000687395458606",
          "0.0004447207709125305",
          "0.05987749555305702",
          "2.440077828018601",
          "0.00011456065986940085",
          "0.00047818882620359203",
          "0.004668480595732493",
          "0.004382295879561572",
          "0.005988023952095809",
          "0.9760479041916168",
          "-94.0122504446943",
          "144.0077828018601"
         ],
         [
          "",
          "11",
          "0.5",
          "0.0003918491052545682",
          "0.059884355944389865",
          "1.964071856287425",
          "0.00011457378551787351",
          "0.0004175406766411389",
          "0.0037577618403867746",
          "0.0035893993460719047",
          "0.005988023952095809",
          "0.9820359281437125",
          "-94.011564405561",
          "96.40718562874251"
         ],
         [
          "",
          "12",
          "0.6000045826363907",
          "0.000341148132431082",
          "0.0",
          "1.6367140461306058",
          "0.0",
          "0.00036644327920921677",
          "0.0031314442832047658",
          "0.0030522194883684673",
          "0.0",
          "0.9820359281437125",
          "-100.0",
          "63.67140461306058"
         ],
         [
          "",
          "13",
          "0.6999977086818047",
          "0.00029475618764278377",
          "0.11976871188877973",
          "1.4200217568137048",
          "0.00022914757103574703",
          "0.0003172002813856028",
          "0.002716857610474632",
          "0.00266152803765576",
          "0.011976047904191617",
          "0.9940119760479041",
          "-88.02312881112204",
          "42.00217568137048"
         ],
         [
          "",
          "14",
          "0.8000022913181953",
          "0.0002510668378716183",
          "0.0",
          "1.2425114113236244",
          "0.0",
          "0.0002732980243852598",
          "0.0023772358189290983",
          "0.0023629864605769213",
          "0.0",
          "0.9940119760479041",
          "-100.0",
          "24.25114113236244"
         ],
         [
          "",
          "15",
          "0.8999954173636093",
          "0.0001965101256165367",
          "0.0",
          "1.1044633748910646",
          "0.0",
          "0.00022571598728022605",
          "0.00211311531754013",
          "0.0021255270783330274",
          "0.0",
          "0.9940119760479041",
          "-100.0",
          "10.446337489106462"
         ],
         [
          "",
          "16",
          "1.0",
          "4.1113762352401186e-08",
          "0.05987749555305702",
          "1.0",
          "0.00011456065986940085",
          "0.0001421400749555128",
          "0.0019132506931237542",
          "0.0019271792888538174",
          "0.005988023952095809",
          "1.0",
          "-94.0122504446943",
          "0.0"
         ]
        ]
       }
      }
     },
     "21c6df0fad864db49a246ac403bd036b": {
      "model_module": "beakerx",
      "model_module_version": "*",
      "model_name": "TableDisplayModel",
      "state": {
       "layout": "IPY_MODEL_4b397c4e175c4c28951cd3508c3491c1",
       "model": {
        "alignmentForColumn": {},
        "alignmentForType": {},
        "cellHighlighters": [],
        "columnNames": [
         "variable",
         "relative_importance",
         "scaled_importance",
         "percentage"
        ],
        "columnOrder": [],
        "columnsFrozen": {},
        "columnsFrozenRight": {},
        "columnsVisible": {},
        "contextMenuItems": [],
        "contextMenuTags": {},
        "fontColor": [],
        "hasDoubleClickAction": false,
        "headersVertical": false,
        "rendererForColumn": {},
        "rendererForType": {},
        "stringFormatForColumn": {},
        "stringFormatForTimes": "YYYY-MM-DD HH:mm:ss.SSS",
        "stringFormatForType": {},
        "subtype": "ListOfMaps",
        "tooManyRows": false,
        "tooltips": [],
        "type": "TableDisplay",
        "types": [
         "string",
         "double",
         "double",
         "double"
        ],
        "values": [
         [
          "AROON_TRANS_AMNT",
          "122.01236724853516",
          "1.0",
          "0.2331681264855134"
         ],
         [
          "MACD_TRANS_CNT",
          "58.645469665527344",
          "0.48065184692358653",
          "0.11207269063897446"
         ],
         [
          "DAILY_TRANS_AMNT",
          "37.51778030395508",
          "0.3074916186777411",
          "0.0716972446370868"
         ],
         [
          "ROLLING_AVG_WEEKLY_TRANS_AMNT",
          "29.550371170043945",
          "0.24219160595295078",
          "0.05647136301056726"
         ],
         [
          "ROLLING_AVG_DAILY_TRANS_AMNT",
          "29.229001998901367",
          "0.23955769942044364",
          "0.05585721995904461"
         ],
         [
          "ROLLING_AVG_WEEKLY_TRANS_CNT",
          "26.068864822387695",
          "0.21365756119858145",
          "0.04981813325413716"
         ],
         [
          "ADX_TRANS_AMNT",
          "19.092605590820312",
          "0.15648090452936878",
          "0.03648635933987141"
         ],
         [
          "TIME_OFFSET",
          "18.201040267944336",
          "0.1491737327812796",
          "0.034782559793461586"
         ],
         [
          "EXPECTED_WEEKLY_TRANS_AMNT",
          "16.98693084716797",
          "0.1392230249296463",
          "0.03246237188649156"
         ],
         [
          "AROON_TRANS_CNT",
          "16.880414962768555",
          "0.13835003240600774",
          "0.03225881785531889"
         ],
         [
          "ROLLING_AVG_DAILY_TRANS_CNT",
          "16.678730010986328",
          "0.13669704462837204",
          "0.031873393792104125"
         ],
         [
          "RSI_TRANS_CNT",
          "14.710431098937988",
          "0.12056508230000429",
          "0.028111934359463735"
         ],
         [
          "RSI_BALANCE",
          "12.86658000946045",
          "0.10545308069674324",
          "0.02458829725818528"
         ],
         [
          "EXPECTED_WEEKLY_TRANS_CNT",
          "12.685226440429688",
          "0.10396672670558306",
          "0.024241726882772197"
         ],
         [
          "ROLLING_AVG_BALANCE",
          "11.471383094787598",
          "0.09401819957661152",
          "0.0219220474508196"
         ],
         [
          "WEEKLY_TRANS_CNT",
          "11.291586875915527",
          "0.09254460945680153",
          "0.02157845320337594"
         ],
         [
          "ADX_TRANS_CNT",
          "10.798659324645996",
          "0.08850462922868699",
          "0.020636458582547958"
         ],
         [
          "EXPECTED_DAILY_TRANS_AMNT",
          "8.341546058654785",
          "0.06836639798704447",
          "0.015940864933202136"
         ],
         [
          "CURRENT_BALANCE",
          "7.650208950042725",
          "0.06270027475542296",
          "0.014619705594848906"
         ],
         [
          "DAILY_TRANS_CNT",
          "7.606193542480469",
          "0.06233952929531237",
          "0.014535591251776763"
         ]
        ]
       }
      }
     },
     "2689adcefe79485dacc96fa3895a6897": {
      "model_module": "beakerx",
      "model_module_version": "*",
      "model_name": "TableDisplayModel",
      "state": {
       "layout": "IPY_MODEL_1324e1490ed74ad58057c27625f0c72f",
       "model": {
        "alignmentForColumn": {},
        "alignmentForType": {},
        "cellHighlighters": [],
        "columnNames": [
         "",
         "number_of_trees",
         "number_of_internal_trees",
         "model_size_in_bytes",
         "min_depth",
         "max_depth",
         "mean_depth",
         "min_leaves",
         "max_leaves",
         "mean_leaves"
        ],
        "columnOrder": [],
        "columnsFrozen": {},
        "columnsFrozenRight": {},
        "columnsVisible": {},
        "contextMenuItems": [],
        "contextMenuTags": {},
        "fontColor": [],
        "hasDoubleClickAction": false,
        "headersVertical": false,
        "rendererForColumn": {},
        "rendererForType": {},
        "stringFormatForColumn": {},
        "stringFormatForTimes": "YYYY-MM-DD HH:mm:ss.SSS",
        "stringFormatForType": {},
        "subtype": "ListOfMaps",
        "tooManyRows": false,
        "tooltips": [],
        "type": "TableDisplay",
        "types": [
         "string",
         "double",
         "double",
         "double",
         "double",
         "double",
         "double",
         "double",
         "double",
         "double"
        ],
        "values": [
         [
          "",
          "35.0",
          "35.0",
          "10950.0",
          "8.0",
          "8.0",
          "8.0",
          "11.0",
          "39.0",
          "20.285715"
         ]
        ]
       }
      }
     },
     "2cb97e10-b607-486c-aafc-da62238c806c": {
      "model_module": "beakerx",
      "model_module_version": "*",
      "model_name": "TableDisplayModel",
      "state": {
       "model": {
        "alignmentForColumn": {},
        "alignmentForType": {},
        "cellHighlighters": [],
        "columnNames": [
         "CUR_USER",
         "EVAL_TIME",
         "RUN_ID",
         "PREDICTION",
         "fraud",
         "no_fraud"
        ],
        "columnOrder": [],
        "columnsFrozen": {},
        "columnsFrozenRight": {},
        "columnsVisible": {},
        "contextMenuItems": [],
        "contextMenuTags": {},
        "fontColor": [],
        "hasDoubleClickAction": false,
        "headersVertical": false,
        "rendererForColumn": {},
        "rendererForType": {},
        "stringFormatForColumn": {},
        "stringFormatForType": {},
        "subtype": "TableDisplay",
        "timeZone": "UTC",
        "tooManyRows": false,
        "tooltips": [],
        "type": "TableDisplay",
        "types": [
         "java.lang.String",
         "java.sql.Timestamp",
         "java.lang.String",
         "java.lang.String",
         "java.lang.Integer",
         "java.lang.Double"
        ],
        "values": [
         [
          "SPLICE",
          {
           "timestamp": 1606846844032,
           "type": "Date"
          },
          "cebe35cc4fd3",
          "no_fraud",
          5,
          0.999978087821504
         ],
         [
          "SPLICE",
          {
           "timestamp": 1606846844365,
           "type": "Date"
          },
          "cebe35cc4fd3",
          "fraud",
          6,
          0.007519204944624325
         ]
        ]
       }
      }
     },
     "2d152ba1-4d43-404b-b7b5-02e14a050350": {
      "model_module": "@jupyter-widgets/base",
      "model_module_version": "*",
      "model_name": "LayoutModel",
      "state": {
       "_model_module_version": "*",
       "_view_module_version": "*",
       "align_content": "",
       "align_self": "",
       "border": "",
       "bottom": "",
       "flex": "",
       "height": "",
       "justify_content": "",
       "left": "",
       "margin": "",
       "max_height": "",
       "max_width": "",
       "min_height": "",
       "min_width": "",
       "msg_throttle": 3,
       "overflow": "",
       "overflow_x": "",
       "overflow_y": "",
       "padding": "",
       "right": "",
       "top": ""
      }
     },
     "2f21b6b34e334d89a5b25c7c0d445d8e": {
      "model_module": "beakerx",
      "model_module_version": "*",
      "model_name": "TableDisplayModel",
      "state": {
       "layout": "IPY_MODEL_b2a819c2db4f4f80870de71a32756e5e",
       "model": {
        "alignmentForColumn": {},
        "alignmentForType": {},
        "cellHighlighters": [],
        "columnNames": [
         "",
         "0",
         "1",
         "Error",
         "Rate"
        ],
        "columnOrder": [],
        "columnsFrozen": {},
        "columnsFrozenRight": {},
        "columnsVisible": {},
        "contextMenuItems": [],
        "contextMenuTags": {},
        "fontColor": [],
        "hasDoubleClickAction": false,
        "headersVertical": false,
        "rendererForColumn": {},
        "rendererForType": {},
        "stringFormatForColumn": {},
        "stringFormatForTimes": "YYYY-MM-DD HH:mm:ss.SSS",
        "stringFormatForType": {},
        "subtype": "ListOfMaps",
        "tooManyRows": false,
        "tooltips": [],
        "type": "TableDisplay",
        "types": [
         "string",
         "double",
         "double",
         "string",
         "string"
        ],
        "values": [
         [
          "0",
          "87068.0",
          "51.0",
          "0.0006",
          " (51.0/87119.0)"
         ],
         [
          "1",
          "59.0",
          "108.0",
          "0.3533",
          " (59.0/167.0)"
         ],
         [
          "Total",
          "87127.0",
          "159.0",
          "0.0013",
          " (110.0/87286.0)"
         ]
        ]
       }
      }
     },
     "30abc2c1e61e48f086ca8fe3b840c053": {
      "model_module": "beakerx",
      "model_module_version": "*",
      "model_name": "TableDisplayModel",
      "state": {
       "layout": "IPY_MODEL_84580af7ffac4d11a28bc877d6307044",
       "model": {
        "alignmentForColumn": {},
        "alignmentForType": {},
        "cellHighlighters": [],
        "columnNames": [
         "RUN_UUID",
         "ACTION",
         "DEPLOYMENT_STATUS",
         "TABLEID",
         "TRIGGER_TYPE",
         "TRIGGERID",
         "TRIGGERID_2",
         "DB_ENV",
         "DB_USER",
         "ACTION_DATE"
        ],
        "columnOrder": [],
        "columnsFrozen": {},
        "columnsFrozenRight": {},
        "columnsVisible": {},
        "contextMenuItems": [],
        "contextMenuTags": {},
        "fontColor": [],
        "hasDoubleClickAction": false,
        "headersVertical": false,
        "rendererForColumn": {},
        "rendererForType": {},
        "stringFormatForColumn": {},
        "stringFormatForTimes": "YYYY-MM-DD HH:mm:ss.SSS",
        "stringFormatForType": {},
        "subtype": "ListOfMaps",
        "tooManyRows": false,
        "tooltips": [],
        "type": "TableDisplay",
        "types": [
         "string",
         "string",
         "string",
         "string",
         "string",
         "string",
         "string",
         "string",
         "string",
         "time"
        ],
        "values": [
         [
          "088546c085dc",
          "DEPLOYED",
          "Table or Trigger Missing",
          "6bf0c67e-0175-b800-401b-0004ba2359d8",
          "INSERT",
          "32954687-0175-b800-401b-0004ba2359d8",
          "None",
          "PROD",
          "splice",
          {
           "timestamp": 1605187388000,
           "type": "Date",
           "tz": "UTC"
          }
         ],
         [
          "088546c085dc",
          "DEPLOYED",
          "Table or Trigger Missing",
          "bf798644-0175-b800-401b-0004ba2359d8",
          "INSERT",
          "b59b864d-0175-b800-401b-0004ba2359d8",
          "None",
          "PROD",
          "splice",
          {
           "timestamp": 1605187379000,
           "type": "Date",
           "tz": "UTC"
          }
         ],
         [
          "18b42534620b",
          "DEPLOYED",
          "DEPLOYED",
          "1f824bb2-0175-dbbf-de0f-0004da2b5910",
          "INSERT",
          "51dbcbbb-0175-dbbf-de0f-0004da2b5910",
          "24498bc4-0175-dbbf-de0f-0004da2b5910",
          "PROD",
          "splice",
          {
           "timestamp": 1605716348000,
           "type": "Date",
           "tz": "UTC"
          }
         ],
         [
          "30673021d4cc",
          "DEPLOYED",
          "Table or Trigger Missing",
          "7f100780-0175-b800-401b-0004ba2359d8",
          "INSERT",
          "17f90789-0175-b800-401b-0004ba2359d8",
          "30f64792-0175-b800-401b-0004ba2359d8",
          "PROD",
          "FeatureStore",
          {
           "timestamp": 1605188010000,
           "type": "Date",
           "tz": "UTC"
          }
         ],
         [
          "3103c0e650df",
          "DEPLOYED",
          "Table or Trigger Missing",
          "03210338-0175-b800-401b-0004ba2359d8",
          "INSERT",
          "d2680341-0175-b800-401b-0004ba2359d8",
          "None",
          "PROD",
          "splice",
          {
           "timestamp": 1605136182000,
           "type": "Date",
           "tz": "UTC"
          }
         ],
         [
          "3103c0e650df",
          "DEPLOYED",
          "Table or Trigger Missing",
          "947e02f1-0175-b800-401b-0004ba2359d8",
          "INSERT",
          "e32542fa-0175-b800-401b-0004ba2359d8",
          "None",
          "PROD",
          "splice",
          {
           "timestamp": 1605135690000,
           "type": "Date",
           "tz": "UTC"
          }
         ],
         [
          "330e3865e9b1",
          "DEPLOYED",
          "DEPLOYED",
          "945486ec-0175-b800-401b-0004ba2359d8",
          "INSERT",
          "4bf086f5-0175-b800-401b-0004ba2359d8",
          "43a0c6fe-0175-b800-401b-0004ba2359d8",
          "PROD",
          "splice",
          {
           "timestamp": 1605187444000,
           "type": "Date",
           "tz": "UTC"
          }
         ],
         [
          "4a7d5f911722",
          "DEPLOYED",
          "Table or Trigger Missing",
          "d226c673-0175-89a1-6341-0004e8b04b38",
          "INSERT",
          "bf300680-0175-89a1-6341-0004e8b04b38",
          "1c63868d-0175-89a1-6341-0004e8b04b38",
          "PROD",
          "splice",
          {
           "timestamp": 1604378308000,
           "type": "Date",
           "tz": "UTC"
          }
         ],
         [
          "5d7e4332af62",
          "DEPLOYED",
          "Table or Trigger Missing",
          "305887cc-0175-b800-401b-0004ba2359d8",
          "INSERT",
          "e9ec87d5-0175-b800-401b-0004ba2359d8",
          "378407e0-0175-b800-401b-0004ba2359d8",
          "PROD",
          "FeatureStore",
          {
           "timestamp": 1605188317000,
           "type": "Date",
           "tz": "UTC"
          }
         ],
         [
          "5d7e4332af62",
          "DEPLOYED",
          "DEPLOYED",
          "a500c803-0175-b800-401b-0004ba2359d8",
          "INSERT",
          "af10880c-0175-b800-401b-0004ba2359d8",
          "69348815-0175-b800-401b-0004ba2359d8",
          "PROD",
          "FeatureStore",
          {
           "timestamp": 1605188554000,
           "type": "Date",
           "tz": "UTC"
          }
         ],
         [
          "5e6107e82639",
          "DEPLOYED",
          "Table or Trigger Missing",
          "09180740-0175-b800-401b-0004ba2359d8",
          "INSERT",
          "a1710749-0175-b800-401b-0004ba2359d8",
          "b9de4752-0175-b800-401b-0004ba2359d8",
          "PROD",
          "FeatureStore",
          {
           "timestamp": 1605187768000,
           "type": "Date",
           "tz": "UTC"
          }
         ],
         [
          "770afb220630",
          "DEPLOYED",
          "Table or Trigger Missing",
          "1bfe0110-0175-dbbf-d0a5-0004d08dc650",
          "INSERT",
          "b5d64b6f-0175-dbbf-de0f-0004da2b5910",
          "None",
          "PROD",
          "splice",
          {
           "timestamp": 1605716282000,
           "type": "Date",
           "tz": "UTC"
          }
         ],
         [
          "7d1379351b60",
          "DEPLOYED",
          "Table or Trigger Missing",
          "8e958264-0175-89a1-6341-0004e8b04b38",
          "INSERT",
          "3e6e0271-0175-89a1-6341-0004e8b04b38",
          "None",
          "PROD",
          "splice",
          {
           "timestamp": 1604353068000,
           "type": "Date",
           "tz": "UTC"
          }
         ],
         [
          "833140e61f46",
          "DEPLOYED",
          "Table or Trigger Missing",
          "88100081-0175-dbbf-d591-0004db58b458",
          "INSERT",
          "bd020711-0175-dbbf-de0f-0004da2b5910",
          "None",
          "PROD",
          "username",
          {
           "timestamp": 1605712119000,
           "type": "Date",
           "tz": "UTC"
          }
         ],
         [
          "9a815a3cfcbf",
          "DEPLOYED",
          "DEPLOYED",
          "8bd605b1-0175-b800-401b-0004ba2359d8",
          "INSERT",
          "e0ad45ba-0175-b800-401b-0004ba2359d8",
          "c598c5c3-0175-b800-401b-0004ba2359d8",
          "PROD",
          "splice",
          {
           "timestamp": 1605186334000,
           "type": "Date",
           "tz": "UTC"
          }
         ],
         [
          "9a815a3cfcbf",
          "DEPLOYED",
          "Table or Trigger Missing",
          "9a160850-0175-b800-24a7-0004d7855b58",
          "INSERT",
          "afcdc60b-0175-b800-401b-0004ba2359d8",
          "f56f8614-0175-b800-401b-0004ba2359d8",
          "PROD",
          "splice",
          {
           "timestamp": 1605186416000,
           "type": "Date",
           "tz": "UTC"
          }
         ],
         [
          "a822dcc2e3e7",
          "DEPLOYED",
          "Table or Trigger Missing",
          "7bed0929-0175-89a1-643e-0004e84c99c8",
          "INSERT",
          "44a6ca73-0175-89a1-6341-0004e8b04b38",
          "None",
          "PROD",
          "splice",
          {
           "timestamp": 1604501266000,
           "type": "Date",
           "tz": "UTC"
          }
         ],
         [
          "cebe35cc4fd3",
          "DEPLOYED",
          "DEPLOYED",
          "8bb6466f-0176-1b84-2e05-0004d80df538",
          "INSERT",
          "f2390678-0176-1b84-2e05-0004d80df538",
          "c8d00681-0176-1b84-2e05-0004d80df538",
          "PROD",
          "splice",
          {
           "timestamp": 1606846828000,
           "type": "Date",
           "tz": "UTC"
          }
         ],
         [
          "d6d25ced9e55",
          "DEPLOYED",
          "DEPLOYED",
          "6f0d46ba-0175-b800-401b-0004ba2359d8",
          "INSERT",
          "5638c6c3-0175-b800-401b-0004ba2359d8",
          "5d7886cc-0175-b800-401b-0004ba2359d8",
          "PROD",
          "splice",
          {
           "timestamp": 1605187411000,
           "type": "Date",
           "tz": "UTC"
          }
         ],
         [
          "f251f7b5fb3e",
          "DEPLOYED",
          "Table or Trigger Missing",
          "4a55437a-0175-b800-401b-0004ba2359d8",
          "INSERT",
          "2a30c383-0175-b800-401b-0004ba2359d8",
          "None",
          "PROD",
          "splice",
          {
           "timestamp": 1605136278000,
           "type": "Date",
           "tz": "UTC"
          }
         ],
         [
          "fec96d20752c",
          "DEPLOYED",
          "DEPLOYED",
          "2131c756-0175-dbbf-de0f-0004da2b5910",
          "INSERT",
          "4d6c0761-0175-dbbf-de0f-0004da2b5910",
          "260f476a-0175-dbbf-de0f-0004da2b5910",
          "PROD",
          "username",
          {
           "timestamp": 1605712679000,
           "type": "Date",
           "tz": "UTC"
          }
         ]
        ]
       }
      }
     },
     "3183c0cca4de463b89648b34feb854a6": {
      "model_module": "@jupyter-widgets/controls",
      "model_module_version": "1.5.0",
      "model_name": "HTMLModel",
      "state": {
       "layout": "IPY_MODEL_842dc2835ff845d083dc748cd5792e5b",
       "style": "IPY_MODEL_60414b39006947798938ccd638a54ac4",
       "value": " 8/? [00:28&lt;00:00,  3.51s/it]"
      }
     },
     "325b8242-adde-4981-9fee-5aafbd7de7f1": {
      "model_module": "beakerx",
      "model_module_version": "*",
      "model_name": "HTMLPreModel",
      "state": {
       "font_family": "",
       "font_size": "",
       "font_style": "",
       "font_weight": "",
       "layout": "IPY_MODEL_2d152ba1-4d43-404b-b7b5-02e14a050350",
       "msg_throttle": 3,
       "placeholder": "",
       "value": "Query executed successfully. Affected rows : 0",
       "visible": true
      }
     },
     "33af46b4aeca40dca8f301c411ae0775": {
      "model_module": "@jupyter-widgets/controls",
      "model_module_version": "1.5.0",
      "model_name": "ProgressStyleModel",
      "state": {
       "description_width": "initial"
      }
     },
     "355fa2e681df42a8b2c886b69bdb60be": {
      "model_module": "@jupyter-widgets/base",
      "model_module_version": "*",
      "model_name": "LayoutModel",
      "state": {
       "_model_module_version": "*",
       "_view_module_version": "*"
      }
     },
     "36f44e85d3044ebbbb9552477b8d17a4": {
      "model_module": "@jupyter-widgets/base",
      "model_module_version": "*",
      "model_name": "LayoutModel",
      "state": {
       "_model_module_version": "*",
       "_view_module_version": "*"
      }
     },
     "3705840a50d14963b38abd2b25d48765": {
      "model_module": "@jupyter-widgets/base",
      "model_module_version": "*",
      "model_name": "LayoutModel",
      "state": {
       "_model_module_version": "*",
       "_view_module_version": "*"
      }
     },
     "3706f2f569984f87a2ea345e69ade7a4": {
      "model_module": "@jupyter-widgets/base",
      "model_module_version": "*",
      "model_name": "LayoutModel",
      "state": {
       "_model_module_version": "*",
       "_view_module_version": "*"
      }
     },
     "375474a6-152a-4fc2-85e7-74676c93c926": {
      "model_module": "@jupyter-widgets/base",
      "model_module_version": "*",
      "model_name": "LayoutModel",
      "state": {
       "_model_module_version": "*",
       "_view_module_version": "*",
       "align_content": "",
       "align_self": "",
       "border": "",
       "bottom": "",
       "flex": "",
       "height": "",
       "justify_content": "",
       "left": "",
       "margin": "",
       "max_height": "",
       "max_width": "",
       "min_height": "",
       "min_width": "",
       "msg_throttle": 3,
       "overflow": "",
       "overflow_x": "",
       "overflow_y": "",
       "padding": "",
       "right": "",
       "top": ""
      }
     },
     "3785f338-23fa-4fc5-a60b-e59fa1e911f9": {
      "model_module": "beakerx",
      "model_module_version": "*",
      "model_name": "TableDisplayModel",
      "state": {
       "model": {
        "alignmentForColumn": {},
        "alignmentForType": {},
        "cellHighlighters": [],
        "columnNames": [
         "Plan"
        ],
        "columnOrder": [],
        "columnsFrozen": {},
        "columnsFrozenRight": {},
        "columnsVisible": {},
        "contextMenuItems": [],
        "contextMenuTags": {},
        "fontColor": [],
        "hasDoubleClickAction": false,
        "headersVertical": false,
        "rendererForColumn": {},
        "rendererForType": {},
        "stringFormatForColumn": {},
        "stringFormatForType": {},
        "subtype": "TableDisplay",
        "timeZone": "UTC",
        "tooManyRows": false,
        "tooltips": [],
        "type": "TableDisplay",
        "types": [
         "java.lang.String"
        ],
        "values": [
         [
          "Cursor(n=5,rows=180664,updateMode=,engine=OLAP (cost))"
         ],
         [
          "  ->  ScrollInsensitive(n=5,totalCost=2543.06,outputRows=180664,outputHeapSize=176.43 KB,partitions=1)"
         ],
         [
          "    ->  ProjectRestrict(n=4,totalCost=730.656,outputRows=180664,outputHeapSize=176.43 KB,partitions=1)"
         ],
         [
          "      ->  GroupBy(n=3,totalCost=730.656,outputRows=180664,outputHeapSize=176.43 KB,partitions=1)"
         ],
         [
          "        ->  ProjectRestrict(n=2,totalCost=365.328,outputRows=180664,outputHeapSize=176.43 KB,partitions=1)"
         ],
         [
          "          ->  TableScan[CC_FRAUD_DATA(6512)](n=0,totalCost=365.328,scannedRows=180664,outputRows=180664,outputHeapSize=176.43 KB,partitions=1)"
         ]
        ]
       }
      }
     },
     "3eae1d68f5e94b8abf3fb8c0fb472e8e": {
      "model_module": "beakerx",
      "model_module_version": "*",
      "model_name": "TableDisplayModel",
      "state": {
       "layout": "IPY_MODEL_d3f61294051441f49a61fbab004fd6b3",
       "model": {
        "alignmentForColumn": {},
        "alignmentForType": {},
        "cellHighlighters": [],
        "columnNames": [
         "metric",
         "threshold",
         "value",
         "idx"
        ],
        "columnOrder": [],
        "columnsFrozen": {},
        "columnsFrozenRight": {},
        "columnsVisible": {},
        "contextMenuItems": [],
        "contextMenuTags": {},
        "fontColor": [],
        "hasDoubleClickAction": false,
        "headersVertical": false,
        "rendererForColumn": {},
        "rendererForType": {},
        "stringFormatForColumn": {},
        "stringFormatForTimes": "YYYY-MM-DD HH:mm:ss.SSS",
        "stringFormatForType": {},
        "subtype": "ListOfMaps",
        "tooManyRows": false,
        "tooltips": [],
        "type": "TableDisplay",
        "types": [
         "string",
         "double",
         "double",
         "double"
        ],
        "values": [
         [
          "max f1",
          "0.19147569887535884",
          "0.8333333333333334",
          "18.0"
         ],
         [
          "max f2",
          "0.19147569887535884",
          "0.799507995079951",
          "18.0"
         ],
         [
          "max f0point5",
          "0.5570436814211986",
          "0.8819345661450925",
          "9.0"
         ],
         [
          "max accuracy",
          "0.30917848333713965",
          "0.999404257269207",
          "12.0"
         ],
         [
          "max precision",
          "0.9999999993793944",
          "0.936",
          "0.0"
         ],
         [
          "max recall",
          "8.318521020888451e-10",
          "1.0",
          "399.0"
         ],
         [
          "max specificity",
          "0.9999999993793944",
          "0.9999081715814001",
          "0.0"
         ],
         [
          "max absolute_mcc",
          "0.19147569887535884",
          "0.8351225633589964",
          "18.0"
         ],
         [
          "max min_per_class_accuracy",
          "0.00020372201544246695",
          "0.8323353293413174",
          "233.0"
         ],
         [
          "max mean_per_class_accuracy",
          "0.00026990496113586123",
          "0.8987813695260107",
          "184.0"
         ],
         [
          "max tns",
          "0.9999999993793944",
          "87111.0",
          "0.0"
         ],
         [
          "max fns",
          "0.9999999993793944",
          "50.0",
          "0.0"
         ],
         [
          "max fps",
          "8.318521020888451e-10",
          "87119.0",
          "399.0"
         ],
         [
          "max tps",
          "8.318521020888451e-10",
          "167.0",
          "399.0"
         ],
         [
          "max tnr",
          "0.9999999993793944",
          "0.9999081715814001",
          "0.0"
         ],
         [
          "max fnr",
          "0.9999999993793944",
          "0.2994011976047904",
          "0.0"
         ],
         [
          "max fpr",
          "8.318521020888451e-10",
          "1.0",
          "399.0"
         ],
         [
          "max tpr",
          "8.318521020888451e-10",
          "1.0",
          "399.0"
         ]
        ]
       }
      }
     },
     "41b40fd25b494d1a8eddce3c02dfb2e6": {
      "model_module": "beakerx",
      "model_module_version": "*",
      "model_name": "TableDisplayModel",
      "state": {
       "layout": "IPY_MODEL_36f44e85d3044ebbbb9552477b8d17a4",
       "model": {
        "alignmentForColumn": {},
        "alignmentForType": {},
        "cellHighlighters": [],
        "columnNames": [
         "",
         "number_of_trees",
         "number_of_internal_trees",
         "model_size_in_bytes",
         "min_depth",
         "max_depth",
         "mean_depth",
         "min_leaves",
         "max_leaves",
         "mean_leaves"
        ],
        "columnOrder": [],
        "columnsFrozen": {},
        "columnsFrozenRight": {},
        "columnsVisible": {},
        "contextMenuItems": [],
        "contextMenuTags": {},
        "fontColor": [],
        "hasDoubleClickAction": false,
        "headersVertical": false,
        "rendererForColumn": {},
        "rendererForType": {},
        "stringFormatForColumn": {},
        "stringFormatForTimes": "YYYY-MM-DD HH:mm:ss.SSS",
        "stringFormatForType": {},
        "subtype": "ListOfMaps",
        "tooManyRows": false,
        "tooltips": [],
        "type": "TableDisplay",
        "types": [
         "string",
         "double",
         "double",
         "double",
         "double",
         "double",
         "double",
         "double",
         "double",
         "double"
        ],
        "values": [
         [
          "",
          "35.0",
          "35.0",
          "10950.0",
          "8.0",
          "8.0",
          "8.0",
          "11.0",
          "39.0",
          "20.285715"
         ]
        ]
       }
      }
     },
     "41d6b705a0a34ac0aec73e95c7773e63": {
      "model_module": "@jupyter-widgets/base",
      "model_module_version": "1.2.0",
      "model_name": "LayoutModel",
      "state": {}
     },
     "427ccc3d-50f1-4c5d-9dc7-17aac47b7949": {
      "model_module": "@jupyter-widgets/base",
      "model_module_version": "*",
      "model_name": "LayoutModel",
      "state": {
       "_model_module_version": "*",
       "_view_module_version": "*",
       "align_content": "",
       "align_self": "",
       "border": "",
       "bottom": "",
       "flex": "",
       "height": "",
       "justify_content": "",
       "left": "",
       "margin": "",
       "max_height": "",
       "max_width": "",
       "min_height": "",
       "min_width": "",
       "msg_throttle": 3,
       "overflow": "",
       "overflow_x": "",
       "overflow_y": "",
       "padding": "",
       "right": "",
       "top": ""
      }
     },
     "42f05f92-8141-40e3-906b-0cc69d93abd5": {
      "model_module": "beakerx",
      "model_module_version": "*",
      "model_name": "TableDisplayModel",
      "state": {
       "model": {
        "alignmentForColumn": {},
        "alignmentForType": {},
        "cellHighlighters": [],
        "columnNames": [
         "Key",
         "Value"
        ],
        "columnOrder": [],
        "columnsFrozen": {},
        "columnsFrozenRight": {},
        "columnsVisible": {},
        "contextMenuItems": [],
        "contextMenuTags": {},
        "fontColor": [],
        "hasDoubleClickAction": false,
        "headersVertical": false,
        "rendererForColumn": {},
        "rendererForType": {},
        "stringFormatForColumn": {},
        "stringFormatForType": {},
        "subtype": "Dictionary",
        "timeZone": "UTC",
        "tooManyRows": false,
        "tooltips": [],
        "type": "TableDisplay",
        "types": [],
        "values": [
         [
          "CUR_USER",
          "SPLICE"
         ],
         [
          "EVAL_TIME",
          {
           "timestamp": 1606924082001,
           "type": "Date"
          }
         ],
         [
          "RUN_ID",
          "0d28f60c8e3e"
         ],
         [
          "PREDICTION",
          "no_fraud"
         ],
         [
          "MOMENT_KEY",
          5
         ],
         [
          "no_fraud",
          0.9983345510305356
         ],
         [
          "fraud",
          0.001665448969464385
         ]
        ]
       }
      }
     },
     "448cd8ef139d48ca83b0eb0ab2919626": {
      "model_module": "beakerx",
      "model_module_version": "*",
      "model_name": "TableDisplayModel",
      "state": {
       "layout": "IPY_MODEL_b6d7b2a832964f148e65cc940438ce76",
       "model": {
        "alignmentForColumn": {},
        "alignmentForType": {},
        "cellHighlighters": [],
        "columnNames": [
         "RUN_UUID",
         "ACTION",
         "DEPLOYMENT_STATUS",
         "TABLEID",
         "TRIGGER_TYPE",
         "TRIGGERID",
         "TRIGGERID_2",
         "DB_ENV",
         "DB_USER",
         "ACTION_DATE"
        ],
        "columnOrder": [],
        "columnsFrozen": {},
        "columnsFrozenRight": {},
        "columnsVisible": {},
        "contextMenuItems": [],
        "contextMenuTags": {},
        "fontColor": [],
        "hasDoubleClickAction": false,
        "headersVertical": false,
        "rendererForColumn": {},
        "rendererForType": {},
        "stringFormatForColumn": {},
        "stringFormatForTimes": "YYYY-MM-DD HH:mm:ss.SSS",
        "stringFormatForType": {},
        "subtype": "ListOfMaps",
        "tooManyRows": false,
        "tooltips": [],
        "type": "TableDisplay",
        "types": [
         "string",
         "string",
         "string",
         "string",
         "string",
         "string",
         "string",
         "string",
         "string",
         "time"
        ],
        "values": [
         [
          "088546c085dc",
          "DEPLOYED",
          "Table or Trigger Missing",
          "6bf0c67e-0175-b800-401b-0004ba2359d8",
          "INSERT",
          "32954687-0175-b800-401b-0004ba2359d8",
          "None",
          "PROD",
          "splice",
          {
           "timestamp": 1605187388000,
           "type": "Date",
           "tz": "UTC"
          }
         ],
         [
          "088546c085dc",
          "DEPLOYED",
          "Table or Trigger Missing",
          "bf798644-0175-b800-401b-0004ba2359d8",
          "INSERT",
          "b59b864d-0175-b800-401b-0004ba2359d8",
          "None",
          "PROD",
          "splice",
          {
           "timestamp": 1605187379000,
           "type": "Date",
           "tz": "UTC"
          }
         ],
         [
          "0d28f60c8e3e",
          "DEPLOYED",
          "DEPLOYED",
          "33280941-0176-2386-c9e0-0004d5952f68",
          "INSERT",
          "794ec94e-0176-2386-c9e0-0004d5952f68",
          "0f9fc95b-0176-2386-c9e0-0004d5952f68",
          "PROD",
          "splice",
          {
           "timestamp": 1606924070000,
           "type": "Date",
           "tz": "UTC"
          }
         ],
         [
          "18b42534620b",
          "DEPLOYED",
          "DEPLOYED",
          "1f824bb2-0175-dbbf-de0f-0004da2b5910",
          "INSERT",
          "51dbcbbb-0175-dbbf-de0f-0004da2b5910",
          "24498bc4-0175-dbbf-de0f-0004da2b5910",
          "PROD",
          "splice",
          {
           "timestamp": 1605716348000,
           "type": "Date",
           "tz": "UTC"
          }
         ],
         [
          "30673021d4cc",
          "DEPLOYED",
          "Table or Trigger Missing",
          "7f100780-0175-b800-401b-0004ba2359d8",
          "INSERT",
          "17f90789-0175-b800-401b-0004ba2359d8",
          "30f64792-0175-b800-401b-0004ba2359d8",
          "PROD",
          "FeatureStore",
          {
           "timestamp": 1605188010000,
           "type": "Date",
           "tz": "UTC"
          }
         ],
         [
          "3103c0e650df",
          "DEPLOYED",
          "Table or Trigger Missing",
          "03210338-0175-b800-401b-0004ba2359d8",
          "INSERT",
          "d2680341-0175-b800-401b-0004ba2359d8",
          "None",
          "PROD",
          "splice",
          {
           "timestamp": 1605136182000,
           "type": "Date",
           "tz": "UTC"
          }
         ],
         [
          "3103c0e650df",
          "DEPLOYED",
          "Table or Trigger Missing",
          "947e02f1-0175-b800-401b-0004ba2359d8",
          "INSERT",
          "e32542fa-0175-b800-401b-0004ba2359d8",
          "None",
          "PROD",
          "splice",
          {
           "timestamp": 1605135690000,
           "type": "Date",
           "tz": "UTC"
          }
         ],
         [
          "330e3865e9b1",
          "DEPLOYED",
          "DEPLOYED",
          "945486ec-0175-b800-401b-0004ba2359d8",
          "INSERT",
          "4bf086f5-0175-b800-401b-0004ba2359d8",
          "43a0c6fe-0175-b800-401b-0004ba2359d8",
          "PROD",
          "splice",
          {
           "timestamp": 1605187444000,
           "type": "Date",
           "tz": "UTC"
          }
         ],
         [
          "3d87a48885d9",
          "DEPLOYED",
          "Table or Trigger Missing",
          "279f4717-0176-1b84-2e05-0004d80df538",
          "INSERT",
          "cf9c0720-0176-1b84-2e05-0004d80df538",
          "None",
          "PROD",
          "nirek",
          {
           "timestamp": 1606852287000,
           "type": "Date",
           "tz": "UTC"
          }
         ],
         [
          "3d87a48885d9",
          "DEPLOYED",
          "Table or Trigger Missing",
          "a80bc73b-0176-1b84-2e05-0004d80df538",
          "INSERT",
          "83fbc746-0176-1b84-2e05-0004d80df538",
          "None",
          "PROD",
          "nirek",
          {
           "timestamp": 1606852490000,
           "type": "Date",
           "tz": "UTC"
          }
         ],
         [
          "4a7d5f911722",
          "DEPLOYED",
          "Table or Trigger Missing",
          "d226c673-0175-89a1-6341-0004e8b04b38",
          "INSERT",
          "bf300680-0175-89a1-6341-0004e8b04b38",
          "1c63868d-0175-89a1-6341-0004e8b04b38",
          "PROD",
          "splice",
          {
           "timestamp": 1604378308000,
           "type": "Date",
           "tz": "UTC"
          }
         ],
         [
          "5d7e4332af62",
          "DEPLOYED",
          "Table or Trigger Missing",
          "305887cc-0175-b800-401b-0004ba2359d8",
          "INSERT",
          "e9ec87d5-0175-b800-401b-0004ba2359d8",
          "378407e0-0175-b800-401b-0004ba2359d8",
          "PROD",
          "FeatureStore",
          {
           "timestamp": 1605188317000,
           "type": "Date",
           "tz": "UTC"
          }
         ],
         [
          "5d7e4332af62",
          "DEPLOYED",
          "DEPLOYED",
          "a500c803-0175-b800-401b-0004ba2359d8",
          "INSERT",
          "af10880c-0175-b800-401b-0004ba2359d8",
          "69348815-0175-b800-401b-0004ba2359d8",
          "PROD",
          "FeatureStore",
          {
           "timestamp": 1605188554000,
           "type": "Date",
           "tz": "UTC"
          }
         ],
         [
          "5e6107e82639",
          "DEPLOYED",
          "Table or Trigger Missing",
          "09180740-0175-b800-401b-0004ba2359d8",
          "INSERT",
          "a1710749-0175-b800-401b-0004ba2359d8",
          "b9de4752-0175-b800-401b-0004ba2359d8",
          "PROD",
          "FeatureStore",
          {
           "timestamp": 1605187768000,
           "type": "Date",
           "tz": "UTC"
          }
         ],
         [
          "770afb220630",
          "DEPLOYED",
          "Table or Trigger Missing",
          "1bfe0110-0175-dbbf-d0a5-0004d08dc650",
          "INSERT",
          "b5d64b6f-0175-dbbf-de0f-0004da2b5910",
          "None",
          "PROD",
          "splice",
          {
           "timestamp": 1605716282000,
           "type": "Date",
           "tz": "UTC"
          }
         ],
         [
          "7d1379351b60",
          "DEPLOYED",
          "Table or Trigger Missing",
          "8e958264-0175-89a1-6341-0004e8b04b38",
          "INSERT",
          "3e6e0271-0175-89a1-6341-0004e8b04b38",
          "None",
          "PROD",
          "splice",
          {
           "timestamp": 1604353068000,
           "type": "Date",
           "tz": "UTC"
          }
         ],
         [
          "833140e61f46",
          "DEPLOYED",
          "Table or Trigger Missing",
          "88100081-0175-dbbf-d591-0004db58b458",
          "INSERT",
          "bd020711-0175-dbbf-de0f-0004da2b5910",
          "None",
          "PROD",
          "username",
          {
           "timestamp": 1605712119000,
           "type": "Date",
           "tz": "UTC"
          }
         ],
         [
          "8e458ab592d0",
          "DEPLOYED",
          "DEPLOYED",
          "5c5dc776-0176-1b84-2e05-0004d80df538",
          "INSERT",
          "6530477f-0176-1b84-2e05-0004d80df538",
          "4e170788-0176-1b84-2e05-0004d80df538",
          "PROD",
          "nirek",
          {
           "timestamp": 1606852624000,
           "type": "Date",
           "tz": "UTC"
          }
         ],
         [
          "9a815a3cfcbf",
          "DEPLOYED",
          "DEPLOYED",
          "8bd605b1-0175-b800-401b-0004ba2359d8",
          "INSERT",
          "e0ad45ba-0175-b800-401b-0004ba2359d8",
          "c598c5c3-0175-b800-401b-0004ba2359d8",
          "PROD",
          "splice",
          {
           "timestamp": 1605186334000,
           "type": "Date",
           "tz": "UTC"
          }
         ],
         [
          "9a815a3cfcbf",
          "DEPLOYED",
          "Table or Trigger Missing",
          "9a160850-0175-b800-24a7-0004d7855b58",
          "INSERT",
          "afcdc60b-0175-b800-401b-0004ba2359d8",
          "f56f8614-0175-b800-401b-0004ba2359d8",
          "PROD",
          "splice",
          {
           "timestamp": 1605186416000,
           "type": "Date",
           "tz": "UTC"
          }
         ],
         [
          "a822dcc2e3e7",
          "DEPLOYED",
          "Table or Trigger Missing",
          "7bed0929-0175-89a1-643e-0004e84c99c8",
          "INSERT",
          "44a6ca73-0175-89a1-6341-0004e8b04b38",
          "None",
          "PROD",
          "splice",
          {
           "timestamp": 1604501266000,
           "type": "Date",
           "tz": "UTC"
          }
         ],
         [
          "cebe35cc4fd3",
          "DEPLOYED",
          "Table or Trigger Missing",
          "8bb6466f-0176-1b84-2e05-0004d80df538",
          "INSERT",
          "f2390678-0176-1b84-2e05-0004d80df538",
          "c8d00681-0176-1b84-2e05-0004d80df538",
          "PROD",
          "splice",
          {
           "timestamp": 1606846828000,
           "type": "Date",
           "tz": "UTC"
          }
         ],
         [
          "d6d25ced9e55",
          "DEPLOYED",
          "DEPLOYED",
          "6f0d46ba-0175-b800-401b-0004ba2359d8",
          "INSERT",
          "5638c6c3-0175-b800-401b-0004ba2359d8",
          "5d7886cc-0175-b800-401b-0004ba2359d8",
          "PROD",
          "splice",
          {
           "timestamp": 1605187411000,
           "type": "Date",
           "tz": "UTC"
          }
         ],
         [
          "f251f7b5fb3e",
          "DEPLOYED",
          "Table or Trigger Missing",
          "4a55437a-0175-b800-401b-0004ba2359d8",
          "INSERT",
          "2a30c383-0175-b800-401b-0004ba2359d8",
          "None",
          "PROD",
          "splice",
          {
           "timestamp": 1605136278000,
           "type": "Date",
           "tz": "UTC"
          }
         ],
         [
          "fec96d20752c",
          "DEPLOYED",
          "DEPLOYED",
          "2131c756-0175-dbbf-de0f-0004da2b5910",
          "INSERT",
          "4d6c0761-0175-dbbf-de0f-0004da2b5910",
          "260f476a-0175-dbbf-de0f-0004da2b5910",
          "PROD",
          "username",
          {
           "timestamp": 1605712679000,
           "type": "Date",
           "tz": "UTC"
          }
         ]
        ]
       }
      }
     },
     "44e6fe9f36f741fe83a9df29c8e3a8f6": {
      "model_module": "@jupyter-widgets/base",
      "model_module_version": "*",
      "model_name": "LayoutModel",
      "state": {
       "_model_module_version": "*",
       "_view_module_version": "*"
      }
     },
     "45c5d9a9b727456583f5fad2ce835ee9": {
      "model_module": "beakerx",
      "model_module_version": "*",
      "model_name": "TableDisplayModel",
      "state": {
       "layout": "IPY_MODEL_6b85653e51504f64a8801d32fcbe7427",
       "model": {
        "alignmentForColumn": {},
        "alignmentForType": {},
        "cellHighlighters": [],
        "columnNames": [
         "",
         "mean",
         "sd",
         "cv_1_valid",
         "cv_2_valid",
         "cv_3_valid",
         "cv_4_valid",
         "cv_5_valid"
        ],
        "columnOrder": [],
        "columnsFrozen": {},
        "columnsFrozenRight": {},
        "columnsVisible": {},
        "contextMenuItems": [],
        "contextMenuTags": {},
        "fontColor": [],
        "hasDoubleClickAction": false,
        "headersVertical": false,
        "rendererForColumn": {},
        "rendererForType": {},
        "stringFormatForColumn": {},
        "stringFormatForTimes": "YYYY-MM-DD HH:mm:ss.SSS",
        "stringFormatForType": {},
        "subtype": "ListOfMaps",
        "tooManyRows": false,
        "tooltips": [],
        "type": "TableDisplay",
        "types": [
         "string",
         "string",
         "string",
         "string",
         "string",
         "string",
         "string",
         "string"
        ],
        "values": [
         [
          "accuracy",
          "0.99885434",
          "4.0303188E-4",
          "0.99902624",
          "0.99942714",
          "0.99885434",
          "0.99856794",
          "0.99839604"
         ],
         [
          "auc",
          "0.7478554",
          "0.054172195",
          "0.79951113",
          "0.78775436",
          "0.76916766",
          "0.6733306",
          "0.7095135"
         ],
         [
          "aucpr",
          "0.032387886",
          "0.02954962",
          "0.0012607335",
          "0.06704045",
          "0.003080402",
          "0.037163068",
          "0.05339477"
         ],
         [
          "err",
          "0.0011456611",
          "4.0303188E-4",
          "9.737656E-4",
          "5.728361E-4",
          "0.0011456722",
          "0.0014320903",
          "0.0016039411"
         ],
         [
          "err_count",
          "20.0",
          "7.0356236",
          "17.0",
          "10.0",
          "20.0",
          "25.0",
          "28.0"
         ],
         [
          "f0point5",
          "0.7126499",
          "0.09310586",
          "0.73170733",
          "0.8333333",
          "0.74712646",
          "0.6666667",
          "0.58441556"
         ],
         [
          "f1",
          "0.69050634",
          "0.09043662",
          "0.73846155",
          "0.7916667",
          "0.7222222",
          "0.6376812",
          "0.5625"
         ],
         [
          "f2",
          "0.67030287",
          "0.09133997",
          "0.7453416",
          "0.75396824",
          "0.6989247",
          "0.6111111",
          "0.5421687"
         ],
         [
          "lift_top_group",
          "61.917774",
          "11.007147",
          "74.82",
          "67.49756",
          "60.63078",
          "45.027588",
          "61.61294"
         ],
         [
          "logloss",
          "0.03246813",
          "0.0116004255",
          "0.03024267",
          "0.013843719",
          "0.03444464",
          "0.040413182",
          "0.04339643"
         ],
         [
          "max_per_class_error",
          "0.34220278",
          "0.09354321",
          "0.25",
          "0.26923078",
          "0.31578946",
          "0.4054054",
          "0.47058824"
         ],
         [
          "mcc",
          "0.69128823",
          "0.09088239",
          "0.73806155",
          "0.7941517",
          "0.7227708",
          "0.6386531",
          "0.56280404"
         ],
         [
          "mean_per_class_accuracy",
          "0.82865757",
          "0.046841666",
          "0.8747418",
          "0.86529857",
          "0.8418756",
          "0.79701024",
          "0.7643615"
         ],
         [
          "mean_per_class_error",
          "0.17134245",
          "0.046841666",
          "0.12525824",
          "0.13470143",
          "0.15812437",
          "0.20298973",
          "0.23563848"
         ],
         [
          "mse",
          "0.0013405882",
          "3.6167566E-4",
          "0.0015757284",
          "7.459806E-4",
          "0.0012509429",
          "0.0015127006",
          "0.0016175882"
         ],
         [
          "pr_auc",
          "0.032387886",
          "0.02954962",
          "0.0012607335",
          "0.06704045",
          "0.003080402",
          "0.037163068",
          "0.05339477"
         ],
         [
          "precision",
          "0.728623",
          "0.09716916",
          "0.72727275",
          "0.8636364",
          "0.7647059",
          "0.6875",
          "0.6"
         ],
         [
          "r2",
          "0.3027671",
          "0.15684865",
          "0.13876304",
          "0.49838433",
          "0.4240697",
          "0.28477558",
          "0.16784285"
         ],
         [
          "recall",
          "0.6577972",
          "0.09354321",
          "0.75",
          "0.7307692",
          "0.68421054",
          "0.5945946",
          "0.5294118"
         ],
         [
          "rmse",
          "0.036297895",
          "0.005367855",
          "0.039695445",
          "0.027312646",
          "0.035368674",
          "0.03889345",
          "0.04021925"
         ]
        ]
       }
      }
     },
     "46134960c7a346b1b83022d83c125e52": {
      "model_module": "beakerx",
      "model_module_version": "*",
      "model_name": "TableDisplayModel",
      "state": {
       "layout": "IPY_MODEL_a5849d04970b469d8c716ac3e835160c",
       "model": {
        "alignmentForColumn": {},
        "alignmentForType": {},
        "cellHighlighters": [],
        "columnNames": [
         "",
         "group",
         "cumulative_data_fraction",
         "lower_threshold",
         "lift",
         "cumulative_lift",
         "response_rate",
         "score",
         "cumulative_response_rate",
         "cumulative_score",
         "capture_rate",
         "cumulative_capture_rate",
         "gain",
         "cumulative_gain"
        ],
        "columnOrder": [],
        "columnsFrozen": {},
        "columnsFrozenRight": {},
        "columnsVisible": {},
        "contextMenuItems": [],
        "contextMenuTags": {},
        "fontColor": [],
        "hasDoubleClickAction": false,
        "headersVertical": false,
        "rendererForColumn": {},
        "rendererForType": {},
        "stringFormatForColumn": {},
        "stringFormatForTimes": "YYYY-MM-DD HH:mm:ss.SSS",
        "stringFormatForType": {},
        "subtype": "ListOfMaps",
        "tooManyRows": false,
        "tooltips": [],
        "type": "TableDisplay",
        "types": [
         "string",
         "integer",
         "double",
         "double",
         "double",
         "double",
         "double",
         "double",
         "double",
         "double",
         "double",
         "double",
         "double",
         "double"
        ],
        "values": [
         [
          "",
          "1",
          "0.01915542011319112",
          "0.0002366853521880164",
          "42.20127925966249",
          "42.20127925966249",
          "0.08074162679425838",
          "0.08474008534182768",
          "0.08074162679425838",
          "0.08474008534182768",
          "0.8083832335329342",
          "0.8083832335329342",
          "4120.127925966249",
          "4120.127925966249"
         ],
         [
          "",
          "2",
          "0.020587493985289737",
          "0.0002323164036393671",
          "0.0",
          "39.26574230503934",
          "0.0",
          "0.0002323533612676287",
          "0.07512520868113523",
          "0.07886169552681932",
          "0.0",
          "0.8083832335329342",
          "-100.0",
          "3826.574230503934"
         ],
         [
          "",
          "3",
          "0.04379854730426414",
          "0.0002288127754023369",
          "0.25798156894503194",
          "18.593567768987267",
          "0.0004935834155972359",
          "0.00022881778725186374",
          "0.035574156421658384",
          "0.037190178315110275",
          "0.005988023952095809",
          "0.8143712574850299",
          "-74.2018431054968",
          "1759.3567768987266"
         ],
         [
          "",
          "4",
          "0.06807506358407991",
          "0.00021158414291202158",
          "0.49331822433471895",
          "12.138766559778457",
          "0.0009438414346389807",
          "0.0002124227542010922",
          "0.023224503534163582",
          "0.024003395408081236",
          "0.011976047904191617",
          "0.8263473053892215",
          "-50.66817756652811",
          "1113.8766559778458"
         ],
         [
          "",
          "5",
          "0.10922713837270581",
          "0.00020372221070366107",
          "0.14550964885374018",
          "7.620224623126309",
          "0.00027839643652561246",
          "0.00020497683583032433",
          "0.014579400041955109",
          "0.01503717771230556",
          "0.005988023952095809",
          "0.8323353293413174",
          "-85.44903511462599",
          "662.0224623126309"
         ],
         [
          "",
          "6",
          "0.9519396008523704",
          "0.0002006497328880718",
          "0.03552827458179607",
          "0.9058089907486899",
          "6.797449596911239e-05",
          "0.00020065047834108782",
          "0.0017330396793876592",
          "0.0019030183719591367",
          "0.029940119760479042",
          "0.8622754491017964",
          "-96.4471725418204",
          "-9.419100925131008"
         ],
         [
          "",
          "7",
          "1.0",
          "1e-19",
          "2.865655577997759",
          "1.0",
          "0.0054827175208581646",
          "0.00014540426699510966",
          "0.0019132506931237542",
          "0.0018185467365270619",
          "0.1377245508982036",
          "1.0",
          "186.5655577997759",
          "0.0"
         ]
        ]
       }
      }
     },
     "46269a77-dfbd-4f8e-89ba-b52c90aaa4ed": {
      "model_module": "@jupyter-widgets/base",
      "model_module_version": "*",
      "model_name": "LayoutModel",
      "state": {
       "_model_module_version": "*",
       "_view_module_version": "*",
       "align_content": "",
       "align_self": "",
       "border": "",
       "bottom": "",
       "flex": "",
       "height": "",
       "justify_content": "",
       "left": "",
       "margin": "",
       "max_height": "",
       "max_width": "",
       "min_height": "",
       "min_width": "",
       "msg_throttle": 3,
       "overflow": "",
       "overflow_x": "",
       "overflow_y": "",
       "padding": "",
       "right": "",
       "top": ""
      }
     },
     "4b397c4e175c4c28951cd3508c3491c1": {
      "model_module": "@jupyter-widgets/base",
      "model_module_version": "*",
      "model_name": "LayoutModel",
      "state": {
       "_model_module_version": "*",
       "_view_module_version": "*"
      }
     },
     "4ba37e19704d4561b7066b00a79ce5f3": {
      "model_module": "@jupyter-widgets/base",
      "model_module_version": "*",
      "model_name": "LayoutModel",
      "state": {
       "_model_module_version": "*",
       "_view_module_version": "*"
      }
     },
     "4bf5626a-ba9d-4eb6-9f12-d2de7f21a0c3": {
      "model_module": "beakerx",
      "model_module_version": "*",
      "model_name": "TableDisplayModel",
      "state": {
       "model": {
        "alignmentForColumn": {},
        "alignmentForType": {},
        "cellHighlighters": [],
        "columnNames": [
         "Key",
         "Value"
        ],
        "columnOrder": [],
        "columnsFrozen": {},
        "columnsFrozenRight": {},
        "columnsVisible": {},
        "contextMenuItems": [],
        "contextMenuTags": {},
        "fontColor": [],
        "hasDoubleClickAction": false,
        "headersVertical": false,
        "rendererForColumn": {},
        "rendererForType": {},
        "stringFormatForColumn": {},
        "stringFormatForType": {},
        "subtype": "Dictionary",
        "timeZone": "UTC",
        "tooManyRows": false,
        "tooltips": [],
        "type": "TableDisplay",
        "types": [],
        "values": [
         [
          "CUR_USER",
          "SPLICE"
         ],
         [
          "EVAL_TIME",
          {
           "timestamp": 1606846844032,
           "type": "Date"
          }
         ],
         [
          "RUN_ID",
          "cebe35cc4fd3"
         ],
         [
          "PREDICTION",
          "no_fraud"
         ],
         [
          "MOMENT_KEY",
          5
         ],
         [
          "no_fraud",
          0.999978087821504
         ],
         [
          "fraud",
          2.1912178495979976e-05
         ]
        ]
       }
      }
     },
     "4e13a23a830448d0b41bb452ce616246": {
      "model_module": "@jupyter-widgets/base",
      "model_module_version": "*",
      "model_name": "LayoutModel",
      "state": {
       "_model_module_version": "*",
       "_view_module_version": "*"
      }
     },
     "4e15ba8a-f825-4edb-be9c-1fe95c5fd440": {
      "model_module": "beakerx",
      "model_module_version": "*",
      "model_name": "HTMLPreModel",
      "state": {
       "font_family": "",
       "font_size": "",
       "font_style": "",
       "font_weight": "",
       "layout": "IPY_MODEL_375474a6-152a-4fc2-85e7-74676c93c926",
       "msg_throttle": 3,
       "placeholder": "",
       "value": "Query executed successfully. Affected rows : 0",
       "visible": true
      }
     },
     "5352cbdb-daf0-4fc0-b7e8-ec3f74b30376": {
      "model_module": "beakerx",
      "model_module_version": "*",
      "model_name": "TableDisplayModel",
      "state": {
       "model": {
        "alignmentForColumn": {},
        "alignmentForType": {},
        "cellHighlighters": [],
        "columnNames": [
         "Plan"
        ],
        "columnOrder": [],
        "columnsFrozen": {},
        "columnsFrozenRight": {},
        "columnsVisible": {},
        "contextMenuItems": [],
        "contextMenuTags": {},
        "fontColor": [],
        "hasDoubleClickAction": false,
        "headersVertical": false,
        "rendererForColumn": {},
        "rendererForType": {},
        "stringFormatForColumn": {},
        "stringFormatForType": {},
        "subtype": "TableDisplay",
        "timeZone": "UTC",
        "tooManyRows": false,
        "tooltips": [],
        "type": "TableDisplay",
        "types": [
         "java.lang.String"
        ],
        "values": [
         [
          "Cursor(n=5,rows=269543,updateMode=,engine=OLAP (cost))"
         ],
         [
          "  ->  ScrollInsensitive(n=5,totalCost=3788.234,outputRows=269543,outputHeapSize=263.226 KB,partitions=1,parallelTasks=1)"
         ],
         [
          "    ->  ProjectRestrict(n=4,totalCost=1086.172,outputRows=269543,outputHeapSize=263.226 KB,partitions=1,parallelTasks=1)"
         ],
         [
          "      ->  GroupBy(n=3,totalCost=1086.172,outputRows=269543,outputHeapSize=263.226 KB,partitions=1,parallelTasks=1)"
         ],
         [
          "        ->  ProjectRestrict(n=2,totalCost=543.086,outputRows=269543,outputHeapSize=263.226 KB,partitions=1,parallelTasks=1)"
         ],
         [
          "          ->  TableScan[CC_FRAUD_DATA(7600)](n=0,totalCost=543.086,scannedRows=269543,outputRows=269543,outputHeapSize=263.226 KB,partitions=1,parallelTasks=1)"
         ],
         [
          "Table statistics are missing or skipped for the following tables:"
         ],
         [
          "SPLICE.CC_FRAUD_DATA"
         ],
         [
          "Column statistics are missing or skipped for the following columns:"
         ],
         [
          "SPLICE.CC_FRAUD_DATA.CLASS_RESULT"
         ]
        ]
       }
      }
     },
     "538b5d85392342979fc90be33ffa7fd4": {
      "model_module": "@jupyter-widgets/base",
      "model_module_version": "*",
      "model_name": "LayoutModel",
      "state": {
       "_model_module_version": "*",
       "_view_module_version": "*"
      }
     },
     "55ec762f-ad93-47f9-9ae6-64f5b133d397": {
      "model_module": "beakerx",
      "model_module_version": "*",
      "model_name": "TableDisplayModel",
      "state": {
       "model": {
        "alignmentForColumn": {},
        "alignmentForType": {},
        "cellHighlighters": [],
        "columnNames": [
         "RUN_UUID",
         "ACTION",
         "DEPLOYMENT_STATUS",
         "TABLEID",
         "TRIGGER_TYPE",
         "TRIGGERID",
         "TRIGGERID_2",
         "DB_ENV",
         "DB_USER",
         "ACTION_DATE"
        ],
        "columnOrder": [],
        "columnsFrozen": {},
        "columnsFrozenRight": {},
        "columnsVisible": {},
        "contextMenuItems": [],
        "contextMenuTags": {},
        "fontColor": [],
        "hasDoubleClickAction": false,
        "headersVertical": false,
        "rendererForColumn": {},
        "rendererForType": {},
        "stringFormatForColumn": {},
        "stringFormatForType": {},
        "subtype": "TableDisplay",
        "timeZone": "UTC",
        "tooManyRows": false,
        "tooltips": [],
        "type": "TableDisplay",
        "types": [
         "java.lang.String",
         "java.lang.String",
         "java.lang.String",
         "java.lang.String",
         "java.lang.String",
         "java.lang.String",
         "java.lang.String",
         "java.lang.String",
         "java.lang.String",
         "java.sql.Timestamp"
        ],
        "values": [
         [
          "3103c0e650df",
          "DEPLOYED",
          "Table or Trigger Missing",
          "03210338-0175-b800-401b-0004ba2359d8",
          "INSERT",
          "d2680341-0175-b800-401b-0004ba2359d8",
          "None",
          "PROD",
          "splice",
          {
           "timestamp": 1605136182000,
           "type": "Date"
          }
         ],
         [
          "3103c0e650df",
          "DEPLOYED",
          "Table or Trigger Missing",
          "947e02f1-0175-b800-401b-0004ba2359d8",
          "INSERT",
          "e32542fa-0175-b800-401b-0004ba2359d8",
          "None",
          "PROD",
          "splice",
          {
           "timestamp": 1605135690000,
           "type": "Date"
          }
         ],
         [
          "4a7d5f911722",
          "DEPLOYED",
          "Table or Trigger Missing",
          "d226c673-0175-89a1-6341-0004e8b04b38",
          "INSERT",
          "bf300680-0175-89a1-6341-0004e8b04b38",
          "1c63868d-0175-89a1-6341-0004e8b04b38",
          "PROD",
          "splice",
          {
           "timestamp": 1604378308000,
           "type": "Date"
          }
         ],
         [
          "7d1379351b60",
          "DEPLOYED",
          "Table or Trigger Missing",
          "8e958264-0175-89a1-6341-0004e8b04b38",
          "INSERT",
          "3e6e0271-0175-89a1-6341-0004e8b04b38",
          "None",
          "PROD",
          "splice",
          {
           "timestamp": 1604353068000,
           "type": "Date"
          }
         ],
         [
          "9a815a3cfcbf",
          "DEPLOYED",
          "DEPLOYED",
          "8bd605b1-0175-b800-401b-0004ba2359d8",
          "INSERT",
          "e0ad45ba-0175-b800-401b-0004ba2359d8",
          "c598c5c3-0175-b800-401b-0004ba2359d8",
          "PROD",
          "splice",
          {
           "timestamp": 1605186334000,
           "type": "Date"
          }
         ],
         [
          "9a815a3cfcbf",
          "DEPLOYED",
          "DEPLOYED",
          "9a160850-0175-b800-24a7-0004d7855b58",
          "INSERT",
          "afcdc60b-0175-b800-401b-0004ba2359d8",
          "f56f8614-0175-b800-401b-0004ba2359d8",
          "PROD",
          "splice",
          {
           "timestamp": 1605186416000,
           "type": "Date"
          }
         ],
         [
          "a822dcc2e3e7",
          "DEPLOYED",
          "Table or Trigger Missing",
          "7bed0929-0175-89a1-643e-0004e84c99c8",
          "INSERT",
          "44a6ca73-0175-89a1-6341-0004e8b04b38",
          "None",
          "PROD",
          "splice",
          {
           "timestamp": 1604501266000,
           "type": "Date"
          }
         ],
         [
          "f251f7b5fb3e",
          "DEPLOYED",
          "Table or Trigger Missing",
          "4a55437a-0175-b800-401b-0004ba2359d8",
          "INSERT",
          "2a30c383-0175-b800-401b-0004ba2359d8",
          "None",
          "PROD",
          "splice",
          {
           "timestamp": 1605136278000,
           "type": "Date"
          }
         ]
        ]
       }
      }
     },
     "56358120-2550-4643-94b7-88fa991c8e01": {
      "model_module": "beakerx",
      "model_module_version": "*",
      "model_name": "TableDisplayModel",
      "state": {
       "model": {
        "alignmentForColumn": {},
        "alignmentForType": {},
        "cellHighlighters": [],
        "columnNames": [
         "CUR_USER",
         "EVAL_TIME",
         "RUN_ID",
         "TIME_OFFSET",
         "EXPECTED_WEEKLY_TRANS_CNT",
         "EXPECTED_WEEKLY_TRANS_AMNT",
         "EXPECTED_DAILY_TRANS_CNT",
         "EXPECTED_DAILY_TRANS_AMNT",
         "WEEKLY_TRANS_CNT",
         "WEEKLY_TRANS_AMNT",
         "DAILY_TRANS_CNT",
         "DAILY_TRANS_AMNT",
         "ROLLING_AVG_WEEKLY_TRANS_CNT",
         "ROLLING_AVG_WEEKLY_TRANS_AMNT",
         "ROLLING_AVG_DAILY_TRANS_CNT",
         "ROLLING_AVG_DAILY_TRANS_AMNT",
         "MACD_TRANS_AMNT",
         "MACD_TRANS_CNT",
         "RSI_TRANS_AMNT",
         "RSI_TRANS_CNT",
         "AROON_TRANS_AMNT",
         "AROON_TRANS_CNT",
         "ADX_TRANS_AMNT",
         "ADX_TRANS_CNT",
         "CURRENT_BALANCE",
         "ROLLING_AVG_BALANCE",
         "MACD_BALANCE",
         "AROON_BALANCE",
         "RSI_BALANCE",
         "ADX_BALANCE",
         "CREDIT_SCORE",
         "CREDIT_LIMIT",
         "AMOUNT",
         "MOMENT_KEY",
         "PREDICTION",
         "no_fraud",
         "fraud"
        ],
        "columnOrder": [],
        "columnsFrozen": {},
        "columnsFrozenRight": {},
        "columnsVisible": {},
        "contextMenuItems": [],
        "contextMenuTags": {},
        "fontColor": [],
        "hasDoubleClickAction": false,
        "headersVertical": false,
        "rendererForColumn": {},
        "rendererForType": {},
        "stringFormatForColumn": {},
        "stringFormatForType": {},
        "subtype": "TableDisplay",
        "timeZone": "UTC",
        "tooManyRows": false,
        "tooltips": [],
        "type": "TableDisplay",
        "types": [
         "java.lang.String",
         "java.sql.Timestamp",
         "java.lang.String",
         "java.lang.Integer",
         "java.lang.Double",
         "java.lang.Double",
         "java.lang.Double",
         "java.lang.Double",
         "java.lang.Double",
         "java.lang.Double",
         "java.lang.Double",
         "java.lang.Double",
         "java.lang.Double",
         "java.lang.Double",
         "java.lang.Double",
         "java.lang.Double",
         "java.lang.Double",
         "java.lang.Double",
         "java.lang.Double",
         "java.lang.Double",
         "java.lang.Double",
         "java.lang.Double",
         "java.lang.Double",
         "java.lang.Double",
         "java.lang.Double",
         "java.lang.Double",
         "java.lang.Double",
         "java.lang.Double",
         "java.lang.Double",
         "java.lang.Double",
         "java.lang.Double",
         "java.lang.Double",
         "java.math.BigDecimal",
         "java.lang.Integer",
         "java.lang.String",
         "java.lang.Double",
         "java.lang.Double"
        ],
        "values": [
         [
          "SPLICE",
          {
           "timestamp": 1606846844032,
           "type": "Date"
          },
          "cebe35cc4fd3",
          0,
          7.768,
          2.566,
          2.496,
          7.43,
          2.488,
          8.762,
          9.601,
          5.847,
          4.957,
          7.979,
          4.957,
          2.281,
          9.715,
          4.086,
          7.222,
          5.017,
          3.844,
          9.683,
          6.43,
          1.439,
          5.908,
          3.563,
          1.116,
          7.097,
          8.717,
          0.06,
          2.273,
          4.846,
          10000,
          5,
          "no_fraud",
          0.999978087821504,
          2.1912178495979976e-05
         ],
         [
          "SPLICE",
          {
           "timestamp": 1606846844365,
           "type": "Date"
          },
          "cebe35cc4fd3",
          1,
          -5.577,
          -9.337,
          -7.048,
          -0.761,
          -2.862,
          -3.333,
          -7.063,
          -5.609,
          -2.905,
          -8.311,
          -3.427,
          -7.309,
          -0.231,
          -3.197,
          -0.681,
          -6.836,
          -3.565,
          -4.843,
          -5.158,
          -0.268,
          -5.082,
          -1.777,
          -1.195,
          -3.64,
          -2.74,
          -5.08,
          -2.38,
          -8.941,
          9284,
          6,
          "fraud",
          0.007519204944624325,
          0.9924807950553757
         ]
        ]
       }
      }
     },
     "57ac175a6fa0490f882236163578bb77": {
      "model_module": "beakerx",
      "model_module_version": "*",
      "model_name": "TableDisplayModel",
      "state": {
       "layout": "IPY_MODEL_c3557995ac2c446cbb5f00fa1e06ad90",
       "model": {
        "alignmentForColumn": {},
        "alignmentForType": {},
        "cellHighlighters": [],
        "columnNames": [
         "TIME_OFFSET",
         "EXPECTED_WEEKLY_TRANS_CNT",
         "EXPECTED_WEEKLY_TRANS_AMNT",
         "EXPECTED_DAILY_TRANS_CNT",
         "EXPECTED_DAILY_TRANS_AMNT",
         "WEEKLY_TRANS_CNT",
         "WEEKLY_TRANS_AMNT",
         "DAILY_TRANS_CNT",
         "DAILY_TRANS_AMNT",
         "ROLLING_AVG_WEEKLY_TRANS_CNT",
         "ROLLING_AVG_WEEKLY_TRANS_AMNT",
         "ROLLING_AVG_DAILY_TRANS_CNT",
         "ROLLING_AVG_DAILY_TRANS_AMNT",
         "MACD_TRANS_AMNT",
         "MACD_TRANS_CNT",
         "RSI_TRANS_AMNT",
         "RSI_TRANS_CNT",
         "AROON_TRANS_AMNT",
         "AROON_TRANS_CNT",
         "ADX_TRANS_AMNT",
         "ADX_TRANS_CNT",
         "CURRENT_BALANCE",
         "ROLLING_AVG_BALANCE",
         "MACD_BALANCE",
         "AROON_BALANCE",
         "RSI_BALANCE",
         "ADX_BALANCE",
         "CREDIT_SCORE",
         "CREDIT_LIMIT",
         "AMOUNT",
         "label"
        ],
        "columnOrder": [],
        "columnsFrozen": {},
        "columnsFrozenRight": {},
        "columnsVisible": {},
        "contextMenuItems": [],
        "contextMenuTags": {},
        "fontColor": [],
        "hasDoubleClickAction": false,
        "headersVertical": false,
        "rendererForColumn": {},
        "rendererForType": {},
        "stringFormatForColumn": {},
        "stringFormatForTimes": "YYYY-MM-DD HH:mm:ss.SSS",
        "stringFormatForType": {},
        "subtype": "ListOfMaps",
        "tooManyRows": false,
        "tooltips": [],
        "type": "TableDisplay",
        "types": [
         "integer",
         "double",
         "double",
         "double",
         "double",
         "double",
         "double",
         "double",
         "double",
         "double",
         "double",
         "double",
         "double",
         "double",
         "double",
         "double",
         "double",
         "double",
         "double",
         "double",
         "double",
         "double",
         "double",
         "double",
         "double",
         "double",
         "double",
         "double",
         "double",
         "string",
         "integer"
        ],
        "values": [
         [
          "0",
          "-1.3598071336738",
          "-0.0727811733098497",
          "2.53634673796914",
          "1.37815522427443",
          "-0.338320769942518",
          "0.462387777762292",
          "0.239598554061257",
          "0.0986979012610507",
          "0.363786969611213",
          "0.0907941719789316",
          "-0.551599533260813",
          "-0.617800855762348",
          "-0.991389847235408",
          "-0.311169353699879",
          "1.46817697209427",
          "-0.470400525259478",
          "0.207971241929242",
          "0.0257905801985591",
          "0.403992960255733",
          "0.251412098239705",
          "-0.018306777944153",
          "0.277837575558899",
          "-0.110473910188767",
          "0.0669280749146731",
          "0.128539358273528",
          "-0.189114843888824",
          "0.133558376740387",
          "-0.0210530534538215",
          "149.62",
          "0"
         ],
         [
          "1",
          "-1.35835406159823",
          "-1.34016307473609",
          "1.77320934263119",
          "0.379779593034328",
          "-0.503198133318193",
          "1.80049938079263",
          "0.791460956450422",
          "0.247675786588991",
          "-1.51465432260583",
          "0.207642865216696",
          "0.624501459424895",
          "0.066083685268831",
          "0.717292731410831",
          "-0.165945922763554",
          "2.34586494901581",
          "-2.89008319444231",
          "1.10996937869599",
          "-0.121359313195888",
          "-2.26185709530414",
          "0.524979725224404",
          "0.247998153469754",
          "0.771679401917229",
          "0.909412262347719",
          "-0.689280956490685",
          "-0.327641833735251",
          "-0.139096571514147",
          "-0.0553527940384261",
          "-0.0597518405929204",
          "378.66",
          "0"
         ],
         [
          "2",
          "-1.15823309349523",
          "0.877736754848451",
          "1.548717846511",
          "0.403033933955121",
          "-0.407193377311653",
          "0.0959214624684256",
          "0.592940745385545",
          "-0.270532677192282",
          "0.817739308235294",
          "0.753074431976354",
          "-0.822842877946363",
          "0.53819555014995",
          "1.3458515932154",
          "-1.11966983471731",
          "0.175121130008994",
          "-0.451449182813529",
          "-0.237033239362776",
          "-0.0381947870352842",
          "0.803486924960175",
          "0.408542360392758",
          "-0.00943069713232919",
          "0.79827849458971",
          "-0.137458079619063",
          "0.141266983824769",
          "-0.206009587619756",
          "0.502292224181569",
          "0.219422229513348",
          "0.215153147499206",
          "69.99",
          "0"
         ],
         [
          "4",
          "1.22965763450793",
          "0.141003507049326",
          "0.0453707735899449",
          "1.20261273673594",
          "0.191880988597645",
          "0.272708122899098",
          "-0.00515900288250983",
          "0.0812129398830894",
          "0.464959994783886",
          "-0.0992543211289237",
          "-1.41690724314928",
          "-0.153825826253651",
          "-0.75106271556262",
          "0.16737196252175",
          "0.0501435942254188",
          "-0.443586797916727",
          "0.00282051247234708",
          "-0.61198733994012",
          "-0.0455750446637976",
          "-0.21963255278686",
          "-0.167716265815783",
          "-0.270709726172363",
          "-0.154103786809305",
          "-0.780055415004671",
          "0.75013693580659",
          "-0.257236845917139",
          "0.0345074297438413",
          "0.00516776890624916",
          "4.99",
          "0"
         ],
         [
          "7",
          "-0.644269442348146",
          "1.41796354547385",
          "1.0743803763556",
          "-0.492199018495015",
          "0.948934094764157",
          "0.428118462833089",
          "1.12063135838353",
          "-3.80786423873589",
          "0.615374730667027",
          "1.24937617815176",
          "-0.619467796121913",
          "0.291474353088705",
          "1.75796421396042",
          "-1.32386521970526",
          "0.686132504394383",
          "-0.0761269994382006",
          "-1.2221273453247",
          "-0.358221569869078",
          "0.324504731321494",
          "-0.156741852488285",
          "1.94346533978412",
          "-1.01545470979971",
          "0.057503529867291",
          "-0.649709005559993",
          "-0.415266566234811",
          "-0.0516342969262494",
          "-1.20692108094258",
          "-1.08533918832377",
          "40.80",
          "0"
         ],
         [
          "9",
          "-0.33826175242575",
          "1.11959337641566",
          "1.04436655157316",
          "-0.222187276738296",
          "0.49936080649727",
          "-0.24676110061991",
          "0.651583206489972",
          "0.0695385865186387",
          "-0.736727316364109",
          "-0.366845639206541",
          "1.01761446783262",
          "0.836389570307029",
          "1.00684351373408",
          "-0.443522816876142",
          "0.150219101422635",
          "0.739452777052119",
          "-0.540979921943059",
          "0.47667726004282",
          "0.451772964394125",
          "0.203711454727929",
          "-0.246913936910008",
          "-0.633752642406113",
          "-0.12079408408185",
          "-0.385049925313426",
          "-0.0697330460416923",
          "0.0941988339514961",
          "0.246219304619926",
          "0.0830756493473326",
          "3.68",
          "0"
         ],
         [
          "10",
          "1.44904378114715",
          "-1.17633882535966",
          "0.913859832832795",
          "-1.37566665499943",
          "-1.97138316545323",
          "-0.62915213889734",
          "-1.4232356010359",
          "0.0484558879088564",
          "-1.72040839292037",
          "1.62665905834133",
          "1.1996439495421",
          "-0.671439778462005",
          "-0.513947152539479",
          "-0.0950450453999549",
          "0.230930409124119",
          "0.0319674667862076",
          "0.253414715863197",
          "0.854343814324194",
          "-0.221365413645481",
          "-0.387226474431156",
          "-0.00930189652490052",
          "0.313894410791098",
          "0.0277401580170247",
          "0.500512287104917",
          "0.25136735874921",
          "-0.129477953726618",
          "0.0428498709381461",
          "0.0162532619375515",
          "7.80",
          "0"
         ],
         [
          "11",
          "1.0693735878819",
          "0.287722129331455",
          "0.828612726634281",
          "2.71252042961718",
          "-0.178398016248009",
          "0.337543730282968",
          "-0.0967168617395962",
          "0.115981735546597",
          "-0.221082566236194",
          "0.460230444301678",
          "-0.773656930526689",
          "0.32338724546722",
          "-0.0110758870883779",
          "-0.178485175177916",
          "-0.65556427824926",
          "-0.19992517131173",
          "0.1240054151819",
          "-0.980496201537345",
          "-0.982916082135047",
          "-0.153197231044512",
          "-0.0368755317335273",
          "0.0744124028162195",
          "-0.0714074332998586",
          "0.104743752596029",
          "0.548264725394119",
          "0.104094153162781",
          "0.0214910583643189",
          "0.021293311477486",
          "27.50",
          "0"
         ],
         [
          "12",
          "-2.7918547659339",
          "-0.327770756658658",
          "1.64175016056605",
          "1.76747274389883",
          "-0.136588446465306",
          "0.80759646826532",
          "-0.422911389711497",
          "-1.90710747624096",
          "0.755712908314791",
          "1.1510869876677",
          "0.844555470974377",
          "0.7929439518176",
          "0.370448092803246",
          "-0.734975105820311",
          "0.406795710431001",
          "-0.303057623825763",
          "-0.155868714793874",
          "0.778265457041536",
          "2.22186801373788",
          "-1.58212204356551",
          "1.15166304848789",
          "0.222181966098225",
          "1.02058620426601",
          "0.0283166513238872",
          "-0.232746324289105",
          "-0.23555721754117",
          "-0.16477751177654",
          "-0.0301536365592253",
          "58.80",
          "0"
         ],
         [
          "13",
          "-0.436905071360625",
          "0.918966212909322",
          "0.92459077438817",
          "-0.727219053596792",
          "0.915678718106307",
          "-0.127867352079254",
          "0.707641607333935",
          "0.0879623554672504",
          "-0.66527135413364",
          "-0.737979823596458",
          "0.32409781346169",
          "0.277192107214981",
          "0.252624256310781",
          "-0.291896460370468",
          "-0.184520169327133",
          "1.14317370716197",
          "-0.92870926272403",
          "0.680469592634687",
          "0.0254364616880793",
          "-0.0470212823165035",
          "-0.194795823794671",
          "-0.672637997017793",
          "-0.156857514491897",
          "-0.888386320943716",
          "-0.342413218776576",
          "-0.049026728633951",
          "0.0796923991551505",
          "0.131023789452311",
          "0.89",
          "0"
         ]
        ]
       }
      }
     },
     "5956cf7054ca47499436d4e1eac47afb": {
      "model_module": "@jupyter-widgets/base",
      "model_module_version": "1.2.0",
      "model_name": "LayoutModel",
      "state": {}
     },
     "5a2d3935235a4f9b98ff5519e83f8aba": {
      "model_module": "@jupyter-widgets/base",
      "model_module_version": "1.2.0",
      "model_name": "LayoutModel",
      "state": {}
     },
     "5b36b1c6146f4074af4ce91c2d1d1732": {
      "model_module": "beakerx",
      "model_module_version": "*",
      "model_name": "TableDisplayModel",
      "state": {
       "layout": "IPY_MODEL_355fa2e681df42a8b2c886b69bdb60be",
       "model": {
        "alignmentForColumn": {},
        "alignmentForType": {},
        "cellHighlighters": [],
        "columnNames": [
         "TIME_OFFSET",
         "EXPECTED_WEEKLY_TRANS_CNT",
         "EXPECTED_WEEKLY_TRANS_AMNT",
         "EXPECTED_DAILY_TRANS_CNT",
         "EXPECTED_DAILY_TRANS_AMNT",
         "WEEKLY_TRANS_CNT",
         "WEEKLY_TRANS_AMNT",
         "DAILY_TRANS_CNT",
         "DAILY_TRANS_AMNT",
         "ROLLING_AVG_WEEKLY_TRANS_CNT",
         "ROLLING_AVG_WEEKLY_TRANS_AMNT",
         "ROLLING_AVG_DAILY_TRANS_CNT",
         "ROLLING_AVG_DAILY_TRANS_AMNT",
         "MACD_TRANS_AMNT",
         "MACD_TRANS_CNT",
         "RSI_TRANS_AMNT",
         "RSI_TRANS_CNT",
         "AROON_TRANS_AMNT",
         "AROON_TRANS_CNT",
         "ADX_TRANS_AMNT",
         "ADX_TRANS_CNT",
         "CURRENT_BALANCE",
         "ROLLING_AVG_BALANCE",
         "MACD_BALANCE",
         "AROON_BALANCE",
         "RSI_BALANCE",
         "ADX_BALANCE",
         "CREDIT_SCORE",
         "CREDIT_LIMIT",
         "AMOUNT",
         "label"
        ],
        "columnOrder": [],
        "columnsFrozen": {},
        "columnsFrozenRight": {},
        "columnsVisible": {},
        "contextMenuItems": [],
        "contextMenuTags": {},
        "fontColor": [],
        "hasDoubleClickAction": false,
        "headersVertical": false,
        "rendererForColumn": {},
        "rendererForType": {},
        "stringFormatForColumn": {},
        "stringFormatForTimes": "YYYY-MM-DD HH:mm:ss.SSS",
        "stringFormatForType": {},
        "subtype": "ListOfMaps",
        "tooManyRows": false,
        "tooltips": [],
        "type": "TableDisplay",
        "types": [
         "integer",
         "double",
         "double",
         "double",
         "double",
         "double",
         "double",
         "double",
         "double",
         "double",
         "double",
         "double",
         "double",
         "double",
         "double",
         "double",
         "double",
         "double",
         "double",
         "double",
         "double",
         "double",
         "double",
         "double",
         "double",
         "double",
         "double",
         "double",
         "double",
         "string",
         "integer"
        ],
        "values": [
         [
          "0",
          "-1.3598071336738",
          "-0.0727811733098497",
          "2.53634673796914",
          "1.37815522427443",
          "-0.338320769942518",
          "0.462387777762292",
          "0.239598554061257",
          "0.0986979012610507",
          "0.363786969611213",
          "0.0907941719789316",
          "-0.551599533260813",
          "-0.617800855762348",
          "-0.991389847235408",
          "-0.311169353699879",
          "1.46817697209427",
          "-0.470400525259478",
          "0.207971241929242",
          "0.0257905801985591",
          "0.403992960255733",
          "0.251412098239705",
          "-0.018306777944153",
          "0.277837575558899",
          "-0.110473910188767",
          "0.0669280749146731",
          "0.128539358273528",
          "-0.189114843888824",
          "0.133558376740387",
          "-0.0210530534538215",
          "149.62",
          "0"
         ],
         [
          "1",
          "-1.35835406159823",
          "-1.34016307473609",
          "1.77320934263119",
          "0.379779593034328",
          "-0.503198133318193",
          "1.80049938079263",
          "0.791460956450422",
          "0.247675786588991",
          "-1.51465432260583",
          "0.207642865216696",
          "0.624501459424895",
          "0.066083685268831",
          "0.717292731410831",
          "-0.165945922763554",
          "2.34586494901581",
          "-2.89008319444231",
          "1.10996937869599",
          "-0.121359313195888",
          "-2.26185709530414",
          "0.524979725224404",
          "0.247998153469754",
          "0.771679401917229",
          "0.909412262347719",
          "-0.689280956490685",
          "-0.327641833735251",
          "-0.139096571514147",
          "-0.0553527940384261",
          "-0.0597518405929204",
          "378.66",
          "0"
         ],
         [
          "2",
          "-1.15823309349523",
          "0.877736754848451",
          "1.548717846511",
          "0.403033933955121",
          "-0.407193377311653",
          "0.0959214624684256",
          "0.592940745385545",
          "-0.270532677192282",
          "0.817739308235294",
          "0.753074431976354",
          "-0.822842877946363",
          "0.53819555014995",
          "1.3458515932154",
          "-1.11966983471731",
          "0.175121130008994",
          "-0.451449182813529",
          "-0.237033239362776",
          "-0.0381947870352842",
          "0.803486924960175",
          "0.408542360392758",
          "-0.00943069713232919",
          "0.79827849458971",
          "-0.137458079619063",
          "0.141266983824769",
          "-0.206009587619756",
          "0.502292224181569",
          "0.219422229513348",
          "0.215153147499206",
          "69.99",
          "0"
         ],
         [
          "4",
          "1.22965763450793",
          "0.141003507049326",
          "0.0453707735899449",
          "1.20261273673594",
          "0.191880988597645",
          "0.272708122899098",
          "-0.00515900288250983",
          "0.0812129398830894",
          "0.464959994783886",
          "-0.0992543211289237",
          "-1.41690724314928",
          "-0.153825826253651",
          "-0.75106271556262",
          "0.16737196252175",
          "0.0501435942254188",
          "-0.443586797916727",
          "0.00282051247234708",
          "-0.61198733994012",
          "-0.0455750446637976",
          "-0.21963255278686",
          "-0.167716265815783",
          "-0.270709726172363",
          "-0.154103786809305",
          "-0.780055415004671",
          "0.75013693580659",
          "-0.257236845917139",
          "0.0345074297438413",
          "0.00516776890624916",
          "4.99",
          "0"
         ],
         [
          "7",
          "-0.644269442348146",
          "1.41796354547385",
          "1.0743803763556",
          "-0.492199018495015",
          "0.948934094764157",
          "0.428118462833089",
          "1.12063135838353",
          "-3.80786423873589",
          "0.615374730667027",
          "1.24937617815176",
          "-0.619467796121913",
          "0.291474353088705",
          "1.75796421396042",
          "-1.32386521970526",
          "0.686132504394383",
          "-0.0761269994382006",
          "-1.2221273453247",
          "-0.358221569869078",
          "0.324504731321494",
          "-0.156741852488285",
          "1.94346533978412",
          "-1.01545470979971",
          "0.057503529867291",
          "-0.649709005559993",
          "-0.415266566234811",
          "-0.0516342969262494",
          "-1.20692108094258",
          "-1.08533918832377",
          "40.80",
          "0"
         ],
         [
          "9",
          "-0.33826175242575",
          "1.11959337641566",
          "1.04436655157316",
          "-0.222187276738296",
          "0.49936080649727",
          "-0.24676110061991",
          "0.651583206489972",
          "0.0695385865186387",
          "-0.736727316364109",
          "-0.366845639206541",
          "1.01761446783262",
          "0.836389570307029",
          "1.00684351373408",
          "-0.443522816876142",
          "0.150219101422635",
          "0.739452777052119",
          "-0.540979921943059",
          "0.47667726004282",
          "0.451772964394125",
          "0.203711454727929",
          "-0.246913936910008",
          "-0.633752642406113",
          "-0.12079408408185",
          "-0.385049925313426",
          "-0.0697330460416923",
          "0.0941988339514961",
          "0.246219304619926",
          "0.0830756493473326",
          "3.68",
          "0"
         ],
         [
          "10",
          "1.44904378114715",
          "-1.17633882535966",
          "0.913859832832795",
          "-1.37566665499943",
          "-1.97138316545323",
          "-0.62915213889734",
          "-1.4232356010359",
          "0.0484558879088564",
          "-1.72040839292037",
          "1.62665905834133",
          "1.1996439495421",
          "-0.671439778462005",
          "-0.513947152539479",
          "-0.0950450453999549",
          "0.230930409124119",
          "0.0319674667862076",
          "0.253414715863197",
          "0.854343814324194",
          "-0.221365413645481",
          "-0.387226474431156",
          "-0.00930189652490052",
          "0.313894410791098",
          "0.0277401580170247",
          "0.500512287104917",
          "0.25136735874921",
          "-0.129477953726618",
          "0.0428498709381461",
          "0.0162532619375515",
          "7.80",
          "0"
         ],
         [
          "11",
          "1.0693735878819",
          "0.287722129331455",
          "0.828612726634281",
          "2.71252042961718",
          "-0.178398016248009",
          "0.337543730282968",
          "-0.0967168617395962",
          "0.115981735546597",
          "-0.221082566236194",
          "0.460230444301678",
          "-0.773656930526689",
          "0.32338724546722",
          "-0.0110758870883779",
          "-0.178485175177916",
          "-0.65556427824926",
          "-0.19992517131173",
          "0.1240054151819",
          "-0.980496201537345",
          "-0.982916082135047",
          "-0.153197231044512",
          "-0.0368755317335273",
          "0.0744124028162195",
          "-0.0714074332998586",
          "0.104743752596029",
          "0.548264725394119",
          "0.104094153162781",
          "0.0214910583643189",
          "0.021293311477486",
          "27.50",
          "0"
         ],
         [
          "12",
          "-2.7918547659339",
          "-0.327770756658658",
          "1.64175016056605",
          "1.76747274389883",
          "-0.136588446465306",
          "0.80759646826532",
          "-0.422911389711497",
          "-1.90710747624096",
          "0.755712908314791",
          "1.1510869876677",
          "0.844555470974377",
          "0.7929439518176",
          "0.370448092803246",
          "-0.734975105820311",
          "0.406795710431001",
          "-0.303057623825763",
          "-0.155868714793874",
          "0.778265457041536",
          "2.22186801373788",
          "-1.58212204356551",
          "1.15166304848789",
          "0.222181966098225",
          "1.02058620426601",
          "0.0283166513238872",
          "-0.232746324289105",
          "-0.23555721754117",
          "-0.16477751177654",
          "-0.0301536365592253",
          "58.80",
          "0"
         ],
         [
          "13",
          "-0.436905071360625",
          "0.918966212909322",
          "0.92459077438817",
          "-0.727219053596792",
          "0.915678718106307",
          "-0.127867352079254",
          "0.707641607333935",
          "0.0879623554672504",
          "-0.66527135413364",
          "-0.737979823596458",
          "0.32409781346169",
          "0.277192107214981",
          "0.252624256310781",
          "-0.291896460370468",
          "-0.184520169327133",
          "1.14317370716197",
          "-0.92870926272403",
          "0.680469592634687",
          "0.0254364616880793",
          "-0.0470212823165035",
          "-0.194795823794671",
          "-0.672637997017793",
          "-0.156857514491897",
          "-0.888386320943716",
          "-0.342413218776576",
          "-0.049026728633951",
          "0.0796923991551505",
          "0.131023789452311",
          "0.89",
          "0"
         ]
        ]
       }
      }
     },
     "5c4a173b-0e2e-4152-b54c-bf4c5e03d9b6": {
      "model_module": "beakerx",
      "model_module_version": "*",
      "model_name": "TableDisplayModel",
      "state": {
       "model": {
        "alignmentForColumn": {},
        "alignmentForType": {},
        "cellHighlighters": [],
        "columnNames": [
         "CUR_USER",
         "EVAL_TIME",
         "RUN_ID",
         "PREDICTION",
         "no_fraud",
         "fraud"
        ],
        "columnOrder": [],
        "columnsFrozen": {},
        "columnsFrozenRight": {},
        "columnsVisible": {},
        "contextMenuItems": [],
        "contextMenuTags": {},
        "fontColor": [],
        "hasDoubleClickAction": false,
        "headersVertical": false,
        "rendererForColumn": {},
        "rendererForType": {},
        "stringFormatForColumn": {},
        "stringFormatForType": {},
        "subtype": "TableDisplay",
        "timeZone": "UTC",
        "tooManyRows": false,
        "tooltips": [],
        "type": "TableDisplay",
        "types": [
         "java.lang.String",
         "java.sql.Timestamp",
         "java.lang.String",
         "java.lang.String",
         "java.lang.Integer",
         "java.lang.Double"
        ],
        "values": [
         [
          "SPLICE",
          {
           "timestamp": 1606846844032,
           "type": "Date"
          },
          "cebe35cc4fd3",
          "no_fraud",
          5,
          2.1912178495979976e-05
         ],
         [
          "SPLICE",
          {
           "timestamp": 1606846844365,
           "type": "Date"
          },
          "cebe35cc4fd3",
          "fraud",
          6,
          0.9924807950553757
         ]
        ]
       }
      }
     },
     "5de7c169-ed89-4673-abe6-fa1bf7d9ab7f": {
      "model_module": "@jupyter-widgets/base",
      "model_module_version": "*",
      "model_name": "LayoutModel",
      "state": {
       "_model_module_version": "*",
       "_view_module_version": "*",
       "align_content": "",
       "align_self": "",
       "border": "",
       "bottom": "",
       "flex": "",
       "height": "",
       "justify_content": "",
       "left": "",
       "margin": "",
       "max_height": "",
       "max_width": "",
       "min_height": "",
       "min_width": "",
       "msg_throttle": 3,
       "overflow": "",
       "overflow_x": "",
       "overflow_y": "",
       "padding": "",
       "right": "",
       "top": ""
      }
     },
     "5ebaf84574bb4749805763aa8bd537b1": {
      "model_module": "@jupyter-widgets/base",
      "model_module_version": "*",
      "model_name": "LayoutModel",
      "state": {
       "_model_module_version": "*",
       "_view_module_version": "*"
      }
     },
     "5f47cf02-e2a8-41d0-a6e4-cd2beb2f62fd": {
      "model_module": "@jupyter-widgets/base",
      "model_module_version": "*",
      "model_name": "LayoutModel",
      "state": {
       "_model_module_version": "*",
       "_view_module_version": "*",
       "align_content": "",
       "align_self": "",
       "border": "",
       "bottom": "",
       "flex": "",
       "height": "",
       "justify_content": "",
       "left": "",
       "margin": "",
       "max_height": "",
       "max_width": "",
       "min_height": "",
       "min_width": "",
       "msg_throttle": 3,
       "overflow": "",
       "overflow_x": "",
       "overflow_y": "",
       "padding": "",
       "right": "",
       "top": ""
      }
     },
     "5f7f454c-ef2e-4cb9-9e13-55a675d97f31": {
      "model_module": "beakerx",
      "model_module_version": "*",
      "model_name": "HTMLPreModel",
      "state": {
       "font_family": "",
       "font_size": "",
       "font_style": "",
       "font_weight": "",
       "layout": "IPY_MODEL_427ccc3d-50f1-4c5d-9dc7-17aac47b7949",
       "msg_throttle": 3,
       "placeholder": "",
       "value": "Query executed successfully. Affected rows : 0",
       "visible": true
      }
     },
     "60414b39006947798938ccd638a54ac4": {
      "model_module": "@jupyter-widgets/controls",
      "model_module_version": "1.5.0",
      "model_name": "DescriptionStyleModel",
      "state": {
       "description_width": ""
      }
     },
     "61289ea1fb5546d7a8b5daa015ff4d80": {
      "model_module": "@jupyter-widgets/base",
      "model_module_version": "1.2.0",
      "model_name": "LayoutModel",
      "state": {}
     },
     "63ec85a1-d301-419c-829e-f27f584ac0e0": {
      "model_module": "beakerx",
      "model_module_version": "*",
      "model_name": "HTMLPreModel",
      "state": {
       "font_family": "",
       "font_size": "",
       "font_style": "",
       "font_weight": "",
       "layout": "IPY_MODEL_f7d37ed2-721a-4834-9260-e349fa4bda98",
       "msg_throttle": 3,
       "placeholder": "",
       "value": "Query executed successfully. Affected rows : 0",
       "visible": true
      }
     },
     "644865e2-f98f-48c4-9187-2c759567ff50": {
      "model_module": "beakerx",
      "model_module_version": "*",
      "model_name": "TableDisplayModel",
      "state": {
       "model": {
        "alignmentForColumn": {},
        "alignmentForType": {},
        "cellHighlighters": [],
        "columnNames": [
         "TIME_OFFSET",
         "EXPECTED_WEEKLY_TRANS_CNT",
         "EXPECTED_WEEKLY_TRANS_AMNT",
         "EXPECTED_DAILY_TRANS_CNT",
         "EXPECTED_DAILY_TRANS_AMNT",
         "WEEKLY_TRANS_CNT",
         "WEEKLY_TRANS_AMNT",
         "DAILY_TRANS_CNT",
         "DAILY_TRANS_AMNT",
         "ROLLING_AVG_WEEKLY_TRANS_CNT",
         "ROLLING_AVG_WEEKLY_TRANS_AMNT",
         "ROLLING_AVG_DAILY_TRANS_CNT",
         "ROLLING_AVG_DAILY_TRANS_AMNT",
         "MACD_TRANS_AMNT",
         "MACD_TRANS_CNT",
         "RSI_TRANS_AMNT",
         "RSI_TRANS_CNT",
         "AROON_TRANS_AMNT",
         "AROON_TRANS_CNT",
         "ADX_TRANS_AMNT",
         "ADX_TRANS_CNT",
         "CURRENT_BALANCE",
         "ROLLING_AVG_BALANCE",
         "MACD_BALANCE",
         "AROON_BALANCE",
         "RSI_BALANCE",
         "ADX_BALANCE",
         "CREDIT_SCORE",
         "CREDIT_LIMIT",
         "AMOUNT",
         "CLASS_RESULT",
         "CUR_USER",
         "EVAL_TIME",
         "RUN_ID",
         "PREDICTION",
         "not_fraud",
         "fraud"
        ],
        "columnOrder": [],
        "columnsFrozen": {},
        "columnsFrozenRight": {},
        "columnsVisible": {},
        "contextMenuItems": [],
        "contextMenuTags": {},
        "fontColor": [],
        "hasDoubleClickAction": false,
        "headersVertical": false,
        "rendererForColumn": {},
        "rendererForType": {},
        "stringFormatForColumn": {},
        "stringFormatForType": {},
        "subtype": "TableDisplay",
        "timeZone": "UTC",
        "tooManyRows": false,
        "tooltips": [],
        "type": "TableDisplay",
        "types": [
         "java.lang.Integer",
         "java.lang.Double",
         "java.lang.Double",
         "java.lang.Double",
         "java.lang.Double",
         "java.lang.Double",
         "java.lang.Double",
         "java.lang.Double",
         "java.lang.Double",
         "java.lang.Double",
         "java.lang.Double",
         "java.lang.Double",
         "java.lang.Double",
         "java.lang.Double",
         "java.lang.Double",
         "java.lang.Double",
         "java.lang.Double",
         "java.lang.Double",
         "java.lang.Double",
         "java.lang.Double",
         "java.lang.Double",
         "java.lang.Double",
         "java.lang.Double",
         "java.lang.Double",
         "java.lang.Double",
         "java.lang.Double",
         "java.lang.Double",
         "java.lang.Double",
         "java.lang.Double",
         "java.math.BigDecimal",
         "java.lang.Integer",
         "java.lang.String",
         "java.sql.Timestamp",
         "java.lang.String",
         "java.lang.String",
         "java.lang.Double",
         "java.lang.Double"
        ],
        "values": [
         [
          990773,
          7.768,
          2.566,
          2.496,
          7.43,
          2.488,
          8.762,
          9.601,
          5.847,
          4.957,
          7.979,
          4.957,
          2.281,
          9.715,
          4.086,
          7.222,
          5.017,
          3.844,
          9.683,
          6.43,
          1.439,
          5.908,
          3.563,
          1.116,
          7.097,
          8.717,
          0.06,
          2.273,
          4.846,
          10000.22,
          null,
          "SPLICE",
          {
           "timestamp": 1605186424772,
           "type": "Date"
          },
          "9a815a3cfcbf",
          "not_fraud",
          0.999358196250508,
          0.0006418037494918241
         ],
         [
          990774,
          -5.577,
          -9.337,
          -7.048,
          -9.761,
          -2.862,
          -3.333,
          -7.063,
          -5.609,
          -2.905,
          -8.311,
          -3.427,
          -7.309,
          -0.231,
          -3.197,
          -100.681,
          -6.836,
          -3.565,
          -4.843,
          -5.158,
          -0.268,
          -5.082,
          -1.777,
          -1.195,
          -3.64,
          -2.74,
          -5.08,
          -2.38,
          -8.941,
          9284.22,
          null,
          "SPLICE",
          {
           "timestamp": 1605186425177,
           "type": "Date"
          },
          "9a815a3cfcbf",
          "not_fraud",
          0.9941101774971955,
          0.005889822502804411
         ]
        ]
       }
      }
     },
     "69bcdda2270e4a3287f672971c6eeed4": {
      "model_module": "@jupyter-widgets/base",
      "model_module_version": "*",
      "model_name": "LayoutModel",
      "state": {
       "_model_module_version": "*",
       "_view_module_version": "*"
      }
     },
     "6b85653e51504f64a8801d32fcbe7427": {
      "model_module": "@jupyter-widgets/base",
      "model_module_version": "*",
      "model_name": "LayoutModel",
      "state": {
       "_model_module_version": "*",
       "_view_module_version": "*"
      }
     },
     "6d015a7e-b46c-4fa7-b490-de3cde205026": {
      "model_module": "beakerx",
      "model_module_version": "*",
      "model_name": "TableDisplayModel",
      "state": {
       "model": {
        "alignmentForColumn": {},
        "alignmentForType": {},
        "cellHighlighters": [],
        "columnNames": [
         "Key",
         "Value"
        ],
        "columnOrder": [],
        "columnsFrozen": {},
        "columnsFrozenRight": {},
        "columnsVisible": {},
        "contextMenuItems": [],
        "contextMenuTags": {},
        "fontColor": [],
        "hasDoubleClickAction": false,
        "headersVertical": false,
        "rendererForColumn": {},
        "rendererForType": {},
        "stringFormatForColumn": {},
        "stringFormatForType": {},
        "subtype": "Dictionary",
        "timeZone": "UTC",
        "tooManyRows": false,
        "tooltips": [],
        "type": "TableDisplay",
        "types": [],
        "values": [
         [
          "CUR_USER",
          "SPLICE"
         ],
         [
          "EVAL_TIME",
          {
           "timestamp": 1606846844365,
           "type": "Date"
          }
         ],
         [
          "RUN_ID",
          "cebe35cc4fd3"
         ],
         [
          "CREDIT_SCORE",
          -2.38
         ],
         [
          "PREDICTION",
          "fraud"
         ],
         [
          "no_fraud",
          6
         ],
         [
          "fraud",
          0.9924807950553757
         ]
        ]
       }
      }
     },
     "6e1d82232a3a42e5bf689d9ef2b5070b": {
      "model_module": "@jupyter-widgets/controls",
      "model_module_version": "1.5.0",
      "model_name": "HBoxModel",
      "state": {
       "children": [
        "IPY_MODEL_d1c1e0dfad5744e9b0ee8f5a17bace20",
        "IPY_MODEL_7c6a38dd24ba497b9b35f6115f439112"
       ],
       "layout": "IPY_MODEL_a5049f7ae2f4495c82cd76071bfad2ac"
      }
     },
     "6eaa234c-3c56-433c-a94a-3b8e14801b1b": {
      "model_module": "beakerx",
      "model_module_version": "*",
      "model_name": "TableDisplayModel",
      "state": {
       "model": {
        "alignmentForColumn": {},
        "alignmentForType": {},
        "cellHighlighters": [],
        "columnNames": [
         "Key",
         "Value"
        ],
        "columnOrder": [],
        "columnsFrozen": {},
        "columnsFrozenRight": {},
        "columnsVisible": {},
        "contextMenuItems": [],
        "contextMenuTags": {},
        "fontColor": [],
        "hasDoubleClickAction": false,
        "headersVertical": false,
        "rendererForColumn": {},
        "rendererForType": {},
        "stringFormatForColumn": {},
        "stringFormatForType": {},
        "subtype": "Dictionary",
        "timeZone": "UTC",
        "tooManyRows": false,
        "tooltips": [],
        "type": "TableDisplay",
        "types": [],
        "values": [
         [
          "rowsImported",
          124591
         ],
         [
          "failedRows",
          160130
         ],
         [
          "files",
          1
         ],
         [
          "dataSize",
          150828752
         ],
         [
          "failedLog",
          "s3a://splice-demo/kaggle-fraud-data/bad"
         ]
        ]
       }
      }
     },
     "700ebc89473e4bae89cecf90a380b7bb": {
      "model_module": "@jupyter-widgets/base",
      "model_module_version": "*",
      "model_name": "LayoutModel",
      "state": {
       "_model_module_version": "*",
       "_view_module_version": "*"
      }
     },
     "713162b4927b490792fd9c9a8fad752a": {
      "model_module": "beakerx",
      "model_module_version": "*",
      "model_name": "TableDisplayModel",
      "state": {
       "layout": "IPY_MODEL_4ba37e19704d4561b7066b00a79ce5f3",
       "model": {
        "alignmentForColumn": {},
        "alignmentForType": {},
        "cellHighlighters": [],
        "columnNames": [
         "",
         "group",
         "cumulative_data_fraction",
         "lower_threshold",
         "lift",
         "cumulative_lift",
         "response_rate",
         "score",
         "cumulative_response_rate",
         "cumulative_score",
         "capture_rate",
         "cumulative_capture_rate",
         "gain",
         "cumulative_gain"
        ],
        "columnOrder": [],
        "columnsFrozen": {},
        "columnsFrozenRight": {},
        "columnsVisible": {},
        "contextMenuItems": [],
        "contextMenuTags": {},
        "fontColor": [],
        "hasDoubleClickAction": false,
        "headersVertical": false,
        "rendererForColumn": {},
        "rendererForType": {},
        "stringFormatForColumn": {},
        "stringFormatForTimes": "YYYY-MM-DD HH:mm:ss.SSS",
        "stringFormatForType": {},
        "subtype": "ListOfMaps",
        "tooManyRows": false,
        "tooltips": [],
        "type": "TableDisplay",
        "types": [
         "string",
         "integer",
         "double",
         "double",
         "double",
         "double",
         "double",
         "double",
         "double",
         "double",
         "double",
         "double",
         "double",
         "double"
        ],
        "values": [
         [
          "",
          "1",
          "0.010860848245995921",
          "0.0003706921671261338",
          "61.19877965587811",
          "61.19877965587811",
          "0.11708860759493671",
          "0.18718479093444357",
          "0.11708860759493671",
          "0.18718479093444357",
          "0.6646706586826348",
          "0.6646706586826348",
          "6019.877965587812",
          "6019.877965587812"
         ],
         [
          "",
          "2",
          "0.02001466443645029",
          "0.00032386877635654247",
          "1.9624680551287912",
          "34.106728729147314",
          "0.0037546933667083854",
          "0.000336854831308857",
          "0.06525472238122496",
          "0.10172886595081185",
          "0.017964071856287425",
          "0.6826347305389222",
          "96.24680551287912",
          "3310.672872914731"
         ],
         [
          "",
          "3",
          "0.03559562816488326",
          "0.0002883217090425814",
          "1.1529499823881648",
          "19.682158695161977",
          "0.0022058823529411764",
          "0.0002962229219743624",
          "0.03765690376569038",
          "0.05732964016413049",
          "0.017964071856287425",
          "0.7005988023952096",
          "15.294998238816483",
          "1868.2158695161977"
         ],
         [
          "",
          "4",
          "0.05064958870838393",
          "0.0002860249091988473",
          "0.0",
          "13.832270315735865",
          "0.0",
          "0.00028603637186943144",
          "0.026464600769056774",
          "0.040375264370637834",
          "0.0",
          "0.7005988023952096",
          "-100.0",
          "1283.2270315735866"
         ],
         [
          "",
          "5",
          "0.10017643150104255",
          "0.0002719900369641541",
          "0.12090461685927242",
          "7.05342380198432",
          "0.0002313208420078649",
          "0.00027805739194467535",
          "0.013494967978042087",
          "0.020551359319300855",
          "0.005988023952095809",
          "0.7065868263473054",
          "-87.90953831407276",
          "605.342380198432"
         ],
         [
          "",
          "6",
          "0.2769287170909424",
          "0.0002673528924824383",
          "0.10163417008347836",
          "2.6163805105327986",
          "0.0001944516463572725",
          "0.0002673804343635765",
          "0.0050057918252523585",
          "0.007604924343427434",
          "0.017964071856287425",
          "0.7245508982035929",
          "-89.83658299165216",
          "161.63805105327987"
         ],
         [
          "",
          "7",
          "0.42777765048232247",
          "0.00026261480439447317",
          "0.11908650232003525",
          "1.7357497971731086",
          "0.000227842333105491",
          "0.000262956736315299",
          "0.0033209245025308657",
          "0.005015897120340434",
          "0.017964071856287425",
          "0.7425149700598802",
          "-88.09134976799648",
          "73.57497971731087"
         ],
         [
          "",
          "8",
          "0.6084480901862842",
          "0.00023442910669600422",
          "0.06628670370103167",
          "1.2400252875032853",
          "0.00012682308180088776",
          "0.00023769315741084952",
          "0.002372479240806643",
          "0.003597074011349499",
          "0.011976047904191617",
          "0.7544910179640718",
          "-93.37132962989683",
          "24.002528750328533"
         ],
         [
          "",
          "9",
          "0.7871250830602846",
          "0.00022388207831510026",
          "0.06702624502213833",
          "0.9737551024143402",
          "0.00012823800974608873",
          "0.0002244892395338098",
          "0.0018630376246270286",
          "0.0028314989862241445",
          "0.011976047904191617",
          "0.7664670658682635",
          "-93.29737549778616",
          "-2.6244897585659843"
         ],
         [
          "",
          "10",
          "0.8000022913181953",
          "0.00016836910620677458",
          "0.9300189656274639",
          "0.9730511052534407",
          "0.0017793594306049821",
          "0.00020331504307716206",
          "0.0018616907015709806",
          "0.002789194517420392",
          "0.011976047904191617",
          "0.7784431137724551",
          "-6.9981034372536115",
          "-2.694889474655926"
         ],
         [
          "",
          "11",
          "0.9776138212313544",
          "9.863249115187152e-05",
          "0.13485664934080752",
          "0.8207690932296566",
          "0.00025801457782364704",
          "0.00010070377555581636",
          "0.0015703370365161957",
          "0.0023007532296136315",
          "0.023952095808383235",
          "0.8023952095808383",
          "-86.51433506591924",
          "-17.923090677034338"
         ],
         [
          "",
          "12",
          "1.0",
          "1e-19",
          "8.827088913268652",
          "1.0",
          "0.016888433981576252",
          "6.550776702486158e-05",
          "0.0019132506931237542",
          "0.0022507146250963154",
          "0.19760479041916168",
          "1.0",
          "782.7088913268651",
          "0.0"
         ]
        ]
       }
      }
     },
     "717601c8-dd3f-48d4-b7e4-ce481b42200f": {
      "model_module": "beakerx",
      "model_module_version": "*",
      "model_name": "TableDisplayModel",
      "state": {
       "model": {
        "alignmentForColumn": {},
        "alignmentForType": {},
        "cellHighlighters": [],
        "columnNames": [
         "Key",
         "Value"
        ],
        "columnOrder": [],
        "columnsFrozen": {},
        "columnsFrozenRight": {},
        "columnsVisible": {},
        "contextMenuItems": [],
        "contextMenuTags": {},
        "fontColor": [],
        "hasDoubleClickAction": false,
        "headersVertical": false,
        "rendererForColumn": {},
        "rendererForType": {},
        "stringFormatForColumn": {},
        "stringFormatForType": {},
        "subtype": "Dictionary",
        "timeZone": "UTC",
        "tooManyRows": false,
        "tooltips": [],
        "type": "TableDisplay",
        "types": [],
        "values": [
         [
          "no_fraud",
          0.9936315042465407
         ],
         [
          "fraud",
          0.006368495753459417
         ]
        ]
       }
      }
     },
     "71d69283-fb41-4391-9a87-0065fcf6701b": {
      "model_module": "@jupyter-widgets/base",
      "model_module_version": "*",
      "model_name": "LayoutModel",
      "state": {
       "_model_module_version": "*",
       "_view_module_version": "*",
       "align_content": "",
       "align_self": "",
       "border": "",
       "bottom": "",
       "flex": "",
       "height": "",
       "justify_content": "",
       "left": "",
       "margin": "",
       "max_height": "",
       "max_width": "",
       "min_height": "",
       "min_width": "",
       "msg_throttle": 3,
       "overflow": "",
       "overflow_x": "",
       "overflow_y": "",
       "padding": "",
       "right": "",
       "top": ""
      }
     },
     "73bfd505-a1c6-4aa4-9068-273534ced2c2": {
      "model_module": "beakerx",
      "model_module_version": "*",
      "model_name": "TableDisplayModel",
      "state": {
       "model": {
        "alignmentForColumn": {},
        "alignmentForType": {},
        "cellHighlighters": [],
        "columnNames": [
         "CUR_USER",
         "EVAL_TIME",
         "RUN_ID",
         "TIME_OFFSET",
         "EXPECTED_WEEKLY_TRANS_CNT",
         "EXPECTED_WEEKLY_TRANS_AMNT",
         "EXPECTED_DAILY_TRANS_CNT",
         "EXPECTED_DAILY_TRANS_AMNT",
         "WEEKLY_TRANS_CNT",
         "WEEKLY_TRANS_AMNT",
         "DAILY_TRANS_CNT",
         "DAILY_TRANS_AMNT",
         "ROLLING_AVG_WEEKLY_TRANS_CNT",
         "ROLLING_AVG_WEEKLY_TRANS_AMNT",
         "ROLLING_AVG_DAILY_TRANS_CNT",
         "ROLLING_AVG_DAILY_TRANS_AMNT",
         "MACD_TRANS_AMNT",
         "MACD_TRANS_CNT",
         "RSI_TRANS_AMNT",
         "RSI_TRANS_CNT",
         "AROON_TRANS_AMNT",
         "AROON_TRANS_CNT",
         "ADX_TRANS_AMNT",
         "ADX_TRANS_CNT",
         "CURRENT_BALANCE",
         "ROLLING_AVG_BALANCE",
         "MACD_BALANCE",
         "AROON_BALANCE",
         "RSI_BALANCE",
         "ADX_BALANCE",
         "CREDIT_SCORE",
         "CREDIT_LIMIT",
         "AMOUNT",
         "MOMENT_KEY",
         "PREDICTION",
         "no_fraud",
         "fraud"
        ],
        "columnOrder": [],
        "columnsFrozen": {},
        "columnsFrozenRight": {},
        "columnsVisible": {},
        "contextMenuItems": [],
        "contextMenuTags": {},
        "fontColor": [],
        "hasDoubleClickAction": false,
        "headersVertical": false,
        "rendererForColumn": {},
        "rendererForType": {},
        "stringFormatForColumn": {},
        "stringFormatForType": {},
        "subtype": "TableDisplay",
        "timeZone": "UTC",
        "tooManyRows": false,
        "tooltips": [],
        "type": "TableDisplay",
        "types": [
         "java.lang.String",
         "java.sql.Timestamp",
         "java.lang.String",
         "java.lang.Integer",
         "java.lang.Double",
         "java.lang.Double",
         "java.lang.Double",
         "java.lang.Double",
         "java.lang.Double",
         "java.lang.Double",
         "java.lang.Double",
         "java.lang.Double",
         "java.lang.Double",
         "java.lang.Double",
         "java.lang.Double",
         "java.lang.Double",
         "java.lang.Double",
         "java.lang.Double",
         "java.lang.Double",
         "java.lang.Double",
         "java.lang.Double",
         "java.lang.Double",
         "java.lang.Double",
         "java.lang.Double",
         "java.lang.Double",
         "java.lang.Double",
         "java.lang.Double",
         "java.lang.Double",
         "java.lang.Double",
         "java.lang.Double",
         "java.lang.Double",
         "java.lang.Double",
         "java.math.BigDecimal",
         "java.lang.Integer",
         "java.lang.String",
         "java.lang.Double",
         "java.lang.Double"
        ],
        "values": [
         [
          "SPLICE",
          {
           "timestamp": 1605186341905,
           "type": "Date"
          },
          "9a815a3cfcbf",
          0,
          7.768,
          2.566,
          2.496,
          7.43,
          2.488,
          8.762,
          9.601,
          5.847,
          4.957,
          7.979,
          4.957,
          2.281,
          9.715,
          4.086,
          7.222,
          5.017,
          3.844,
          9.683,
          6.43,
          1.439,
          5.908,
          3.563,
          1.116,
          7.097,
          8.717,
          0.06,
          2.273,
          4.846,
          10000,
          5,
          "no_fraud",
          0.9993298386258003,
          0.0006701613741997405
         ],
         [
          "SPLICE",
          {
           "timestamp": 1605186342115,
           "type": "Date"
          },
          "9a815a3cfcbf",
          1,
          -5.577,
          -9.337,
          -7.048,
          -0.761,
          -2.862,
          -3.333,
          -7.063,
          -5.609,
          -2.905,
          -8.311,
          -3.427,
          -7.309,
          -0.231,
          -3.197,
          -0.681,
          -6.836,
          -3.565,
          -4.843,
          -5.158,
          -0.268,
          -5.082,
          -1.777,
          -1.195,
          -3.64,
          -2.74,
          -5.08,
          -2.38,
          -8.941,
          9284,
          6,
          "no_fraud",
          0.9936315042465407,
          0.006368495753459417
         ]
        ]
       }
      }
     },
     "75a9c0f4089d4120a550459213a8dcd3": {
      "model_module": "beakerx",
      "model_module_version": "*",
      "model_name": "TableDisplayModel",
      "state": {
       "layout": "IPY_MODEL_fe56afa94cad44fe8466afdc6e9a2b5e",
       "model": {
        "alignmentForColumn": {},
        "alignmentForType": {},
        "cellHighlighters": [],
        "columnNames": [
         "",
         "group",
         "cumulative_data_fraction",
         "lower_threshold",
         "lift",
         "cumulative_lift",
         "response_rate",
         "score",
         "cumulative_response_rate",
         "cumulative_score",
         "capture_rate",
         "cumulative_capture_rate",
         "gain",
         "cumulative_gain"
        ],
        "columnOrder": [],
        "columnsFrozen": {},
        "columnsFrozenRight": {},
        "columnsVisible": {},
        "contextMenuItems": [],
        "contextMenuTags": {},
        "fontColor": [],
        "hasDoubleClickAction": false,
        "headersVertical": false,
        "rendererForColumn": {},
        "rendererForType": {},
        "stringFormatForColumn": {},
        "stringFormatForTimes": "YYYY-MM-DD HH:mm:ss.SSS",
        "stringFormatForType": {},
        "subtype": "ListOfMaps",
        "tooManyRows": false,
        "tooltips": [],
        "type": "TableDisplay",
        "types": [
         "string",
         "integer",
         "double",
         "double",
         "double",
         "double",
         "double",
         "double",
         "double",
         "double",
         "double",
         "double",
         "double",
         "double"
        ],
        "values": [
         [
          "",
          "1",
          "0.010860848245995921",
          "0.0003706921671261338",
          "61.19877965587811",
          "61.19877965587811",
          "0.11708860759493671",
          "0.18718479093444357",
          "0.11708860759493671",
          "0.18718479093444357",
          "0.6646706586826348",
          "0.6646706586826348",
          "6019.877965587812",
          "6019.877965587812"
         ],
         [
          "",
          "2",
          "0.02001466443645029",
          "0.00032386877635654247",
          "1.9624680551287912",
          "34.106728729147314",
          "0.0037546933667083854",
          "0.000336854831308857",
          "0.06525472238122496",
          "0.10172886595081185",
          "0.017964071856287425",
          "0.6826347305389222",
          "96.24680551287912",
          "3310.672872914731"
         ],
         [
          "",
          "3",
          "0.03559562816488326",
          "0.0002883217090425814",
          "1.1529499823881648",
          "19.682158695161977",
          "0.0022058823529411764",
          "0.0002962229219743624",
          "0.03765690376569038",
          "0.05732964016413049",
          "0.017964071856287425",
          "0.7005988023952096",
          "15.294998238816483",
          "1868.2158695161977"
         ],
         [
          "",
          "4",
          "0.05064958870838393",
          "0.0002860249091988473",
          "0.0",
          "13.832270315735865",
          "0.0",
          "0.00028603637186943144",
          "0.026464600769056774",
          "0.040375264370637834",
          "0.0",
          "0.7005988023952096",
          "-100.0",
          "1283.2270315735866"
         ],
         [
          "",
          "5",
          "0.10017643150104255",
          "0.0002719900369641541",
          "0.12090461685927242",
          "7.05342380198432",
          "0.0002313208420078649",
          "0.00027805739194467535",
          "0.013494967978042087",
          "0.020551359319300855",
          "0.005988023952095809",
          "0.7065868263473054",
          "-87.90953831407276",
          "605.342380198432"
         ],
         [
          "",
          "6",
          "0.2769287170909424",
          "0.0002673528924824383",
          "0.10163417008347836",
          "2.6163805105327986",
          "0.0001944516463572725",
          "0.0002673804343635765",
          "0.0050057918252523585",
          "0.007604924343427434",
          "0.017964071856287425",
          "0.7245508982035929",
          "-89.83658299165216",
          "161.63805105327987"
         ],
         [
          "",
          "7",
          "0.42777765048232247",
          "0.00026261480439447317",
          "0.11908650232003525",
          "1.7357497971731086",
          "0.000227842333105491",
          "0.000262956736315299",
          "0.0033209245025308657",
          "0.005015897120340434",
          "0.017964071856287425",
          "0.7425149700598802",
          "-88.09134976799648",
          "73.57497971731087"
         ],
         [
          "",
          "8",
          "0.6084480901862842",
          "0.00023442910669600422",
          "0.06628670370103167",
          "1.2400252875032853",
          "0.00012682308180088776",
          "0.00023769315741084952",
          "0.002372479240806643",
          "0.003597074011349499",
          "0.011976047904191617",
          "0.7544910179640718",
          "-93.37132962989683",
          "24.002528750328533"
         ],
         [
          "",
          "9",
          "0.7871250830602846",
          "0.00022388207831510026",
          "0.06702624502213833",
          "0.9737551024143402",
          "0.00012823800974608873",
          "0.0002244892395338098",
          "0.0018630376246270286",
          "0.0028314989862241445",
          "0.011976047904191617",
          "0.7664670658682635",
          "-93.29737549778616",
          "-2.6244897585659843"
         ],
         [
          "",
          "10",
          "0.8000022913181953",
          "0.00016836910620677458",
          "0.9300189656274639",
          "0.9730511052534407",
          "0.0017793594306049821",
          "0.00020331504307716206",
          "0.0018616907015709806",
          "0.002789194517420392",
          "0.011976047904191617",
          "0.7784431137724551",
          "-6.9981034372536115",
          "-2.694889474655926"
         ],
         [
          "",
          "11",
          "0.9776138212313544",
          "9.863249115187152e-05",
          "0.13485664934080752",
          "0.8207690932296566",
          "0.00025801457782364704",
          "0.00010070377555581636",
          "0.0015703370365161957",
          "0.0023007532296136315",
          "0.023952095808383235",
          "0.8023952095808383",
          "-86.51433506591924",
          "-17.923090677034338"
         ],
         [
          "",
          "12",
          "1.0",
          "1e-19",
          "8.827088913268652",
          "1.0",
          "0.016888433981576252",
          "6.550776702486158e-05",
          "0.0019132506931237542",
          "0.0022507146250963154",
          "0.19760479041916168",
          "1.0",
          "782.7088913268651",
          "0.0"
         ]
        ]
       }
      }
     },
     "773f920b2bfb4c40a50bb3a80a48925d": {
      "model_module": "beakerx",
      "model_module_version": "*",
      "model_name": "TableDisplayModel",
      "state": {
       "layout": "IPY_MODEL_7c0c4dc45dae40d48b0b2fa38cdfb00a",
       "model": {
        "alignmentForColumn": {},
        "alignmentForType": {},
        "cellHighlighters": [],
        "columnNames": [
         "",
         "timestamp",
         "duration",
         "iteration",
         "lambda",
         "predictors",
         "deviance_train",
         "deviance_test",
         "deviance_xval",
         "deviance_se"
        ],
        "columnOrder": [],
        "columnsFrozen": {},
        "columnsFrozenRight": {},
        "columnsVisible": {},
        "contextMenuItems": [],
        "contextMenuTags": {},
        "fontColor": [],
        "hasDoubleClickAction": false,
        "headersVertical": false,
        "rendererForColumn": {},
        "rendererForType": {},
        "stringFormatForColumn": {},
        "stringFormatForTimes": "YYYY-MM-DD HH:mm:ss.SSS",
        "stringFormatForType": {},
        "subtype": "ListOfMaps",
        "tooManyRows": false,
        "tooltips": [],
        "type": "TableDisplay",
        "types": [
         "string",
         "string",
         "string",
         "integer",
         "string",
         "integer",
         "double",
         "double",
         "double",
         "double"
        ],
        "values": [
         [
          "",
          "2020-12-01 16:01:08",
          " 0.000 sec",
          "2",
          ".14E1",
          "25",
          "0.02627855385968685",
          "nan",
          "0.026606244253905127",
          "0.0014548804576566524"
         ],
         [
          "",
          "2020-12-01 16:01:08",
          " 0.033 sec",
          "4",
          ".88E0",
          "29",
          "0.025373731310552743",
          "nan",
          "0.025888277070458376",
          "0.0014134491445128715"
         ],
         [
          "",
          "2020-12-01 16:01:08",
          " 0.065 sec",
          "6",
          ".55E0",
          "29",
          "0.02393454251712483",
          "nan",
          "0.02473862872485578",
          "0.0013490037061536517"
         ],
         [
          "",
          "2020-12-01 16:01:08",
          " 0.098 sec",
          "8",
          ".34E0",
          "29",
          "0.021823874006038205",
          "nan",
          "0.02295615173870369",
          "0.0012509110158261207"
         ],
         [
          "",
          "2020-12-01 16:01:08",
          " 0.149 sec",
          "11",
          ".21E0",
          "30",
          "0.019331191787321546",
          "nan",
          "0.020554549591557482",
          "0.0011317612206597977"
         ],
         [
          "",
          "2020-12-01 16:01:08",
          " 0.196 sec",
          "14",
          ".13E0",
          "31",
          "0.017361299138126948",
          "nan",
          "0.01825966367749145",
          "0.001040272263083996"
         ],
         [
          "",
          "2020-12-01 16:01:08",
          " 0.229 sec",
          "16",
          ".81E-1",
          "31",
          "0.0158714624461673",
          "nan",
          "0.016582648801230625",
          "0.001009461353876983"
         ],
         [
          "",
          "2020-12-01 16:01:08",
          " 0.262 sec",
          "18",
          ".5E-1",
          "31",
          "0.014566526885961583",
          "nan",
          "0.015225209322669301",
          "0.0010007562152290538"
         ],
         [
          "",
          "2020-12-01 16:01:09",
          " 0.293 sec",
          "20",
          ".31E-1",
          "31",
          "0.013350298229733446",
          "nan",
          "0.01399395420454817",
          "0.0010039775822687366"
         ],
         [
          "",
          "2020-12-01 16:01:09",
          " 0.324 sec",
          "22",
          ".19E-1",
          "31",
          "0.01228371938572909",
          "nan",
          "0.01289176635853811",
          "0.0010168768242362859"
         ],
         [
          "",
          "2020-12-01 16:01:09",
          " 0.356 sec",
          "24",
          ".12E-1",
          "31",
          "0.011410779770887785",
          "nan",
          "0.01197633504202735",
          "0.0010370957057562172"
         ],
         [
          "",
          "2020-12-01 16:01:09",
          " 0.386 sec",
          "26",
          ".75E-2",
          "31",
          "0.010727765246445725",
          "nan",
          "0.011266600025956471",
          "0.0010642042732101765"
         ],
         [
          "",
          "2020-12-01 16:01:09",
          " 0.418 sec",
          "28",
          ".47E-2",
          "31",
          "0.01021460939887274",
          "nan",
          "0.01075927052573342",
          "0.001096210275457774"
         ],
         [
          "",
          "2020-12-01 16:01:09",
          " 0.449 sec",
          "30",
          ".29E-2",
          "31",
          "0.009846782584871077",
          "nan",
          "0.010446494085927313",
          "0.0011308831982313745"
         ],
         [
          "",
          "2020-12-01 16:01:09",
          " 0.481 sec",
          "32",
          ".18E-2",
          "31",
          "0.009596760894069321",
          "nan",
          "0.010295134121215428",
          "0.0011717299014403423"
         ],
         [
          "",
          "2020-12-01 16:01:09",
          " 0.513 sec",
          "34",
          ".11E-2",
          "31",
          "0.009422349224944582",
          "nan",
          "0.010236107128863699",
          "0.001213001348087639"
         ],
         [
          "",
          "2020-12-01 16:01:09",
          " 0.544 sec",
          "36",
          ".69E-3",
          "31",
          "0.00929400308944689",
          "nan",
          "0.010226508895898703",
          "0.0012489366463738045"
         ],
         [
          "",
          "2020-12-01 16:01:09",
          " 0.575 sec",
          "38",
          ".43E-3",
          "31",
          "0.009195619727154178",
          "nan",
          "0.010241256469056364",
          "0.001276676061098522"
         ],
         [
          "",
          "2020-12-01 16:01:09",
          " 0.606 sec",
          "40",
          ".27E-3",
          "31",
          "0.009121170158296525",
          "nan",
          "0.010266800147346917",
          "0.0012967582834261747"
         ],
         [
          "",
          "2020-12-01 16:01:09",
          " 0.637 sec",
          "42",
          ".17E-3",
          "31",
          "0.009068765211413313",
          "nan",
          "0.010295754513944808",
          "0.001312379668759191"
         ]
        ]
       }
      }
     },
     "78acbba231e54bf6bd2e206086bd63c7": {
      "model_module": "beakerx",
      "model_module_version": "*",
      "model_name": "TableDisplayModel",
      "state": {
       "layout": "IPY_MODEL_69bcdda2270e4a3287f672971c6eeed4",
       "model": {
        "alignmentForColumn": {},
        "alignmentForType": {},
        "cellHighlighters": [],
        "columnNames": [
         "",
         "0",
         "1",
         "Error",
         "Rate"
        ],
        "columnOrder": [],
        "columnsFrozen": {},
        "columnsFrozenRight": {},
        "columnsVisible": {},
        "contextMenuItems": [],
        "contextMenuTags": {},
        "fontColor": [],
        "hasDoubleClickAction": false,
        "headersVertical": false,
        "rendererForColumn": {},
        "rendererForType": {},
        "stringFormatForColumn": {},
        "stringFormatForTimes": "YYYY-MM-DD HH:mm:ss.SSS",
        "stringFormatForType": {},
        "subtype": "ListOfMaps",
        "tooManyRows": false,
        "tooltips": [],
        "type": "TableDisplay",
        "types": [
         "string",
         "double",
         "double",
         "string",
         "string"
        ],
        "values": [
         [
          "0",
          "87068.0",
          "51.0",
          "0.0006",
          " (51.0/87119.0)"
         ],
         [
          "1",
          "59.0",
          "108.0",
          "0.3533",
          " (59.0/167.0)"
         ],
         [
          "Total",
          "87127.0",
          "159.0",
          "0.0013",
          " (110.0/87286.0)"
         ]
        ]
       }
      }
     },
     "7c0c4dc45dae40d48b0b2fa38cdfb00a": {
      "model_module": "@jupyter-widgets/base",
      "model_module_version": "*",
      "model_name": "LayoutModel",
      "state": {
       "_model_module_version": "*",
       "_view_module_version": "*"
      }
     },
     "7c6a38dd24ba497b9b35f6115f439112": {
      "model_module": "@jupyter-widgets/controls",
      "model_module_version": "1.5.0",
      "model_name": "HTMLModel",
      "state": {
       "layout": "IPY_MODEL_eb55fd94277f4d688e42d7bea30a217c",
       "style": "IPY_MODEL_a63f58968c9a43479c505b4c764de8fb",
       "value": " 2/2 [08:57&lt;00:00, 268.61s/it]"
      }
     },
     "7edf9a036d9641eda4d9dd1861742186": {
      "model_module": "@jupyter-widgets/controls",
      "model_module_version": "1.5.0",
      "model_name": "HBoxModel",
      "state": {
       "children": [
        "IPY_MODEL_b2b0bc1cd23944e9bfd0e143c657f3fc",
        "IPY_MODEL_d0eb802f8cd843d788913d052ec36fda"
       ],
       "layout": "IPY_MODEL_ee9e6643dbcc4d5e87326c0be9a0a0fa"
      }
     },
     "7ff55040ea4d436eb08fc64929f9f0f4": {
      "model_module": "beakerx",
      "model_module_version": "*",
      "model_name": "TableDisplayModel",
      "state": {
       "layout": "IPY_MODEL_882f9dd068cc4fcda674b2a66d3db646",
       "model": {
        "alignmentForColumn": {},
        "alignmentForType": {},
        "cellHighlighters": [],
        "columnNames": [
         "",
         "0",
         "1",
         "Error",
         "Rate"
        ],
        "columnOrder": [],
        "columnsFrozen": {},
        "columnsFrozenRight": {},
        "columnsVisible": {},
        "contextMenuItems": [],
        "contextMenuTags": {},
        "fontColor": [],
        "hasDoubleClickAction": false,
        "headersVertical": false,
        "rendererForColumn": {},
        "rendererForType": {},
        "stringFormatForColumn": {},
        "stringFormatForTimes": "YYYY-MM-DD HH:mm:ss.SSS",
        "stringFormatForType": {},
        "subtype": "ListOfMaps",
        "tooManyRows": false,
        "tooltips": [],
        "type": "TableDisplay",
        "types": [
         "string",
         "double",
         "double",
         "string",
         "string"
        ],
        "values": [
         [
          "0",
          "87104.0",
          "15.0",
          "0.0002",
          " (15.0/87119.0)"
         ],
         [
          "1",
          "37.0",
          "130.0",
          "0.2216",
          " (37.0/167.0)"
         ],
         [
          "Total",
          "87141.0",
          "145.0",
          "0.0006",
          " (52.0/87286.0)"
         ]
        ]
       }
      }
     },
     "8046111eff354a50b0f9be9f863dfb0b": {
      "model_module": "@jupyter-widgets/base",
      "model_module_version": "*",
      "model_name": "LayoutModel",
      "state": {
       "_model_module_version": "*",
       "_view_module_version": "*"
      }
     },
     "841233a2-4e85-4e6f-9c6c-e2f5de47565a": {
      "model_module": "@jupyter-widgets/base",
      "model_module_version": "*",
      "model_name": "LayoutModel",
      "state": {
       "_model_module_version": "*",
       "_view_module_version": "*",
       "align_content": "",
       "align_self": "",
       "border": "",
       "bottom": "",
       "flex": "",
       "height": "",
       "justify_content": "",
       "left": "",
       "margin": "",
       "max_height": "",
       "max_width": "",
       "min_height": "",
       "min_width": "",
       "msg_throttle": 3,
       "overflow": "",
       "overflow_x": "",
       "overflow_y": "",
       "padding": "",
       "right": "",
       "top": ""
      }
     },
     "842dc2835ff845d083dc748cd5792e5b": {
      "model_module": "@jupyter-widgets/base",
      "model_module_version": "1.2.0",
      "model_name": "LayoutModel",
      "state": {}
     },
     "84580af7ffac4d11a28bc877d6307044": {
      "model_module": "@jupyter-widgets/base",
      "model_module_version": "*",
      "model_name": "LayoutModel",
      "state": {
       "_model_module_version": "*",
       "_view_module_version": "*"
      }
     },
     "84d78ad4b34c4521b63d2e4aa9173deb": {
      "model_module": "@jupyter-widgets/base",
      "model_module_version": "*",
      "model_name": "LayoutModel",
      "state": {
       "_model_module_version": "*",
       "_view_module_version": "*"
      }
     },
     "85b5b28d160944b59daedd9a19ebf3fc": {
      "model_module": "@jupyter-widgets/base",
      "model_module_version": "*",
      "model_name": "LayoutModel",
      "state": {
       "_model_module_version": "*",
       "_view_module_version": "*"
      }
     },
     "882f9dd068cc4fcda674b2a66d3db646": {
      "model_module": "@jupyter-widgets/base",
      "model_module_version": "*",
      "model_name": "LayoutModel",
      "state": {
       "_model_module_version": "*",
       "_view_module_version": "*"
      }
     },
     "8876cd26-6509-4109-b32d-08849a6fd40c": {
      "model_module": "beakerx",
      "model_module_version": "*",
      "model_name": "HTMLPreModel",
      "state": {
       "font_family": "",
       "font_size": "",
       "font_style": "",
       "font_weight": "",
       "layout": "IPY_MODEL_cd50ff95-bc40-4c71-99ab-32aedc2abcea",
       "msg_throttle": 3,
       "placeholder": "",
       "value": "Query executed successfully. Affected rows : 0",
       "visible": true
      }
     },
     "896b4165d99a4859b234beb789d12201": {
      "model_module": "@jupyter-widgets/base",
      "model_module_version": "*",
      "model_name": "LayoutModel",
      "state": {
       "_model_module_version": "*",
       "_view_module_version": "*"
      }
     },
     "8a2c9c15fe0542f9ba36f8f4161c63d2": {
      "model_module": "@jupyter-widgets/base",
      "model_module_version": "*",
      "model_name": "LayoutModel",
      "state": {
       "_model_module_version": "*",
       "_view_module_version": "*"
      }
     },
     "8e3246a9-9217-4df8-86f5-1eaf16568432": {
      "model_module": "beakerx",
      "model_module_version": "*",
      "model_name": "TableDisplayModel",
      "state": {
       "model": {
        "alignmentForColumn": {},
        "alignmentForType": {},
        "cellHighlighters": [],
        "columnNames": [
         "TIME_OFFSET",
         "EXPECTED_WEEKLY_TRANS_CNT",
         "EXPECTED_WEEKLY_TRANS_AMNT",
         "EXPECTED_DAILY_TRANS_CNT",
         "EXPECTED_DAILY_TRANS_AMNT",
         "WEEKLY_TRANS_CNT",
         "WEEKLY_TRANS_AMNT",
         "DAILY_TRANS_CNT",
         "DAILY_TRANS_AMNT",
         "ROLLING_AVG_WEEKLY_TRANS_CNT",
         "ROLLING_AVG_WEEKLY_TRANS_AMNT",
         "ROLLING_AVG_DAILY_TRANS_CNT",
         "ROLLING_AVG_DAILY_TRANS_AMNT",
         "MACD_TRANS_AMNT",
         "MACD_TRANS_CNT",
         "RSI_TRANS_AMNT",
         "RSI_TRANS_CNT",
         "AROON_TRANS_AMNT",
         "AROON_TRANS_CNT",
         "ADX_TRANS_AMNT",
         "ADX_TRANS_CNT",
         "CURRENT_BALANCE",
         "ROLLING_AVG_BALANCE",
         "MACD_BALANCE",
         "AROON_BALANCE",
         "RSI_BALANCE",
         "ADX_BALANCE",
         "CREDIT_SCORE",
         "CREDIT_LIMIT",
         "AMOUNT",
         "CLASS_RESULT"
        ],
        "columnOrder": [],
        "columnsFrozen": {},
        "columnsFrozenRight": {},
        "columnsVisible": {},
        "contextMenuItems": [],
        "contextMenuTags": {},
        "fontColor": [],
        "hasDoubleClickAction": false,
        "headersVertical": false,
        "rendererForColumn": {},
        "rendererForType": {},
        "stringFormatForColumn": {},
        "stringFormatForType": {},
        "subtype": "TableDisplay",
        "timeZone": "UTC",
        "tooManyRows": false,
        "tooltips": [],
        "type": "TableDisplay",
        "types": [
         "java.lang.Integer",
         "java.lang.Double",
         "java.lang.Double",
         "java.lang.Double",
         "java.lang.Double",
         "java.lang.Double",
         "java.lang.Double",
         "java.lang.Double",
         "java.lang.Double",
         "java.lang.Double",
         "java.lang.Double",
         "java.lang.Double",
         "java.lang.Double",
         "java.lang.Double",
         "java.lang.Double",
         "java.lang.Double",
         "java.lang.Double",
         "java.lang.Double",
         "java.lang.Double",
         "java.lang.Double",
         "java.lang.Double",
         "java.lang.Double",
         "java.lang.Double",
         "java.lang.Double",
         "java.lang.Double",
         "java.lang.Double",
         "java.lang.Double",
         "java.lang.Double",
         "java.lang.Double",
         "java.math.BigDecimal",
         "java.lang.Integer"
        ],
        "values": [
         [
          0,
          -1.3598071336738,
          -0.0727811733098497,
          2.53634673796914,
          1.37815522427443,
          -0.338320769942518,
          0.462387777762292,
          0.239598554061257,
          0.0986979012610507,
          0.363786969611213,
          0.0907941719789316,
          -0.551599533260813,
          -0.617800855762348,
          -0.991389847235408,
          -0.311169353699879,
          1.46817697209427,
          -0.470400525259478,
          0.207971241929242,
          0.0257905801985591,
          0.403992960255733,
          0.251412098239705,
          -0.018306777944153,
          0.277837575558899,
          -0.110473910188767,
          0.0669280749146731,
          0.128539358273528,
          -0.189114843888824,
          0.133558376740387,
          -0.0210530534538215,
          149.62,
          0
         ],
         [
          1,
          -1.35835406159823,
          -1.34016307473609,
          1.77320934263119,
          0.379779593034328,
          -0.503198133318193,
          1.80049938079263,
          0.791460956450422,
          0.247675786588991,
          -1.51465432260583,
          0.207642865216696,
          0.624501459424895,
          0.066083685268831,
          0.717292731410831,
          -0.165945922763554,
          2.34586494901581,
          -2.89008319444231,
          1.10996937869599,
          -0.121359313195888,
          -2.26185709530414,
          0.524979725224404,
          0.247998153469754,
          0.771679401917229,
          0.909412262347719,
          -0.689280956490685,
          -0.327641833735251,
          -0.139096571514147,
          -0.0553527940384261,
          -0.0597518405929204,
          378.66,
          0
         ],
         [
          2,
          -1.15823309349523,
          0.877736754848451,
          1.548717846511,
          0.403033933955121,
          -0.407193377311653,
          0.0959214624684256,
          0.592940745385545,
          -0.270532677192282,
          0.817739308235294,
          0.753074431976354,
          -0.822842877946363,
          0.53819555014995,
          1.3458515932154,
          -1.11966983471731,
          0.175121130008994,
          -0.451449182813529,
          -0.237033239362776,
          -0.0381947870352842,
          0.803486924960175,
          0.408542360392758,
          -0.00943069713232919,
          0.79827849458971,
          -0.137458079619063,
          0.141266983824769,
          -0.206009587619756,
          0.502292224181569,
          0.219422229513348,
          0.215153147499206,
          69.99,
          0
         ],
         [
          4,
          1.22965763450793,
          0.141003507049326,
          0.0453707735899449,
          1.20261273673594,
          0.191880988597645,
          0.272708122899098,
          -0.00515900288250983,
          0.0812129398830894,
          0.464959994783886,
          -0.0992543211289237,
          -1.41690724314928,
          -0.153825826253651,
          -0.75106271556262,
          0.16737196252175,
          0.0501435942254188,
          -0.443586797916727,
          0.00282051247234708,
          -0.61198733994012,
          -0.0455750446637976,
          -0.21963255278686,
          -0.167716265815783,
          -0.270709726172363,
          -0.154103786809305,
          -0.780055415004671,
          0.75013693580659,
          -0.257236845917139,
          0.0345074297438413,
          0.00516776890624916,
          4.99,
          0
         ],
         [
          7,
          -0.644269442348146,
          1.41796354547385,
          1.0743803763556,
          -0.492199018495015,
          0.948934094764157,
          0.428118462833089,
          1.12063135838353,
          -3.80786423873589,
          0.615374730667027,
          1.24937617815176,
          -0.619467796121913,
          0.291474353088705,
          1.75796421396042,
          -1.32386521970526,
          0.686132504394383,
          -0.0761269994382006,
          -1.2221273453247,
          -0.358221569869078,
          0.324504731321494,
          -0.156741852488285,
          1.94346533978412,
          -1.01545470979971,
          0.057503529867291,
          -0.649709005559993,
          -0.415266566234811,
          -0.0516342969262494,
          -1.20692108094258,
          -1.08533918832377,
          40.8,
          0
         ],
         [
          9,
          -0.33826175242575,
          1.11959337641566,
          1.04436655157316,
          -0.222187276738296,
          0.49936080649727,
          -0.24676110061991,
          0.651583206489972,
          0.0695385865186387,
          -0.736727316364109,
          -0.366845639206541,
          1.01761446783262,
          0.836389570307029,
          1.00684351373408,
          -0.443522816876142,
          0.150219101422635,
          0.739452777052119,
          -0.540979921943059,
          0.47667726004282,
          0.451772964394125,
          0.203711454727929,
          -0.246913936910008,
          -0.633752642406113,
          -0.12079408408185,
          -0.385049925313426,
          -0.0697330460416923,
          0.0941988339514961,
          0.246219304619926,
          0.0830756493473326,
          3.68,
          0
         ],
         [
          10,
          1.44904378114715,
          -1.17633882535966,
          0.913859832832795,
          -1.37566665499943,
          -1.97138316545323,
          -0.62915213889734,
          -1.4232356010359,
          0.0484558879088564,
          -1.72040839292037,
          1.62665905834133,
          1.1996439495421,
          -0.671439778462005,
          -0.513947152539479,
          -0.0950450453999549,
          0.230930409124119,
          0.0319674667862076,
          0.253414715863197,
          0.854343814324194,
          -0.221365413645481,
          -0.387226474431156,
          -0.00930189652490052,
          0.313894410791098,
          0.0277401580170247,
          0.500512287104917,
          0.25136735874921,
          -0.129477953726618,
          0.0428498709381461,
          0.0162532619375515,
          7.8,
          0
         ],
         [
          11,
          1.0693735878819,
          0.287722129331455,
          0.828612726634281,
          2.71252042961718,
          -0.178398016248009,
          0.337543730282968,
          -0.0967168617395962,
          0.115981735546597,
          -0.221082566236194,
          0.460230444301678,
          -0.773656930526689,
          0.32338724546722,
          -0.0110758870883779,
          -0.178485175177916,
          -0.65556427824926,
          -0.19992517131173,
          0.1240054151819,
          -0.980496201537345,
          -0.982916082135047,
          -0.153197231044512,
          -0.0368755317335273,
          0.0744124028162195,
          -0.0714074332998586,
          0.104743752596029,
          0.548264725394119,
          0.104094153162781,
          0.0214910583643189,
          0.021293311477486,
          27.5,
          0
         ],
         [
          12,
          -2.7918547659339,
          -0.327770756658658,
          1.64175016056605,
          1.76747274389883,
          -0.136588446465306,
          0.80759646826532,
          -0.422911389711497,
          -1.90710747624096,
          0.755712908314791,
          1.1510869876677,
          0.844555470974377,
          0.7929439518176,
          0.370448092803246,
          -0.734975105820311,
          0.406795710431001,
          -0.303057623825763,
          -0.155868714793874,
          0.778265457041536,
          2.22186801373788,
          -1.58212204356551,
          1.15166304848789,
          0.222181966098225,
          1.02058620426601,
          0.0283166513238872,
          -0.232746324289105,
          -0.23555721754117,
          -0.16477751177654,
          -0.0301536365592253,
          58.8,
          0
         ],
         [
          13,
          -0.436905071360625,
          0.918966212909322,
          0.92459077438817,
          -0.727219053596792,
          0.915678718106307,
          -0.127867352079254,
          0.707641607333935,
          0.0879623554672504,
          -0.66527135413364,
          -0.737979823596458,
          0.32409781346169,
          0.277192107214981,
          0.252624256310781,
          -0.291896460370468,
          -0.184520169327133,
          1.14317370716197,
          -0.92870926272403,
          0.680469592634687,
          0.0254364616880793,
          -0.0470212823165035,
          -0.194795823794671,
          -0.672637997017793,
          -0.156857514491897,
          -0.888386320943716,
          -0.342413218776576,
          -0.049026728633951,
          0.0796923991551505,
          0.131023789452311,
          0.89,
          0
         ]
        ]
       }
      }
     },
     "9044bc32-fb2f-44f0-a87e-03db450c8e45": {
      "model_module": "beakerx",
      "model_module_version": "*",
      "model_name": "TableDisplayModel",
      "state": {
       "model": {
        "alignmentForColumn": {},
        "alignmentForType": {},
        "cellHighlighters": [],
        "columnNames": [
         "CUR_USER",
         "EVAL_TIME",
         "RUN_ID",
         "CREDIT_SCORE",
         "PREDICTION",
         "no_fraud",
         "fraud"
        ],
        "columnOrder": [],
        "columnsFrozen": {},
        "columnsFrozenRight": {},
        "columnsVisible": {},
        "contextMenuItems": [],
        "contextMenuTags": {},
        "fontColor": [],
        "hasDoubleClickAction": false,
        "headersVertical": false,
        "rendererForColumn": {},
        "rendererForType": {},
        "stringFormatForColumn": {},
        "stringFormatForType": {},
        "subtype": "TableDisplay",
        "timeZone": "UTC",
        "tooManyRows": false,
        "tooltips": [],
        "type": "TableDisplay",
        "types": [
         "java.lang.String",
         "java.sql.Timestamp",
         "java.lang.String",
         "java.lang.Double",
         "java.lang.String",
         "java.lang.Integer",
         "java.lang.Double"
        ],
        "values": [
         [
          "SPLICE",
          {
           "timestamp": 1605186341905,
           "type": "Date"
          },
          "9a815a3cfcbf",
          2.273,
          "no_fraud",
          5,
          0.0006701613741997405
         ],
         [
          "SPLICE",
          {
           "timestamp": 1605186342115,
           "type": "Date"
          },
          "9a815a3cfcbf",
          -2.38,
          "no_fraud",
          6,
          0.006368495753459417
         ]
        ]
       }
      }
     },
     "938fa578f96e4273a278cbc66ba524f0": {
      "model_module": "beakerx",
      "model_module_version": "*",
      "model_name": "TableDisplayModel",
      "state": {
       "layout": "IPY_MODEL_1384e248808746bb96f9693949183b48",
       "model": {
        "alignmentForColumn": {},
        "alignmentForType": {},
        "cellHighlighters": [],
        "columnNames": [
         "TIME_OFFSET",
         "EXPECTED_WEEKLY_TRANS_CNT",
         "EXPECTED_WEEKLY_TRANS_AMNT",
         "EXPECTED_DAILY_TRANS_CNT",
         "EXPECTED_DAILY_TRANS_AMNT",
         "WEEKLY_TRANS_CNT",
         "WEEKLY_TRANS_AMNT",
         "DAILY_TRANS_CNT",
         "DAILY_TRANS_AMNT",
         "ROLLING_AVG_WEEKLY_TRANS_CNT",
         "ROLLING_AVG_WEEKLY_TRANS_AMNT",
         "ROLLING_AVG_DAILY_TRANS_CNT",
         "ROLLING_AVG_DAILY_TRANS_AMNT",
         "MACD_TRANS_AMNT",
         "MACD_TRANS_CNT",
         "RSI_TRANS_AMNT",
         "RSI_TRANS_CNT",
         "AROON_TRANS_AMNT",
         "AROON_TRANS_CNT",
         "ADX_TRANS_AMNT",
         "ADX_TRANS_CNT",
         "CURRENT_BALANCE",
         "ROLLING_AVG_BALANCE",
         "MACD_BALANCE",
         "AROON_BALANCE",
         "RSI_BALANCE",
         "ADX_BALANCE",
         "CREDIT_SCORE",
         "CREDIT_LIMIT",
         "AMOUNT",
         "label"
        ],
        "columnOrder": [],
        "columnsFrozen": {},
        "columnsFrozenRight": {},
        "columnsVisible": {},
        "contextMenuItems": [],
        "contextMenuTags": {},
        "fontColor": [],
        "hasDoubleClickAction": false,
        "headersVertical": false,
        "rendererForColumn": {},
        "rendererForType": {},
        "stringFormatForColumn": {},
        "stringFormatForTimes": "YYYY-MM-DD HH:mm:ss.SSS",
        "stringFormatForType": {},
        "subtype": "ListOfMaps",
        "tooManyRows": false,
        "tooltips": [],
        "type": "TableDisplay",
        "types": [
         "integer",
         "double",
         "double",
         "double",
         "double",
         "double",
         "double",
         "double",
         "double",
         "double",
         "double",
         "double",
         "double",
         "double",
         "double",
         "double",
         "double",
         "double",
         "double",
         "double",
         "double",
         "double",
         "double",
         "double",
         "double",
         "double",
         "double",
         "double",
         "double",
         "string",
         "integer"
        ],
        "values": [
         [
          "0",
          "-1.3598071336738",
          "-0.0727811733098497",
          "2.53634673796914",
          "1.37815522427443",
          "-0.338320769942518",
          "0.462387777762292",
          "0.239598554061257",
          "0.0986979012610507",
          "0.363786969611213",
          "0.0907941719789316",
          "-0.551599533260813",
          "-0.617800855762348",
          "-0.991389847235408",
          "-0.311169353699879",
          "1.46817697209427",
          "-0.470400525259478",
          "0.207971241929242",
          "0.0257905801985591",
          "0.403992960255733",
          "0.251412098239705",
          "-0.018306777944153",
          "0.277837575558899",
          "-0.110473910188767",
          "0.0669280749146731",
          "0.128539358273528",
          "-0.189114843888824",
          "0.133558376740387",
          "-0.0210530534538215",
          "149.62",
          "0"
         ],
         [
          "1",
          "-1.35835406159823",
          "-1.34016307473609",
          "1.77320934263119",
          "0.379779593034328",
          "-0.503198133318193",
          "1.80049938079263",
          "0.791460956450422",
          "0.247675786588991",
          "-1.51465432260583",
          "0.207642865216696",
          "0.624501459424895",
          "0.066083685268831",
          "0.717292731410831",
          "-0.165945922763554",
          "2.34586494901581",
          "-2.89008319444231",
          "1.10996937869599",
          "-0.121359313195888",
          "-2.26185709530414",
          "0.524979725224404",
          "0.247998153469754",
          "0.771679401917229",
          "0.909412262347719",
          "-0.689280956490685",
          "-0.327641833735251",
          "-0.139096571514147",
          "-0.0553527940384261",
          "-0.0597518405929204",
          "378.66",
          "0"
         ],
         [
          "2",
          "-1.15823309349523",
          "0.877736754848451",
          "1.548717846511",
          "0.403033933955121",
          "-0.407193377311653",
          "0.0959214624684256",
          "0.592940745385545",
          "-0.270532677192282",
          "0.817739308235294",
          "0.753074431976354",
          "-0.822842877946363",
          "0.53819555014995",
          "1.3458515932154",
          "-1.11966983471731",
          "0.175121130008994",
          "-0.451449182813529",
          "-0.237033239362776",
          "-0.0381947870352842",
          "0.803486924960175",
          "0.408542360392758",
          "-0.00943069713232919",
          "0.79827849458971",
          "-0.137458079619063",
          "0.141266983824769",
          "-0.206009587619756",
          "0.502292224181569",
          "0.219422229513348",
          "0.215153147499206",
          "69.99",
          "0"
         ],
         [
          "4",
          "1.22965763450793",
          "0.141003507049326",
          "0.0453707735899449",
          "1.20261273673594",
          "0.191880988597645",
          "0.272708122899098",
          "-0.00515900288250983",
          "0.0812129398830894",
          "0.464959994783886",
          "-0.0992543211289237",
          "-1.41690724314928",
          "-0.153825826253651",
          "-0.75106271556262",
          "0.16737196252175",
          "0.0501435942254188",
          "-0.443586797916727",
          "0.00282051247234708",
          "-0.61198733994012",
          "-0.0455750446637976",
          "-0.21963255278686",
          "-0.167716265815783",
          "-0.270709726172363",
          "-0.154103786809305",
          "-0.780055415004671",
          "0.75013693580659",
          "-0.257236845917139",
          "0.0345074297438413",
          "0.00516776890624916",
          "4.99",
          "0"
         ],
         [
          "7",
          "-0.644269442348146",
          "1.41796354547385",
          "1.0743803763556",
          "-0.492199018495015",
          "0.948934094764157",
          "0.428118462833089",
          "1.12063135838353",
          "-3.80786423873589",
          "0.615374730667027",
          "1.24937617815176",
          "-0.619467796121913",
          "0.291474353088705",
          "1.75796421396042",
          "-1.32386521970526",
          "0.686132504394383",
          "-0.0761269994382006",
          "-1.2221273453247",
          "-0.358221569869078",
          "0.324504731321494",
          "-0.156741852488285",
          "1.94346533978412",
          "-1.01545470979971",
          "0.057503529867291",
          "-0.649709005559993",
          "-0.415266566234811",
          "-0.0516342969262494",
          "-1.20692108094258",
          "-1.08533918832377",
          "40.80",
          "0"
         ],
         [
          "9",
          "-0.33826175242575",
          "1.11959337641566",
          "1.04436655157316",
          "-0.222187276738296",
          "0.49936080649727",
          "-0.24676110061991",
          "0.651583206489972",
          "0.0695385865186387",
          "-0.736727316364109",
          "-0.366845639206541",
          "1.01761446783262",
          "0.836389570307029",
          "1.00684351373408",
          "-0.443522816876142",
          "0.150219101422635",
          "0.739452777052119",
          "-0.540979921943059",
          "0.47667726004282",
          "0.451772964394125",
          "0.203711454727929",
          "-0.246913936910008",
          "-0.633752642406113",
          "-0.12079408408185",
          "-0.385049925313426",
          "-0.0697330460416923",
          "0.0941988339514961",
          "0.246219304619926",
          "0.0830756493473326",
          "3.68",
          "0"
         ],
         [
          "10",
          "1.44904378114715",
          "-1.17633882535966",
          "0.913859832832795",
          "-1.37566665499943",
          "-1.97138316545323",
          "-0.62915213889734",
          "-1.4232356010359",
          "0.0484558879088564",
          "-1.72040839292037",
          "1.62665905834133",
          "1.1996439495421",
          "-0.671439778462005",
          "-0.513947152539479",
          "-0.0950450453999549",
          "0.230930409124119",
          "0.0319674667862076",
          "0.253414715863197",
          "0.854343814324194",
          "-0.221365413645481",
          "-0.387226474431156",
          "-0.00930189652490052",
          "0.313894410791098",
          "0.0277401580170247",
          "0.500512287104917",
          "0.25136735874921",
          "-0.129477953726618",
          "0.0428498709381461",
          "0.0162532619375515",
          "7.80",
          "0"
         ],
         [
          "11",
          "1.0693735878819",
          "0.287722129331455",
          "0.828612726634281",
          "2.71252042961718",
          "-0.178398016248009",
          "0.337543730282968",
          "-0.0967168617395962",
          "0.115981735546597",
          "-0.221082566236194",
          "0.460230444301678",
          "-0.773656930526689",
          "0.32338724546722",
          "-0.0110758870883779",
          "-0.178485175177916",
          "-0.65556427824926",
          "-0.19992517131173",
          "0.1240054151819",
          "-0.980496201537345",
          "-0.982916082135047",
          "-0.153197231044512",
          "-0.0368755317335273",
          "0.0744124028162195",
          "-0.0714074332998586",
          "0.104743752596029",
          "0.548264725394119",
          "0.104094153162781",
          "0.0214910583643189",
          "0.021293311477486",
          "27.50",
          "0"
         ],
         [
          "12",
          "-2.7918547659339",
          "-0.327770756658658",
          "1.64175016056605",
          "1.76747274389883",
          "-0.136588446465306",
          "0.80759646826532",
          "-0.422911389711497",
          "-1.90710747624096",
          "0.755712908314791",
          "1.1510869876677",
          "0.844555470974377",
          "0.7929439518176",
          "0.370448092803246",
          "-0.734975105820311",
          "0.406795710431001",
          "-0.303057623825763",
          "-0.155868714793874",
          "0.778265457041536",
          "2.22186801373788",
          "-1.58212204356551",
          "1.15166304848789",
          "0.222181966098225",
          "1.02058620426601",
          "0.0283166513238872",
          "-0.232746324289105",
          "-0.23555721754117",
          "-0.16477751177654",
          "-0.0301536365592253",
          "58.80",
          "0"
         ],
         [
          "13",
          "-0.436905071360625",
          "0.918966212909322",
          "0.92459077438817",
          "-0.727219053596792",
          "0.915678718106307",
          "-0.127867352079254",
          "0.707641607333935",
          "0.0879623554672504",
          "-0.66527135413364",
          "-0.737979823596458",
          "0.32409781346169",
          "0.277192107214981",
          "0.252624256310781",
          "-0.291896460370468",
          "-0.184520169327133",
          "1.14317370716197",
          "-0.92870926272403",
          "0.680469592634687",
          "0.0254364616880793",
          "-0.0470212823165035",
          "-0.194795823794671",
          "-0.672637997017793",
          "-0.156857514491897",
          "-0.888386320943716",
          "-0.342413218776576",
          "-0.049026728633951",
          "0.0796923991551505",
          "0.131023789452311",
          "0.89",
          "0"
         ]
        ]
       }
      }
     },
     "966d02a683df4ceb915492708a374f4c": {
      "model_module": "@jupyter-widgets/controls",
      "model_module_version": "1.5.0",
      "model_name": "FloatProgressModel",
      "state": {
       "bar_style": "success",
       "layout": "IPY_MODEL_d6c684e2623347cca63fb164ac6f86f1",
       "max": 1,
       "style": "IPY_MODEL_e62ce7509c8c48378cb26074f23e2db2",
       "value": 1
      }
     },
     "97bae907-1ced-4d5e-863f-a8f52026641f": {
      "model_module": "beakerx",
      "model_module_version": "*",
      "model_name": "TableDisplayModel",
      "state": {
       "model": {
        "alignmentForColumn": {},
        "alignmentForType": {},
        "cellHighlighters": [],
        "columnNames": [
         "TIME_OFFSET",
         "EXPECTED_WEEKLY_TRANS_CNT",
         "EXPECTED_WEEKLY_TRANS_AMNT",
         "EXPECTED_DAILY_TRANS_CNT",
         "EXPECTED_DAILY_TRANS_AMNT",
         "WEEKLY_TRANS_CNT",
         "WEEKLY_TRANS_AMNT",
         "DAILY_TRANS_CNT",
         "DAILY_TRANS_AMNT",
         "ROLLING_AVG_WEEKLY_TRANS_CNT",
         "ROLLING_AVG_WEEKLY_TRANS_AMNT",
         "ROLLING_AVG_DAILY_TRANS_CNT",
         "ROLLING_AVG_DAILY_TRANS_AMNT",
         "MACD_TRANS_AMNT",
         "MACD_TRANS_CNT",
         "RSI_TRANS_AMNT",
         "RSI_TRANS_CNT",
         "AROON_TRANS_AMNT",
         "AROON_TRANS_CNT",
         "ADX_TRANS_AMNT",
         "ADX_TRANS_CNT",
         "CURRENT_BALANCE",
         "ROLLING_AVG_BALANCE",
         "MACD_BALANCE",
         "AROON_BALANCE",
         "RSI_BALANCE",
         "ADX_BALANCE",
         "CREDIT_SCORE",
         "CREDIT_LIMIT",
         "AMOUNT",
         "CLASS_RESULT"
        ],
        "columnOrder": [],
        "columnsFrozen": {},
        "columnsFrozenRight": {},
        "columnsVisible": {},
        "contextMenuItems": [],
        "contextMenuTags": {},
        "fontColor": [],
        "hasDoubleClickAction": false,
        "headersVertical": false,
        "rendererForColumn": {},
        "rendererForType": {},
        "stringFormatForColumn": {},
        "stringFormatForType": {},
        "subtype": "TableDisplay",
        "timeZone": "UTC",
        "tooManyRows": false,
        "tooltips": [],
        "type": "TableDisplay",
        "types": [
         "java.lang.Integer",
         "java.lang.Double",
         "java.lang.Double",
         "java.lang.Double",
         "java.lang.Double",
         "java.lang.Double",
         "java.lang.Double",
         "java.lang.Double",
         "java.lang.Double",
         "java.lang.Double",
         "java.lang.Double",
         "java.lang.Double",
         "java.lang.Double",
         "java.lang.Double",
         "java.lang.Double",
         "java.lang.Double",
         "java.lang.Double",
         "java.lang.Double",
         "java.lang.Double",
         "java.lang.Double",
         "java.lang.Double",
         "java.lang.Double",
         "java.lang.Double",
         "java.lang.Double",
         "java.lang.Double",
         "java.lang.Double",
         "java.lang.Double",
         "java.lang.Double",
         "java.lang.Double",
         "java.math.BigDecimal",
         "java.lang.Integer"
        ],
        "values": [
         [
          0,
          -1.3598071336738,
          -0.0727811733098497,
          2.53634673796914,
          1.37815522427443,
          -0.338320769942518,
          0.462387777762292,
          0.239598554061257,
          0.0986979012610507,
          0.363786969611213,
          0.0907941719789316,
          -0.551599533260813,
          -0.617800855762348,
          -0.991389847235408,
          -0.311169353699879,
          1.46817697209427,
          -0.470400525259478,
          0.207971241929242,
          0.0257905801985591,
          0.403992960255733,
          0.251412098239705,
          -0.018306777944153,
          0.277837575558899,
          -0.110473910188767,
          0.0669280749146731,
          0.128539358273528,
          -0.189114843888824,
          0.133558376740387,
          -0.0210530534538215,
          149.62,
          0
         ],
         [
          1,
          -1.35835406159823,
          -1.34016307473609,
          1.77320934263119,
          0.379779593034328,
          -0.503198133318193,
          1.80049938079263,
          0.791460956450422,
          0.247675786588991,
          -1.51465432260583,
          0.207642865216696,
          0.624501459424895,
          0.066083685268831,
          0.717292731410831,
          -0.165945922763554,
          2.34586494901581,
          -2.89008319444231,
          1.10996937869599,
          -0.121359313195888,
          -2.26185709530414,
          0.524979725224404,
          0.247998153469754,
          0.771679401917229,
          0.909412262347719,
          -0.689280956490685,
          -0.327641833735251,
          -0.139096571514147,
          -0.0553527940384261,
          -0.0597518405929204,
          378.66,
          0
         ],
         [
          2,
          -1.15823309349523,
          0.877736754848451,
          1.548717846511,
          0.403033933955121,
          -0.407193377311653,
          0.0959214624684256,
          0.592940745385545,
          -0.270532677192282,
          0.817739308235294,
          0.753074431976354,
          -0.822842877946363,
          0.53819555014995,
          1.3458515932154,
          -1.11966983471731,
          0.175121130008994,
          -0.451449182813529,
          -0.237033239362776,
          -0.0381947870352842,
          0.803486924960175,
          0.408542360392758,
          -0.00943069713232919,
          0.79827849458971,
          -0.137458079619063,
          0.141266983824769,
          -0.206009587619756,
          0.502292224181569,
          0.219422229513348,
          0.215153147499206,
          69.99,
          0
         ],
         [
          4,
          1.22965763450793,
          0.141003507049326,
          0.0453707735899449,
          1.20261273673594,
          0.191880988597645,
          0.272708122899098,
          -0.00515900288250983,
          0.0812129398830894,
          0.464959994783886,
          -0.0992543211289237,
          -1.41690724314928,
          -0.153825826253651,
          -0.75106271556262,
          0.16737196252175,
          0.0501435942254188,
          -0.443586797916727,
          0.00282051247234708,
          -0.61198733994012,
          -0.0455750446637976,
          -0.21963255278686,
          -0.167716265815783,
          -0.270709726172363,
          -0.154103786809305,
          -0.780055415004671,
          0.75013693580659,
          -0.257236845917139,
          0.0345074297438413,
          0.00516776890624916,
          4.99,
          0
         ],
         [
          7,
          -0.644269442348146,
          1.41796354547385,
          1.0743803763556,
          -0.492199018495015,
          0.948934094764157,
          0.428118462833089,
          1.12063135838353,
          -3.80786423873589,
          0.615374730667027,
          1.24937617815176,
          -0.619467796121913,
          0.291474353088705,
          1.75796421396042,
          -1.32386521970526,
          0.686132504394383,
          -0.0761269994382006,
          -1.2221273453247,
          -0.358221569869078,
          0.324504731321494,
          -0.156741852488285,
          1.94346533978412,
          -1.01545470979971,
          0.057503529867291,
          -0.649709005559993,
          -0.415266566234811,
          -0.0516342969262494,
          -1.20692108094258,
          -1.08533918832377,
          40.8,
          0
         ],
         [
          9,
          -0.33826175242575,
          1.11959337641566,
          1.04436655157316,
          -0.222187276738296,
          0.49936080649727,
          -0.24676110061991,
          0.651583206489972,
          0.0695385865186387,
          -0.736727316364109,
          -0.366845639206541,
          1.01761446783262,
          0.836389570307029,
          1.00684351373408,
          -0.443522816876142,
          0.150219101422635,
          0.739452777052119,
          -0.540979921943059,
          0.47667726004282,
          0.451772964394125,
          0.203711454727929,
          -0.246913936910008,
          -0.633752642406113,
          -0.12079408408185,
          -0.385049925313426,
          -0.0697330460416923,
          0.0941988339514961,
          0.246219304619926,
          0.0830756493473326,
          3.68,
          0
         ],
         [
          10,
          1.44904378114715,
          -1.17633882535966,
          0.913859832832795,
          -1.37566665499943,
          -1.97138316545323,
          -0.62915213889734,
          -1.4232356010359,
          0.0484558879088564,
          -1.72040839292037,
          1.62665905834133,
          1.1996439495421,
          -0.671439778462005,
          -0.513947152539479,
          -0.0950450453999549,
          0.230930409124119,
          0.0319674667862076,
          0.253414715863197,
          0.854343814324194,
          -0.221365413645481,
          -0.387226474431156,
          -0.00930189652490052,
          0.313894410791098,
          0.0277401580170247,
          0.500512287104917,
          0.25136735874921,
          -0.129477953726618,
          0.0428498709381461,
          0.0162532619375515,
          7.8,
          0
         ],
         [
          11,
          1.0693735878819,
          0.287722129331455,
          0.828612726634281,
          2.71252042961718,
          -0.178398016248009,
          0.337543730282968,
          -0.0967168617395962,
          0.115981735546597,
          -0.221082566236194,
          0.460230444301678,
          -0.773656930526689,
          0.32338724546722,
          -0.0110758870883779,
          -0.178485175177916,
          -0.65556427824926,
          -0.19992517131173,
          0.1240054151819,
          -0.980496201537345,
          -0.982916082135047,
          -0.153197231044512,
          -0.0368755317335273,
          0.0744124028162195,
          -0.0714074332998586,
          0.104743752596029,
          0.548264725394119,
          0.104094153162781,
          0.0214910583643189,
          0.021293311477486,
          27.5,
          0
         ],
         [
          12,
          -2.7918547659339,
          -0.327770756658658,
          1.64175016056605,
          1.76747274389883,
          -0.136588446465306,
          0.80759646826532,
          -0.422911389711497,
          -1.90710747624096,
          0.755712908314791,
          1.1510869876677,
          0.844555470974377,
          0.7929439518176,
          0.370448092803246,
          -0.734975105820311,
          0.406795710431001,
          -0.303057623825763,
          -0.155868714793874,
          0.778265457041536,
          2.22186801373788,
          -1.58212204356551,
          1.15166304848789,
          0.222181966098225,
          1.02058620426601,
          0.0283166513238872,
          -0.232746324289105,
          -0.23555721754117,
          -0.16477751177654,
          -0.0301536365592253,
          58.8,
          0
         ],
         [
          13,
          -0.436905071360625,
          0.918966212909322,
          0.92459077438817,
          -0.727219053596792,
          0.915678718106307,
          -0.127867352079254,
          0.707641607333935,
          0.0879623554672504,
          -0.66527135413364,
          -0.737979823596458,
          0.32409781346169,
          0.277192107214981,
          0.252624256310781,
          -0.291896460370468,
          -0.184520169327133,
          1.14317370716197,
          -0.92870926272403,
          0.680469592634687,
          0.0254364616880793,
          -0.0470212823165035,
          -0.194795823794671,
          -0.672637997017793,
          -0.156857514491897,
          -0.888386320943716,
          -0.342413218776576,
          -0.049026728633951,
          0.0796923991551505,
          0.131023789452311,
          0.89,
          0
         ]
        ]
       }
      }
     },
     "982bc9f6813341ec909da7297a877b4d": {
      "model_module": "@jupyter-widgets/base",
      "model_module_version": "*",
      "model_name": "LayoutModel",
      "state": {
       "_model_module_version": "*",
       "_view_module_version": "*"
      }
     },
     "983b5054-7161-4e6b-88f6-369d1b97d2db": {
      "model_module": "beakerx",
      "model_module_version": "*",
      "model_name": "TableDisplayModel",
      "state": {
       "model": {
        "alignmentForColumn": {},
        "alignmentForType": {},
        "cellHighlighters": [],
        "columnNames": [
         "Key",
         "Value"
        ],
        "columnOrder": [],
        "columnsFrozen": {},
        "columnsFrozenRight": {},
        "columnsVisible": {},
        "contextMenuItems": [],
        "contextMenuTags": {},
        "fontColor": [],
        "hasDoubleClickAction": false,
        "headersVertical": false,
        "rendererForColumn": {},
        "rendererForType": {},
        "stringFormatForColumn": {},
        "stringFormatForType": {},
        "subtype": "Dictionary",
        "timeZone": "UTC",
        "tooManyRows": false,
        "tooltips": [],
        "type": "TableDisplay",
        "types": [],
        "values": [
         [
          "rowsImported",
          124591
         ],
         [
          "failedRows",
          160151
         ],
         [
          "files",
          1
         ],
         [
          "dataSize",
          150828752
         ],
         [
          "failedLog",
          "s3a://splice-demo/kaggle-fraud-data/bad"
         ]
        ]
       }
      }
     },
     "98421fb2-760f-4826-9fdb-1574148c8237": {
      "model_module": "beakerx",
      "model_module_version": "*",
      "model_name": "TableDisplayModel",
      "state": {
       "model": {
        "alignmentForColumn": {},
        "alignmentForType": {},
        "cellHighlighters": [],
        "columnNames": [
         "CUR_USER",
         "EVAL_TIME",
         "RUN_ID",
         "TIME_OFFSET",
         "EXPECTED_WEEKLY_TRANS_CNT",
         "EXPECTED_WEEKLY_TRANS_AMNT",
         "EXPECTED_DAILY_TRANS_CNT",
         "EXPECTED_DAILY_TRANS_AMNT",
         "WEEKLY_TRANS_CNT",
         "WEEKLY_TRANS_AMNT",
         "DAILY_TRANS_CNT",
         "DAILY_TRANS_AMNT",
         "ROLLING_AVG_WEEKLY_TRANS_CNT",
         "ROLLING_AVG_WEEKLY_TRANS_AMNT",
         "ROLLING_AVG_DAILY_TRANS_CNT",
         "ROLLING_AVG_DAILY_TRANS_AMNT",
         "MACD_TRANS_AMNT",
         "MACD_TRANS_CNT",
         "RSI_TRANS_AMNT",
         "RSI_TRANS_CNT",
         "AROON_TRANS_AMNT",
         "AROON_TRANS_CNT",
         "ADX_TRANS_AMNT",
         "ADX_TRANS_CNT",
         "CURRENT_BALANCE",
         "ROLLING_AVG_BALANCE",
         "MACD_BALANCE",
         "AROON_BALANCE",
         "RSI_BALANCE",
         "ADX_BALANCE",
         "CREDIT_SCORE",
         "CREDIT_LIMIT",
         "AMOUNT",
         "MOMENT_KEY",
         "PREDICTION",
         "no_fraud",
         "fraud"
        ],
        "columnOrder": [],
        "columnsFrozen": {},
        "columnsFrozenRight": {},
        "columnsVisible": {},
        "contextMenuItems": [],
        "contextMenuTags": {},
        "fontColor": [],
        "hasDoubleClickAction": false,
        "headersVertical": false,
        "rendererForColumn": {},
        "rendererForType": {},
        "stringFormatForColumn": {},
        "stringFormatForType": {},
        "subtype": "TableDisplay",
        "timeZone": "UTC",
        "tooManyRows": false,
        "tooltips": [],
        "type": "TableDisplay",
        "types": [
         "java.lang.String",
         "java.sql.Timestamp",
         "java.lang.String",
         "java.lang.Integer",
         "java.lang.Double",
         "java.lang.Double",
         "java.lang.Double",
         "java.lang.Double",
         "java.lang.Double",
         "java.lang.Double",
         "java.lang.Double",
         "java.lang.Double",
         "java.lang.Double",
         "java.lang.Double",
         "java.lang.Double",
         "java.lang.Double",
         "java.lang.Double",
         "java.lang.Double",
         "java.lang.Double",
         "java.lang.Double",
         "java.lang.Double",
         "java.lang.Double",
         "java.lang.Double",
         "java.lang.Double",
         "java.lang.Double",
         "java.lang.Double",
         "java.lang.Double",
         "java.lang.Double",
         "java.lang.Double",
         "java.lang.Double",
         "java.lang.Double",
         "java.lang.Double",
         "java.math.BigDecimal",
         "java.lang.Integer",
         "java.lang.String",
         "java.lang.Double",
         "java.lang.Double"
        ],
        "values": [
         [
          "SPLICE",
          {
           "timestamp": 1606924082001,
           "type": "Date"
          },
          "0d28f60c8e3e",
          0,
          7.768,
          2.566,
          2.496,
          7.43,
          2.488,
          8.762,
          9.601,
          5.847,
          4.957,
          7.979,
          4.957,
          2.281,
          9.715,
          4.086,
          7.222,
          5.017,
          3.844,
          9.683,
          6.43,
          1.439,
          5.908,
          3.563,
          1.116,
          7.097,
          8.717,
          0.06,
          2.273,
          4.846,
          10000,
          5,
          "no_fraud",
          0.9983345510305356,
          0.001665448969464385
         ],
         [
          "SPLICE",
          {
           "timestamp": 1606924082613,
           "type": "Date"
          },
          "0d28f60c8e3e",
          1,
          -5.577,
          -9.337,
          -7.048,
          -0.761,
          -2.862,
          -3.333,
          -7.063,
          -5.609,
          -2.905,
          -8.311,
          -3.427,
          -7.309,
          -0.231,
          -3.197,
          -0.681,
          -6.836,
          -3.565,
          -4.843,
          -5.158,
          -0.268,
          -5.082,
          -1.777,
          -1.195,
          -3.64,
          -2.74,
          -5.08,
          -2.38,
          -8.941,
          9284,
          6,
          "no_fraud",
          0.7507999128116447,
          0.24920008718835526
         ]
        ]
       }
      }
     },
     "98d491ce-8550-45cb-ae38-7cc0e433f2ae": {
      "model_module": "beakerx",
      "model_module_version": "*",
      "model_name": "HTMLPreModel",
      "state": {
       "font_family": "",
       "font_size": "",
       "font_style": "",
       "font_weight": "",
       "layout": "IPY_MODEL_ffd9a74d-5401-4865-8368-eaa8cb8e14ad",
       "msg_throttle": 3,
       "placeholder": "",
       "value": "Query executed successfully. Affected rows : 0",
       "visible": true
      }
     },
     "99569de4-9ed2-4a10-b15f-c0a38fed2a47": {
      "model_module": "beakerx",
      "model_module_version": "*",
      "model_name": "TableDisplayModel",
      "state": {
       "model": {
        "alignmentForColumn": {},
        "alignmentForType": {},
        "cellHighlighters": [],
        "columnNames": [
         "CUR_USER",
         "EVAL_TIME",
         "RUN_ID",
         "PREDICTION",
         "MOMENT_KEY",
         "no_fraud",
         "fraud"
        ],
        "columnOrder": [],
        "columnsFrozen": {},
        "columnsFrozenRight": {},
        "columnsVisible": {},
        "contextMenuItems": [],
        "contextMenuTags": {},
        "fontColor": [],
        "hasDoubleClickAction": false,
        "headersVertical": false,
        "rendererForColumn": {},
        "rendererForType": {},
        "stringFormatForColumn": {},
        "stringFormatForType": {},
        "subtype": "TableDisplay",
        "timeZone": "UTC",
        "tooManyRows": false,
        "tooltips": [],
        "type": "TableDisplay",
        "types": [
         "java.lang.String",
         "java.sql.Timestamp",
         "java.lang.String",
         "java.lang.String",
         "java.lang.Integer",
         "java.lang.Double",
         "java.lang.Double"
        ],
        "values": [
         [
          "SPLICE",
          {
           "timestamp": 1606846844032,
           "type": "Date"
          },
          "cebe35cc4fd3",
          "no_fraud",
          5,
          0.999978087821504,
          2.1912178495979976e-05
         ],
         [
          "SPLICE",
          {
           "timestamp": 1606846844365,
           "type": "Date"
          },
          "cebe35cc4fd3",
          "fraud",
          6,
          0.007519204944624325,
          0.9924807950553757
         ]
        ]
       }
      }
     },
     "99cb6072b45b4f7fbd62bd4db350657e": {
      "model_module": "@jupyter-widgets/base",
      "model_module_version": "1.2.0",
      "model_name": "LayoutModel",
      "state": {}
     },
     "9a327bd2e12a488eae546b0da42a8a68": {
      "model_module": "beakerx",
      "model_module_version": "*",
      "model_name": "TableDisplayModel",
      "state": {
       "layout": "IPY_MODEL_102f220689704b1bae6006ca3cd4172a",
       "model": {
        "alignmentForColumn": {},
        "alignmentForType": {},
        "cellHighlighters": [],
        "columnNames": [
         "variable",
         "relative_importance",
         "scaled_importance",
         "percentage"
        ],
        "columnOrder": [],
        "columnsFrozen": {},
        "columnsFrozenRight": {},
        "columnsVisible": {},
        "contextMenuItems": [],
        "contextMenuTags": {},
        "fontColor": [],
        "hasDoubleClickAction": false,
        "headersVertical": false,
        "rendererForColumn": {},
        "rendererForType": {},
        "stringFormatForColumn": {},
        "stringFormatForTimes": "YYYY-MM-DD HH:mm:ss.SSS",
        "stringFormatForType": {},
        "subtype": "ListOfMaps",
        "tooManyRows": false,
        "tooltips": [],
        "type": "TableDisplay",
        "types": [
         "string",
         "double",
         "double",
         "double"
        ],
        "values": [
         [
          "AROON_TRANS_AMNT",
          "122.01236724853516",
          "1.0",
          "0.2331681264855134"
         ],
         [
          "MACD_TRANS_CNT",
          "58.645469665527344",
          "0.48065184692358653",
          "0.11207269063897446"
         ],
         [
          "DAILY_TRANS_AMNT",
          "37.51778030395508",
          "0.3074916186777411",
          "0.0716972446370868"
         ],
         [
          "ROLLING_AVG_WEEKLY_TRANS_AMNT",
          "29.550371170043945",
          "0.24219160595295078",
          "0.05647136301056726"
         ],
         [
          "ROLLING_AVG_DAILY_TRANS_AMNT",
          "29.229001998901367",
          "0.23955769942044364",
          "0.05585721995904461"
         ],
         [
          "ROLLING_AVG_WEEKLY_TRANS_CNT",
          "26.068864822387695",
          "0.21365756119858145",
          "0.04981813325413716"
         ],
         [
          "ADX_TRANS_AMNT",
          "19.092605590820312",
          "0.15648090452936878",
          "0.03648635933987141"
         ],
         [
          "TIME_OFFSET",
          "18.201040267944336",
          "0.1491737327812796",
          "0.034782559793461586"
         ],
         [
          "EXPECTED_WEEKLY_TRANS_AMNT",
          "16.98693084716797",
          "0.1392230249296463",
          "0.03246237188649156"
         ],
         [
          "AROON_TRANS_CNT",
          "16.880414962768555",
          "0.13835003240600774",
          "0.03225881785531889"
         ],
         [
          "ROLLING_AVG_DAILY_TRANS_CNT",
          "16.678730010986328",
          "0.13669704462837204",
          "0.031873393792104125"
         ],
         [
          "RSI_TRANS_CNT",
          "14.710431098937988",
          "0.12056508230000429",
          "0.028111934359463735"
         ],
         [
          "RSI_BALANCE",
          "12.86658000946045",
          "0.10545308069674324",
          "0.02458829725818528"
         ],
         [
          "EXPECTED_WEEKLY_TRANS_CNT",
          "12.685226440429688",
          "0.10396672670558306",
          "0.024241726882772197"
         ],
         [
          "ROLLING_AVG_BALANCE",
          "11.471383094787598",
          "0.09401819957661152",
          "0.0219220474508196"
         ],
         [
          "WEEKLY_TRANS_CNT",
          "11.291586875915527",
          "0.09254460945680153",
          "0.02157845320337594"
         ],
         [
          "ADX_TRANS_CNT",
          "10.798659324645996",
          "0.08850462922868699",
          "0.020636458582547958"
         ],
         [
          "EXPECTED_DAILY_TRANS_AMNT",
          "8.341546058654785",
          "0.06836639798704447",
          "0.015940864933202136"
         ],
         [
          "CURRENT_BALANCE",
          "7.650208950042725",
          "0.06270027475542296",
          "0.014619705594848906"
         ],
         [
          "DAILY_TRANS_CNT",
          "7.606193542480469",
          "0.06233952929531237",
          "0.014535591251776763"
         ]
        ]
       }
      }
     },
     "9a495581b27f4a44abacb89dbf765500": {
      "model_module": "@jupyter-widgets/controls",
      "model_module_version": "1.5.0",
      "model_name": "HBoxModel",
      "state": {
       "children": [
        "IPY_MODEL_b289325a53e44a88ab3fb9cc6eb13af4",
        "IPY_MODEL_f8227d9624c24368b345ad14b81b4ca5"
       ],
       "layout": "IPY_MODEL_99cb6072b45b4f7fbd62bd4db350657e"
      }
     },
     "9aa87160-4d4c-4862-87cd-28e8d8475e4a": {
      "model_module": "beakerx",
      "model_module_version": "*",
      "model_name": "TableDisplayModel",
      "state": {
       "model": {
        "alignmentForColumn": {},
        "alignmentForType": {},
        "cellHighlighters": [],
        "columnNames": [
         "Plan"
        ],
        "columnOrder": [],
        "columnsFrozen": {},
        "columnsFrozenRight": {},
        "columnsVisible": {},
        "contextMenuItems": [],
        "contextMenuTags": {},
        "fontColor": [],
        "hasDoubleClickAction": false,
        "headersVertical": false,
        "rendererForColumn": {},
        "rendererForType": {},
        "stringFormatForColumn": {},
        "stringFormatForType": {},
        "subtype": "TableDisplay",
        "timeZone": "UTC",
        "tooManyRows": false,
        "tooltips": [],
        "type": "TableDisplay",
        "types": [
         "java.lang.String"
        ],
        "values": [
         [
          "Cursor(n=5,rows=269542,updateMode=,engine=OLAP (cost))"
         ],
         [
          "  ->  ScrollInsensitive(n=5,totalCost=3788.22,outputRows=269542,outputHeapSize=263.225 KB,partitions=1,parallelTasks=1)"
         ],
         [
          "    ->  ProjectRestrict(n=4,totalCost=1086.168,outputRows=269542,outputHeapSize=263.225 KB,partitions=1,parallelTasks=1)"
         ],
         [
          "      ->  GroupBy(n=3,totalCost=1086.168,outputRows=269542,outputHeapSize=263.225 KB,partitions=1,parallelTasks=1)"
         ],
         [
          "        ->  ProjectRestrict(n=2,totalCost=543.084,outputRows=269542,outputHeapSize=263.225 KB,partitions=1,parallelTasks=1)"
         ],
         [
          "          ->  TableScan[CC_FRAUD_DATA(7712)](n=0,totalCost=543.084,scannedRows=269542,outputRows=269542,outputHeapSize=263.225 KB,partitions=1,parallelTasks=1)"
         ],
         [
          "Table statistics are missing or skipped for the following tables:"
         ],
         [
          "SPLICE.CC_FRAUD_DATA"
         ],
         [
          "Column statistics are missing or skipped for the following columns:"
         ],
         [
          "SPLICE.CC_FRAUD_DATA.CLASS_RESULT"
         ]
        ]
       }
      }
     },
     "9bbf92d0e8af429fabfb532f36e53ccf": {
      "model_module": "@jupyter-widgets/base",
      "model_module_version": "*",
      "model_name": "LayoutModel",
      "state": {
       "_model_module_version": "*",
       "_view_module_version": "*"
      }
     },
     "9bd21771-9af5-4e24-9726-5bf280edd0d2": {
      "model_module": "beakerx",
      "model_module_version": "*",
      "model_name": "HTMLPreModel",
      "state": {
       "font_family": "",
       "font_size": "",
       "font_style": "",
       "font_weight": "",
       "layout": "IPY_MODEL_d83264f9-80a3-4766-91b6-816ae0660800",
       "msg_throttle": 3,
       "placeholder": "",
       "value": "Query executed successfully. Affected rows : 0",
       "visible": true
      }
     },
     "9c580cb7-3263-41d6-970a-61c86963fbf8": {
      "model_module": "beakerx",
      "model_module_version": "*",
      "model_name": "TableDisplayModel",
      "state": {
       "model": {
        "alignmentForColumn": {},
        "alignmentForType": {},
        "cellHighlighters": [],
        "columnNames": [
         "RUN_UUID",
         "ACTION",
         "DEPLOYMENT_STATUS",
         "TABLEID",
         "TRIGGER_TYPE",
         "TRIGGERID",
         "TRIGGERID_2",
         "DB_ENV",
         "DB_USER",
         "ACTION_DATE"
        ],
        "columnOrder": [],
        "columnsFrozen": {},
        "columnsFrozenRight": {},
        "columnsVisible": {},
        "contextMenuItems": [],
        "contextMenuTags": {},
        "fontColor": [],
        "hasDoubleClickAction": false,
        "headersVertical": false,
        "rendererForColumn": {},
        "rendererForType": {},
        "stringFormatForColumn": {},
        "stringFormatForType": {},
        "subtype": "TableDisplay",
        "timeZone": "UTC",
        "tooManyRows": false,
        "tooltips": [],
        "type": "TableDisplay",
        "types": [
         "java.lang.String",
         "java.lang.String",
         "java.lang.String",
         "java.lang.String",
         "java.lang.String",
         "java.lang.String",
         "java.lang.String",
         "java.lang.String",
         "java.lang.String",
         "java.sql.Timestamp"
        ],
        "values": [
         [
          "088546c085dc",
          "DEPLOYED",
          "Table or Trigger Missing",
          "6bf0c67e-0175-b800-401b-0004ba2359d8",
          "INSERT",
          "32954687-0175-b800-401b-0004ba2359d8",
          "None",
          "PROD",
          "splice",
          {
           "timestamp": 1605187388000,
           "type": "Date"
          }
         ],
         [
          "088546c085dc",
          "DEPLOYED",
          "Table or Trigger Missing",
          "bf798644-0175-b800-401b-0004ba2359d8",
          "INSERT",
          "b59b864d-0175-b800-401b-0004ba2359d8",
          "None",
          "PROD",
          "splice",
          {
           "timestamp": 1605187379000,
           "type": "Date"
          }
         ],
         [
          "18b42534620b",
          "DEPLOYED",
          "DEPLOYED",
          "1f824bb2-0175-dbbf-de0f-0004da2b5910",
          "INSERT",
          "51dbcbbb-0175-dbbf-de0f-0004da2b5910",
          "24498bc4-0175-dbbf-de0f-0004da2b5910",
          "PROD",
          "splice",
          {
           "timestamp": 1605716348000,
           "type": "Date"
          }
         ],
         [
          "30673021d4cc",
          "DEPLOYED",
          "Table or Trigger Missing",
          "7f100780-0175-b800-401b-0004ba2359d8",
          "INSERT",
          "17f90789-0175-b800-401b-0004ba2359d8",
          "30f64792-0175-b800-401b-0004ba2359d8",
          "PROD",
          "FeatureStore",
          {
           "timestamp": 1605188010000,
           "type": "Date"
          }
         ],
         [
          "3103c0e650df",
          "DEPLOYED",
          "Table or Trigger Missing",
          "03210338-0175-b800-401b-0004ba2359d8",
          "INSERT",
          "d2680341-0175-b800-401b-0004ba2359d8",
          "None",
          "PROD",
          "splice",
          {
           "timestamp": 1605136182000,
           "type": "Date"
          }
         ],
         [
          "3103c0e650df",
          "DEPLOYED",
          "Table or Trigger Missing",
          "947e02f1-0175-b800-401b-0004ba2359d8",
          "INSERT",
          "e32542fa-0175-b800-401b-0004ba2359d8",
          "None",
          "PROD",
          "splice",
          {
           "timestamp": 1605135690000,
           "type": "Date"
          }
         ],
         [
          "330e3865e9b1",
          "DEPLOYED",
          "DEPLOYED",
          "945486ec-0175-b800-401b-0004ba2359d8",
          "INSERT",
          "4bf086f5-0175-b800-401b-0004ba2359d8",
          "43a0c6fe-0175-b800-401b-0004ba2359d8",
          "PROD",
          "splice",
          {
           "timestamp": 1605187444000,
           "type": "Date"
          }
         ],
         [
          "4a7d5f911722",
          "DEPLOYED",
          "Table or Trigger Missing",
          "d226c673-0175-89a1-6341-0004e8b04b38",
          "INSERT",
          "bf300680-0175-89a1-6341-0004e8b04b38",
          "1c63868d-0175-89a1-6341-0004e8b04b38",
          "PROD",
          "splice",
          {
           "timestamp": 1604378308000,
           "type": "Date"
          }
         ],
         [
          "5d7e4332af62",
          "DEPLOYED",
          "Table or Trigger Missing",
          "305887cc-0175-b800-401b-0004ba2359d8",
          "INSERT",
          "e9ec87d5-0175-b800-401b-0004ba2359d8",
          "378407e0-0175-b800-401b-0004ba2359d8",
          "PROD",
          "FeatureStore",
          {
           "timestamp": 1605188317000,
           "type": "Date"
          }
         ],
         [
          "5d7e4332af62",
          "DEPLOYED",
          "DEPLOYED",
          "a500c803-0175-b800-401b-0004ba2359d8",
          "INSERT",
          "af10880c-0175-b800-401b-0004ba2359d8",
          "69348815-0175-b800-401b-0004ba2359d8",
          "PROD",
          "FeatureStore",
          {
           "timestamp": 1605188554000,
           "type": "Date"
          }
         ],
         [
          "5e6107e82639",
          "DEPLOYED",
          "Table or Trigger Missing",
          "09180740-0175-b800-401b-0004ba2359d8",
          "INSERT",
          "a1710749-0175-b800-401b-0004ba2359d8",
          "b9de4752-0175-b800-401b-0004ba2359d8",
          "PROD",
          "FeatureStore",
          {
           "timestamp": 1605187768000,
           "type": "Date"
          }
         ],
         [
          "770afb220630",
          "DEPLOYED",
          "Table or Trigger Missing",
          "1bfe0110-0175-dbbf-d0a5-0004d08dc650",
          "INSERT",
          "b5d64b6f-0175-dbbf-de0f-0004da2b5910",
          "None",
          "PROD",
          "splice",
          {
           "timestamp": 1605716282000,
           "type": "Date"
          }
         ],
         [
          "7d1379351b60",
          "DEPLOYED",
          "Table or Trigger Missing",
          "8e958264-0175-89a1-6341-0004e8b04b38",
          "INSERT",
          "3e6e0271-0175-89a1-6341-0004e8b04b38",
          "None",
          "PROD",
          "splice",
          {
           "timestamp": 1604353068000,
           "type": "Date"
          }
         ],
         [
          "833140e61f46",
          "DEPLOYED",
          "Table or Trigger Missing",
          "88100081-0175-dbbf-d591-0004db58b458",
          "INSERT",
          "bd020711-0175-dbbf-de0f-0004da2b5910",
          "None",
          "PROD",
          "username",
          {
           "timestamp": 1605712119000,
           "type": "Date"
          }
         ],
         [
          "9a815a3cfcbf",
          "DEPLOYED",
          "DEPLOYED",
          "8bd605b1-0175-b800-401b-0004ba2359d8",
          "INSERT",
          "e0ad45ba-0175-b800-401b-0004ba2359d8",
          "c598c5c3-0175-b800-401b-0004ba2359d8",
          "PROD",
          "splice",
          {
           "timestamp": 1605186334000,
           "type": "Date"
          }
         ],
         [
          "9a815a3cfcbf",
          "DEPLOYED",
          "Table or Trigger Missing",
          "9a160850-0175-b800-24a7-0004d7855b58",
          "INSERT",
          "afcdc60b-0175-b800-401b-0004ba2359d8",
          "f56f8614-0175-b800-401b-0004ba2359d8",
          "PROD",
          "splice",
          {
           "timestamp": 1605186416000,
           "type": "Date"
          }
         ],
         [
          "a822dcc2e3e7",
          "DEPLOYED",
          "Table or Trigger Missing",
          "7bed0929-0175-89a1-643e-0004e84c99c8",
          "INSERT",
          "44a6ca73-0175-89a1-6341-0004e8b04b38",
          "None",
          "PROD",
          "splice",
          {
           "timestamp": 1604501266000,
           "type": "Date"
          }
         ],
         [
          "cebe35cc4fd3",
          "DEPLOYED",
          "DEPLOYED",
          "8bb6466f-0176-1b84-2e05-0004d80df538",
          "INSERT",
          "f2390678-0176-1b84-2e05-0004d80df538",
          "c8d00681-0176-1b84-2e05-0004d80df538",
          "PROD",
          "splice",
          {
           "timestamp": 1606846828000,
           "type": "Date"
          }
         ],
         [
          "d6d25ced9e55",
          "DEPLOYED",
          "DEPLOYED",
          "6f0d46ba-0175-b800-401b-0004ba2359d8",
          "INSERT",
          "5638c6c3-0175-b800-401b-0004ba2359d8",
          "5d7886cc-0175-b800-401b-0004ba2359d8",
          "PROD",
          "splice",
          {
           "timestamp": 1605187411000,
           "type": "Date"
          }
         ],
         [
          "f251f7b5fb3e",
          "DEPLOYED",
          "Table or Trigger Missing",
          "4a55437a-0175-b800-401b-0004ba2359d8",
          "INSERT",
          "2a30c383-0175-b800-401b-0004ba2359d8",
          "None",
          "PROD",
          "splice",
          {
           "timestamp": 1605136278000,
           "type": "Date"
          }
         ],
         [
          "fec96d20752c",
          "DEPLOYED",
          "DEPLOYED",
          "2131c756-0175-dbbf-de0f-0004da2b5910",
          "INSERT",
          "4d6c0761-0175-dbbf-de0f-0004da2b5910",
          "260f476a-0175-dbbf-de0f-0004da2b5910",
          "PROD",
          "username",
          {
           "timestamp": 1605712679000,
           "type": "Date"
          }
         ]
        ]
       }
      }
     },
     "9f73253de351440fbc2a03d55e599b3f": {
      "model_module": "@jupyter-widgets/base",
      "model_module_version": "1.2.0",
      "model_name": "LayoutModel",
      "state": {}
     },
     "a019b7e7-bff4-414d-a685-ee44ba7a57d0": {
      "model_module": "@jupyter-widgets/base",
      "model_module_version": "*",
      "model_name": "LayoutModel",
      "state": {
       "_model_module_version": "*",
       "_view_module_version": "*",
       "align_content": "",
       "align_self": "",
       "border": "",
       "bottom": "",
       "flex": "",
       "height": "",
       "justify_content": "",
       "left": "",
       "margin": "",
       "max_height": "",
       "max_width": "",
       "min_height": "",
       "min_width": "",
       "msg_throttle": 3,
       "overflow": "",
       "overflow_x": "",
       "overflow_y": "",
       "padding": "",
       "right": "",
       "top": ""
      }
     },
     "a408c907-f82f-4612-8279-8c03c22c9cb3": {
      "model_module": "beakerx",
      "model_module_version": "*",
      "model_name": "HTMLPreModel",
      "state": {
       "font_family": "",
       "font_size": "",
       "font_style": "",
       "font_weight": "",
       "layout": "IPY_MODEL_a019b7e7-bff4-414d-a685-ee44ba7a57d0",
       "msg_throttle": 3,
       "placeholder": "",
       "value": "Query executed successfully. Affected rows : 0",
       "visible": true
      }
     },
     "a5049f7ae2f4495c82cd76071bfad2ac": {
      "model_module": "@jupyter-widgets/base",
      "model_module_version": "1.2.0",
      "model_name": "LayoutModel",
      "state": {}
     },
     "a5849d04970b469d8c716ac3e835160c": {
      "model_module": "@jupyter-widgets/base",
      "model_module_version": "*",
      "model_name": "LayoutModel",
      "state": {
       "_model_module_version": "*",
       "_view_module_version": "*"
      }
     },
     "a63f58968c9a43479c505b4c764de8fb": {
      "model_module": "@jupyter-widgets/controls",
      "model_module_version": "1.5.0",
      "model_name": "DescriptionStyleModel",
      "state": {
       "description_width": ""
      }
     },
     "a662675e789c4d8b89d3cdddd08e740c": {
      "model_module": "beakerx",
      "model_module_version": "*",
      "model_name": "TableDisplayModel",
      "state": {
       "layout": "IPY_MODEL_125ce1d1341848e0b736849e499a285e",
       "model": {
        "alignmentForColumn": {},
        "alignmentForType": {},
        "cellHighlighters": [],
        "columnNames": [
         "index",
         "label"
        ],
        "columnOrder": [],
        "columnsFrozen": {},
        "columnsFrozenRight": {},
        "columnsVisible": {},
        "contextMenuItems": [],
        "contextMenuTags": {},
        "fontColor": [],
        "hasDoubleClickAction": false,
        "headersVertical": false,
        "rendererForColumn": {},
        "rendererForType": {},
        "stringFormatForColumn": {},
        "stringFormatForTimes": "YYYY-MM-DD HH:mm:ss.SSS",
        "stringFormatForType": {},
        "subtype": "ListOfMaps",
        "tooManyRows": false,
        "tooltips": [],
        "type": "TableDisplay",
        "types": [
         "string",
         "double"
        ],
        "values": [
         [
          "label",
          "1.0"
         ],
         [
          "TIME_OFFSET",
          "0.8199775491239032"
         ],
         [
          "MACD_TRANS_CNT",
          "0.7979188355657916"
         ],
         [
          "ROLLING_AVG_DAILY_TRANS_AMNT",
          "0.792152475065862"
         ],
         [
          "ROLLING_AVG_DAILY_TRANS_CNT",
          "0.7162553829931259"
         ],
         [
          "EXPECTED_DAILY_TRANS_AMNT",
          "0.7110173452695222"
         ],
         [
          "ROLLING_AVG_WEEKLY_TRANS_AMNT",
          "0.7062439588603378"
         ],
         [
          "EXPECTED_DAILY_TRANS_CNT",
          "0.680427949989604"
         ],
         [
          "RSI_TRANS_CNT",
          "0.6598230104532696"
         ],
         [
          "AROON_TRANS_AMNT",
          "0.6509388786443531"
         ],
         [
          "ROLLING_AVG_WEEKLY_TRANS_CNT",
          "0.5763154578844797"
         ],
         [
          "EXPECTED_WEEKLY_TRANS_AMNT",
          "0.5507608312515064"
         ],
         [
          "DAILY_TRANS_CNT",
          "0.5463297188679818"
         ],
         [
          "AROON_TRANS_CNT",
          "0.48842992155438886"
         ],
         [
          "EXPECTED_WEEKLY_TRANS_CNT",
          "0.4593926809479069"
         ],
         [
          "WEEKLY_TRANS_CNT",
          "0.4056759796649794"
         ],
         [
          "WEEKLY_TRANS_AMNT",
          "0.3813058250293358"
         ],
         [
          "ADX_TRANS_CNT",
          "0.23148787052661735"
         ],
         [
          "ADX_TRANS_AMNT",
          "0.20250676117854272"
         ],
         [
          "CREDIT_SCORE",
          "0.17294162872393765"
         ],
         [
          "RSI_TRANS_AMNT",
          "0.16421369428080576"
         ],
         [
          "CREDIT_LIMIT",
          "0.1469032880576098"
         ],
         [
          "DAILY_TRANS_AMNT",
          "0.12533604208456156"
         ],
         [
          "ROLLING_AVG_BALANCE",
          "0.12125601574456332"
         ],
         [
          "AROON_BALANCE",
          "0.11425785575078234"
         ],
         [
          "CURRENT_BALANCE",
          "0.071372878204952"
         ],
         [
          "RSI_BALANCE",
          "0.07010621572012411"
         ],
         [
          "MACD_TRANS_AMNT",
          "0.055163030821122"
         ],
         [
          "MACD_BALANCE",
          "0.030288378267163137"
         ],
         [
          "ADX_BALANCE",
          "0.013153887664060513"
         ]
        ]
       }
      }
     },
     "a9a1392cd8414ea8b3dac910adacae90": {
      "model_module": "@jupyter-widgets/base",
      "model_module_version": "*",
      "model_name": "LayoutModel",
      "state": {
       "_model_module_version": "*",
       "_view_module_version": "*"
      }
     },
     "aa7baa2a-bb09-4a29-862c-4ad1a440d956": {
      "model_module": "beakerx",
      "model_module_version": "*",
      "model_name": "HTMLPreModel",
      "state": {
       "font_family": "",
       "font_size": "",
       "font_style": "",
       "font_weight": "",
       "layout": "IPY_MODEL_c85a263e-a1f0-487e-8779-cbccabd64bd0",
       "msg_throttle": 3,
       "placeholder": "",
       "value": "Query executed successfully. Affected rows : 0",
       "visible": true
      }
     },
     "ac171efafbdb47a2a1b778fa748139b6": {
      "model_module": "beakerx",
      "model_module_version": "*",
      "model_name": "TableDisplayModel",
      "state": {
       "layout": "IPY_MODEL_3706f2f569984f87a2ea345e69ade7a4",
       "model": {
        "alignmentForColumn": {},
        "alignmentForType": {},
        "cellHighlighters": [],
        "columnNames": [
         "",
         "0",
         "1",
         "Error",
         "Rate"
        ],
        "columnOrder": [],
        "columnsFrozen": {},
        "columnsFrozenRight": {},
        "columnsVisible": {},
        "contextMenuItems": [],
        "contextMenuTags": {},
        "fontColor": [],
        "hasDoubleClickAction": false,
        "headersVertical": false,
        "rendererForColumn": {},
        "rendererForType": {},
        "stringFormatForColumn": {},
        "stringFormatForTimes": "YYYY-MM-DD HH:mm:ss.SSS",
        "stringFormatForType": {},
        "subtype": "ListOfMaps",
        "tooManyRows": false,
        "tooltips": [],
        "type": "TableDisplay",
        "types": [
         "string",
         "double",
         "double",
         "string",
         "string"
        ],
        "values": [
         [
          "0",
          "87104.0",
          "15.0",
          "0.0002",
          " (15.0/87119.0)"
         ],
         [
          "1",
          "37.0",
          "130.0",
          "0.2216",
          " (37.0/167.0)"
         ],
         [
          "Total",
          "87141.0",
          "145.0",
          "0.0006",
          " (52.0/87286.0)"
         ]
        ]
       }
      }
     },
     "acb11438-63a2-43d0-9d20-314d60d89ced": {
      "model_module": "beakerx",
      "model_module_version": "*",
      "model_name": "TableDisplayModel",
      "state": {
       "model": {
        "alignmentForColumn": {},
        "alignmentForType": {},
        "cellHighlighters": [],
        "columnNames": [
         "Key",
         "Value"
        ],
        "columnOrder": [],
        "columnsFrozen": {},
        "columnsFrozenRight": {},
        "columnsVisible": {},
        "contextMenuItems": [],
        "contextMenuTags": {},
        "fontColor": [],
        "hasDoubleClickAction": false,
        "headersVertical": false,
        "rendererForColumn": {},
        "rendererForType": {},
        "stringFormatForColumn": {},
        "stringFormatForType": {},
        "subtype": "Dictionary",
        "timeZone": "UTC",
        "tooManyRows": false,
        "tooltips": [],
        "type": "TableDisplay",
        "types": [],
        "values": [
         [
          "CUR_USER",
          "SPLICE"
         ],
         [
          "EVAL_TIME",
          {
           "timestamp": 1605186342115,
           "type": "Date"
          }
         ],
         [
          "RUN_ID",
          "9a815a3cfcbf"
         ],
         [
          "CREDIT_SCORE",
          -2.38
         ],
         [
          "PREDICTION",
          "no_fraud"
         ],
         [
          "no_fraud",
          6
         ],
         [
          "fraud",
          0.006368495753459417
         ]
        ]
       }
      }
     },
     "ad4ea99d8ed0485fb52a46f4f23e3df6": {
      "model_module": "beakerx",
      "model_module_version": "*",
      "model_name": "TableDisplayModel",
      "state": {
       "layout": "IPY_MODEL_bf8b61b821bb445b815ae967a626364c",
       "model": {
        "alignmentForColumn": {},
        "alignmentForType": {},
        "cellHighlighters": [],
        "columnNames": [
         "metric",
         "threshold",
         "value",
         "idx"
        ],
        "columnOrder": [],
        "columnsFrozen": {},
        "columnsFrozenRight": {},
        "columnsVisible": {},
        "contextMenuItems": [],
        "contextMenuTags": {},
        "fontColor": [],
        "hasDoubleClickAction": false,
        "headersVertical": false,
        "rendererForColumn": {},
        "rendererForType": {},
        "stringFormatForColumn": {},
        "stringFormatForTimes": "YYYY-MM-DD HH:mm:ss.SSS",
        "stringFormatForType": {},
        "subtype": "ListOfMaps",
        "tooManyRows": false,
        "tooltips": [],
        "type": "TableDisplay",
        "types": [
         "string",
         "double",
         "double",
         "double"
        ],
        "values": [
         [
          "max f1",
          "0.06717545445321027",
          "0.7599999999999999",
          "145.0"
         ],
         [
          "max f2",
          "0.03588597263146385",
          "0.7949308755760367",
          "159.0"
         ],
         [
          "max f0point5",
          "0.4287234813281271",
          "0.7698289269051323",
          "85.0"
         ],
         [
          "max accuracy",
          "0.11705385672365666",
          "0.9990605595399034",
          "125.0"
         ],
         [
          "max precision",
          "0.4287234813281271",
          "0.8319327731092437",
          "85.0"
         ],
         [
          "max recall",
          "0.00019260065939009314",
          "1.0",
          "388.0"
         ],
         [
          "max specificity",
          "0.9999817469632125",
          "0.9999540857907001",
          "0.0"
         ],
         [
          "max absolute_mcc",
          "0.06717545445321027",
          "0.7603169270880561",
          "145.0"
         ],
         [
          "max min_per_class_accuracy",
          "0.0011907534149872786",
          "0.9281437125748503",
          "314.0"
         ],
         [
          "max mean_per_class_accuracy",
          "0.004058366444997988",
          "0.9434945235964325",
          "256.0"
         ],
         [
          "max tns",
          "0.9999817469632125",
          "87115.0",
          "0.0"
         ],
         [
          "max fns",
          "0.9999817469632125",
          "155.0",
          "0.0"
         ],
         [
          "max fps",
          "1.432159296988996e-05",
          "87119.0",
          "399.0"
         ],
         [
          "max tps",
          "0.00019260065939009314",
          "167.0",
          "388.0"
         ],
         [
          "max tnr",
          "0.9999817469632125",
          "0.9999540857907001",
          "0.0"
         ],
         [
          "max fnr",
          "0.9999817469632125",
          "0.9281437125748503",
          "0.0"
         ],
         [
          "max fpr",
          "1.432159296988996e-05",
          "1.0",
          "399.0"
         ],
         [
          "max tpr",
          "0.00019260065939009314",
          "1.0",
          "388.0"
         ]
        ]
       }
      }
     },
     "ad588ec4-b4d8-4afa-900e-07e3f7a1088b": {
      "model_module": "beakerx",
      "model_module_version": "*",
      "model_name": "TableDisplayModel",
      "state": {
       "model": {
        "alignmentForColumn": {},
        "alignmentForType": {},
        "cellHighlighters": [],
        "columnNames": [
         "CLASS_RESULT",
         "2"
        ],
        "columnOrder": [],
        "columnsFrozen": {},
        "columnsFrozenRight": {},
        "columnsVisible": {},
        "contextMenuItems": [],
        "contextMenuTags": {},
        "fontColor": [],
        "hasDoubleClickAction": false,
        "headersVertical": false,
        "rendererForColumn": {},
        "rendererForType": {},
        "stringFormatForColumn": {},
        "stringFormatForType": {},
        "subtype": "TableDisplay",
        "timeZone": "UTC",
        "tooManyRows": false,
        "tooltips": [],
        "type": "TableDisplay",
        "types": [
         "java.lang.Integer",
         "java.lang.Long"
        ],
        "values": [
         [
          0,
          "124347"
         ],
         [
          1,
          "244"
         ]
        ]
       }
      }
     },
     "b05603cb-039f-44b5-9081-0e88a9fe40cf": {
      "model_module": "beakerx",
      "model_module_version": "*",
      "model_name": "HTMLPreModel",
      "state": {
       "font_family": "",
       "font_size": "",
       "font_style": "",
       "font_weight": "",
       "layout": "IPY_MODEL_5f47cf02-e2a8-41d0-a6e4-cd2beb2f62fd",
       "msg_throttle": 3,
       "placeholder": "",
       "value": "Query executed successfully. Affected rows : 0",
       "visible": true
      }
     },
     "b289325a53e44a88ab3fb9cc6eb13af4": {
      "model_module": "@jupyter-widgets/controls",
      "model_module_version": "1.5.0",
      "model_name": "FloatProgressModel",
      "state": {
       "bar_style": "danger",
       "layout": "IPY_MODEL_5956cf7054ca47499436d4e1eac47afb",
       "max": 1,
       "style": "IPY_MODEL_b7db9908e0d74f6ba003ef3e450e19c5",
       "value": 1
      }
     },
     "b2a819c2db4f4f80870de71a32756e5e": {
      "model_module": "@jupyter-widgets/base",
      "model_module_version": "*",
      "model_name": "LayoutModel",
      "state": {
       "_model_module_version": "*",
       "_view_module_version": "*"
      }
     },
     "b2b0bc1cd23944e9bfd0e143c657f3fc": {
      "model_module": "@jupyter-widgets/controls",
      "model_module_version": "1.5.0",
      "model_name": "FloatProgressModel",
      "state": {
       "bar_style": "success",
       "layout": "IPY_MODEL_b57a1311ef864181a6567f353b6e32be",
       "max": 1,
       "style": "IPY_MODEL_1c9f6b8b43924a06af115f97a3c10346",
       "value": 1
      }
     },
     "b57a1311ef864181a6567f353b6e32be": {
      "model_module": "@jupyter-widgets/base",
      "model_module_version": "1.2.0",
      "model_name": "LayoutModel",
      "state": {}
     },
     "b60ccbea3b7b45c89bfe7a862b247c6a": {
      "model_module": "@jupyter-widgets/base",
      "model_module_version": "*",
      "model_name": "LayoutModel",
      "state": {
       "_model_module_version": "*",
       "_view_module_version": "*"
      }
     },
     "b6ce578655124fd99eef971c9c70620b": {
      "model_module": "beakerx",
      "model_module_version": "*",
      "model_name": "TableDisplayModel",
      "state": {
       "layout": "IPY_MODEL_5ebaf84574bb4749805763aa8bd537b1",
       "model": {
        "alignmentForColumn": {},
        "alignmentForType": {},
        "cellHighlighters": [],
        "columnNames": [
         "RUN_UUID",
         "ACTION",
         "DEPLOYMENT_STATUS",
         "TABLEID",
         "TRIGGER_TYPE",
         "TRIGGERID",
         "TRIGGERID_2",
         "DB_ENV",
         "DB_USER",
         "ACTION_DATE"
        ],
        "columnOrder": [],
        "columnsFrozen": {},
        "columnsFrozenRight": {},
        "columnsVisible": {},
        "contextMenuItems": [],
        "contextMenuTags": {},
        "fontColor": [],
        "hasDoubleClickAction": false,
        "headersVertical": false,
        "rendererForColumn": {},
        "rendererForType": {},
        "stringFormatForColumn": {},
        "stringFormatForTimes": "YYYY-MM-DD HH:mm:ss.SSS",
        "stringFormatForType": {},
        "subtype": "ListOfMaps",
        "tooManyRows": false,
        "tooltips": [],
        "type": "TableDisplay",
        "types": [
         "string",
         "string",
         "string",
         "string",
         "string",
         "string",
         "string",
         "string",
         "string",
         "time"
        ],
        "values": [
         [
          "3103c0e650df",
          "DEPLOYED",
          "Table or Trigger Missing",
          "03210338-0175-b800-401b-0004ba2359d8",
          "INSERT",
          "d2680341-0175-b800-401b-0004ba2359d8",
          "None",
          "PROD",
          "splice",
          {
           "timestamp": 1605136182000,
           "type": "Date",
           "tz": "UTC"
          }
         ],
         [
          "3103c0e650df",
          "DEPLOYED",
          "Table or Trigger Missing",
          "947e02f1-0175-b800-401b-0004ba2359d8",
          "INSERT",
          "e32542fa-0175-b800-401b-0004ba2359d8",
          "None",
          "PROD",
          "splice",
          {
           "timestamp": 1605135690000,
           "type": "Date",
           "tz": "UTC"
          }
         ],
         [
          "4a7d5f911722",
          "DEPLOYED",
          "Table or Trigger Missing",
          "d226c673-0175-89a1-6341-0004e8b04b38",
          "INSERT",
          "bf300680-0175-89a1-6341-0004e8b04b38",
          "1c63868d-0175-89a1-6341-0004e8b04b38",
          "PROD",
          "splice",
          {
           "timestamp": 1604378308000,
           "type": "Date",
           "tz": "UTC"
          }
         ],
         [
          "7d1379351b60",
          "DEPLOYED",
          "Table or Trigger Missing",
          "8e958264-0175-89a1-6341-0004e8b04b38",
          "INSERT",
          "3e6e0271-0175-89a1-6341-0004e8b04b38",
          "None",
          "PROD",
          "splice",
          {
           "timestamp": 1604353068000,
           "type": "Date",
           "tz": "UTC"
          }
         ],
         [
          "9a815a3cfcbf",
          "DEPLOYED",
          "DEPLOYED",
          "8bd605b1-0175-b800-401b-0004ba2359d8",
          "INSERT",
          "e0ad45ba-0175-b800-401b-0004ba2359d8",
          "c598c5c3-0175-b800-401b-0004ba2359d8",
          "PROD",
          "splice",
          {
           "timestamp": 1605186334000,
           "type": "Date",
           "tz": "UTC"
          }
         ],
         [
          "9a815a3cfcbf",
          "DEPLOYED",
          "DEPLOYED",
          "9a160850-0175-b800-24a7-0004d7855b58",
          "INSERT",
          "afcdc60b-0175-b800-401b-0004ba2359d8",
          "f56f8614-0175-b800-401b-0004ba2359d8",
          "PROD",
          "splice",
          {
           "timestamp": 1605186416000,
           "type": "Date",
           "tz": "UTC"
          }
         ],
         [
          "a822dcc2e3e7",
          "DEPLOYED",
          "Table or Trigger Missing",
          "7bed0929-0175-89a1-643e-0004e84c99c8",
          "INSERT",
          "44a6ca73-0175-89a1-6341-0004e8b04b38",
          "None",
          "PROD",
          "splice",
          {
           "timestamp": 1604501266000,
           "type": "Date",
           "tz": "UTC"
          }
         ],
         [
          "f251f7b5fb3e",
          "DEPLOYED",
          "Table or Trigger Missing",
          "4a55437a-0175-b800-401b-0004ba2359d8",
          "INSERT",
          "2a30c383-0175-b800-401b-0004ba2359d8",
          "None",
          "PROD",
          "splice",
          {
           "timestamp": 1605136278000,
           "type": "Date",
           "tz": "UTC"
          }
         ]
        ]
       }
      }
     },
     "b6d7b2a832964f148e65cc940438ce76": {
      "model_module": "@jupyter-widgets/base",
      "model_module_version": "*",
      "model_name": "LayoutModel",
      "state": {
       "_model_module_version": "*",
       "_view_module_version": "*"
      }
     },
     "b730d36b4bc3454b8343c871aad77c1d": {
      "model_module": "beakerx",
      "model_module_version": "*",
      "model_name": "TableDisplayModel",
      "state": {
       "layout": "IPY_MODEL_896b4165d99a4859b234beb789d12201",
       "model": {
        "alignmentForColumn": {},
        "alignmentForType": {},
        "cellHighlighters": [],
        "columnNames": [
         "metric",
         "threshold",
         "value",
         "idx"
        ],
        "columnOrder": [],
        "columnsFrozen": {},
        "columnsFrozenRight": {},
        "columnsVisible": {},
        "contextMenuItems": [],
        "contextMenuTags": {},
        "fontColor": [],
        "hasDoubleClickAction": false,
        "headersVertical": false,
        "rendererForColumn": {},
        "rendererForType": {},
        "stringFormatForColumn": {},
        "stringFormatForTimes": "YYYY-MM-DD HH:mm:ss.SSS",
        "stringFormatForType": {},
        "subtype": "ListOfMaps",
        "tooManyRows": false,
        "tooltips": [],
        "type": "TableDisplay",
        "types": [
         "string",
         "double",
         "double",
         "double"
        ],
        "values": [
         [
          "max f1",
          "0.9718262159006396",
          "0.6625766871165644",
          "4.0"
         ],
         [
          "max f2",
          "0.9718262159006396",
          "0.652962515114873",
          "4.0"
         ],
         [
          "max f0point5",
          "0.9999999424846592",
          "0.680933852140078",
          "0.0"
         ],
         [
          "max accuracy",
          "0.9999999424846592",
          "0.9987626881745068",
          "0.0"
         ],
         [
          "max precision",
          "0.9999999424846592",
          "0.695364238410596",
          "0.0"
         ],
         [
          "max recall",
          "2.1915107068930594e-08",
          "1.0",
          "399.0"
         ],
         [
          "max specificity",
          "0.9999999424846592",
          "0.9994719865930509",
          "0.0"
         ],
         [
          "max absolute_mcc",
          "0.9718262159006396",
          "0.6621459271093602",
          "4.0"
         ],
         [
          "max min_per_class_accuracy",
          "0.0002673536549698243",
          "0.7239293380318874",
          "305.0"
         ],
         [
          "max mean_per_class_accuracy",
          "0.00033655611895164374",
          "0.8346425870924847",
          "280.0"
         ],
         [
          "max tns",
          "0.9999999424846592",
          "87073.0",
          "0.0"
         ],
         [
          "max fns",
          "0.9999999424846592",
          "62.0",
          "0.0"
         ],
         [
          "max fps",
          "2.1915107068930594e-08",
          "87119.0",
          "399.0"
         ],
         [
          "max tps",
          "2.1915107068930594e-08",
          "167.0",
          "399.0"
         ],
         [
          "max tnr",
          "0.9999999424846592",
          "0.9994719865930509",
          "0.0"
         ],
         [
          "max fnr",
          "0.9999999424846592",
          "0.3712574850299401",
          "0.0"
         ],
         [
          "max fpr",
          "2.1915107068930594e-08",
          "1.0",
          "399.0"
         ],
         [
          "max tpr",
          "2.1915107068930594e-08",
          "1.0",
          "399.0"
         ]
        ]
       }
      }
     },
     "b7374716-b955-4ba3-939a-034579bf4aba": {
      "model_module": "beakerx",
      "model_module_version": "*",
      "model_name": "HTMLPreModel",
      "state": {
       "font_family": "",
       "font_size": "",
       "font_style": "",
       "font_weight": "",
       "layout": "IPY_MODEL_841233a2-4e85-4e6f-9c6c-e2f5de47565a",
       "msg_throttle": 3,
       "placeholder": "",
       "value": "Query executed successfully. Affected rows : 0",
       "visible": true
      }
     },
     "b7db9908e0d74f6ba003ef3e450e19c5": {
      "model_module": "@jupyter-widgets/controls",
      "model_module_version": "1.5.0",
      "model_name": "ProgressStyleModel",
      "state": {
       "description_width": "initial"
      }
     },
     "ba0d709e-2f98-4066-9a4e-97c29003f1fb": {
      "model_module": "beakerx",
      "model_module_version": "*",
      "model_name": "TableDisplayModel",
      "state": {
       "model": {
        "alignmentForColumn": {},
        "alignmentForType": {},
        "cellHighlighters": [],
        "columnNames": [
         "TIME_OFFSET",
         "EXPECTED_WEEKLY_TRANS_CNT",
         "EXPECTED_WEEKLY_TRANS_AMNT",
         "EXPECTED_DAILY_TRANS_CNT",
         "EXPECTED_DAILY_TRANS_AMNT",
         "WEEKLY_TRANS_CNT",
         "WEEKLY_TRANS_AMNT",
         "DAILY_TRANS_CNT",
         "DAILY_TRANS_AMNT",
         "ROLLING_AVG_WEEKLY_TRANS_CNT",
         "ROLLING_AVG_WEEKLY_TRANS_AMNT",
         "ROLLING_AVG_DAILY_TRANS_CNT",
         "ROLLING_AVG_DAILY_TRANS_AMNT",
         "MACD_TRANS_AMNT",
         "MACD_TRANS_CNT",
         "RSI_TRANS_AMNT",
         "RSI_TRANS_CNT",
         "AROON_TRANS_AMNT",
         "AROON_TRANS_CNT",
         "ADX_TRANS_AMNT",
         "ADX_TRANS_CNT",
         "CURRENT_BALANCE",
         "ROLLING_AVG_BALANCE",
         "MACD_BALANCE",
         "AROON_BALANCE",
         "RSI_BALANCE",
         "ADX_BALANCE",
         "CREDIT_SCORE",
         "CREDIT_LIMIT",
         "AMOUNT",
         "CLASS_RESULT"
        ],
        "columnOrder": [],
        "columnsFrozen": {},
        "columnsFrozenRight": {},
        "columnsVisible": {},
        "contextMenuItems": [],
        "contextMenuTags": {},
        "fontColor": [],
        "hasDoubleClickAction": false,
        "headersVertical": false,
        "rendererForColumn": {},
        "rendererForType": {},
        "stringFormatForColumn": {},
        "stringFormatForType": {},
        "subtype": "TableDisplay",
        "timeZone": "UTC",
        "tooManyRows": false,
        "tooltips": [],
        "type": "TableDisplay",
        "types": [
         "java.lang.Integer",
         "java.lang.Double",
         "java.lang.Double",
         "java.lang.Double",
         "java.lang.Double",
         "java.lang.Double",
         "java.lang.Double",
         "java.lang.Double",
         "java.lang.Double",
         "java.lang.Double",
         "java.lang.Double",
         "java.lang.Double",
         "java.lang.Double",
         "java.lang.Double",
         "java.lang.Double",
         "java.lang.Double",
         "java.lang.Double",
         "java.lang.Double",
         "java.lang.Double",
         "java.lang.Double",
         "java.lang.Double",
         "java.lang.Double",
         "java.lang.Double",
         "java.lang.Double",
         "java.lang.Double",
         "java.lang.Double",
         "java.lang.Double",
         "java.lang.Double",
         "java.lang.Double",
         "java.math.BigDecimal",
         "java.lang.Integer"
        ],
        "values": [
         [
          0,
          -1.3598071336738,
          -0.0727811733098497,
          2.53634673796914,
          1.37815522427443,
          -0.338320769942518,
          0.462387777762292,
          0.239598554061257,
          0.0986979012610507,
          0.363786969611213,
          0.0907941719789316,
          -0.551599533260813,
          -0.617800855762348,
          -0.991389847235408,
          -0.311169353699879,
          1.46817697209427,
          -0.470400525259478,
          0.207971241929242,
          0.0257905801985591,
          0.403992960255733,
          0.251412098239705,
          -0.018306777944153,
          0.277837575558899,
          -0.110473910188767,
          0.0669280749146731,
          0.128539358273528,
          -0.189114843888824,
          0.133558376740387,
          -0.0210530534538215,
          149.62,
          0
         ],
         [
          1,
          -1.35835406159823,
          -1.34016307473609,
          1.77320934263119,
          0.379779593034328,
          -0.503198133318193,
          1.80049938079263,
          0.791460956450422,
          0.247675786588991,
          -1.51465432260583,
          0.207642865216696,
          0.624501459424895,
          0.066083685268831,
          0.717292731410831,
          -0.165945922763554,
          2.34586494901581,
          -2.89008319444231,
          1.10996937869599,
          -0.121359313195888,
          -2.26185709530414,
          0.524979725224404,
          0.247998153469754,
          0.771679401917229,
          0.909412262347719,
          -0.689280956490685,
          -0.327641833735251,
          -0.139096571514147,
          -0.0553527940384261,
          -0.0597518405929204,
          378.66,
          0
         ],
         [
          2,
          -1.15823309349523,
          0.877736754848451,
          1.548717846511,
          0.403033933955121,
          -0.407193377311653,
          0.0959214624684256,
          0.592940745385545,
          -0.270532677192282,
          0.817739308235294,
          0.753074431976354,
          -0.822842877946363,
          0.53819555014995,
          1.3458515932154,
          -1.11966983471731,
          0.175121130008994,
          -0.451449182813529,
          -0.237033239362776,
          -0.0381947870352842,
          0.803486924960175,
          0.408542360392758,
          -0.00943069713232919,
          0.79827849458971,
          -0.137458079619063,
          0.141266983824769,
          -0.206009587619756,
          0.502292224181569,
          0.219422229513348,
          0.215153147499206,
          69.99,
          0
         ],
         [
          4,
          1.22965763450793,
          0.141003507049326,
          0.0453707735899449,
          1.20261273673594,
          0.191880988597645,
          0.272708122899098,
          -0.00515900288250983,
          0.0812129398830894,
          0.464959994783886,
          -0.0992543211289237,
          -1.41690724314928,
          -0.153825826253651,
          -0.75106271556262,
          0.16737196252175,
          0.0501435942254188,
          -0.443586797916727,
          0.00282051247234708,
          -0.61198733994012,
          -0.0455750446637976,
          -0.21963255278686,
          -0.167716265815783,
          -0.270709726172363,
          -0.154103786809305,
          -0.780055415004671,
          0.75013693580659,
          -0.257236845917139,
          0.0345074297438413,
          0.00516776890624916,
          4.99,
          0
         ],
         [
          7,
          -0.644269442348146,
          1.41796354547385,
          1.0743803763556,
          -0.492199018495015,
          0.948934094764157,
          0.428118462833089,
          1.12063135838353,
          -3.80786423873589,
          0.615374730667027,
          1.24937617815176,
          -0.619467796121913,
          0.291474353088705,
          1.75796421396042,
          -1.32386521970526,
          0.686132504394383,
          -0.0761269994382006,
          -1.2221273453247,
          -0.358221569869078,
          0.324504731321494,
          -0.156741852488285,
          1.94346533978412,
          -1.01545470979971,
          0.057503529867291,
          -0.649709005559993,
          -0.415266566234811,
          -0.0516342969262494,
          -1.20692108094258,
          -1.08533918832377,
          40.8,
          0
         ],
         [
          9,
          -0.33826175242575,
          1.11959337641566,
          1.04436655157316,
          -0.222187276738296,
          0.49936080649727,
          -0.24676110061991,
          0.651583206489972,
          0.0695385865186387,
          -0.736727316364109,
          -0.366845639206541,
          1.01761446783262,
          0.836389570307029,
          1.00684351373408,
          -0.443522816876142,
          0.150219101422635,
          0.739452777052119,
          -0.540979921943059,
          0.47667726004282,
          0.451772964394125,
          0.203711454727929,
          -0.246913936910008,
          -0.633752642406113,
          -0.12079408408185,
          -0.385049925313426,
          -0.0697330460416923,
          0.0941988339514961,
          0.246219304619926,
          0.0830756493473326,
          3.68,
          0
         ],
         [
          10,
          1.44904378114715,
          -1.17633882535966,
          0.913859832832795,
          -1.37566665499943,
          -1.97138316545323,
          -0.62915213889734,
          -1.4232356010359,
          0.0484558879088564,
          -1.72040839292037,
          1.62665905834133,
          1.1996439495421,
          -0.671439778462005,
          -0.513947152539479,
          -0.0950450453999549,
          0.230930409124119,
          0.0319674667862076,
          0.253414715863197,
          0.854343814324194,
          -0.221365413645481,
          -0.387226474431156,
          -0.00930189652490052,
          0.313894410791098,
          0.0277401580170247,
          0.500512287104917,
          0.25136735874921,
          -0.129477953726618,
          0.0428498709381461,
          0.0162532619375515,
          7.8,
          0
         ],
         [
          11,
          1.0693735878819,
          0.287722129331455,
          0.828612726634281,
          2.71252042961718,
          -0.178398016248009,
          0.337543730282968,
          -0.0967168617395962,
          0.115981735546597,
          -0.221082566236194,
          0.460230444301678,
          -0.773656930526689,
          0.32338724546722,
          -0.0110758870883779,
          -0.178485175177916,
          -0.65556427824926,
          -0.19992517131173,
          0.1240054151819,
          -0.980496201537345,
          -0.982916082135047,
          -0.153197231044512,
          -0.0368755317335273,
          0.0744124028162195,
          -0.0714074332998586,
          0.104743752596029,
          0.548264725394119,
          0.104094153162781,
          0.0214910583643189,
          0.021293311477486,
          27.5,
          0
         ],
         [
          12,
          -2.7918547659339,
          -0.327770756658658,
          1.64175016056605,
          1.76747274389883,
          -0.136588446465306,
          0.80759646826532,
          -0.422911389711497,
          -1.90710747624096,
          0.755712908314791,
          1.1510869876677,
          0.844555470974377,
          0.7929439518176,
          0.370448092803246,
          -0.734975105820311,
          0.406795710431001,
          -0.303057623825763,
          -0.155868714793874,
          0.778265457041536,
          2.22186801373788,
          -1.58212204356551,
          1.15166304848789,
          0.222181966098225,
          1.02058620426601,
          0.0283166513238872,
          -0.232746324289105,
          -0.23555721754117,
          -0.16477751177654,
          -0.0301536365592253,
          58.8,
          0
         ],
         [
          13,
          -0.436905071360625,
          0.918966212909322,
          0.92459077438817,
          -0.727219053596792,
          0.915678718106307,
          -0.127867352079254,
          0.707641607333935,
          0.0879623554672504,
          -0.66527135413364,
          -0.737979823596458,
          0.32409781346169,
          0.277192107214981,
          0.252624256310781,
          -0.291896460370468,
          -0.184520169327133,
          1.14317370716197,
          -0.92870926272403,
          0.680469592634687,
          0.0254364616880793,
          -0.0470212823165035,
          -0.194795823794671,
          -0.672637997017793,
          -0.156857514491897,
          -0.888386320943716,
          -0.342413218776576,
          -0.049026728633951,
          0.0796923991551505,
          0.131023789452311,
          0.89,
          0
         ]
        ]
       }
      }
     },
     "bf8b61b821bb445b815ae967a626364c": {
      "model_module": "@jupyter-widgets/base",
      "model_module_version": "*",
      "model_name": "LayoutModel",
      "state": {
       "_model_module_version": "*",
       "_view_module_version": "*"
      }
     },
     "c0b2e0b8205744d2acb0ac8c2fb439f5": {
      "model_module": "beakerx",
      "model_module_version": "*",
      "model_name": "TableDisplayModel",
      "state": {
       "layout": "IPY_MODEL_d30d967916a040d892f20b33aa28fdd9",
       "model": {
        "alignmentForColumn": {},
        "alignmentForType": {},
        "cellHighlighters": [],
        "columnNames": [
         "index",
         "label"
        ],
        "columnOrder": [],
        "columnsFrozen": {},
        "columnsFrozenRight": {},
        "columnsVisible": {},
        "contextMenuItems": [],
        "contextMenuTags": {},
        "fontColor": [],
        "hasDoubleClickAction": false,
        "headersVertical": false,
        "rendererForColumn": {},
        "rendererForType": {},
        "stringFormatForColumn": {},
        "stringFormatForTimes": "YYYY-MM-DD HH:mm:ss.SSS",
        "stringFormatForType": {},
        "subtype": "ListOfMaps",
        "tooManyRows": false,
        "tooltips": [],
        "type": "TableDisplay",
        "types": [
         "string",
         "double"
        ],
        "values": [
         [
          "label",
          "1.0"
         ],
         [
          "TIME_OFFSET",
          "0.8199775491239032"
         ],
         [
          "MACD_TRANS_CNT",
          "0.7979188355657916"
         ],
         [
          "ROLLING_AVG_DAILY_TRANS_AMNT",
          "0.792152475065862"
         ],
         [
          "ROLLING_AVG_DAILY_TRANS_CNT",
          "0.7162553829931259"
         ],
         [
          "EXPECTED_DAILY_TRANS_AMNT",
          "0.7110173452695222"
         ],
         [
          "ROLLING_AVG_WEEKLY_TRANS_AMNT",
          "0.7062439588603378"
         ],
         [
          "EXPECTED_DAILY_TRANS_CNT",
          "0.680427949989604"
         ],
         [
          "RSI_TRANS_CNT",
          "0.6598230104532696"
         ],
         [
          "AROON_TRANS_AMNT",
          "0.6509388786443531"
         ],
         [
          "ROLLING_AVG_WEEKLY_TRANS_CNT",
          "0.5763154578844797"
         ],
         [
          "EXPECTED_WEEKLY_TRANS_AMNT",
          "0.5507608312515064"
         ],
         [
          "DAILY_TRANS_CNT",
          "0.5463297188679818"
         ],
         [
          "AROON_TRANS_CNT",
          "0.48842992155438886"
         ],
         [
          "EXPECTED_WEEKLY_TRANS_CNT",
          "0.4593926809479069"
         ],
         [
          "WEEKLY_TRANS_CNT",
          "0.4056759796649794"
         ],
         [
          "WEEKLY_TRANS_AMNT",
          "0.3813058250293358"
         ],
         [
          "ADX_TRANS_CNT",
          "0.23148787052661735"
         ],
         [
          "ADX_TRANS_AMNT",
          "0.20250676117854272"
         ],
         [
          "CREDIT_SCORE",
          "0.17294162872393765"
         ],
         [
          "RSI_TRANS_AMNT",
          "0.16421369428080576"
         ],
         [
          "CREDIT_LIMIT",
          "0.1469032880576098"
         ],
         [
          "DAILY_TRANS_AMNT",
          "0.12533604208456156"
         ],
         [
          "ROLLING_AVG_BALANCE",
          "0.12125601574456332"
         ],
         [
          "AROON_BALANCE",
          "0.11425785575078234"
         ],
         [
          "CURRENT_BALANCE",
          "0.071372878204952"
         ],
         [
          "RSI_BALANCE",
          "0.07010621572012411"
         ],
         [
          "MACD_TRANS_AMNT",
          "0.055163030821122"
         ],
         [
          "MACD_BALANCE",
          "0.030288378267163137"
         ],
         [
          "ADX_BALANCE",
          "0.013153887664060513"
         ]
        ]
       }
      }
     },
     "c0eaa6189b0645e6961fcc65626c2e51": {
      "model_module": "beakerx",
      "model_module_version": "*",
      "model_name": "TableDisplayModel",
      "state": {
       "layout": "IPY_MODEL_538b5d85392342979fc90be33ffa7fd4",
       "model": {
        "alignmentForColumn": {},
        "alignmentForType": {},
        "cellHighlighters": [],
        "columnNames": [
         "model_id",
         "auc",
         "logloss",
         "aucpr",
         "mean_per_class_error",
         "rmse",
         "mse"
        ],
        "columnOrder": [],
        "columnsFrozen": {},
        "columnsFrozenRight": {},
        "columnsVisible": {},
        "contextMenuItems": [],
        "contextMenuTags": {},
        "fontColor": [],
        "hasDoubleClickAction": false,
        "headersVertical": false,
        "rendererForColumn": {},
        "rendererForType": {},
        "stringFormatForColumn": {},
        "stringFormatForTimes": "YYYY-MM-DD HH:mm:ss.SSS",
        "stringFormatForType": {},
        "subtype": "ListOfMaps",
        "tooManyRows": false,
        "tooltips": [],
        "type": "TableDisplay",
        "types": [
         "string",
         "double",
         "double",
         "double",
         "double",
         "double",
         "double"
        ],
        "values": [
         [
          "GLM_1_AutoML_20201201_160059",
          "0.9712859545890601",
          "0.005113243961548461",
          "0.6167620504658647",
          "0.10208337099375324",
          "0.03038992928176631",
          "0.0009235478017507574"
         ],
         [
          "DRF_1_AutoML_20201201_160059",
          "0.9499276679368912",
          "0.00825134406035135",
          "0.7366621736506003",
          "0.09290046039992238",
          "0.022692533803854102",
          "0.0005149510904390613"
         ],
         [
          "StackedEnsemble_BestOfFamily_AutoML_20201201_160059",
          "0.9402991214508504",
          "0.0036077521864906923",
          "0.7944033269529963",
          "0.07796483617665781",
          "0.0236248083056972",
          "0.0005581315674809393"
         ],
         [
          "StackedEnsemble_AllModels_AutoML_20201201_160059",
          "0.9400120201750336",
          "0.0036368977590519173",
          "0.7848700777824417",
          "0.08991218770003698",
          "0.02366837837933695",
          "0.0005601921351074649"
         ],
         [
          "GBM_1_AutoML_20201201_160059",
          "0.7937887010217218",
          "0.02500640224621829",
          "0.02101572122783524",
          "0.17981863612391144",
          "0.03312936835791313",
          "0.0010975550477942957"
         ],
         [
          "GBM_4_AutoML_20201201_160059",
          "0.7607318793696253",
          "0.0340174934550907",
          "0.013059595551817285",
          "0.16495188321459675",
          "0.037115379287947496",
          "0.0013775513796882015"
         ],
         [
          "GBM_2_AutoML_20201201_160059",
          "0.75112206285669",
          "0.03896934324678002",
          "0.004528616084188774",
          "0.16502075452854664",
          "0.037818555652197966",
          "0.0014302431516183946"
         ],
         [
          "GBM_3_AutoML_20201201_160059",
          "0.7478468607156031",
          "0.03246810281844032",
          "0.024456918383810325",
          "0.17693940967111335",
          "0.03661407987829813",
          "0.0013405908453343958"
         ]
        ]
       }
      }
     },
     "c29f1151f2dc4167bd5120544aee3ebc": {
      "model_module": "@jupyter-widgets/base",
      "model_module_version": "*",
      "model_name": "LayoutModel",
      "state": {
       "_model_module_version": "*",
       "_view_module_version": "*"
      }
     },
     "c2c58724-b856-482f-8fde-48582385397d": {
      "model_module": "beakerx",
      "model_module_version": "*",
      "model_name": "TableDisplayModel",
      "state": {
       "model": {
        "alignmentForColumn": {},
        "alignmentForType": {},
        "cellHighlighters": [],
        "columnNames": [
         "CUR_USER",
         "EVAL_TIME",
         "RUN_ID",
         "CREDIT_SCORE",
         "PREDICTION",
         "no_fraud",
         "fraud"
        ],
        "columnOrder": [],
        "columnsFrozen": {},
        "columnsFrozenRight": {},
        "columnsVisible": {},
        "contextMenuItems": [],
        "contextMenuTags": {},
        "fontColor": [],
        "hasDoubleClickAction": false,
        "headersVertical": false,
        "rendererForColumn": {},
        "rendererForType": {},
        "stringFormatForColumn": {},
        "stringFormatForType": {},
        "subtype": "TableDisplay",
        "timeZone": "UTC",
        "tooManyRows": false,
        "tooltips": [],
        "type": "TableDisplay",
        "types": [
         "java.lang.String",
         "java.sql.Timestamp",
         "java.lang.String",
         "java.lang.Double",
         "java.lang.String",
         "java.lang.Double",
         "java.lang.Double"
        ],
        "values": [
         [
          "SPLICE",
          {
           "timestamp": 1605186341905,
           "type": "Date"
          },
          "9a815a3cfcbf",
          2.273,
          "no_fraud",
          0.9993298386258003,
          0.0006701613741997405
         ],
         [
          "SPLICE",
          {
           "timestamp": 1605186342115,
           "type": "Date"
          },
          "9a815a3cfcbf",
          -2.38,
          "no_fraud",
          0.9936315042465407,
          0.006368495753459417
         ]
        ]
       }
      }
     },
     "c3557995ac2c446cbb5f00fa1e06ad90": {
      "model_module": "@jupyter-widgets/base",
      "model_module_version": "*",
      "model_name": "LayoutModel",
      "state": {
       "_model_module_version": "*",
       "_view_module_version": "*"
      }
     },
     "c5163734cf994ee687c638f112bfb2f1": {
      "model_module": "@jupyter-widgets/base",
      "model_module_version": "*",
      "model_name": "LayoutModel",
      "state": {
       "_model_module_version": "*",
       "_view_module_version": "*"
      }
     },
     "c694ec7d75104c06a41fb2fd32e31a4b": {
      "model_module": "@jupyter-widgets/base",
      "model_module_version": "*",
      "model_name": "LayoutModel",
      "state": {
       "_model_module_version": "*",
       "_view_module_version": "*"
      }
     },
     "c85a263e-a1f0-487e-8779-cbccabd64bd0": {
      "model_module": "@jupyter-widgets/base",
      "model_module_version": "*",
      "model_name": "LayoutModel",
      "state": {
       "_model_module_version": "*",
       "_view_module_version": "*",
       "align_content": "",
       "align_self": "",
       "border": "",
       "bottom": "",
       "flex": "",
       "height": "",
       "justify_content": "",
       "left": "",
       "margin": "",
       "max_height": "",
       "max_width": "",
       "min_height": "",
       "min_width": "",
       "msg_throttle": 3,
       "overflow": "",
       "overflow_x": "",
       "overflow_y": "",
       "padding": "",
       "right": "",
       "top": ""
      }
     },
     "c95ba7b0-4a38-4e1e-90b3-1d75c2ba4326": {
      "model_module": "beakerx",
      "model_module_version": "*",
      "model_name": "TableDisplayModel",
      "state": {
       "model": {
        "alignmentForColumn": {},
        "alignmentForType": {},
        "cellHighlighters": [],
        "columnNames": [
         "CUR_USER",
         "EVAL_TIME",
         "RUN_ID",
         "TIME_OFFSET",
         "EXPECTED_WEEKLY_TRANS_CNT",
         "EXPECTED_WEEKLY_TRANS_AMNT",
         "EXPECTED_DAILY_TRANS_CNT",
         "EXPECTED_DAILY_TRANS_AMNT",
         "WEEKLY_TRANS_CNT",
         "WEEKLY_TRANS_AMNT",
         "DAILY_TRANS_CNT",
         "DAILY_TRANS_AMNT",
         "ROLLING_AVG_WEEKLY_TRANS_CNT",
         "ROLLING_AVG_WEEKLY_TRANS_AMNT",
         "ROLLING_AVG_DAILY_TRANS_CNT",
         "ROLLING_AVG_DAILY_TRANS_AMNT",
         "MACD_TRANS_AMNT",
         "MACD_TRANS_CNT",
         "RSI_TRANS_AMNT",
         "RSI_TRANS_CNT",
         "AROON_TRANS_AMNT",
         "AROON_TRANS_CNT",
         "ADX_TRANS_AMNT",
         "ADX_TRANS_CNT",
         "CURRENT_BALANCE",
         "ROLLING_AVG_BALANCE",
         "MACD_BALANCE",
         "AROON_BALANCE",
         "RSI_BALANCE",
         "ADX_BALANCE",
         "CREDIT_SCORE",
         "CREDIT_LIMIT",
         "AMOUNT",
         "MOMENT_KEY",
         "PREDICTION",
         "no_fraud",
         "fraud"
        ],
        "columnOrder": [],
        "columnsFrozen": {},
        "columnsFrozenRight": {},
        "columnsVisible": {},
        "contextMenuItems": [],
        "contextMenuTags": {},
        "fontColor": [],
        "hasDoubleClickAction": false,
        "headersVertical": false,
        "rendererForColumn": {},
        "rendererForType": {},
        "stringFormatForColumn": {},
        "stringFormatForType": {},
        "subtype": "TableDisplay",
        "timeZone": "UTC",
        "tooManyRows": false,
        "tooltips": [],
        "type": "TableDisplay",
        "types": [
         "java.lang.String",
         "java.sql.Timestamp",
         "java.lang.String",
         "java.lang.Integer",
         "java.lang.Double",
         "java.lang.Double",
         "java.lang.Double",
         "java.lang.Double",
         "java.lang.Double",
         "java.lang.Double",
         "java.lang.Double",
         "java.lang.Double",
         "java.lang.Double",
         "java.lang.Double",
         "java.lang.Double",
         "java.lang.Double",
         "java.lang.Double",
         "java.lang.Double",
         "java.lang.Double",
         "java.lang.Double",
         "java.lang.Double",
         "java.lang.Double",
         "java.lang.Double",
         "java.lang.Double",
         "java.lang.Double",
         "java.lang.Double",
         "java.lang.Double",
         "java.lang.Double",
         "java.lang.Double",
         "java.lang.Double",
         "java.lang.Double",
         "java.lang.Double",
         "java.math.BigDecimal",
         "java.lang.Integer",
         "java.lang.String",
         "java.lang.Double",
         "java.lang.Double"
        ],
        "values": [
         [
          "SPLICE",
          {
           "timestamp": 1605186341905,
           "type": "Date"
          },
          "9a815a3cfcbf",
          0,
          7.768,
          2.566,
          2.496,
          7.43,
          2.488,
          8.762,
          9.601,
          5.847,
          4.957,
          7.979,
          4.957,
          2.281,
          9.715,
          4.086,
          7.222,
          5.017,
          3.844,
          9.683,
          6.43,
          1.439,
          5.908,
          3.563,
          1.116,
          7.097,
          8.717,
          0.06,
          2.273,
          4.846,
          10000,
          5,
          "no_fraud",
          0.9993298386258003,
          0.0006701613741997405
         ],
         [
          "SPLICE",
          {
           "timestamp": 1605186342115,
           "type": "Date"
          },
          "9a815a3cfcbf",
          1,
          -5.577,
          -9.337,
          -7.048,
          -0.761,
          -2.862,
          -3.333,
          -7.063,
          -5.609,
          -2.905,
          -8.311,
          -3.427,
          -7.309,
          -0.231,
          -3.197,
          -0.681,
          -6.836,
          -3.565,
          -4.843,
          -5.158,
          -0.268,
          -5.082,
          -1.777,
          -1.195,
          -3.64,
          -2.74,
          -5.08,
          -2.38,
          -8.941,
          9284,
          6,
          "no_fraud",
          0.9936315042465407,
          0.006368495753459417
         ]
        ]
       }
      }
     },
     "c97e6b2d536740cda30c700fb2f5d294": {
      "model_module": "beakerx",
      "model_module_version": "*",
      "model_name": "TableDisplayModel",
      "state": {
       "layout": "IPY_MODEL_ef01038194c247f88958c249e23fa404",
       "model": {
        "alignmentForColumn": {},
        "alignmentForType": {},
        "cellHighlighters": [],
        "columnNames": [
         "metric",
         "threshold",
         "value",
         "idx"
        ],
        "columnOrder": [],
        "columnsFrozen": {},
        "columnsFrozenRight": {},
        "columnsVisible": {},
        "contextMenuItems": [],
        "contextMenuTags": {},
        "fontColor": [],
        "hasDoubleClickAction": false,
        "headersVertical": false,
        "rendererForColumn": {},
        "rendererForType": {},
        "stringFormatForColumn": {},
        "stringFormatForTimes": "YYYY-MM-DD HH:mm:ss.SSS",
        "stringFormatForType": {},
        "subtype": "ListOfMaps",
        "tooManyRows": false,
        "tooltips": [],
        "type": "TableDisplay",
        "types": [
         "string",
         "double",
         "double",
         "double"
        ],
        "values": [
         [
          "max f1",
          "0.06960809165702636",
          "0.7768115942028985",
          "137.0"
         ],
         [
          "max f2",
          "0.030245823218128354",
          "0.8200455580865604",
          "161.0"
         ],
         [
          "max f0point5",
          "0.33639653431367045",
          "0.789865871833085",
          "89.0"
         ],
         [
          "max accuracy",
          "0.06960809165702636",
          "0.9991178424947873",
          "137.0"
         ],
         [
          "max precision",
          "0.999963635077086",
          "1.0",
          "0.0"
         ],
         [
          "max recall",
          "0.00019402639432364294",
          "1.0",
          "386.0"
         ],
         [
          "max specificity",
          "0.999963635077086",
          "1.0",
          "0.0"
         ],
         [
          "max absolute_mcc",
          "0.06960809165702636",
          "0.776766584808582",
          "137.0"
         ],
         [
          "max min_per_class_accuracy",
          "0.001234851918857327",
          "0.9341317365269461",
          "303.0"
         ],
         [
          "max mean_per_class_accuracy",
          "0.004841211842234776",
          "0.9477282192235783",
          "237.0"
         ],
         [
          "max tns",
          "0.999963635077086",
          "87119.0",
          "0.0"
         ],
         [
          "max fns",
          "0.999963635077086",
          "147.0",
          "0.0"
         ],
         [
          "max fps",
          "1.0368342076214282e-05",
          "87119.0",
          "399.0"
         ],
         [
          "max tps",
          "0.00019402639432364294",
          "167.0",
          "386.0"
         ],
         [
          "max tnr",
          "0.999963635077086",
          "1.0",
          "0.0"
         ],
         [
          "max fnr",
          "0.999963635077086",
          "0.8802395209580839",
          "0.0"
         ],
         [
          "max fpr",
          "1.0368342076214282e-05",
          "1.0",
          "399.0"
         ],
         [
          "max tpr",
          "0.00019402639432364294",
          "1.0",
          "386.0"
         ]
        ]
       }
      }
     },
     "cd50ff95-bc40-4c71-99ab-32aedc2abcea": {
      "model_module": "@jupyter-widgets/base",
      "model_module_version": "*",
      "model_name": "LayoutModel",
      "state": {
       "_model_module_version": "*",
       "_view_module_version": "*",
       "align_content": "",
       "align_self": "",
       "border": "",
       "bottom": "",
       "flex": "",
       "height": "",
       "justify_content": "",
       "left": "",
       "margin": "",
       "max_height": "",
       "max_width": "",
       "min_height": "",
       "min_width": "",
       "msg_throttle": 3,
       "overflow": "",
       "overflow_x": "",
       "overflow_y": "",
       "padding": "",
       "right": "",
       "top": ""
      }
     },
     "d0eb802f8cd843d788913d052ec36fda": {
      "model_module": "@jupyter-widgets/controls",
      "model_module_version": "1.5.0",
      "model_name": "HTMLModel",
      "state": {
       "layout": "IPY_MODEL_61289ea1fb5546d7a8b5daa015ff4d80",
       "style": "IPY_MODEL_f8c773dbb6384583b807aae20551b4d0",
       "value": " 8/? [00:28&lt;00:00,  3.59s/it]"
      }
     },
     "d1c1e0dfad5744e9b0ee8f5a17bace20": {
      "model_module": "@jupyter-widgets/controls",
      "model_module_version": "1.5.0",
      "model_name": "FloatProgressModel",
      "state": {
       "bar_style": "success",
       "description": "100%",
       "layout": "IPY_MODEL_9f73253de351440fbc2a03d55e599b3f",
       "max": 2,
       "style": "IPY_MODEL_33af46b4aeca40dca8f301c411ae0775",
       "value": 2
      }
     },
     "d30d967916a040d892f20b33aa28fdd9": {
      "model_module": "@jupyter-widgets/base",
      "model_module_version": "*",
      "model_name": "LayoutModel",
      "state": {
       "_model_module_version": "*",
       "_view_module_version": "*"
      }
     },
     "d3f61294051441f49a61fbab004fd6b3": {
      "model_module": "@jupyter-widgets/base",
      "model_module_version": "*",
      "model_name": "LayoutModel",
      "state": {
       "_model_module_version": "*",
       "_view_module_version": "*"
      }
     },
     "d6c684e2623347cca63fb164ac6f86f1": {
      "model_module": "@jupyter-widgets/base",
      "model_module_version": "1.2.0",
      "model_name": "LayoutModel",
      "state": {}
     },
     "d83264f9-80a3-4766-91b6-816ae0660800": {
      "model_module": "@jupyter-widgets/base",
      "model_module_version": "*",
      "model_name": "LayoutModel",
      "state": {
       "_model_module_version": "*",
       "_view_module_version": "*",
       "align_content": "",
       "align_self": "",
       "border": "",
       "bottom": "",
       "flex": "",
       "height": "",
       "justify_content": "",
       "left": "",
       "margin": "",
       "max_height": "",
       "max_width": "",
       "min_height": "",
       "min_width": "",
       "msg_throttle": 3,
       "overflow": "",
       "overflow_x": "",
       "overflow_y": "",
       "padding": "",
       "right": "",
       "top": ""
      }
     },
     "dc9459ffb2c54513bdb312ae47087228": {
      "model_module": "beakerx",
      "model_module_version": "*",
      "model_name": "TableDisplayModel",
      "state": {
       "layout": "IPY_MODEL_a9a1392cd8414ea8b3dac910adacae90",
       "model": {
        "alignmentForColumn": {},
        "alignmentForType": {},
        "cellHighlighters": [],
        "columnNames": [
         "TIME_OFFSET",
         "EXPECTED_WEEKLY_TRANS_CNT",
         "EXPECTED_WEEKLY_TRANS_AMNT",
         "EXPECTED_DAILY_TRANS_CNT",
         "EXPECTED_DAILY_TRANS_AMNT",
         "WEEKLY_TRANS_CNT",
         "WEEKLY_TRANS_AMNT",
         "DAILY_TRANS_CNT",
         "DAILY_TRANS_AMNT",
         "ROLLING_AVG_WEEKLY_TRANS_CNT",
         "ROLLING_AVG_WEEKLY_TRANS_AMNT",
         "ROLLING_AVG_DAILY_TRANS_CNT",
         "ROLLING_AVG_DAILY_TRANS_AMNT",
         "MACD_TRANS_AMNT",
         "MACD_TRANS_CNT",
         "RSI_TRANS_AMNT",
         "RSI_TRANS_CNT",
         "AROON_TRANS_AMNT",
         "AROON_TRANS_CNT",
         "ADX_TRANS_AMNT",
         "ADX_TRANS_CNT",
         "CURRENT_BALANCE",
         "ROLLING_AVG_BALANCE",
         "MACD_BALANCE",
         "AROON_BALANCE",
         "RSI_BALANCE",
         "ADX_BALANCE",
         "CREDIT_SCORE",
         "CREDIT_LIMIT",
         "AMOUNT",
         "label"
        ],
        "columnOrder": [],
        "columnsFrozen": {},
        "columnsFrozenRight": {},
        "columnsVisible": {},
        "contextMenuItems": [],
        "contextMenuTags": {},
        "fontColor": [],
        "hasDoubleClickAction": false,
        "headersVertical": false,
        "rendererForColumn": {},
        "rendererForType": {},
        "stringFormatForColumn": {},
        "stringFormatForTimes": "YYYY-MM-DD HH:mm:ss.SSS",
        "stringFormatForType": {},
        "subtype": "ListOfMaps",
        "tooManyRows": false,
        "tooltips": [],
        "type": "TableDisplay",
        "types": [
         "integer",
         "double",
         "double",
         "double",
         "double",
         "double",
         "double",
         "double",
         "double",
         "double",
         "double",
         "double",
         "double",
         "double",
         "double",
         "double",
         "double",
         "double",
         "double",
         "double",
         "double",
         "double",
         "double",
         "double",
         "double",
         "double",
         "double",
         "double",
         "double",
         "string",
         "integer"
        ],
        "values": [
         [
          "0",
          "-1.3598071336738",
          "-0.0727811733098497",
          "2.53634673796914",
          "1.37815522427443",
          "-0.338320769942518",
          "0.462387777762292",
          "0.239598554061257",
          "0.0986979012610507",
          "0.363786969611213",
          "0.0907941719789316",
          "-0.551599533260813",
          "-0.617800855762348",
          "-0.991389847235408",
          "-0.311169353699879",
          "1.46817697209427",
          "-0.470400525259478",
          "0.207971241929242",
          "0.0257905801985591",
          "0.403992960255733",
          "0.251412098239705",
          "-0.018306777944153",
          "0.277837575558899",
          "-0.110473910188767",
          "0.0669280749146731",
          "0.128539358273528",
          "-0.189114843888824",
          "0.133558376740387",
          "-0.0210530534538215",
          "149.62",
          "0"
         ],
         [
          "1",
          "-1.35835406159823",
          "-1.34016307473609",
          "1.77320934263119",
          "0.379779593034328",
          "-0.503198133318193",
          "1.80049938079263",
          "0.791460956450422",
          "0.247675786588991",
          "-1.51465432260583",
          "0.207642865216696",
          "0.624501459424895",
          "0.066083685268831",
          "0.717292731410831",
          "-0.165945922763554",
          "2.34586494901581",
          "-2.89008319444231",
          "1.10996937869599",
          "-0.121359313195888",
          "-2.26185709530414",
          "0.524979725224404",
          "0.247998153469754",
          "0.771679401917229",
          "0.909412262347719",
          "-0.689280956490685",
          "-0.327641833735251",
          "-0.139096571514147",
          "-0.0553527940384261",
          "-0.0597518405929204",
          "378.66",
          "0"
         ],
         [
          "2",
          "-1.15823309349523",
          "0.877736754848451",
          "1.548717846511",
          "0.403033933955121",
          "-0.407193377311653",
          "0.0959214624684256",
          "0.592940745385545",
          "-0.270532677192282",
          "0.817739308235294",
          "0.753074431976354",
          "-0.822842877946363",
          "0.53819555014995",
          "1.3458515932154",
          "-1.11966983471731",
          "0.175121130008994",
          "-0.451449182813529",
          "-0.237033239362776",
          "-0.0381947870352842",
          "0.803486924960175",
          "0.408542360392758",
          "-0.00943069713232919",
          "0.79827849458971",
          "-0.137458079619063",
          "0.141266983824769",
          "-0.206009587619756",
          "0.502292224181569",
          "0.219422229513348",
          "0.215153147499206",
          "69.99",
          "0"
         ],
         [
          "4",
          "1.22965763450793",
          "0.141003507049326",
          "0.0453707735899449",
          "1.20261273673594",
          "0.191880988597645",
          "0.272708122899098",
          "-0.00515900288250983",
          "0.0812129398830894",
          "0.464959994783886",
          "-0.0992543211289237",
          "-1.41690724314928",
          "-0.153825826253651",
          "-0.75106271556262",
          "0.16737196252175",
          "0.0501435942254188",
          "-0.443586797916727",
          "0.00282051247234708",
          "-0.61198733994012",
          "-0.0455750446637976",
          "-0.21963255278686",
          "-0.167716265815783",
          "-0.270709726172363",
          "-0.154103786809305",
          "-0.780055415004671",
          "0.75013693580659",
          "-0.257236845917139",
          "0.0345074297438413",
          "0.00516776890624916",
          "4.99",
          "0"
         ],
         [
          "7",
          "-0.644269442348146",
          "1.41796354547385",
          "1.0743803763556",
          "-0.492199018495015",
          "0.948934094764157",
          "0.428118462833089",
          "1.12063135838353",
          "-3.80786423873589",
          "0.615374730667027",
          "1.24937617815176",
          "-0.619467796121913",
          "0.291474353088705",
          "1.75796421396042",
          "-1.32386521970526",
          "0.686132504394383",
          "-0.0761269994382006",
          "-1.2221273453247",
          "-0.358221569869078",
          "0.324504731321494",
          "-0.156741852488285",
          "1.94346533978412",
          "-1.01545470979971",
          "0.057503529867291",
          "-0.649709005559993",
          "-0.415266566234811",
          "-0.0516342969262494",
          "-1.20692108094258",
          "-1.08533918832377",
          "40.80",
          "0"
         ],
         [
          "9",
          "-0.33826175242575",
          "1.11959337641566",
          "1.04436655157316",
          "-0.222187276738296",
          "0.49936080649727",
          "-0.24676110061991",
          "0.651583206489972",
          "0.0695385865186387",
          "-0.736727316364109",
          "-0.366845639206541",
          "1.01761446783262",
          "0.836389570307029",
          "1.00684351373408",
          "-0.443522816876142",
          "0.150219101422635",
          "0.739452777052119",
          "-0.540979921943059",
          "0.47667726004282",
          "0.451772964394125",
          "0.203711454727929",
          "-0.246913936910008",
          "-0.633752642406113",
          "-0.12079408408185",
          "-0.385049925313426",
          "-0.0697330460416923",
          "0.0941988339514961",
          "0.246219304619926",
          "0.0830756493473326",
          "3.68",
          "0"
         ],
         [
          "10",
          "1.44904378114715",
          "-1.17633882535966",
          "0.913859832832795",
          "-1.37566665499943",
          "-1.97138316545323",
          "-0.62915213889734",
          "-1.4232356010359",
          "0.0484558879088564",
          "-1.72040839292037",
          "1.62665905834133",
          "1.1996439495421",
          "-0.671439778462005",
          "-0.513947152539479",
          "-0.0950450453999549",
          "0.230930409124119",
          "0.0319674667862076",
          "0.253414715863197",
          "0.854343814324194",
          "-0.221365413645481",
          "-0.387226474431156",
          "-0.00930189652490052",
          "0.313894410791098",
          "0.0277401580170247",
          "0.500512287104917",
          "0.25136735874921",
          "-0.129477953726618",
          "0.0428498709381461",
          "0.0162532619375515",
          "7.80",
          "0"
         ],
         [
          "11",
          "1.0693735878819",
          "0.287722129331455",
          "0.828612726634281",
          "2.71252042961718",
          "-0.178398016248009",
          "0.337543730282968",
          "-0.0967168617395962",
          "0.115981735546597",
          "-0.221082566236194",
          "0.460230444301678",
          "-0.773656930526689",
          "0.32338724546722",
          "-0.0110758870883779",
          "-0.178485175177916",
          "-0.65556427824926",
          "-0.19992517131173",
          "0.1240054151819",
          "-0.980496201537345",
          "-0.982916082135047",
          "-0.153197231044512",
          "-0.0368755317335273",
          "0.0744124028162195",
          "-0.0714074332998586",
          "0.104743752596029",
          "0.548264725394119",
          "0.104094153162781",
          "0.0214910583643189",
          "0.021293311477486",
          "27.50",
          "0"
         ],
         [
          "12",
          "-2.7918547659339",
          "-0.327770756658658",
          "1.64175016056605",
          "1.76747274389883",
          "-0.136588446465306",
          "0.80759646826532",
          "-0.422911389711497",
          "-1.90710747624096",
          "0.755712908314791",
          "1.1510869876677",
          "0.844555470974377",
          "0.7929439518176",
          "0.370448092803246",
          "-0.734975105820311",
          "0.406795710431001",
          "-0.303057623825763",
          "-0.155868714793874",
          "0.778265457041536",
          "2.22186801373788",
          "-1.58212204356551",
          "1.15166304848789",
          "0.222181966098225",
          "1.02058620426601",
          "0.0283166513238872",
          "-0.232746324289105",
          "-0.23555721754117",
          "-0.16477751177654",
          "-0.0301536365592253",
          "58.80",
          "0"
         ],
         [
          "13",
          "-0.436905071360625",
          "0.918966212909322",
          "0.92459077438817",
          "-0.727219053596792",
          "0.915678718106307",
          "-0.127867352079254",
          "0.707641607333935",
          "0.0879623554672504",
          "-0.66527135413364",
          "-0.737979823596458",
          "0.32409781346169",
          "0.277192107214981",
          "0.252624256310781",
          "-0.291896460370468",
          "-0.184520169327133",
          "1.14317370716197",
          "-0.92870926272403",
          "0.680469592634687",
          "0.0254364616880793",
          "-0.0470212823165035",
          "-0.194795823794671",
          "-0.672637997017793",
          "-0.156857514491897",
          "-0.888386320943716",
          "-0.342413218776576",
          "-0.049026728633951",
          "0.0796923991551505",
          "0.131023789452311",
          "0.89",
          "0"
         ]
        ]
       }
      }
     },
     "e27ed8c528f8457293f73ff82f317b62": {
      "model_module": "beakerx",
      "model_module_version": "*",
      "model_name": "TableDisplayModel",
      "state": {
       "layout": "IPY_MODEL_c29f1151f2dc4167bd5120544aee3ebc",
       "model": {
        "alignmentForColumn": {},
        "alignmentForType": {},
        "cellHighlighters": [],
        "columnNames": [
         "",
         "0",
         "1",
         "Error",
         "Rate"
        ],
        "columnOrder": [],
        "columnsFrozen": {},
        "columnsFrozenRight": {},
        "columnsVisible": {},
        "contextMenuItems": [],
        "contextMenuTags": {},
        "fontColor": [],
        "hasDoubleClickAction": false,
        "headersVertical": false,
        "rendererForColumn": {},
        "rendererForType": {},
        "stringFormatForColumn": {},
        "stringFormatForTimes": "YYYY-MM-DD HH:mm:ss.SSS",
        "stringFormatForType": {},
        "subtype": "ListOfMaps",
        "tooManyRows": false,
        "tooltips": [],
        "type": "TableDisplay",
        "types": [
         "string",
         "double",
         "double",
         "string",
         "string"
        ],
        "values": [
         [
          "0",
          "87069.0",
          "50.0",
          "0.0006",
          " (50.0/87119.0)"
         ],
         [
          "1",
          "34.0",
          "133.0",
          "0.2036",
          " (34.0/167.0)"
         ],
         [
          "Total",
          "87103.0",
          "183.0",
          "0.001",
          " (84.0/87286.0)"
         ]
        ]
       }
      }
     },
     "e56a2e7d3683491ab5c29f5ffe8b5fea": {
      "model_module": "beakerx",
      "model_module_version": "*",
      "model_name": "TableDisplayModel",
      "state": {
       "layout": "IPY_MODEL_84d78ad4b34c4521b63d2e4aa9173deb",
       "model": {
        "alignmentForColumn": {},
        "alignmentForType": {},
        "cellHighlighters": [],
        "columnNames": [
         "",
         "mean",
         "sd",
         "cv_1_valid",
         "cv_2_valid",
         "cv_3_valid",
         "cv_4_valid",
         "cv_5_valid"
        ],
        "columnOrder": [],
        "columnsFrozen": {},
        "columnsFrozenRight": {},
        "columnsVisible": {},
        "contextMenuItems": [],
        "contextMenuTags": {},
        "fontColor": [],
        "hasDoubleClickAction": false,
        "headersVertical": false,
        "rendererForColumn": {},
        "rendererForType": {},
        "stringFormatForColumn": {},
        "stringFormatForTimes": "YYYY-MM-DD HH:mm:ss.SSS",
        "stringFormatForType": {},
        "subtype": "ListOfMaps",
        "tooManyRows": false,
        "tooltips": [],
        "type": "TableDisplay",
        "types": [
         "string",
         "string",
         "string",
         "string",
         "string",
         "string",
         "string",
         "string"
        ],
        "values": [
         [
          "accuracy",
          "0.9990949",
          "2.6063126E-4",
          "0.99925536",
          "0.99936986",
          "0.9986825",
          "0.99908346",
          "0.99908346"
         ],
         [
          "auc",
          "0.9718986",
          "0.010574738",
          "0.9665272",
          "0.96933734",
          "0.96255904",
          "0.9899021",
          "0.97116727"
         ],
         [
          "aucpr",
          "0.6409282",
          "0.06987623",
          "0.6886176",
          "0.6693633",
          "0.62834275",
          "0.6936303",
          "0.52468705"
         ],
         [
          "err",
          "9.0507255E-4",
          "2.6063126E-4",
          "7.4464426E-4",
          "6.301197E-4",
          "0.0013175231",
          "9.1653777E-4",
          "9.1653777E-4"
         ],
         [
          "err_count",
          "15.8",
          "4.549725",
          "13.0",
          "11.0",
          "23.0",
          "16.0",
          "16.0"
         ],
         [
          "f0point5",
          "0.76126444",
          "0.04761212",
          "0.80128205",
          "0.7936508",
          "0.6818182",
          "0.7711443",
          "0.75842696"
         ],
         [
          "f1",
          "0.77716756",
          "0.02200063",
          "0.7936508",
          "0.78431374",
          "0.74157304",
          "0.7948718",
          "0.7714286"
         ],
         [
          "f2",
          "0.79583097",
          "0.019472279",
          "0.7861635",
          "0.7751938",
          "0.81280786",
          "0.8201058",
          "0.78488374"
         ],
         [
          "lift_top_group",
          "88.3695",
          "1.9494947",
          "87.29",
          "88.24418",
          "86.62872",
          "91.6661",
          "88.018486"
         ],
         [
          "logloss",
          "0.0050443206",
          "0.0013855493",
          "0.0041210116",
          "0.0033329611",
          "0.005340788",
          "0.0054798503",
          "0.0069469917"
         ],
         [
          "max_per_class_error",
          "0.18982854",
          "0.041619584",
          "0.21875",
          "0.23076923",
          "0.13157895",
          "0.16216215",
          "0.20588236"
         ],
         [
          "mcc",
          "0.7786558",
          "0.019126132",
          "0.79337823",
          "0.7841495",
          "0.7490005",
          "0.79546505",
          "0.7712859"
         ],
         [
          "mean_per_class_accuracy",
          "0.9048102",
          "0.020671457",
          "0.89045286",
          "0.88447195",
          "0.9336938",
          "0.9186319",
          "0.8968005"
         ],
         [
          "mean_per_class_error",
          "0.09518978",
          "0.020671457",
          "0.10954715",
          "0.11552804",
          "0.06630615",
          "0.08136811",
          "0.10319945"
         ],
         [
          "mse",
          "9.4452227E-4",
          "2.23663E-4",
          "7.8945584E-4",
          "6.352611E-4",
          "0.0010256973",
          "0.0011216054",
          "0.0011505919"
         ],
         [
          "null_deviance",
          "485.1386",
          "59.533382",
          "467.35034",
          "393.12747",
          "542.7616",
          "530.1058",
          "492.3478"
         ],
         [
          "pr_auc",
          "0.6409282",
          "0.06987623",
          "0.6886176",
          "0.6693633",
          "0.62834275",
          "0.6936303",
          "0.52468705"
         ],
         [
          "precision",
          "0.7519216",
          "0.063840404",
          "0.8064516",
          "0.8",
          "0.64705884",
          "0.75609756",
          "0.75"
         ],
         [
          "r2",
          "0.50937897",
          "0.07017313",
          "0.5685116",
          "0.57283485",
          "0.5277721",
          "0.46969047",
          "0.40808594"
         ],
         [
          "recall",
          "0.8101715",
          "0.041619584",
          "0.78125",
          "0.7692308",
          "0.8684211",
          "0.8378378",
          "0.7941176"
         ]
        ]
       }
      }
     },
     "e62ce7509c8c48378cb26074f23e2db2": {
      "model_module": "@jupyter-widgets/controls",
      "model_module_version": "1.5.0",
      "model_name": "ProgressStyleModel",
      "state": {
       "description_width": "initial"
      }
     },
     "eb55fd94277f4d688e42d7bea30a217c": {
      "model_module": "@jupyter-widgets/base",
      "model_module_version": "1.2.0",
      "model_name": "LayoutModel",
      "state": {}
     },
     "ec6e3512-8ac1-4efe-8cbf-84678be6cfe0": {
      "model_module": "beakerx",
      "model_module_version": "*",
      "model_name": "TableDisplayModel",
      "state": {
       "model": {
        "alignmentForColumn": {},
        "alignmentForType": {},
        "cellHighlighters": [],
        "columnNames": [
         "Key",
         "Value"
        ],
        "columnOrder": [],
        "columnsFrozen": {},
        "columnsFrozenRight": {},
        "columnsVisible": {},
        "contextMenuItems": [],
        "contextMenuTags": {},
        "fontColor": [],
        "hasDoubleClickAction": false,
        "headersVertical": false,
        "rendererForColumn": {},
        "rendererForType": {},
        "stringFormatForColumn": {},
        "stringFormatForType": {},
        "subtype": "Dictionary",
        "timeZone": "UTC",
        "tooManyRows": false,
        "tooltips": [],
        "type": "TableDisplay",
        "types": [],
        "values": [
         [
          "CUR_USER",
          "SPLICE"
         ],
         [
          "EVAL_TIME",
          {
           "timestamp": 1605186342115,
           "type": "Date"
          }
         ],
         [
          "RUN_ID",
          "9a815a3cfcbf"
         ],
         [
          "CREDIT_SCORE",
          -2.38
         ],
         [
          "PREDICTION",
          "no_fraud"
         ],
         [
          "no_fraud",
          6
         ],
         [
          "fraud",
          0.006368495753459417
         ]
        ]
       }
      }
     },
     "ed853bf8bf9f44c6a005afa61d6c1e89": {
      "model_module": "beakerx",
      "model_module_version": "*",
      "model_name": "TableDisplayModel",
      "state": {
       "layout": "IPY_MODEL_1a3610d08c4a4e1887227d2056d008d9",
       "model": {
        "alignmentForColumn": {},
        "alignmentForType": {},
        "cellHighlighters": [],
        "columnNames": [
         "",
         "group",
         "cumulative_data_fraction",
         "lower_threshold",
         "lift",
         "cumulative_lift",
         "response_rate",
         "score",
         "cumulative_response_rate",
         "cumulative_score",
         "capture_rate",
         "cumulative_capture_rate",
         "gain",
         "cumulative_gain"
        ],
        "columnOrder": [],
        "columnsFrozen": {},
        "columnsFrozenRight": {},
        "columnsVisible": {},
        "contextMenuItems": [],
        "contextMenuTags": {},
        "fontColor": [],
        "hasDoubleClickAction": false,
        "headersVertical": false,
        "rendererForColumn": {},
        "rendererForType": {},
        "stringFormatForColumn": {},
        "stringFormatForTimes": "YYYY-MM-DD HH:mm:ss.SSS",
        "stringFormatForType": {},
        "subtype": "ListOfMaps",
        "tooManyRows": false,
        "tooltips": [],
        "type": "TableDisplay",
        "types": [
         "string",
         "integer",
         "double",
         "double",
         "double",
         "double",
         "double",
         "double",
         "double",
         "double",
         "double",
         "double",
         "double",
         "double"
        ],
        "values": [
         [
          "",
          "1",
          "0.010001603922736751",
          "0.005015345011028989",
          "89.80595510010906",
          "89.80595510010906",
          "0.1718213058419244",
          "0.14159315080600118",
          "0.1718213058419244",
          "0.14159315080600118",
          "0.8982035928143712",
          "0.8982035928143712",
          "8880.595510010906",
          "8880.595510010906"
         ],
         [
          "",
          "2",
          "0.020003207845473502",
          "0.002842564477889079",
          "0.5987063673340605",
          "45.20233073372156",
          "0.001145475372279496",
          "0.0037311678123581648",
          "0.08648339060710195",
          "0.07266215930917969",
          "0.005988023952095809",
          "0.9041916167664671",
          "-40.129363266593955",
          "4420.233073372156"
         ],
         [
          "",
          "3",
          "0.03000481176821025",
          "0.001885373345370889",
          "1.197412734668121",
          "30.53402473403708",
          "0.002290950744558992",
          "0.002252866171423458",
          "0.058419243986254296",
          "0.0491923949299276",
          "0.011976047904191617",
          "0.9161676646706587",
          "19.741273466812093",
          "2953.402473403708"
         ],
         [
          "",
          "4",
          "0.040006415690947005",
          "0.0015544813540922502",
          "0.5987063673340605",
          "23.050195142361325",
          "0.001145475372279496",
          "0.0017032442007715622",
          "0.0441008018327606",
          "0.03732010724763859",
          "0.005988023952095809",
          "0.9221556886227545",
          "-40.129363266593955",
          "2205.0195142361326"
         ],
         [
          "",
          "5",
          "0.05000801961368375",
          "0.001393496889696132",
          "0.5987063673340605",
          "18.55989738735587",
          "0.001145475372279496",
          "0.001465102828503725",
          "0.035509736540664374",
          "0.030149106363811618",
          "0.005988023952095809",
          "0.9281437125748503",
          "-40.129363266593955",
          "1755.989738735587"
         ],
         [
          "",
          "6",
          "0.10000458263639071",
          "0.0010151006542984118",
          "0.23953742377755946",
          "9.40076680182995",
          "0.00045829514207149406",
          "0.0011766955726381814",
          "0.017986023599495932",
          "0.015664560517474023",
          "0.011976047904191617",
          "0.9401197604790419",
          "-76.04625762224406",
          "840.0766801829951"
         ],
         [
          "",
          "7",
          "0.15000114565909767",
          "0.0007613367867821338",
          "0.11976871188877973",
          "6.307337055820384",
          "0.00022914757103574703",
          "0.000880432282486228",
          "0.012067516993813488",
          "0.010736894160070315",
          "0.005988023952095809",
          "0.9461077844311377",
          "-88.02312881112204",
          "530.7337055820384"
         ],
         [
          "",
          "8",
          "0.20000916527278143",
          "0.0006293418250661743",
          "0.23948254693362414",
          "4.790199644244561",
          "0.0004581901489117984",
          "0.0006868483318903324",
          "0.009164852789552067",
          "0.008224094868054872",
          "0.011976047904191617",
          "0.9580838323353293",
          "-76.05174530663759",
          "379.01996442445613"
         ],
         [
          "",
          "9",
          "0.30000229131819534",
          "0.0005061443356993566",
          "0.23953742377755946",
          "3.2734280922612116",
          "0.00045829514207149406",
          "0.0005596217310667905",
          "0.0062628885664095316",
          "0.005669465618088021",
          "0.023952095808383235",
          "0.9820359281437125",
          "-76.04625762224406",
          "227.34280922612115"
         ],
         [
          "",
          "10",
          "0.40000687395458606",
          "0.0004348216699834041",
          "0.0",
          "2.455047630644482",
          "0.0",
          "0.0004681854699320856",
          "0.004697121580982386",
          "0.004369108338602036",
          "0.0",
          "0.9820359281437125",
          "-100.0",
          "145.50476306444818"
         ],
         [
          "",
          "11",
          "0.5",
          "0.0003785776563822382",
          "0.0",
          "1.964071856287425",
          "0.0",
          "0.0004060152062072527",
          "0.0037577618403867746",
          "0.0035765441963675044",
          "0.0",
          "0.9820359281437125",
          "-100.0",
          "96.40718562874251"
         ],
         [
          "",
          "12",
          "0.6000045826363907",
          "0.0003260132807249468",
          "0.11975499110611404",
          "1.6566739735224427",
          "0.0002291213197388017",
          "0.00035193136945979705",
          "0.0031696326281218973",
          "0.003039088201445077",
          "0.011976047904191617",
          "0.9940119760479041",
          "-88.0245008893886",
          "65.66739735224428"
         ],
         [
          "",
          "13",
          "0.6999977086818047",
          "0.00027838472668952893",
          "0.0",
          "1.4200217568137048",
          "0.0",
          "0.0003016252693236864",
          "0.002716857610474632",
          "0.0026480476699957236",
          "0.0",
          "0.9940119760479041",
          "-100.0",
          "42.00217568137048"
         ],
         [
          "",
          "14",
          "0.8000022913181953",
          "0.00023485901219506448",
          "0.0",
          "1.2425114113236244",
          "0.0",
          "0.000256594800741849",
          "0.0023772358189290983",
          "0.0023491032186113833",
          "0.0",
          "0.9940119760479041",
          "-100.0",
          "24.25114113236244"
         ],
         [
          "",
          "15",
          "0.8999954173636093",
          "0.0001808122342188164",
          "0.059884355944389865",
          "1.1111167687157095",
          "0.00011457378551787351",
          "0.00020951518955067145",
          "0.0021258449278867574",
          "0.0021113863465612556",
          "0.005988023952095809",
          "1.0",
          "-94.011564405561",
          "11.111676871570953"
         ],
         [
          "",
          "16",
          "1.0",
          "3.2470403732842244e-07",
          "0.0",
          "1.0",
          "0.0",
          "0.00013036183360866255",
          "0.0019132506931237542",
          "0.0019132748169509725",
          "0.0",
          "1.0",
          "-100.0",
          "0.0"
         ]
        ]
       }
      }
     },
     "ee9e6643dbcc4d5e87326c0be9a0a0fa": {
      "model_module": "@jupyter-widgets/base",
      "model_module_version": "1.2.0",
      "model_name": "LayoutModel",
      "state": {}
     },
     "ef01038194c247f88958c249e23fa404": {
      "model_module": "@jupyter-widgets/base",
      "model_module_version": "*",
      "model_name": "LayoutModel",
      "state": {
       "_model_module_version": "*",
       "_view_module_version": "*"
      }
     },
     "f1a725ebe17a423bb16722562a6bae17": {
      "model_module": "@jupyter-widgets/base",
      "model_module_version": "*",
      "model_name": "LayoutModel",
      "state": {
       "_model_module_version": "*",
       "_view_module_version": "*"
      }
     },
     "f2293b0323444318b14d11c9f3a21f99": {
      "model_module": "beakerx",
      "model_module_version": "*",
      "model_name": "TableDisplayModel",
      "state": {
       "layout": "IPY_MODEL_c694ec7d75104c06a41fb2fd32e31a4b",
       "model": {
        "alignmentForColumn": {},
        "alignmentForType": {},
        "cellHighlighters": [],
        "columnNames": [
         "metric",
         "threshold",
         "value",
         "idx"
        ],
        "columnOrder": [],
        "columnsFrozen": {},
        "columnsFrozenRight": {},
        "columnsVisible": {},
        "contextMenuItems": [],
        "contextMenuTags": {},
        "fontColor": [],
        "hasDoubleClickAction": false,
        "headersVertical": false,
        "rendererForColumn": {},
        "rendererForType": {},
        "stringFormatForColumn": {},
        "stringFormatForTimes": "YYYY-MM-DD HH:mm:ss.SSS",
        "stringFormatForType": {},
        "subtype": "ListOfMaps",
        "tooManyRows": false,
        "tooltips": [],
        "type": "TableDisplay",
        "types": [
         "string",
         "double",
         "double",
         "double"
        ],
        "values": [
         [
          "max f1",
          "0.19147569887535884",
          "0.8333333333333334",
          "18.0"
         ],
         [
          "max f2",
          "0.19147569887535884",
          "0.799507995079951",
          "18.0"
         ],
         [
          "max f0point5",
          "0.5570436814211986",
          "0.8819345661450925",
          "9.0"
         ],
         [
          "max accuracy",
          "0.30917848333713965",
          "0.999404257269207",
          "12.0"
         ],
         [
          "max precision",
          "0.9999999993793944",
          "0.936",
          "0.0"
         ],
         [
          "max recall",
          "8.318521020888451e-10",
          "1.0",
          "399.0"
         ],
         [
          "max specificity",
          "0.9999999993793944",
          "0.9999081715814001",
          "0.0"
         ],
         [
          "max absolute_mcc",
          "0.19147569887535884",
          "0.8351225633589964",
          "18.0"
         ],
         [
          "max min_per_class_accuracy",
          "0.00020372201544246695",
          "0.8323353293413174",
          "233.0"
         ],
         [
          "max mean_per_class_accuracy",
          "0.00026990496113586123",
          "0.8987813695260107",
          "184.0"
         ],
         [
          "max tns",
          "0.9999999993793944",
          "87111.0",
          "0.0"
         ],
         [
          "max fns",
          "0.9999999993793944",
          "50.0",
          "0.0"
         ],
         [
          "max fps",
          "8.318521020888451e-10",
          "87119.0",
          "399.0"
         ],
         [
          "max tps",
          "8.318521020888451e-10",
          "167.0",
          "399.0"
         ],
         [
          "max tnr",
          "0.9999999993793944",
          "0.9999081715814001",
          "0.0"
         ],
         [
          "max fnr",
          "0.9999999993793944",
          "0.2994011976047904",
          "0.0"
         ],
         [
          "max fpr",
          "8.318521020888451e-10",
          "1.0",
          "399.0"
         ],
         [
          "max tpr",
          "8.318521020888451e-10",
          "1.0",
          "399.0"
         ]
        ]
       }
      }
     },
     "f56f3550db154309a1a1192cee0cbd61": {
      "model_module": "@jupyter-widgets/base",
      "model_module_version": "*",
      "model_name": "LayoutModel",
      "state": {
       "_model_module_version": "*",
       "_view_module_version": "*"
      }
     },
     "f666b190-c1b3-4bb8-b94e-a122447d8613": {
      "model_module": "beakerx",
      "model_module_version": "*",
      "model_name": "HTMLPreModel",
      "state": {
       "font_family": "",
       "font_size": "",
       "font_style": "",
       "font_weight": "",
       "layout": "IPY_MODEL_46269a77-dfbd-4f8e-89ba-b52c90aaa4ed",
       "msg_throttle": 3,
       "placeholder": "",
       "value": "Query executed successfully. Affected rows : 0",
       "visible": true
      }
     },
     "f7d37ed2-721a-4834-9260-e349fa4bda98": {
      "model_module": "@jupyter-widgets/base",
      "model_module_version": "*",
      "model_name": "LayoutModel",
      "state": {
       "_model_module_version": "*",
       "_view_module_version": "*",
       "align_content": "",
       "align_self": "",
       "border": "",
       "bottom": "",
       "flex": "",
       "height": "",
       "justify_content": "",
       "left": "",
       "margin": "",
       "max_height": "",
       "max_width": "",
       "min_height": "",
       "min_width": "",
       "msg_throttle": 3,
       "overflow": "",
       "overflow_x": "",
       "overflow_y": "",
       "padding": "",
       "right": "",
       "top": ""
      }
     },
     "f8227d9624c24368b345ad14b81b4ca5": {
      "model_module": "@jupyter-widgets/controls",
      "model_module_version": "1.5.0",
      "model_name": "HTMLModel",
      "state": {
       "layout": "IPY_MODEL_41d6b705a0a34ac0aec73e95c7773e63",
       "style": "IPY_MODEL_fc322e053feb4e00bb6f3b276c049518",
       "value": " 2/? [00:21&lt;00:00,  4.98s/it]"
      }
     },
     "f8c773dbb6384583b807aae20551b4d0": {
      "model_module": "@jupyter-widgets/controls",
      "model_module_version": "1.5.0",
      "model_name": "DescriptionStyleModel",
      "state": {
       "description_width": ""
      }
     },
     "f99a03793b674815a4d44d23f48a15fc": {
      "model_module": "beakerx",
      "model_module_version": "*",
      "model_name": "TableDisplayModel",
      "state": {
       "layout": "IPY_MODEL_fa9d5bd4b8a34b75b6216d6057afd33d",
       "model": {
        "alignmentForColumn": {},
        "alignmentForType": {},
        "cellHighlighters": [],
        "columnNames": [
         "",
         "timestamp",
         "duration",
         "number_of_trees",
         "training_rmse",
         "training_logloss",
         "training_auc",
         "training_pr_auc",
         "training_lift",
         "training_classification_error"
        ],
        "columnOrder": [],
        "columnsFrozen": {},
        "columnsFrozenRight": {},
        "columnsVisible": {},
        "contextMenuItems": [],
        "contextMenuTags": {},
        "fontColor": [],
        "hasDoubleClickAction": false,
        "headersVertical": false,
        "rendererForColumn": {},
        "rendererForType": {},
        "stringFormatForColumn": {},
        "stringFormatForTimes": "YYYY-MM-DD HH:mm:ss.SSS",
        "stringFormatForType": {},
        "subtype": "ListOfMaps",
        "tooManyRows": false,
        "tooltips": [],
        "type": "TableDisplay",
        "types": [
         "string",
         "string",
         "string",
         "double",
         "double",
         "double",
         "double",
         "double",
         "double",
         "double"
        ],
        "values": [
         [
          "",
          "2020-12-01 16:02:23",
          "13.177 sec",
          "0.0",
          "0.04369885770714194",
          "0.013886362651910554",
          "0.5",
          "0.0",
          "1.0",
          "0.9980867493068762"
         ],
         [
          "",
          "2020-12-01 16:02:24",
          "13.556 sec",
          "5.0",
          "0.026062556100066102",
          "0.011837779863304506",
          "0.9040397837000845",
          "0.08393861123788014",
          "47.878228276271884",
          "0.0006186559127466031"
         ],
         [
          "",
          "2020-12-01 16:02:24",
          "13.794 sec",
          "10.0",
          "0.02656545580083579",
          "0.014244681605675658",
          "0.8364771965498633",
          "0.11855034340000803",
          "48.885511677067804",
          "0.0006759388676305479"
         ],
         [
          "",
          "2020-12-01 16:02:24",
          "14.129 sec",
          "15.0",
          "0.026235374124122104",
          "0.01239722578579214",
          "0.902234557961981",
          "0.13255384735641312",
          "52.37618291600515",
          "0.0006873954586073368"
         ],
         [
          "",
          "2020-12-01 16:02:24",
          "14.463 sec",
          "20.0",
          "0.02455506837724576",
          "0.013513254870478176",
          "0.8786061642025469",
          "0.10661237719119435",
          "49.527259996136756",
          "0.0005957427307930252"
         ],
         [
          "",
          "2020-12-01 16:02:25",
          "14.675 sec",
          "25.0",
          "0.02723779459973336",
          "0.018190382622135837",
          "0.8487044666621256",
          "0.10785365359396439",
          "48.0291956627286",
          "0.0007446784134912815"
         ],
         [
          "",
          "2020-12-01 16:02:25",
          "14.956 sec",
          "30.0",
          "0.028639805370387118",
          "0.02180783244015582",
          "0.8249194972009172",
          "0.0979190284880235",
          "47.84502562143397",
          "0.0008363311413055931"
         ],
         [
          "",
          "2020-12-01 16:02:25",
          "15.177 sec",
          "35.0",
          "0.024349957679215176",
          "0.013784541428503992",
          "0.8451224709982691",
          "0.08347661128373081",
          "42.20127925966249",
          "0.0005957427307930252"
         ]
        ]
       }
      }
     },
     "fa9d5bd4b8a34b75b6216d6057afd33d": {
      "model_module": "@jupyter-widgets/base",
      "model_module_version": "*",
      "model_name": "LayoutModel",
      "state": {
       "_model_module_version": "*",
       "_view_module_version": "*"
      }
     },
     "fc322e053feb4e00bb6f3b276c049518": {
      "model_module": "@jupyter-widgets/controls",
      "model_module_version": "1.5.0",
      "model_name": "DescriptionStyleModel",
      "state": {
       "description_width": ""
      }
     },
     "fcde632376b145fd9dace8a710214343": {
      "model_module": "beakerx",
      "model_module_version": "*",
      "model_name": "TableDisplayModel",
      "state": {
       "layout": "IPY_MODEL_b60ccbea3b7b45c89bfe7a862b247c6a",
       "model": {
        "alignmentForColumn": {},
        "alignmentForType": {},
        "cellHighlighters": [],
        "columnNames": [
         "",
         "group",
         "cumulative_data_fraction",
         "lower_threshold",
         "lift",
         "cumulative_lift",
         "response_rate",
         "score",
         "cumulative_response_rate",
         "cumulative_score",
         "capture_rate",
         "cumulative_capture_rate",
         "gain",
         "cumulative_gain"
        ],
        "columnOrder": [],
        "columnsFrozen": {},
        "columnsFrozenRight": {},
        "columnsVisible": {},
        "contextMenuItems": [],
        "contextMenuTags": {},
        "fontColor": [],
        "hasDoubleClickAction": false,
        "headersVertical": false,
        "rendererForColumn": {},
        "rendererForType": {},
        "stringFormatForColumn": {},
        "stringFormatForTimes": "YYYY-MM-DD HH:mm:ss.SSS",
        "stringFormatForType": {},
        "subtype": "ListOfMaps",
        "tooManyRows": false,
        "tooltips": [],
        "type": "TableDisplay",
        "types": [
         "string",
         "integer",
         "double",
         "double",
         "double",
         "double",
         "double",
         "double",
         "double",
         "double",
         "double",
         "double",
         "double",
         "double"
        ],
        "values": [
         [
          "",
          "1",
          "0.01915542011319112",
          "0.0002366853521880164",
          "42.20127925966249",
          "42.20127925966249",
          "0.08074162679425838",
          "0.08474008534182768",
          "0.08074162679425838",
          "0.08474008534182768",
          "0.8083832335329342",
          "0.8083832335329342",
          "4120.127925966249",
          "4120.127925966249"
         ],
         [
          "",
          "2",
          "0.020587493985289737",
          "0.0002323164036393671",
          "0.0",
          "39.26574230503934",
          "0.0",
          "0.0002323533612676287",
          "0.07512520868113523",
          "0.07886169552681932",
          "0.0",
          "0.8083832335329342",
          "-100.0",
          "3826.574230503934"
         ],
         [
          "",
          "3",
          "0.04379854730426414",
          "0.0002288127754023369",
          "0.25798156894503194",
          "18.593567768987267",
          "0.0004935834155972359",
          "0.00022881778725186374",
          "0.035574156421658384",
          "0.037190178315110275",
          "0.005988023952095809",
          "0.8143712574850299",
          "-74.2018431054968",
          "1759.3567768987266"
         ],
         [
          "",
          "4",
          "0.06807506358407991",
          "0.00021158414291202158",
          "0.49331822433471895",
          "12.138766559778457",
          "0.0009438414346389807",
          "0.0002124227542010922",
          "0.023224503534163582",
          "0.024003395408081236",
          "0.011976047904191617",
          "0.8263473053892215",
          "-50.66817756652811",
          "1113.8766559778458"
         ],
         [
          "",
          "5",
          "0.10922713837270581",
          "0.00020372221070366107",
          "0.14550964885374018",
          "7.620224623126309",
          "0.00027839643652561246",
          "0.00020497683583032433",
          "0.014579400041955109",
          "0.01503717771230556",
          "0.005988023952095809",
          "0.8323353293413174",
          "-85.44903511462599",
          "662.0224623126309"
         ],
         [
          "",
          "6",
          "0.9519396008523704",
          "0.0002006497328880718",
          "0.03552827458179607",
          "0.9058089907486899",
          "6.797449596911239e-05",
          "0.00020065047834108782",
          "0.0017330396793876592",
          "0.0019030183719591367",
          "0.029940119760479042",
          "0.8622754491017964",
          "-96.4471725418204",
          "-9.419100925131008"
         ],
         [
          "",
          "7",
          "1.0",
          "1e-19",
          "2.865655577997759",
          "1.0",
          "0.0054827175208581646",
          "0.00014540426699510966",
          "0.0019132506931237542",
          "0.0018185467365270619",
          "0.1377245508982036",
          "1.0",
          "186.5655577997759",
          "0.0"
         ]
        ]
       }
      }
     },
     "fcef86d047984eaf8515f22d3a6ec938": {
      "model_module": "beakerx",
      "model_module_version": "*",
      "model_name": "TableDisplayModel",
      "state": {
       "layout": "IPY_MODEL_c5163734cf994ee687c638f112bfb2f1",
       "model": {
        "alignmentForColumn": {},
        "alignmentForType": {},
        "cellHighlighters": [],
        "columnNames": [
         "metric",
         "threshold",
         "value",
         "idx"
        ],
        "columnOrder": [],
        "columnsFrozen": {},
        "columnsFrozenRight": {},
        "columnsVisible": {},
        "contextMenuItems": [],
        "contextMenuTags": {},
        "fontColor": [],
        "hasDoubleClickAction": false,
        "headersVertical": false,
        "rendererForColumn": {},
        "rendererForType": {},
        "stringFormatForColumn": {},
        "stringFormatForTimes": "YYYY-MM-DD HH:mm:ss.SSS",
        "stringFormatForType": {},
        "subtype": "ListOfMaps",
        "tooManyRows": false,
        "tooltips": [],
        "type": "TableDisplay",
        "types": [
         "string",
         "double",
         "double",
         "double"
        ],
        "values": [
         [
          "max f1",
          "0.9718262159006396",
          "0.6625766871165644",
          "4.0"
         ],
         [
          "max f2",
          "0.9718262159006396",
          "0.652962515114873",
          "4.0"
         ],
         [
          "max f0point5",
          "0.9999999424846592",
          "0.680933852140078",
          "0.0"
         ],
         [
          "max accuracy",
          "0.9999999424846592",
          "0.9987626881745068",
          "0.0"
         ],
         [
          "max precision",
          "0.9999999424846592",
          "0.695364238410596",
          "0.0"
         ],
         [
          "max recall",
          "2.1915107068930594e-08",
          "1.0",
          "399.0"
         ],
         [
          "max specificity",
          "0.9999999424846592",
          "0.9994719865930509",
          "0.0"
         ],
         [
          "max absolute_mcc",
          "0.9718262159006396",
          "0.6621459271093602",
          "4.0"
         ],
         [
          "max min_per_class_accuracy",
          "0.0002673536549698243",
          "0.7239293380318874",
          "305.0"
         ],
         [
          "max mean_per_class_accuracy",
          "0.00033655611895164374",
          "0.8346425870924847",
          "280.0"
         ],
         [
          "max tns",
          "0.9999999424846592",
          "87073.0",
          "0.0"
         ],
         [
          "max fns",
          "0.9999999424846592",
          "62.0",
          "0.0"
         ],
         [
          "max fps",
          "2.1915107068930594e-08",
          "87119.0",
          "399.0"
         ],
         [
          "max tps",
          "2.1915107068930594e-08",
          "167.0",
          "399.0"
         ],
         [
          "max tnr",
          "0.9999999424846592",
          "0.9994719865930509",
          "0.0"
         ],
         [
          "max fnr",
          "0.9999999424846592",
          "0.3712574850299401",
          "0.0"
         ],
         [
          "max fpr",
          "2.1915107068930594e-08",
          "1.0",
          "399.0"
         ],
         [
          "max tpr",
          "2.1915107068930594e-08",
          "1.0",
          "399.0"
         ]
        ]
       }
      }
     },
     "fd668618970745adba37f6f46eaf0226": {
      "model_module": "beakerx",
      "model_module_version": "*",
      "model_name": "TableDisplayModel",
      "state": {
       "layout": "IPY_MODEL_8046111eff354a50b0f9be9f863dfb0b",
       "model": {
        "alignmentForColumn": {},
        "alignmentForType": {},
        "cellHighlighters": [],
        "columnNames": [
         "",
         "timestamp",
         "duration",
         "number_of_trees",
         "training_rmse",
         "training_logloss",
         "training_auc",
         "training_pr_auc",
         "training_lift",
         "training_classification_error"
        ],
        "columnOrder": [],
        "columnsFrozen": {},
        "columnsFrozenRight": {},
        "columnsVisible": {},
        "contextMenuItems": [],
        "contextMenuTags": {},
        "fontColor": [],
        "hasDoubleClickAction": false,
        "headersVertical": false,
        "rendererForColumn": {},
        "rendererForType": {},
        "stringFormatForColumn": {},
        "stringFormatForTimes": "YYYY-MM-DD HH:mm:ss.SSS",
        "stringFormatForType": {},
        "subtype": "ListOfMaps",
        "tooManyRows": false,
        "tooltips": [],
        "type": "TableDisplay",
        "types": [
         "string",
         "string",
         "string",
         "double",
         "double",
         "double",
         "double",
         "double",
         "double",
         "double"
        ],
        "values": [
         [
          "",
          "2020-12-01 16:02:23",
          "13.177 sec",
          "0.0",
          "0.04369885770714194",
          "0.013886362651910554",
          "0.5",
          "0.0",
          "1.0",
          "0.9980867493068762"
         ],
         [
          "",
          "2020-12-01 16:02:24",
          "13.556 sec",
          "5.0",
          "0.026062556100066102",
          "0.011837779863304506",
          "0.9040397837000845",
          "0.08393861123788014",
          "47.878228276271884",
          "0.0006186559127466031"
         ],
         [
          "",
          "2020-12-01 16:02:24",
          "13.794 sec",
          "10.0",
          "0.02656545580083579",
          "0.014244681605675658",
          "0.8364771965498633",
          "0.11855034340000803",
          "48.885511677067804",
          "0.0006759388676305479"
         ],
         [
          "",
          "2020-12-01 16:02:24",
          "14.129 sec",
          "15.0",
          "0.026235374124122104",
          "0.01239722578579214",
          "0.902234557961981",
          "0.13255384735641312",
          "52.37618291600515",
          "0.0006873954586073368"
         ],
         [
          "",
          "2020-12-01 16:02:24",
          "14.463 sec",
          "20.0",
          "0.02455506837724576",
          "0.013513254870478176",
          "0.8786061642025469",
          "0.10661237719119435",
          "49.527259996136756",
          "0.0005957427307930252"
         ],
         [
          "",
          "2020-12-01 16:02:25",
          "14.675 sec",
          "25.0",
          "0.02723779459973336",
          "0.018190382622135837",
          "0.8487044666621256",
          "0.10785365359396439",
          "48.0291956627286",
          "0.0007446784134912815"
         ],
         [
          "",
          "2020-12-01 16:02:25",
          "14.956 sec",
          "30.0",
          "0.028639805370387118",
          "0.02180783244015582",
          "0.8249194972009172",
          "0.0979190284880235",
          "47.84502562143397",
          "0.0008363311413055931"
         ],
         [
          "",
          "2020-12-01 16:02:25",
          "15.177 sec",
          "35.0",
          "0.024349957679215176",
          "0.013784541428503992",
          "0.8451224709982691",
          "0.08347661128373081",
          "42.20127925966249",
          "0.0005957427307930252"
         ]
        ]
       }
      }
     },
     "fe56afa94cad44fe8466afdc6e9a2b5e": {
      "model_module": "@jupyter-widgets/base",
      "model_module_version": "*",
      "model_name": "LayoutModel",
      "state": {
       "_model_module_version": "*",
       "_view_module_version": "*"
      }
     },
     "ffd9a74d-5401-4865-8368-eaa8cb8e14ad": {
      "model_module": "@jupyter-widgets/base",
      "model_module_version": "*",
      "model_name": "LayoutModel",
      "state": {
       "_model_module_version": "*",
       "_view_module_version": "*",
       "align_content": "",
       "align_self": "",
       "border": "",
       "bottom": "",
       "flex": "",
       "height": "",
       "justify_content": "",
       "left": "",
       "margin": "",
       "max_height": "",
       "max_width": "",
       "min_height": "",
       "min_width": "",
       "msg_throttle": 3,
       "overflow": "",
       "overflow_x": "",
       "overflow_y": "",
       "padding": "",
       "right": "",
       "top": ""
      }
     }
    },
    "version_major": 2,
    "version_minor": 0
   }
  }
 },
 "nbformat": 4,
 "nbformat_minor": 2
}

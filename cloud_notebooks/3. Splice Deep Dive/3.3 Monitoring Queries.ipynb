{
    "cells": [
        {
            "cell_type": "markdown",
            "metadata": {},
            "source": [
                "\n",
                "# Monitoring Queries with the Database Console\n",
                "\n",
                "Splice Machine jobs can be monitored, interrogated, and terminated in our Database Console. This notebook provides a quick introduction to the console, in these sections:\n",
                "\n",
                "<ul class=\"italic\">\n",
                "    <li>Accessing the Console</li>\n",
                "    <li>Drilling Down</li>\n",
                "    <li>Terminating an Active Job</li>\n",
                "</ul>\n",
                "\n"
            ]
        },
        {
            "cell_type": "code",
            "execution_count": null,
            "metadata": {},
            "outputs": [],
            "source": [
                "%%sql \n",
                "-- QUERY 02\n",
                "select\n",
                "\ts_acctbal,\n",
                "\ts_name,\n",
                "\tn_name,\n",
                "\tp_partkey,\n",
                "\tp_mfgr,\n",
                "\ts_address,\n",
                "\ts_phone,\n",
                "\ts_comment\n",
                "from\n",
                "\tTPCH1.part,\n",
                "\tTPCH1.supplier,\n",
                "\tTPCH1.partsupp,\n",
                "\tTPCH1.nation,\n",
                "\tTPCH1.region\n",
                "where\n",
                "\tp_partkey = ps_partkey\n",
                "\tand s_suppkey = ps_suppkey\n",
                "\tand p_size = 15\n",
                "\tand p_type like '%BRASS'\n",
                "\tand s_nationkey = n_nationkey\n",
                "\tand n_regionkey = r_regionkey\n",
                "\tand r_name = 'EUROPE'\n",
                "\tand ps_supplycost = (\n",
                "\t\tselect\n",
                "\t\t\tmin(ps_supplycost)\n",
                "\t\tfrom\n",
                "\t\t\tTPCH1.partsupp,\n",
                "\t\t\tTPCH1.supplier,\n",
                "\t\t\tTPCH1.nation,\n",
                "\t\t\tTPCH1.region\n",
                "\t\twhere\n",
                "\t\t\tp_partkey = ps_partkey\n",
                "\t\t\tand s_suppkey = ps_suppkey\n",
                "\t\t\tand s_nationkey = n_nationkey\n",
                "\t\t\tand n_regionkey = r_regionkey\n",
                "\t\t\tand r_name = 'EUROPE'\n",
                "\t)\n",
                "order by\n",
                "\ts_acctbal desc,\n",
                "\tn_name,\n",
                "\ts_name,\n",
                "\tp_partkey\n",
                "{limit 100}\n",
                "-- END OF QUERY\n"
            ]
        },
        {
            "cell_type": "markdown",
            "metadata": {},
            "source": [
                "## Accessing the Database Console\n",
                "You can access the Splice Machine Database Console by clicking the <span class=\"ConsoleLink\">DB Console</span> button in your dashboard. The console initially displays the *Jobs* view, which looks like this:\n",
                "\n",
                "<img class=\"fitwidth\" src=\"https://doc.splicemachine.com/zeppelin/images/DBConsoleJobs1.png\">\n",
                "\n",
                "Some notes about the console display:\n",
                "\n",
                "* Queries are reported as *Jobs*.\n",
                "* Jobs that are still running are shown as *Active*, others are shown as *Completed*.\n",
                "* Each Job has some number of *Stages*. You can see the stages in a job by clicking a link in the job description, or you can view all stages for all jobs by clicking the *Stages* tab at the top of the console screen.\n",
                "* Each Stage has some number of *Tasks*, which are the most basic work units in the Spark Engine."
            ]
        },
        {
            "cell_type": "markdown",
            "metadata": {},
            "source": [
                "## Drilling Down\n",
                "\n",
                "You can drill down by clicking links; for example, if you click on the topmost <span class=\"ConsoleLink\">Produce Result Set</span> link in the above display, you'll see the *Job Details* screen, which displays the stages in the job:\n",
                "<img class=\"fitwidth\" src=\"https://doc.splicemachine.com/zeppelin/images/DBConsoleStages1.png\">\n",
                "\n",
                "### Viewing Stage Detail\n",
                "You can click the topmost link in the Job Stages screen to display the *Stage Details* screen:\n",
                "<img class=\"fitwidth\" src=\"https://doc.splicemachine.com/zeppelin/images/DBConsoleStageDetail1.png\">\n",
                "\n",
                "### Viewing Stage Detail as a Directed Acyclic Graph (DAG)\n",
                "You can switch to a graphical (DAG) depiction of the information in a screen; for example, here's a graph of one stage of collecting statistics:\n",
                "<img class=\"fitwidth\" src=\"https://doc.splicemachine.com/zeppelin/images/DBConsoleStageDag1.png\">\n",
                "\n",
                "### Viewing Job Stages Graphically\n",
                "And here's a somewhat more interesting DAG view of a two-stage job:\n",
                "<img class=\"fitwidth\" src=\"https://doc.splicemachine.com/zeppelin/images/zepConsoleJobsDAG.png\">\n",
                "\n",
                "### Displaying a Timeline View\n",
                "You can also view a timeline of the stage; for example:\n",
                "<img class=\"fitwidth\" src=\"https://doc.splicemachine.com/zeppelin/images/DBConsoleStageTimeline1.png\">\n"
            ]
        },
        {
            "cell_type": "markdown",
            "metadata": {},
            "source": [
                "## Terminating an Active Job\n",
                "\n",
                "You can terminate an active job if you determine that something isn't working as expected. Simply access the *Jobs* tab while a job is actively running, and click the the *(kill)* text displayed next to the job description, as shown here:\n",
                "<img class=\"fitwidth\" src=\"https://doc.splicemachine.com/zeppelin/images/DBConsoleKill1.png\">\n",
                "\n",
                "You'll be asked to confirm that you want to terminate that job.\n",
                "\n"
            ]
        },
        {
            "cell_type": "markdown",
            "metadata": {},
            "source": [
                "## Where to Go Next\n",
                "\n",
                "The next notebook in this presentation introduces you to <a href=\"./3.4%20Transactions%20with%20Spark%20%26%20JDBC.ipynb\">the transactional nature of Splice Machine and using JDBC to program transactions.</a>\n"
            ]
        },
        {
            "cell_type": "markdown",
            "metadata": {},
            "source": []
        }
    ],
    "metadata": {
        "kernelspec": {
            "display_name": "Python 3",
            "language": "python",
            "name": "python3"
        },
        "language_info": {
            "codemirror_mode": {
                "name": "ipython",
                "version": 3
            },
            "file_extension": ".py",
            "mimetype": "text/x-python",
            "name": "python",
            "nbconvert_exporter": "python",
            "pygments_lexer": "ipython3",
            "version": "3.7.3"
        },
        "toc": {
            "base_numbering": 1,
            "nav_menu": {},
            "number_sections": false,
            "sideBar": false,
            "skip_h1_title": false,
            "title_cell": "Table of Contents",
            "title_sidebar": "Contents",
            "toc_cell": false,
            "toc_position": {},
            "toc_section_display": false,
            "toc_window_display": false
        }
    },
    "nbformat": 4,
    "nbformat_minor": 2
}

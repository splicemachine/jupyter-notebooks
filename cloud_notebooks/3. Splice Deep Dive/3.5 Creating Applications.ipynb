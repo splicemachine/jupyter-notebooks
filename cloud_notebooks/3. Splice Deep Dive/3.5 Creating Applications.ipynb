{
    "cells": [
        {
            "cell_type": "code",
            "execution_count": null,
            "metadata": {},
            "outputs": [],
            "source": [
                "import os\n",
                "os.environ['JDBC_HOST'] = 'jrtest01-splice-hregion'"
            ]
        },
        {
            "cell_type": "code",
            "execution_count": null,
            "metadata": {},
            "outputs": [],
            "source": [
                "# setup-- \n",
                "import os\n",
                "import pyspark\n",
                "from splicemachine.spark.context import PySpliceContext\n",
                "from pyspark.conf import SparkConf\n",
                "from pyspark.sql import SparkSession\n",
                "\n",
                "# make sure pyspark tells workers to use python3 not 2 if both are installed\n",
                "os.environ['PYSPARK_PYTHON'] = '/usr/bin/python3'\n",
                "jdbc_host = os.environ['JDBC_HOST']\n",
                "\n",
                "conf = pyspark.SparkConf()\n",
                "sc = pyspark.SparkContext(conf=conf)\n",
                "\n",
                "spark = SparkSession.builder.config(conf=conf).getOrCreate()\n",
                "\n",
                "splicejdbc=f\"jdbc:splice://{jdbc_host}:1527/splicedb;user=splice;password=admin\"\n",
                "\n",
                "splice = PySpliceContext(spark, splicejdbc)\n"
            ]
        },
        {
            "cell_type": "markdown",
            "metadata": {},
            "source": [
                "<link rel=\"stylesheet\" href=\"https://doc.splicemachine.com/zeppelin/css/zepstyles.css\" />\n",
                "\n",
                "# Deploying Applications\n",
                "\n",
                "Splice Machine is an ACID compliant RDMS, which means that you can build <a href=\"https://spring.io/\" target=\"_blank\"><em>Spring</em></a> applications on it.\n",
                "\n",
                "One such application is the commonly-used *Petclinic* web app.\n",
                "<br />\n",
                "\n",
                "## Running the Petclinic Web App\n",
                "\n",
                "Here are links you can follow to download and run the Splice Machine/Spring implementation of the Petclinic app. You can:\n",
                "\n",
                "<table class=\"splicezepNoBorder\">\n",
                "   <tbody>\n",
                "        <tr>\n",
                "            <td>Access the repository:</td>\n",
                "            <td><a href=\"https://github.com/splicemachine/spring-petclinic\" target=\"_blank\">https://github.com/splicemachine/spring-petclinic</a></td>\n",
                "        </tr>\n",
                "        <tr>\n",
                "            <td>Download a JDBC driver to use with it:</td>\n",
                "            <td><a href=\"https://s3.amazonaws.com/splicemachine/artifacts/db-client-2.6.1.1736.jar\" target=\"_blank\">https://s3.amazonaws.com/splicemachine/artifacts/db-client-2.6.1.1736.jar</a></td>\n",
                "        </tr>\n",
                "        <tr>\n",
                "            <td>Download an ODBC driver to use with it:</td>\n",
                "            <td><a href=\"https://www.splicemachine.com/get-started/odbc-driver-download/\"target=\"_blank\">https://www.splicemachine.com/get-started/odbc-driver-download/</a></td>\n",
                "        </tr>\n",
                "   </tbody>\n",
                "</table>\n",
                "\n",
                "\n",
                "<p class=\"noteNote\">The Petclinic app uses the same basic Java persistence model as traditional databases, as shown <a href=\"https://github.com/splicemachine/spring-petclinic/blob/master/src/main/java/org/springframework/samples/petclinic/model/Person.java\">here.</a></p>\n",
                "\n",
                "\n"
            ]
        },
        {
            "cell_type": "markdown",
            "metadata": {},
            "source": [
                "## Where to Go Next\n",
                "\n",
                "The next notebook in this presentation introduces you to <a href=\"./3.6%20Using%20our%20Spark%20Adapter.ipynb\">Using the Splice Machine Spark Adapter</a> for working with your database."
            ]
        },
        {
            "cell_type": "code",
            "execution_count": null,
            "metadata": {},
            "outputs": [],
            "source": []
        }
    ],
    "metadata": {
        "kernelspec": {
            "display_name": "Python 3",
            "language": "python",
            "name": "python3"
        },
        "language_info": {
            "codemirror_mode": {
                "name": "ipython",
                "version": 3
            },
            "file_extension": ".py",
            "mimetype": "text/x-python",
            "name": "python",
            "nbconvert_exporter": "python",
            "pygments_lexer": "ipython3",
            "version": "3.7.3"
        },
        "toc": {
            "base_numbering": 1,
            "nav_menu": {},
            "number_sections": false,
            "sideBar": false,
            "skip_h1_title": false,
            "title_cell": "Table of Contents",
            "title_sidebar": "Contents",
            "toc_cell": false,
            "toc_position": {},
            "toc_section_display": false,
            "toc_window_display": false
        }
    },
    "nbformat": 4,
    "nbformat_minor": 2
}
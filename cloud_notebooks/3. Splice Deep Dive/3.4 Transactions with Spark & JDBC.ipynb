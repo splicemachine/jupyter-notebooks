{
    "cells": [
        {
            "cell_type": "code",
            "execution_count": null,
            "metadata": {},
            "outputs": [],
            "source": [
                "# setup-- \n",
                "import os\n",
                "import pyspark\n",
                "from splicemachine.spark.context import PySpliceContext\n",
                "from pyspark.conf import SparkConf\n",
                "from pyspark.sql import SparkSession\n",
                "\n",
                "# make sure pyspark tells workers to use python3 not 2 if both are installed\n",
                "os.environ['PYSPARK_PYTHON'] = '/usr/bin/python3'\n",
                "jdbc_host = os.environ['JDBC_HOST']\n",
                "\n",
                "conf = pyspark.SparkConf()\n",
                "sc = pyspark.SparkContext(conf=conf)\n",
                "\n",
                "spark = SparkSession.builder.config(conf=conf).getOrCreate()\n",
                "\n",
                "splicejdbc=f\"jdbc:splice://{jdbc_host}:1527/splicedb;user=splice;password=admin\"\n",
                "\n",
                "splice = PySpliceContext(spark, splicejdbc)\n"
            ]
        },
        {
            "cell_type": "markdown",
            "metadata": {},
            "source": [
                "\n",
                "# Splice Transactions with Spark and JDBC\n",
                "\n",
                "Now we'll get a glimpse into the transactional nature of Splice Machine.  We'll be switching to the `%spark` interpreter, which uses the Scala programming language; this allows us to easily demonstrate a clean way to programmatically interact with Splice Machine via JDBC. In this demonstration, we'll:\n",
                "\n",
                "<ul class=\"italic\">\n",
                "    <li>Run setup code to create our variables and define a simple Spark procedure named <code>checkBalance</code>.</li>\n",
                "    <li>Use JDBC calls to set and check values from the database.</li>\n",
                "    <li>Show the use of <code>commit</code> and <code>rollback</code> to control transactional persistence of our updates.</li>\n",
                "</ul>\n",
                "<br />\n",
                "## Run Setup Code and Define our Procedure\n",
                "\n",
                "We define a simple procedure, `checkBalance` that checks and *pretty-prints* the current balance for a supplier  "
            ]
        },
        {
            "cell_type": "markdown",
            "metadata": {},
            "source": [
                "### In the cell below, input your JDBCurl as well as your user and password in the <code>defaultJDBCURL</code> variable"
            ]
        },
        {
            "cell_type": "code",
            "execution_count": null,
            "metadata": {},
            "outputs": [],
            "source": [
                "%%scala \n",
                "println(\"Please copy and paste your JDBC URL. You can find it at the bottom right of your cluster dashboard\")\n",
                "val defaultJDBCURL = z.input(\"JDBCurl\",\"\"\"jdbc:splice://{FRAMEWORKNAME}-proxy.marathon.mesos:1527/splicedb;user=splice;password=admin\"\"\").toString\n",
                "val localJDBCURL = \"\"\"jdbc:splice://localhost:1527/splicedb;user=splice;password=admin\"\"\"\n",
                "\n"
            ]
        },
        {
            "cell_type": "code",
            "execution_count": null,
            "metadata": {},
            "outputs": [],
            "source": [
                "%%scala \n",
                "import java.sql.{DriverManager,Connection}\n",
                "var conn = DriverManager.getConnection(defaultJDBCURL)\n",
                "conn.setAutoCommit(false)\n",
                "var statement = conn.createStatement()\n",
                "\n",
                "def checkBalance(suppKey: Integer) : Unit = {\n",
                "    var resSet = statement.executeQuery(\"SELECT S_ACCTBAL FROM TPCH1.SUPPLIER WHERE S_SUPPKEY = \" + suppKey.toString())\n",
                "    while ( resSet.next() ) {\n",
                "        var bl = resSet.getString(\"S_ACCTBAL\")\n",
                "        println(\"================ Current account balance: \" + bl + \" ====================\");\n",
                "    }\n",
                "}\n"
            ]
        },
        {
            "cell_type": "markdown",
            "metadata": {},
            "source": [
                "Now we can check the balance easily at any time with the checkBalance call, passing in the supply key as a parameter:"
            ]
        },
        {
            "cell_type": "code",
            "execution_count": null,
            "metadata": {},
            "outputs": [],
            "source": [
                "%%scala \n",
                "checkBalance(6517)"
            ]
        },
        {
            "cell_type": "markdown",
            "metadata": {},
            "source": [
                "Our setup code created two useful variables we can now employ:\n",
                "\n",
                "<table class=\"splicezepNoBorder\">\n",
                "   <tbody>\n",
                "      <tr>\n",
                "          <td class=\"CodeFont\">statement</td>\n",
                "          <td>The standard JDBC Statement object, on which we run functions such as `executeUpdate`.\n",
                "      </tr>\n",
                "      <tr style=\"background-color: transparent;\">\n",
                "          <td class=\"CodeFont\">conn</td>\n",
                "          <td style=\"background-color: transparent;\" >A standard JDBC Connection object, on which run `commit` and `rollback`.\n",
                "      </tr>\n",
                "    </tbody>\n",
                "</table>\n",
                "\n",
                "The first example shows an update statement which, upon committing, retains the value to which it is set.\n",
                "\n",
                "## Committing a Transaction"
            ]
        },
        {
            "cell_type": "code",
            "execution_count": null,
            "metadata": {},
            "outputs": [],
            "source": [
                "%%scala \n",
                "statement.executeUpdate(\"update TPCH1.SUPPLIER SET S_ACCTBAL = 10000 WHERE S_SUPPKEY = 6517\");\n",
                "checkBalance(6517);\n",
                "conn.commit();\n",
                "checkBalance(6517);"
            ]
        },
        {
            "cell_type": "markdown",
            "metadata": {},
            "source": [
                "<br />\n",
                "But if we choose to do a rollback, the value returns to the previous value before the transactional context, as shown in the next example.\n",
                "\n",
                "## Rolling Back a Transaction"
            ]
        },
        {
            "cell_type": "code",
            "execution_count": null,
            "metadata": {},
            "outputs": [],
            "source": [
                "%%scala \n",
                "statement.executeUpdate(\"update TPCH1.SUPPLIER SET S_ACCTBAL = 0 WHERE S_SUPPKEY = 6517\")\n",
                "checkBalance(6517);\n",
                "conn.rollback();\n",
                "checkBalance(6517);\n"
            ]
        },
        {
            "cell_type": "markdown",
            "metadata": {},
            "source": [
                "## Where to Go Next\n",
                "\n",
                "The next notebook in this presentation walks you through <a href=\"./3.5%20Creating%20Applications.ipynb\">creating applications with Splice Machine.</a>\n"
            ]
        },
        {
            "cell_type": "code",
            "execution_count": null,
            "metadata": {},
            "outputs": [],
            "source": []
        }
    ],
    "metadata": {
        "kernelspec": {
            "display_name": "Python 3",
            "language": "python",
            "name": "python3"
        },
        "language_info": {
            "codemirror_mode": {
                "name": "ipython",
                "version": 3
            },
            "file_extension": ".py",
            "mimetype": "text/x-python",
            "name": "python",
            "nbconvert_exporter": "python",
            "pygments_lexer": "ipython3",
            "version": "3.7.3"
        },
        "toc": {
            "base_numbering": 1,
            "nav_menu": {},
            "number_sections": false,
            "sideBar": false,
            "skip_h1_title": false,
            "title_cell": "Table of Contents",
            "title_sidebar": "Contents",
            "toc_cell": false,
            "toc_position": {},
            "toc_section_display": false,
            "toc_window_display": false
        }
    },
    "nbformat": 4,
    "nbformat_minor": 2
}

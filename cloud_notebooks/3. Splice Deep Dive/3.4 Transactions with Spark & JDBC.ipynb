{
 "cells": [
  {
   "cell_type": "code",
   "execution_count": 1,
   "metadata": {},
   "outputs": [
    {
     "data": {
      "text/html": [
       "<link rel=\"stylesheet\" href=\"https://doc.splicemachine.com/jupyter/css/custom.css\">\n"
      ],
      "text/plain": [
       "<IPython.core.display.HTML object>"
      ]
     },
     "metadata": {},
     "output_type": "display_data"
    }
   ],
   "source": [
    "%%HTML\n",
    "<link rel=\"stylesheet\" href=\"https://doc.splicemachine.com/jupyter/css/custom.css\">"
   ]
  },
  {
   "cell_type": "code",
   "execution_count": null,
   "metadata": {},
   "outputs": [],
   "source": [
    "%%scala\n",
    "%%spark <> --noUI\n",
    "import java.net.InetAddress\n",
    "val driver_host = InetAddress.getLocalHost.getHostAddress\n",
    "SparkSession.builder()\n",
    "\t.appName(\"jt1test2\")\n",
    "\t.master(\"k8s://https://kubernetes.default.svc.cluster.local:443\")\n",
    "\t.config(\"spark.kubernetes.container.image\", \"splicemachine/sm_k8_spark:0.0.4\")\n",
    "\t.config(\"spark.executor.instances\", \"2\")\n",
    "\t.config(\"spark.submit.deployMode\", \"cluster\")\n",
    "\t.config(\"spark.submit.deployMode\", \"cluster\")\n",
    "\t.config(\"spark.driver.extraClassPath\", \"/opt/spark/conf:/opt/spark/jars/*\")\n",
    "\t.config(\"spark.executor.extraClassPath\", \"./:/opt/hbase/conf:/opt/splicemachine/lib/*:/opt/spark/jars/*:/opt/hbase/lib/*\")\n",
    "\t.config(\"splice.spark.executor.extraLibraryPath\", \"/opt/native\")\n",
    "\t.config(\"spark.files\", \"/opt/spark/conf/hbase-site.xml,/opt/spark/conf/core-site.xml,/opt/spark/conf/hdfs-site.xml,/opt/spark/jars/hbase_sql-2.8.0.1926-cdh5.14.0.jar\")\n",
    "\t.config(\"spark.kubernetes.authenticate.caCertFile\", \"/var/run/secrets/kubernetes.io/serviceaccount/ca.crt\")\n",
    "\t.config(\"spark.kubernetes.authenticate.oauthTokenFile\", \"/var/run/secrets/kubernetes.io/serviceaccount/token\")\n",
    "\t.config(\"spark.driver.host\", driver_host)\n",
    "\t.config(\"spark.kubernetes.authenticate.driver.serviceAccountName\", \"spark\")\n"
   ]
  },
  {
   "cell_type": "markdown",
   "metadata": {},
   "source": [
    "\n",
    "# Splice Transactions with Spark and JDBC\n",
    "\n",
    "Now we'll get a glimpse into the transactional nature of Splice Machine.  We'll switch to the `%spark` interpreter, which uses the Scala programming language; this allows us to easily demonstrate a clean way to programmatically interact with Splice Machine via JDBC. In this demonstration, we'll:\n",
    "\n",
    "<ul class=\"italic\">\n",
    "    <li>Run setup code to create our variables and define a simple Spark procedure named <code>checkBalance</code>.</li>\n",
    "    <li>Use JDBC calls to set and check values from the database.</li>\n",
    "    <li>Show the use of <code>commit</code> and <code>rollback</code> to control transactional persistence of our updates.</li>\n",
    "</ul>\n",
    "\n",
    "## Run Setup Code and Define our Procedure\n",
    "\n",
    "The first step is to run the next cell, which displays a form field. In that form, enter the JDBC URL, userId, and password you use to connect to Splice Machine, then click the *Go!* button.\n",
    "\n",
    "In the next cell, insert your JDBC URL, along with your user ID and password, in the <code>defaultJDBCURL</code> field:"
   ]
  },
  {
   "cell_type": "code",
   "execution_count": 3,
   "metadata": {
    "collapsed": true
   },
   "outputs": [
    {
     "name": "stdout",
     "output_type": "stream",
     "text": [
      "Please copy and paste your JDBC URL. You can find it at the bottom right of your cluster dashboard\n"
     ]
    },
    {
     "data": {
      "application/vnd.jupyter.widget-view+json": {
       "model_id": "3a0f2003-1981-4e85-8547-5ca12599a2e0",
       "version_major": 2,
       "version_minor": 0
      },
      "method": "display_data"
     },
     "metadata": {},
     "output_type": "display_data"
    }
   ],
   "source": [
    "%%scala \n",
    "println(\"Please copy and paste your JDBC URL. You can find it at the bottom right of your cluster dashboard\")\n",
    "val form : EasyForm = new com.twosigma.beakerx.scala.easyform.EasyForm(\"JDBC Input\")\n",
    "form.addTextField(\"jdbc\")\n",
    "form.put(\"jdbc\", \"Enter your JDBC Url here\")\n",
    "form.addButton(\"Go!\")\n",
    "form\n"
   ]
  },
  {
   "cell_type": "markdown",
   "metadata": {},
   "source": [
    "Next we connect to the database and then define a simple procedure, `checkBalance`, which checks and *pretty-prints* the current balance for a supplier:"
   ]
  },
  {
   "cell_type": "code",
   "execution_count": null,
   "metadata": {},
   "outputs": [],
   "source": [
    "%%scala \n",
    "import java.sql.{DriverManager,Connection}\n",
    "var conn = DriverManager.getConnection(form.get(\"jdbc\"))\n",
    "conn.setAutoCommit(false)\n",
    "var statement = conn.createStatement()\n",
    "\n",
    "def checkBalance(suppKey: Integer) : Unit = {\n",
    "    var resSet = statement.executeQuery(\"SELECT S_ACCTBAL FROM TPCH1.SUPPLIER WHERE S_SUPPKEY = \" + suppKey.toString())\n",
    "    while ( resSet.next() ) {\n",
    "        var bl = resSet.getString(\"S_ACCTBAL\")\n",
    "        println(\"================ Current account balance: \" + bl + \" ====================\");\n",
    "    }\n",
    "}\n"
   ]
  },
  {
   "cell_type": "markdown",
   "metadata": {},
   "source": [
    "Now we can check the balance easily at any time with the `checkBalance` call, passing in the supply key as a parameter. For example:"
   ]
  },
  {
   "cell_type": "code",
   "execution_count": null,
   "metadata": {},
   "outputs": [],
   "source": [
    "%%scala \n",
    "checkBalance(6517)"
   ]
  },
  {
   "cell_type": "markdown",
   "metadata": {},
   "source": [
    "## Committing a Transaction\n",
    "\n",
    "Our setup code created two useful variables we can now employ:\n",
    "\n",
    "<table class=\"splicezepNoBorder\">\n",
    "   <tbody>\n",
    "      <tr>\n",
    "          <td><code>statement</code></td>\n",
    "          <td>The standard JDBC Statement object, on which we run functions such as <code>executeUpdate</code>.</td>\n",
    "      </tr>\n",
    "      <tr>\n",
    "          <td><code>conn</code></td>\n",
    "          <td>A standard JDBC Connection object, on which we can run <code>commit</code> and <code>rollback</code>.</td>\n",
    "      </tr>\n",
    "    </tbody>\n",
    "</table>\n",
    "\n",
    "The first example shows an update statement which, upon committing, retains the value to which it is set:"
   ]
  },
  {
   "cell_type": "code",
   "execution_count": null,
   "metadata": {},
   "outputs": [],
   "source": [
    "%%scala \n",
    "statement.executeUpdate(\"update TPCH1.SUPPLIER SET S_ACCTBAL = 10000 WHERE S_SUPPKEY = 6517\");\n",
    "checkBalance(6517);\n",
    "conn.commit();\n",
    "checkBalance(6517);"
   ]
  },
  {
   "cell_type": "markdown",
   "metadata": {},
   "source": [
    "## Rolling Back a Transaction\n",
    "\n",
    "If we choose to do a rollback, the value returns to the previous value before the transactional context, as shown in the next example:\n"
   ]
  },
  {
   "cell_type": "code",
   "execution_count": null,
   "metadata": {},
   "outputs": [],
   "source": [
    "%%scala \n",
    "statement.executeUpdate(\"update TPCH1.SUPPLIER SET S_ACCTBAL = 0 WHERE S_SUPPKEY = 6517\")\n",
    "checkBalance(6517);\n",
    "conn.rollback();\n",
    "checkBalance(6517);\n"
   ]
  },
  {
   "cell_type": "markdown",
   "metadata": {},
   "source": [
    "## Where to Go Next\n",
    "\n",
    "The next notebook in this presentation walks you through <a href=\"./3.5%20Creating%20Applications.ipynb\">creating applications with Splice Machine.</a>\n"
   ]
  }
 ],
 "metadata": {
  "kernelspec": {
   "display_name": "Python 3",
   "language": "python",
   "name": "python3"
  },
  "language_info": {
   "codemirror_mode": {
    "name": "ipython",
    "version": 3
   },
   "file_extension": ".py",
   "mimetype": "text/x-python",
   "name": "python",
   "nbconvert_exporter": "python",
   "pygments_lexer": "ipython3",
   "version": "3.7.3"
  },
  "toc": {
   "base_numbering": 1,
   "nav_menu": {},
   "number_sections": false,
   "sideBar": false,
   "skip_h1_title": false,
   "title_cell": "Table of Contents",
   "title_sidebar": "Contents",
   "toc_cell": false,
   "toc_position": {},
   "toc_section_display": false,
   "toc_window_display": false
  }
 },
 "nbformat": 4,
 "nbformat_minor": 2
}

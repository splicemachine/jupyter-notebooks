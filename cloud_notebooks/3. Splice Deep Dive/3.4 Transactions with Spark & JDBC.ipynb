{
 "cells": [
  {
   "cell_type": "markdown",
   "metadata": {},
   "source": [
    "\n",
    "# Splice Transactions with Spark and JDBC\n",
    "\n",
    "Now we'll get a glimpse into the transactional nature of Splice Machine.  We'll switch to the `%spark` interpreter, which uses the Scala programming language; this allows us to easily demonstrate a clean way to programmatically interact with Splice Machine via JDBC. In this demonstration, we'll:\n",
    "\n",
    "<ul class=\"italic\">\n",
    "    <li>Run setup code to create our variables and define a simple Spark procedure named <code>checkBalance</code>.</li>\n",
    "    <li>Use JDBC calls to set and check values from the database.</li>\n",
    "    <li>Show the use of <code>commit</code> and <code>rollback</code> to control transactional persistence of our updates.</li>\n",
    "</ul>\n",
    "\n",
    "\n",
    "<p class=\"noteNote\">This assumes that Notebook <code>3.2 The Life of a Query</code> is run, so that the table <code>SUPPLIER</code> exists.</p>\n",
    "\n",
    "The first step is to run the next cell, which creates the spark context.\n"
   ]
  },
  {
   "cell_type": "code",
   "execution_count": null,
   "metadata": {},
   "outputs": [],
   "source": [
    "%%scala\n",
    "%%spark --start\n",
    "SparkSession.builder"
   ]
  },
  {
   "cell_type": "markdown",
   "metadata": {},
   "source": [
    "Next we connect to the database and then define a simple procedure, `checkBalance`, which checks and *pretty-prints* the current balance for a supplier:"
   ]
  },
  {
   "cell_type": "code",
   "execution_count": null,
   "metadata": {},
   "outputs": [],
   "source": [
    "%%scala \n",
    "import java.sql.{DriverManager,Connection}\n",
    "val jdbcurl : String = sys.env(\"BEAKERX_SQL_DEFAULT_JDBC\")\n",
    "var conn = DriverManager.getConnection(jdbcurl )\n",
    "conn.setAutoCommit(false)\n",
    "var statement = conn.createStatement()\n",
    "\n",
    "def checkBalance(suppKey: Integer) : Unit = {\n",
    "    var resSet = statement.executeQuery(\"SELECT S_ACCTBAL FROM SUPPLIER WHERE S_SUPPKEY = \" + suppKey.toString())\n",
    "    while ( resSet.next() ) {\n",
    "        var bl = resSet.getString(\"S_ACCTBAL\")\n",
    "        println(\"================ Current account balance: \" + bl + \" ====================\");\n",
    "    }\n",
    "}\n"
   ]
  },
  {
   "cell_type": "markdown",
   "metadata": {},
   "source": [
    "Now we can check the balance easily at any time with the `checkBalance` call, passing in the supply key as a parameter. For example:"
   ]
  },
  {
   "cell_type": "code",
   "execution_count": null,
   "metadata": {},
   "outputs": [],
   "source": [
    "%%scala \n",
    "checkBalance(6517)"
   ]
  },
  {
   "cell_type": "markdown",
   "metadata": {},
   "source": [
    "## Committing a Transaction\n",
    "\n",
    "Our setup code created two useful variables we can now employ:\n",
    "\n",
    "<table class=\"splicezepNoBorder\">\n",
    "   <tbody>\n",
    "      <tr>\n",
    "          <td><code>statement</code></td>\n",
    "          <td>The standard JDBC Statement object, on which we run functions such as <code>executeUpdate</code>.</td>\n",
    "      </tr>\n",
    "      <tr>\n",
    "          <td><code>conn</code></td>\n",
    "          <td>A standard JDBC Connection object, on which we can run <code>commit</code> and <code>rollback</code>.</td>\n",
    "      </tr>\n",
    "    </tbody>\n",
    "</table>\n",
    "\n",
    "The first example shows an update statement which, upon committing, retains the value to which it is set:"
   ]
  },
  {
   "cell_type": "code",
   "execution_count": null,
   "metadata": {},
   "outputs": [],
   "source": [
    "%%scala \n",
    "statement.executeUpdate(\"update SUPPLIER SET S_ACCTBAL = 10000 WHERE S_SUPPKEY = 6517\");\n",
    "checkBalance(6517);\n",
    "conn.commit();\n",
    "checkBalance(6517);"
   ]
  },
  {
   "cell_type": "markdown",
   "metadata": {},
   "source": [
    "## Rolling Back a Transaction\n",
    "\n",
    "If we choose to do a rollback, the value returns to the previous value before the transactional context, as shown in the next example:\n"
   ]
  },
  {
   "cell_type": "code",
   "execution_count": null,
   "metadata": {},
   "outputs": [],
   "source": [
    "%%scala \n",
    "statement.executeUpdate(\"update SUPPLIER SET S_ACCTBAL = 0 WHERE S_SUPPKEY = 6517\")\n",
    "checkBalance(6517);\n",
    "conn.rollback();\n",
    "checkBalance(6517);\n"
   ]
  },
  {
   "cell_type": "markdown",
   "metadata": {},
   "source": [
    "## Where to Go Next\n",
    "\n",
    "The next notebook in this presentation walks you through <a href=\"./3.5%20Creating%20Applications.ipynb\">creating applications with Splice Machine.</a>\n"
   ]
  }
 ],
 "metadata": {
  "kernelspec": {
   "display_name": "Python 3",
   "language": "python",
   "name": "python3"
  },
  "language_info": {
   "codemirror_mode": {
    "name": "ipython",
    "version": 3
   },
   "file_extension": ".py",
   "mimetype": "text/x-python",
   "name": "python",
   "nbconvert_exporter": "python",
   "pygments_lexer": "ipython3",
   "version": "3.7.8"
  },
  "toc": {
   "base_numbering": 1,
   "nav_menu": {},
   "number_sections": false,
   "sideBar": false,
   "skip_h1_title": false,
   "title_cell": "Table of Contents",
   "title_sidebar": "Contents",
   "toc_cell": false,
   "toc_position": {},
   "toc_section_display": false,
   "toc_window_display": false
  }
 },
 "nbformat": 4,
 "nbformat_minor": 2
}

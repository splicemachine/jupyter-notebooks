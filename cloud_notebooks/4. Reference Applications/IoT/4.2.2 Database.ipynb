{
 "cells": [
  {
   "cell_type": "code",
   "execution_count": 1,
   "metadata": {},
   "outputs": [
    {
     "data": {
      "text/html": [
       "<link rel=\"stylesheet\" href=\"https://doc.splicemachine.com/jupyter/css/custom.css\">\n"
      ],
      "text/plain": [
       "<IPython.core.display.HTML object>"
      ]
     },
     "metadata": {},
     "output_type": "display_data"
    }
   ],
   "source": [
    "%%HTML\n",
    "<link rel=\"stylesheet\" href=\"https://doc.splicemachine.com/jupyter/css/custom.css\">"
   ]
  },
  {
   "cell_type": "markdown",
   "metadata": {},
   "source": [
    "# Database Setup\n",
    "\n",
    "Our first step to creating our IoT program is to set up a database by creating a table into which data will be ingested and to populate additional supporting tables; we'll do this in the following three steps:\n",
    "\n",
    "* Create schema\n",
    "* Create tables\n",
    "* Load data for static(non streaming) tables\n",
    "\n",
    "You only need to run this notebook one time.\n",
    "\n",
    "## Create the Schema\n",
    "\n",
    "We first create the `IOTDEMO` schema in our Splice Machine database:"
   ]
  },
  {
   "cell_type": "code",
   "execution_count": null,
   "metadata": {},
   "outputs": [],
   "source": [
    "%%sql \n",
    "create schema IOTDEMO;\n"
   ]
  },
  {
   "cell_type": "markdown",
   "metadata": {},
   "source": [
    "## Create Tables\n",
    "\n",
    "Next we create the tables that we need for this demo; each of these is created within our `IOTDEMO` schema:\n",
    "\n",
    "<table class=\"splicezepOddEven\">\n",
    "    <thead>\n",
    "        <tr>\n",
    "            <th>Table Name</th>\n",
    "            <th>Description</th>\n",
    "        </tr>\n",
    "    </thead>\n",
    "    <tbody>\n",
    "        <tr>\n",
    "            <td><code>localmap</code></td>\n",
    "            <td>&nbsp;</td>\n",
    "        </tr>\n",
    "        <tr>\n",
    "            <td><code>zones</code></td>\n",
    "            <td>&nbsp;</td>\n",
    "        </tr>\n",
    "        <tr>\n",
    "            <td><code>zonegroup</code></td>\n",
    "            <td>&nbsp;</td>\n",
    "        </tr>\n",
    "        <tr>\n",
    "            <td><code>store</code></td>\n",
    "            <td>&nbsp;</td>\n",
    "        </tr>\n",
    "        <tr>\n",
    "            <td><code>warehouse</code></td>\n",
    "            <td>&nbsp;</td>\n",
    "        </tr>\n",
    "        <tr>\n",
    "            <td><code>locations</code></td>\n",
    "            <td>&nbsp;</td>\n",
    "        </tr>\n",
    "        <tr>\n",
    "            <td><code>items</code></td>\n",
    "            <td>&nbsp;</td>\n",
    "        </tr>\n",
    "        <tr>\n",
    "            <td><code>itemflow</code></td>\n",
    "            <td>&nbsp;</td>\n",
    "        </tr>\n",
    "    </tbody>\n",
    "</table>\n"
   ]
  },
  {
   "cell_type": "code",
   "execution_count": null,
   "metadata": {},
   "outputs": [],
   "source": [
    "%%sql \n",
    "CREATE TABLE IOTDEMO.localmap (\n",
    "  id bigint NOT NULL,\n",
    "  imageHeight double DEFAULT NULL,\n",
    "  imageUnit varchar(255) DEFAULT NULL,\n",
    "  imageWidth double DEFAULT NULL,\n",
    "  latOrigin double DEFAULT NULL,\n",
    "  latmax double DEFAULT NULL,\n",
    "  latmin double DEFAULT NULL,\n",
    "  lonOrigin double DEFAULT NULL,\n",
    "  lonmax double DEFAULT NULL,\n",
    "  lonmin double DEFAULT NULL,\n",
    "  primary key(id)\n",
    ");\n",
    "\n",
    "CREATE TABLE IOTDEMO.zones (\n",
    "  id bigint NOT NULL,\n",
    "   name varchar(255) DEFAULT NULL,\n",
    "  group_id bigint NOT NULL,\n",
    "  PRIMARY KEY (id)\n",
    ");\n",
    "CREATE TABLE IOTDEMO.zonegroup (\n",
    "  id bigint NOT NULL,\n",
    "  description varchar(255) DEFAULT NULL,\n",
    "  name varchar(255) DEFAULT NULL,\n",
    "  group_id bigint NOT NULL,\n",
    "  PRIMARY KEY (id)\n",
    ");\n",
    "\n",
    "CREATE TABLE IOTDEMO.STORE(\n",
    "\tID BIGINT,\n",
    "\tNAME VARCHAR(50),\n",
    "\tZONE_ID BIGINT,\n",
    "\tPRIMARY KEY(ID)\n",
    ");\n",
    "\n",
    "CREATE TABLE IOTDEMO.WAREHOUSE(\n",
    "\tID BIGINT,\n",
    "\tNAME VARCHAR(50),\n",
    "\tZONE_ID BIGINT,\n",
    "\tPRIMARY KEY(ID)\n",
    ");\n",
    "\n",
    "CREATE TABLE IOTDEMO.LOCATIONS(\n",
    "\tID BIGINT,\n",
    "\tSTORE_ID BIGINT,\n",
    "\tNAME VARCHAR(50),\n",
    "\tZONEID BIGINT,\n",
    "\tPRIMARY KEY(ID)\n",
    ");\n",
    "\n",
    "\n",
    "CREATE TABLE IOTDEMO.ITEMS (\n",
    "\tID BIGINT,\n",
    "\tSERIALNUMBER VARCHAR(50),\n",
    "\tNAME VARCHAR(50),\n",
    "\tCREATEDTIME TIMESTAMP,\n",
    "\tGROUP_ID BIGINT,\n",
    "\tTHINGTYPE_ID BIGINT,\n",
    "\tUPCCODE VARCHAR(255),\n",
    "\tUPCCODE_TIME TIMESTAMP,\n",
    "\tPRIMARY KEY(ID)\n",
    ");\n",
    "\n",
    "CREATE TABLE IOTDEMO.ITEMFLOW (\n",
    "\tID         BIGINT,\n",
    "\tMODIFIEDTIME      TIMESTAMP,\n",
    "\tTIME         TIMESTAMP,\n",
    "\tSOURCE         VARCHAR(255),\n",
    "\tzone_id         BIGINT,\n",
    "\tZONECHANGECOUNTER         DECIMAL(18,5),\n",
    "\tZONECHANGECOUNTER_TIME         TIMESTAMP,\n",
    "\twarehouse_id         BIGINT,\n",
    "\twarehouse_id_time         TIMESTAMP,\n",
    "\tstore_id         BIGINT,\n",
    "\tstore_id_time         TIMESTAMP,\n",
    "\tLOCATIONXYZ_X         DECIMAL(18,5),\n",
    "\tLOCATIONXYZ_Y         DECIMAL(18,5),\n",
    "\tLOCATIONXYZ_Z         DECIMAL(18,5),\n",
    "\tLOCATIONXYZ_TIME         TIMESTAMP,\n",
    "\tPOS_TIME         TIMESTAMP,\n",
    "\tDRESSINGROOM_TIME         TIMESTAMP,\n",
    "\tDOOREVENT_TIME         TIMESTAMP,\n",
    "\tPRIMARY KEY(ID, TIME)\n",
    ");\n",
    "\n",
    "    \n"
   ]
  },
  {
   "cell_type": "markdown",
   "metadata": {},
   "source": [
    "Now we can populate our supporting tables with data that Splice Machine has stored as CSV file in a public S3 bucket:"
   ]
  },
  {
   "cell_type": "code",
   "execution_count": null,
   "metadata": {},
   "outputs": [],
   "source": [
    "%%sql \n",
    "\n",
    "call SYSCS_UTIL.IMPORT_DATA('IOTDEMO','ZONES', null, 's3a://splice-demo/iot/static_data/zones.csv',',', null, 'yyyy-MM-dd HH:mm:ss', null, null, -1, '/tmp', true, null);\n",
    "call SYSCS_UTIL.IMPORT_DATA('IOTDEMO','ZONEGROUP', null, 's3a://splice-demo/iot/static_data/zonegroup.csv',',', null, 'yyyy-MM-dd HH:mm:ss', null, null, -1, '/tmp', true, null);\n",
    "call SYSCS_UTIL.IMPORT_DATA('IOTDEMO','WAREHOUSE', null, 's3a://splice-demo/iot/static_data/warehouse.csv',',', null, 'yyyy-MM-dd HH:mm:ss', null, null, -1, '/tmp', true, null);\n",
    "call SYSCS_UTIL.IMPORT_DATA('IOTDEMO','STORE', null, 's3a://splice-demo/iot/static_data/stores.csv',',', null, 'yyyy-MM-dd HH:mm:ss', null, null, -1, '/tmp', true, null);\n",
    "call SYSCS_UTIL.IMPORT_DATA('IOTDEMO','LOCATIONS', null, 's3a://splice-demo/iot/static_data/location.csv',',', null, 'yyyy-MM-dd HH:mm:ss', null, null, -1, '/tmp', true, null);\n",
    "call SYSCS_UTIL.IMPORT_DATA('IOTDEMO','LOCALMAP', null, 's3a://splice-demo/iot/static_data/localmap.csv',',', null, 'yyyy-MM-dd HH:mm:ss', null, null, -1, '/tmp', true, null);\n",
    "call SYSCS_UTIL.IMPORT_DATA('IOTDEMO','ITEMS', null, 's3a://splice-demo/iot/static_data/items.csv',',', null, 'yyyy-MM-dd HH:mm:ss', null, null, -1, '/tmp', true, null);\n"
   ]
  },
  {
   "cell_type": "markdown",
   "metadata": {},
   "source": [
    "## Where to Go Next\n",
    "\n",
    "Now continue on to the next step in creating our IoT demo program: [Setting up a Kafka Queue](../IoT/4.2.3%20Kafka.ipynb)"
   ]
  },
  {
   "cell_type": "code",
   "execution_count": null,
   "metadata": {},
   "outputs": [],
   "source": []
  }
 ],
 "metadata": {
  "kernelspec": {
   "display_name": "Python 3",
   "language": "python",
   "name": "python3"
  },
  "language_info": {
   "codemirror_mode": {
    "name": "ipython",
    "version": 3
   },
   "file_extension": ".py",
   "mimetype": "text/x-python",
   "name": "python",
   "nbconvert_exporter": "python",
   "pygments_lexer": "ipython3",
   "version": "3.7.3"
  },
  "toc": {
   "base_numbering": 1,
   "nav_menu": {},
   "number_sections": false,
   "sideBar": false,
   "skip_h1_title": false,
   "title_cell": "Table of Contents",
   "title_sidebar": "Contents",
   "toc_cell": false,
   "toc_position": {},
   "toc_section_display": false,
   "toc_window_display": false
  }
 },
 "nbformat": 4,
 "nbformat_minor": 2
}

{
 "cells": [
  {
   "cell_type": "code",
   "execution_count": null,
   "metadata": {},
   "outputs": [],
   "source": [
    "%%sql\n",
    "%defaultDatasource jdbc:splice://jrtest01-splice-hregion:1527/splicedb;user=splice;password=admin"
   ]
  },
  {
   "cell_type": "markdown",
   "metadata": {},
   "source": [
    "<link rel=\"stylesheet\" href=\"https://doc.splicemachine.com/zeppelin/css/zepstyles.css\" />\n",
    "\n",
    "# Database Setup\n",
    "First need to setup database, to create the table into which data will be ingested, and also populate additional supporting tables.\n",
    "The set process consists of 3 steps\n",
    "\n",
    "* Create Schema\n",
    "* Create tables\n",
    "* Load data for static(non streaming) tables\n",
    "\n",
    "This notebook needs to be run only the first time."
   ]
  },
  {
   "cell_type": "code",
   "execution_count": null,
   "metadata": {},
   "outputs": [],
   "source": [
    "%%sql \n",
    "create schema IOTDEMO;\n"
   ]
  },
  {
   "cell_type": "code",
   "execution_count": null,
   "metadata": {},
   "outputs": [],
   "source": [
    "%%sql \n",
    "CREATE TABLE IOTDEMO.localmap (\n",
    "  id bigint NOT NULL,\n",
    "  imageHeight double DEFAULT NULL,\n",
    "  imageUnit varchar(255) DEFAULT NULL,\n",
    "  imageWidth double DEFAULT NULL,\n",
    "  latOrigin double DEFAULT NULL,\n",
    "  latmax double DEFAULT NULL,\n",
    "  latmin double DEFAULT NULL,\n",
    "  lonOrigin double DEFAULT NULL,\n",
    "  lonmax double DEFAULT NULL,\n",
    "  lonmin double DEFAULT NULL,\n",
    "  primary key(id)\n",
    ");\n",
    "\n",
    "CREATE TABLE IOTDEMO.zones (\n",
    "  id bigint NOT NULL,\n",
    "   name varchar(255) DEFAULT NULL,\n",
    "  group_id bigint NOT NULL,\n",
    "  PRIMARY KEY (id)\n",
    ");\n",
    "CREATE TABLE IOTDEMO.zonegroup (\n",
    "  id bigint NOT NULL,\n",
    "  description varchar(255) DEFAULT NULL,\n",
    "  name varchar(255) DEFAULT NULL,\n",
    "  group_id bigint NOT NULL,\n",
    "  PRIMARY KEY (id)\n",
    ");\n",
    "\n",
    "CREATE TABLE IOTDEMO.STORE(\n",
    "\tID BIGINT,\n",
    "\tNAME VARCHAR(50),\n",
    "\tZONE_ID BIGINT,\n",
    "\tPRIMARY KEY(ID)\n",
    ");\n",
    "\n",
    "CREATE TABLE IOTDEMO.WAREHOUSE(\n",
    "\tID BIGINT,\n",
    "\tNAME VARCHAR(50),\n",
    "\tZONE_ID BIGINT,\n",
    "\tPRIMARY KEY(ID)\n",
    ");\n",
    "\n",
    "CREATE TABLE IOTDEMO.LOCATIONS(\n",
    "\tID BIGINT,\n",
    "\tSTORE_ID BIGINT,\n",
    "\tNAME VARCHAR(50),\n",
    "\tZONEID BIGINT,\n",
    "\tPRIMARY KEY(ID)\n",
    ");\n",
    "\n",
    "\n",
    "CREATE TABLE IOTDEMO.ITEMS (\n",
    "\tID BIGINT,\n",
    "\tSERIALNUMBER VARCHAR(50),\n",
    "\tNAME VARCHAR(50),\n",
    "\tCREATEDTIME TIMESTAMP,\n",
    "\tGROUP_ID BIGINT,\n",
    "\tTHINGTYPE_ID BIGINT,\n",
    "\tUPCCODE VARCHAR(255),\n",
    "\tUPCCODE_TIME TIMESTAMP,\n",
    "\tPRIMARY KEY(ID)\n",
    ");\n",
    "\n",
    "CREATE TABLE IOTDEMO.ITEMFLOW (\n",
    "\tID         BIGINT,\n",
    "\tMODIFIEDTIME      TIMESTAMP,\n",
    "\tTIME         TIMESTAMP,\n",
    "\tSOURCE         VARCHAR(255),\n",
    "\tzone_id         BIGINT,\n",
    "\tZONECHANGECOUNTER         DECIMAL(18,5),\n",
    "\tZONECHANGECOUNTER_TIME         TIMESTAMP,\n",
    "\twarehouse_id         BIGINT,\n",
    "\twarehouse_id_time         TIMESTAMP,\n",
    "\tstore_id         BIGINT,\n",
    "\tstore_id_time         TIMESTAMP,\n",
    "\tLOCATIONXYZ_X         DECIMAL(18,5),\n",
    "\tLOCATIONXYZ_Y         DECIMAL(18,5),\n",
    "\tLOCATIONXYZ_Z         DECIMAL(18,5),\n",
    "\tLOCATIONXYZ_TIME         TIMESTAMP,\n",
    "\tPOS_TIME         TIMESTAMP,\n",
    "\tDRESSINGROOM_TIME         TIMESTAMP,\n",
    "\tDOOREVENT_TIME         TIMESTAMP,\n",
    "\tPRIMARY KEY(ID, TIME)\n",
    ");\n",
    "\n",
    "    \n"
   ]
  },
  {
   "cell_type": "code",
   "execution_count": null,
   "metadata": {},
   "outputs": [],
   "source": [
    "%%sql \n",
    "\n",
    "call SYSCS_UTIL.IMPORT_DATA('IOTDEMO','ZONES', null, 's3a://splice-demo/iot/static_data/zones.csv',',', null, 'yyyy-MM-dd HH:mm:ss', null, null, -1, '/tmp', true, null);\n",
    "call SYSCS_UTIL.IMPORT_DATA('IOTDEMO','ZONEGROUP', null, 's3a://splice-demo/iot/static_data/zonegroup.csv',',', null, 'yyyy-MM-dd HH:mm:ss', null, null, -1, '/tmp', true, null);\n",
    "call SYSCS_UTIL.IMPORT_DATA('IOTDEMO','WAREHOUSE', null, 's3a://splice-demo/iot/static_data/warehouse.csv',',', null, 'yyyy-MM-dd HH:mm:ss', null, null, -1, '/tmp', true, null);\n",
    "call SYSCS_UTIL.IMPORT_DATA('IOTDEMO','STORE', null, 's3a://splice-demo/iot/static_data/stores.csv',',', null, 'yyyy-MM-dd HH:mm:ss', null, null, -1, '/tmp', true, null);\n",
    "call SYSCS_UTIL.IMPORT_DATA('IOTDEMO','LOCATIONS', null, 's3a://splice-demo/iot/static_data/location.csv',',', null, 'yyyy-MM-dd HH:mm:ss', null, null, -1, '/tmp', true, null);\n",
    "call SYSCS_UTIL.IMPORT_DATA('IOTDEMO','LOCALMAP', null, 's3a://splice-demo/iot/static_data/localmap.csv',',', null, 'yyyy-MM-dd HH:mm:ss', null, null, -1, '/tmp', true, null);\n",
    "call SYSCS_UTIL.IMPORT_DATA('IOTDEMO','ITEMS', null, 's3a://splice-demo/iot/static_data/items.csv',',', null, 'yyyy-MM-dd HH:mm:ss', null, null, -1, '/tmp', true, null);\n",
    "\n"
   ]
  },
  {
   "cell_type": "code",
   "execution_count": null,
   "metadata": {},
   "outputs": [],
   "source": [
    "%%sql \n"
   ]
  }
 ],
 "metadata": {
  "kernelspec": {
   "display_name": "Python 3",
   "language": "python",
   "name": "python3"
  },
  "language_info": {
   "codemirror_mode": {
    "name": "ipython",
    "version": 3
   },
   "file_extension": ".py",
   "mimetype": "text/x-python",
   "name": "python",
   "nbconvert_exporter": "python",
   "pygments_lexer": "ipython3",
   "version": "3.7.3"
  },
  "toc": {
   "base_numbering": 1,
   "nav_menu": {},
   "number_sections": false,
   "sideBar": false,
   "skip_h1_title": false,
   "title_cell": "Table of Contents",
   "title_sidebar": "Contents",
   "toc_cell": false,
   "toc_position": {},
   "toc_section_display": false,
   "toc_window_display": false
  }
 },
 "nbformat": 4,
 "nbformat_minor": 2
}

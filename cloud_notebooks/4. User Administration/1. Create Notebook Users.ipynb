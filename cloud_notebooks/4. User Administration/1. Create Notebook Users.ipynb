{
 "cells": [
  {
   "cell_type": "markdown",
   "metadata": {},
   "source": [
    "# Notebook Users\n",
    "\n",
    "<blockquote><p class='quotation'><span style='font-size:15px'>You may want to have multiple users in your splice machine database that can execute the jupyter notebooks.  The first thing you will want to do is create a new user.  You can create a user by using the system procedure <code>SYSCS_UTIL.SYSCS_CREATE_USER</code>. <br><br> In the following paragraph replace <code>USERNAME</code> and <code>PASSWORD</code> with the username and password for the user you are creating.<footer>Splice Machine</footer></blockquote>\n",
    "\n"
   ]
  },
  {
   "cell_type": "markdown",
   "metadata": {},
   "source": [
    "## Find and Replace in Jupyter\n",
    "\n",
    "#### After clicking on a cell, you can find+replace any words by clicking Edit -> Find and Replace\n",
    "<img src=\"https://splice-demo.s3.amazonaws.com/Find_and_Replace_Jupyter.png\" >\n",
    "\n"
   ]
  },
  {
   "cell_type": "code",
   "execution_count": null,
   "metadata": {},
   "outputs": [],
   "source": [
    "%%sql\n",
    "CALL SYSCS_UTIL.SYSCS_CREATE_USER('USERNAME', 'PASSWORD');"
   ]
  },
  {
   "cell_type": "markdown",
   "metadata": {},
   "source": [
    "<blockquote><p class='quotation'><span style='font-size:15px'>Next, you will need to <code>grant</code> the user privileges to several system stored procedures.  In the following paragraph, replace the <code>USERNAME</code> with the username used in the previous step.</blockquote>"
   ]
  },
  {
   "cell_type": "code",
   "execution_count": null,
   "metadata": {},
   "outputs": [],
   "source": [
    "%%sql\n",
    "grant execute on procedure SYSCS_UTIL.IMPORT_DATA to USERNAME;\n",
    "grant execute on procedure SYSCS_UTIL.SYSCS_PERFORM_MAJOR_COMPACTION_ON_TABLE to USERNAME;\n",
    "grant execute on procedure SYSCS_UTIL.SYSCS_PERFORM_MAJOR_COMPACTION_ON_SCHEMA to USERNAME;\n",
    "grant execute on procedure SYSCS_UTIL.COLLECT_SCHEMA_STATISTICS to USERNAME;\n",
    "grant execute on procedure SYSCS_UTIL.COLLECT_TABLE_STATISTICS to USERNAME;\n",
    "grant execute on procedure SYSCS_UTIL.SYSCS_GET_RUNNING_OPERATIONS to USERNAME;\n",
    "grant execute on procedure SYSCS_UTIL.SYSCS_GET_RUNNING_OPERATIONS_LOCAL to USERNAME;\n",
    "grant execute on procedure SYSCS_UTIL.SYSCS_GET_VERSION_INFO to USERNAME;\n",
    "grant execute on procedure SYSCS_UTIL.SYSCS_GET_CURRENT_TRANSACTION to USERNAME;\n",
    "grant execute on procedure SQLJ.INSTALL_JAR to USERNAME;"
   ]
  },
  {
   "cell_type": "markdown",
   "metadata": {},
   "source": [
    "<blockquote><p class='quotation'><span style='font-size:15px'>Finally, you will need to grant them access to a few tables in the <code>MLMANAGER</code> schema in order to run the machine learning sample notebook. Replace the <code>USERNAME</code> with the username used in the previous step.</blockquote>"
   ]
  },
  {
   "cell_type": "code",
   "execution_count": null,
   "metadata": {},
   "outputs": [],
   "source": [
    "%%sql\n",
    "grant access on schema MLMANAGER to USERNAME; \n",
    "GRANT INSERT, SELECT on MLMANAGER.ARTIFACTS TO USERNAME;"
   ]
  }
 ],
 "metadata": {
  "kernelspec": {
   "display_name": "Python 3",
   "language": "python",
   "name": "python3"
  },
  "language_info": {
   "codemirror_mode": {
    "name": "ipython",
    "version": 3
   },
   "file_extension": ".py",
   "mimetype": "text/x-python",
   "name": "python",
   "nbconvert_exporter": "python",
   "pygments_lexer": "ipython3",
   "version": "3.7.7"
  },
  "toc": {
   "base_numbering": 1,
   "nav_menu": {},
   "number_sections": false,
   "sideBar": false,
   "skip_h1_title": false,
   "title_cell": "Table of Contents",
   "title_sidebar": "Contents",
   "toc_cell": false,
   "toc_position": {},
   "toc_section_display": false,
   "toc_window_display": false
  }
 },
 "nbformat": 4,
 "nbformat_minor": 2
}

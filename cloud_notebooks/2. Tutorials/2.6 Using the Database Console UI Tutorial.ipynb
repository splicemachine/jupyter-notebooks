{
    "cells": [
        {
            "cell_type": "code",
            "execution_count": null,
            "metadata": {},
            "outputs": [],
            "source": [
                "import os\n",
                "os.environ['JDBC_HOST'] = 'jrtest01-splice-hregion'"
            ]
        },
        {
            "cell_type": "markdown",
            "metadata": {},
            "source": [
                "<link rel=\"stylesheet\" href=\"https://doc.splicemachine.com/zeppelin/css/zepstyles.css\" />\n",
                "\n",
                "# Using the Database Console User Interface\n",
                "\n",
                "You may recall that Splice Machine has a dual-engine architecture can run statements and queries directly in HBase (the `control` side) or in Apache Spark. You can see which engine is used (`control` or `Spark`) from examining the top line of the `explain` for a query. Fast queries that run in milliseconds are sent directly to the control engine, while larger queries processing more data go to the Spark engine.\n",
                "\n",
                "We'll now dig into the DB Console UI, which monitors queries sent to the Spark engine. You can use this very useful utility to follow the progress of queries running in Spark, monitor GC usage, and terminate queries when necessary."
            ]
        },
        {
            "cell_type": "markdown",
            "metadata": {},
            "source": [
                "## Accessing the Console UI\n",
                "\n",
                "When you click on your cluster from the Splice Management screen, you'll see the *DB Console* button in the upper right-hand corner.\n",
                "<img class=\"fitwidth\" src=\"https://doc.splicemachine.com/zeppelin/images/zepAccessConsoleUI.png\" alt=\"Accessing the Console UI from Your Dashboard\">\n",
                "\n",
                "Click that button to access the DB Console ( *Spark* ) UI:\n",
                "<img class=\"fitwidth\" src=\"https://doc.splicemachine.com/zeppelin/images/zepSparkJobs.png\" alt=\"Console UI Top-Level Display\">\n"
            ]
        },
        {
            "cell_type": "markdown",
            "metadata": {},
            "source": [
                "## Basic UI Features\n",
                "\n",
                "Before we use the console to examine a specific query, let's go over a few interesting notes about the DB Console:\n",
                "\n",
                "* Queries are reported as *Jobs* in the Spark UI\n",
                "* Each Job will have *Stages*\n",
                "* Each Stage will have *Tasks*\n",
                "\n",
                "#### Drilling Down\n",
                "\n",
                "In general, you can click anything that displays as a <span class=\"ConsoleLink\">blue link</span> to drill down into a more detailed view. For example,if you were  looking at the following in the Console, you could click <span class=\"ConsoleLink\">Explain</span> in the following description from the completed jobs table, which will drill down into the job details for *Job 113*:\n",
                "<img class=\"fitwidth\" src=\"https://doc.splicemachine.com/zeppelin/images/zepConsoleDrillDown.png\" alt=\"Drilling Down in the Console UI\">\n",
                "\n",
                "You can continue to drill down from there to reveal increasing levels of detail. In the next section of this Tutorial, we will view job details and then drill down for an example query.\n",
                "\n",
                "#### Switching Views\n",
                "\n",
                "You can quickly switch to a different view by clicking a tab in the tab bar at the top of the console screen. The *Jobs* tab is selected in this screen shot:\n",
                "<img class=\"fitwidth\" src=\"https://doc.splicemachine.com/zeppelin/images/zepConsoleTabs.png\" alt=\"Console UI Main Tabs display\">\n",
                "\n",
                "#### Hovering\n",
                "\n",
                "You can hover the cursor over interface element links, like the <span class=\"ConsoleLink\">Event Timeline</span> drop-down in the following image, to display a screen tip for the item:\n",
                "<img class=\"fitwidth\" src=\"https://doc.splicemachine.com/zeppelin/images/zepConsoleHover.png\" alt=\"Console UI Event Timeline drop-down\">\n",
                "\n",
                "Similarly, you can hover over the ? to display the definition for a term, like the definition of a job:\n",
                "<img class=\"fitwidth\" src=\"https://doc.splicemachine.com/zeppelin/images/zepConsoleHover2.png\" alt=\"Hovering to display term definition in the Console UI\">\n",
                "\n",
                "And you can hover over an event in timeline display to see summary information; for example:\n",
                "<img class=\"fitwidth\" src=\"https://doc.splicemachine.com/zeppelin/images/zepConsoleTimelineHover.png\" alt=\"Hovering over the Console UI Timeline Display\">\n"
            ]
        },
        {
            "cell_type": "markdown",
            "metadata": {},
            "source": [
                "## Running a Basic Query\n",
                "\n",
                "Let's run a simple query that we set up in the previous Notebook.\n",
                "\n",
                "Before we run the query, let's first generate the `EXPLAIN` plan for this query by clicking *Shift + Enter*:\n",
                "\n"
            ]
        },
        {
            "cell_type": "code",
            "execution_count": null,
            "metadata": {},
            "outputs": [],
            "source": [
                "%%sql \n",
                "\n",
                "explain select count(*) from index_example"
            ]
        },
        {
            "cell_type": "markdown",
            "metadata": {},
            "source": [
                "<br />\n",
                "\n",
                "Notice the `engine=Spark` on the top line, which indicates that this query will be processed by the Spark engine.\n",
                "\n",
                "Now let's actually run the query:"
            ]
        },
        {
            "cell_type": "code",
            "execution_count": null,
            "metadata": {},
            "outputs": [],
            "source": [
                "%%sql \n",
                "\n",
                "select count(*) from index_example"
            ]
        },
        {
            "cell_type": "markdown",
            "metadata": {},
            "source": [
                "<br />\n",
                "\n",
                "Since we have run a Spark query, we can now use the DB Console ( *Spark* ) UI to view the query.  You should see something like this:\n",
                "<img class=\"fitwidth\" src=\"https://doc.splicemachine.com/zeppelin/images/zepSparkJob2.png\" alt=\"Viewing a query in the console UI\">\n",
                "\n",
                "If you got to the DB Console quickly enough after running the query, it may show as an *Active Job* instead of being a *Completed Job.*\n",
                "\n",
                "<p class=\"noteNote\">The Spark DB Console is not accessible until you've run at least one Spark query on your cluster.</p>\n"
            ]
        },
        {
            "cell_type": "markdown",
            "metadata": {},
            "source": [
                "## Drilling Down into Our Results\n",
                "\n",
                "Let's examine the Stages of the Job we just ran by starting on the Jobs page and clicking <span class=\"ConsoleLink\">Produce Result Set</span> for the above query. You'll see the *Job Detail* display for the query:\n",
                "\n",
                "  <img class=\"fitwidth\" src=\"https://doc.splicemachine.com/zeppelin/images/zepJobDetail1.png\" alt=\"Job Detail in the Console UI\">\n",
                "\n",
                "Note that the detail includes this information:\n",
                "\n",
                "* This job has two Stages\n",
                "* Each Stage has a duration\n",
                "* Each Stage in this Job ran one Task\n",
                "\n",
                "### Viewing Job Details Graphically\n",
                "\n",
                "You can see a graphical representation of the actual activity performed within the Job's Stages by clicking the <span class=\"ConsoleLink\">DAG Visualization</span> link above the *Completed Stages* section of the Job Details display. Here's what that looks like for our example query:\n",
                "\n",
                "  <img class=\"fitwidth\" src=\"https://doc.splicemachine.com/zeppelin/images/zepJobDetailDag.png\" alt=\"Directed Graph Visualization in the Console UI\">\n",
                "\n",
                "Note that this is essentially another view of the EXPLAIN plan for this query, with the execution flow depicted by the arrows.\n"
            ]
        },
        {
            "cell_type": "markdown",
            "metadata": {},
            "source": [
                "### Viewing Stage Details\n",
                "\n",
                "To drill down into the detail of the first Stage of our query, click anywhere in the box representing the Stage (`Stage 135` in this context) in the DAG visualization. The Console displays the details of that Stage:\n",
                "\n",
                "  <img class=\"fitwidth\" src=\"https://doc.splicemachine.com/zeppelin/images/zepStageDetailDag.png\" alt=\"Viewing details of a stage in the Console UI\">\n",
                "\n",
                "The DAG Visualization for the Stage is shown at the top of this view; you can hide the DAG by clicking the <span class=\"ConsoleLink\">DAG Visualization</span> link, or you can scroll down below the graph to see the *Summary Metrics* for the Stage:\n",
                "\n",
                "  <img class=\"fitwidth\" src=\"https://doc.splicemachine.com/zeppelin/images/zepStageDetails.png\" alt=\"Stage Details \">\n",
                "\n",
                "At the very bottom of this view, we see *Tasks.*  These are the most basic work units in the Spark Engine. For each task you will see:\n",
                "\n",
                "* a duration\n",
                "* garbage collection time\n",
                "* other information relevant to the task activity\n",
                "\n",
                "In the above example, we see that this Task:\n",
                "\n",
                "* performed a TableScan\n",
                "* read 1310720 rows\n",
                "* wrote out 71 bytes of records for the next processing Stage\n",
                "\n"
            ]
        },
        {
            "cell_type": "markdown",
            "metadata": {},
            "source": [
                "### Viewing the Event Timeline\n",
                "\n",
                "You can get another view of the current Stage by clicking the <span class=\"ConsoleLink\">Event Timeline</span> link; the Console the displays all tasks in this stage on a timeline:\n",
                "  <img class=\"fitwidth\" src=\"https://doc.splicemachine.com/zeppelin/images/zepStageTimeline.png\" alt=\"Viewing the event timeline for a stage in the Console UI\">\n",
                "\n",
                "This view is especially useful when a Stage has many tasks, and you want to see how many executors and how much parallelism is being achieved for this stage of the query. More on this in a moment."
            ]
        },
        {
            "cell_type": "markdown",
            "metadata": {},
            "source": [
                "### Parallelism and Spark\n",
                "\n",
                "The power of Splice Machine in performing large analytic queries quickly lies in its ability to run those queries with parallel resources.  Spark has the capability of running a number of Job/Stages/Tasks in parallel.  How much parallelism you see, and where, depends on the following:\n",
                "\n",
                "<table class=\"splicezep\">\n",
                "    <col />\n",
                "    <col />\n",
                "    <thead>\n",
                "        <tr>\n",
                "            <th>Parallelism Factor</th>\n",
                "            <th>Description</th>\n",
                "        </tr>\n",
                "    </thead>\n",
                "    <tbody>\n",
                "        <tr>\n",
                "            <td>Active executors</td>\n",
                "            <td><p>How many executors are running your query or queries?</p>\n",
                "                <p>The executor count starts at 4 and is equal to your selected number of *OLAP Splice Units*; each executor can run typically 4 tasks in parallel, which means that a cluster configured for 4 *OLAP Splice Units* can run up to 16 tasks in parallel.</p></td>\n",
                "        </tr>\n",
                "        <tr>\n",
                "            <td>Tasks per stage in one query</td>\n",
                "            <td><p>Our example data set contains only 1 million rows; as a result, our example query had only 1 Task per Stage. With more data in your tables, you will see more tasks in parallel in a given Stage.</p>\n",
                "                <p>Splice Machine will dynamically split up the workload across many tasks for large data sets.</p></td>\n",
                "        </tr>\n",
                "        <tr>\n",
                "            <td># of Queries being run simultaneously</td>\n",
                "            <td>Spark can run queries simultaneously with available resources.</td>\n",
                "        </tr>\n",
                "    </tbody>\n",
                "</table>\n",
                "\n"
            ]
        },
        {
            "cell_type": "markdown",
            "metadata": {},
            "source": [
                "### Summary and Where to Go Next\n",
                "\n",
                "As you've seen in this Tutorial, the Database Console UI is extremely useful in getting a view into how well your queries are getting processed.  Once you have your data loaded at or near target scale, if you are not seeing good throughput (task activity, etc), contact <a  href=\"mailto:support@splicemachine.com\">support@splicemachine.com</a>.\n",
                "\n",
                "Please proceed to the next Tutorial Notebook, <a href=\"./2.7%20Explaining%20and%20Hinting%20Tutorial.ipynb\">Explaining and Hints</a>, to discover more about Splice Machine query tuning."
            ]
        },
        {
            "cell_type": "code",
            "execution_count": null,
            "metadata": {},
            "outputs": [],
            "source": []
        }
    ],
    "metadata": {
        "kernelspec": {
            "display_name": "Python 3",
            "language": "python",
            "name": "python3"
        },
        "language_info": {
            "codemirror_mode": {
                "name": "ipython",
                "version": 3
            },
            "file_extension": ".py",
            "mimetype": "text/x-python",
            "name": "python",
            "nbconvert_exporter": "python",
            "pygments_lexer": "ipython3",
            "version": "3.7.3"
        },
        "toc": {
            "base_numbering": 1,
            "nav_menu": {},
            "number_sections": false,
            "sideBar": false,
            "skip_h1_title": false,
            "title_cell": "Table of Contents",
            "title_sidebar": "Contents",
            "toc_cell": false,
            "toc_position": {},
            "toc_section_display": false,
            "toc_window_display": false
        }
    },
    "nbformat": 4,
    "nbformat_minor": 2
}
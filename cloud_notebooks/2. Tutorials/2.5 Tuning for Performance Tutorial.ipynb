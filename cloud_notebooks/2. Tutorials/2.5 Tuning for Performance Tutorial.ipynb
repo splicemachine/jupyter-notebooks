{
    "cells": [
        {
            "cell_type": "code",
            "execution_count": null,
            "metadata": {},
            "outputs": [],
            "source": [
                "import os\n",
                "os.environ['JDBC_HOST'] = 'jrtest01-splice-hregion'"
            ]
        },
        {
            "cell_type": "code",
            "execution_count": null,
            "metadata": {},
            "outputs": [],
            "source": [
                "# setup-- \n",
                "import os\n",
                "import pyspark\n",
                "from splicemachine.spark.context import PySpliceContext\n",
                "from pyspark.conf import SparkConf\n",
                "from pyspark.sql import SparkSession\n",
                "\n",
                "# make sure pyspark tells workers to use python3 not 2 if both are installed\n",
                "os.environ['PYSPARK_PYTHON'] = '/usr/bin/python3'\n",
                "jdbc_host = os.environ['JDBC_HOST']\n",
                "\n",
                "conf = pyspark.SparkConf()\n",
                "sc = pyspark.SparkContext(conf=conf)\n",
                "\n",
                "spark = SparkSession.builder.config(conf=conf).getOrCreate()\n",
                "\n",
                "splicejdbc=f\"jdbc:splice://{jdbc_host}:1527/splicedb;user=splice;password=admin\"\n",
                "\n",
                "splice = PySpliceContext(spark, splicejdbc)\n"
            ]
        },
        {
            "cell_type": "markdown",
            "metadata": {},
            "source": [
                "<link rel=\"stylesheet\" href=\"https://doc.splicemachine.com/zeppelin/css/zepstyles.css\" />\n",
                "\n",
                "# Tuning for Performance\n",
                "\n",
                "Tuning for performance is a critical topic for any database. This is especially true for Splice Machine, because its architecture may influence performance in ways unexpected by experienced database users.\n",
                "\n",
                "Splice Machine uses a cost-based optimizer, which means that the database determines different plans (ways it can run) for a query. The optimizer estimates the *cost* of each possible plan, and chooses the lowest-cost option.\n",
                "\n",
                "This Notebook introduces a number of tips you can employ to help generate the lowest cost plan and best performance for your queries, in these sections:\n",
                "\n",
                "* *Collecting Statistics*\n",
                "* *Performing Major Compactions*\n",
                "* *Creating Primary Keys and Indexes*\n",
                "* *Joining Tables*\n",
                "* *Selecting a Join Strategy*"
            ]
        },
        {
            "cell_type": "markdown",
            "metadata": {},
            "source": [
                "## Collecting Statistics\n",
                "\n",
                "The first commands you should learn about are the statistics collection commands:\n",
                "\n",
                "* `ANALYZE TABLE` collects statistics for a specific table\n",
                "* `ANALYZE SCHEMA` collects statistics for all tables in a schema.\n",
                "\n",
                "Collecting statistics drastically improves the estimation of costs that the optimizer relies on to find the best plan.\n",
                "\n",
                "Let's take a look at the impact of running statistics on our import test table from *Importing Data* Notebook. You can most easily understand this by viewing the output from the `EXPLAIN` command. First, we'll click the  <img class=\"inline\" src=\"https://doc.splicemachine.com/zeppelin/images/zepPlayIcon.png\" alt=\"Run Zep Paragraph Icon\"> *Run* button in the next paragraph to display the execution plan for our unoptimized query:"
            ]
        },
        {
            "cell_type": "code",
            "execution_count": null,
            "metadata": {},
            "outputs": [],
            "source": [
                "%%sql \n",
                "\n",
                "explain select * from import_example a, import_example b\n",
                "where a.i = 100"
            ]
        },
        {
            "cell_type": "markdown",
            "metadata": {},
            "source": [
                "<br />\n",
                "\n",
                "You'll notice, as you probably did when running the `explain` in the *Importing Data* tutorial, that the row counts are way off! That's because we have __not__ run statistics yet. When statistics have not been run, the optimizer makes an estimate, but row counts will be rough approximations.\n",
                "\n",
                "Let's collect some statistics by analyzing our table, and then we'll rerun the `explain`. When you click <img class=\"inline\" src=\"https://doc.splicemachine.com/zeppelin/images/zepPlayIcon.png\" alt=\"Run Zep Paragraph Icon\"> to run the next paragraph, you'll see that the row counts and costs are accurate.\n",
                "\n",
                "<p class=\"noteNote\">Splice Machine recommends collecting statistics after initial loading of data into a table, and recollecting them if you've made significant changes to a table. Running the <code>analyze</code> command can take a bit of time, depending on the size of your database.</p>\n"
            ]
        },
        {
            "cell_type": "code",
            "execution_count": null,
            "metadata": {},
            "outputs": [],
            "source": [
                "%%sql \n",
                "\n",
                "analyze table import_example;\n",
                "\n",
                "explain select * from import_example a, import_example b\n",
                "where a.i = 100"
            ]
        },
        {
            "cell_type": "markdown",
            "metadata": {},
            "source": [
                "## Major Compactions\n",
                "\n",
                "Splice Machine stores its data in HBase HFiles. HBase is good at handling the creation of HFiles as needed; however, it's important to be aware that HBase does perform asynchronous maintenance tasks to keep HFile working as efficiently as possible:\n",
                "\n",
                "* HBase kicks off *Minor compactions* as a minor HFiles housekeeping task.\n",
                "* HBase triggers *Major compactions* less frequently; these do much more housekeeping.\n",
                "\n",
                "If you've just imported a lot of data (say 10M rows or so), it may be worth your while to manually trigger a major compaction using Splice Machine's  `PERFORM_MAJOR_COMPACTION_ON_TABLE` command. Click <img class=\"inline\" src=\"https://doc.splicemachine.com/zeppelin/images/zepPlayIcon.png\" alt=\"Run Zep Paragraph Icon\"> to run the next paragraph, which triggers a major compaction of your `import_example` table.\n",
                "\n",
                "<p class=\"noteIcon\">Though major compactions can take some time to complete, they are worth doing for large tables that are used in a lot of analytic queries.</p>"
            ]
        },
        {
            "cell_type": "code",
            "execution_count": null,
            "metadata": {},
            "outputs": [],
            "source": [
                "%%sql \n",
                "\n",
                "call SYSCS_UTIL.SYSCS_PERFORM_MAJOR_COMPACTION_ON_TABLE('SPLICE','IMPORT_EXAMPLE')"
            ]
        },
        {
            "cell_type": "markdown",
            "metadata": {},
            "source": [
                "## Creating Primary Keys and Indexes\n",
                "\n",
                "Splice Machine, like other databases, supports the creation of primary keys and indexes; in Splice Machine:\n",
                "\n",
                "* the primary key becomes the key for the HBase table\n",
                "* an index is another HBase table whose key consists of the columns in the index\n",
                "* compound (multi-column) primary keys and indexes are supported\n",
                "\n",
                "<p class=\"noteIcon\">As with all databases that support indexes, an index improperly used can actually <strong>slow down</strong> a query. This is especially true with Splice Machine because it is a distributed system, which means that there may be a significant cost to looking up the non-indexed information in a query. This is why you may see Splice Machine intentionally <strong>NOT</strong> use an index when one is available.</p>\n",
                "\n",
                "Let's run through some quick examples. Click <img class=\"inline\" src=\"https://doc.splicemachine.com/zeppelin/images/zepPlayIcon.png\" alt=\"Run Zep Paragraph Icon\"> to run the next paragraph, which creates an example table; this should take less than a minute."
            ]
        },
        {
            "cell_type": "code",
            "execution_count": null,
            "metadata": {},
            "outputs": [],
            "source": [
                "%%sql \n",
                "\n",
                "create table index_example (i int primary key, j int);\n",
                "insert into index_example values (1,1),(2,2),(3,3),(4,4),(5,5),(6,6),(7,7),(8,8),(9,9),(10,10);\n",
                "insert into index_example select i+10,j+10 from index_example;\n",
                "insert into index_example select i+20,j+20 from index_example;\n",
                "insert into index_example select i+40,j+40 from index_example;\n",
                "insert into index_example select i+80,j+80 from index_example;\n",
                "insert into index_example select i+160,j+160 from index_example;\n",
                "insert into index_example select i+320,j+320 from index_example;\n",
                "insert into index_example select i+640,j+640 from index_example;\n",
                "insert into index_example select i+1280,j+1280 from index_example;\n",
                "insert into index_example select i+2560,j+2560 from index_example;\n",
                "insert into index_example select i+6000,j+6000 from index_example;\n",
                "insert into index_example select i+12000,j+12000 from index_example;\n",
                "insert into index_example select i+24000,j+24000 from index_example;\n",
                "insert into index_example select i+48000,j+48000 from index_example;\n",
                "insert into index_example select i+96000,j+96000 from index_example;\n",
                "insert into index_example select i+200000,j+200000 from index_example;\n",
                "insert into index_example select i+400000,j+400000 from index_example;\n",
                "insert into index_example select i+800000,j+800000 from index_example;\n",
                "analyze table index_example"
            ]
        },
        {
            "cell_type": "markdown",
            "metadata": {},
            "source": [
                "<br />\n",
                "\n",
                "As you can see from the results of the above operation, we now have:\n",
                "\n",
                "* about 1.3 million rows of data\n",
                "* a primary key on `i`\n",
                "\n",
                "Click <img class=\"inline\" src=\"https://doc.splicemachine.com/zeppelin/images/zepPlayIcon.png\" alt=\"Run Zep Paragraph Icon\"> in the next paragraph  to do lookups on `i`. You'll see that the primary key will find the record for us quickly:"
            ]
        },
        {
            "cell_type": "code",
            "execution_count": null,
            "metadata": {},
            "outputs": [],
            "source": [
                "%%sql \n",
                "\n",
                "select * from index_example where i = 300000"
            ]
        },
        {
            "cell_type": "markdown",
            "metadata": {},
            "source": [
                "<br />\n",
                "\n",
                "That query should have come back almost immediately. But what happens if we query on j?"
            ]
        },
        {
            "cell_type": "code",
            "execution_count": null,
            "metadata": {},
            "outputs": [],
            "source": [
                "%%sql \n",
                "\n",
                "select * from index_example where j = 300000"
            ]
        },
        {
            "cell_type": "markdown",
            "metadata": {},
            "source": [
                "### Adding an Index\n",
                "\n",
                "You probably noticed this query required more time to complete; this is because there was no key to go straight to the record. Now, let's add an index on j:"
            ]
        },
        {
            "cell_type": "code",
            "execution_count": null,
            "metadata": {},
            "outputs": [],
            "source": [
                "%%sql \n",
                "\n",
                "create index ij on index_example (j)"
            ]
        },
        {
            "cell_type": "markdown",
            "metadata": {},
            "source": [
                "<br />\n",
                "\n",
                "If you rerun the previous j query, it now runs quickly.  This is because the optimizer considered both plan options available to it (with and without an index), found a lower cost for the plan using the index, and executed that plan.\n",
                "\n",
                "This is where `EXPLAIN` can be quite useful as well: you can discover if an index is being used or not. Click <img class=\"inline\" src=\"https://doc.splicemachine.com/zeppelin/images/zepPlayIcon.png\" alt=\"Run Zep Paragraph Icon\"> in the next paragraph to run the `explain`:\n"
            ]
        },
        {
            "cell_type": "code",
            "execution_count": null,
            "metadata": {},
            "outputs": [],
            "source": [
                "%%sql \n",
                "\n",
                "explain select j from index_example where j = 300000"
            ]
        },
        {
            "cell_type": "markdown",
            "metadata": {},
            "source": [
                "### When an Index Doesn't Help\n",
                "\n",
                "You can see that this performs an *IndexScan* (vs. a *TableScan*), and it tells you which index it uses, as well as the usual cost information, etc.\n",
                "\n",
                "Let's get into a more complicated case where it is __not__ a good idea to use a particular index. In the next paragraph, we start with an `EXPLAIN` on our query:"
            ]
        },
        {
            "cell_type": "code",
            "execution_count": null,
            "metadata": {},
            "outputs": [],
            "source": [
                "%%sql \n",
                "\n",
                "explain select count(*) from\n",
                "  (select j,i from index_example\n",
                "     where j > 950000) a"
            ]
        },
        {
            "cell_type": "markdown",
            "metadata": {},
            "source": [
                "### Adding Hints\n",
                "\n",
                "Note that the optimizer chose the plan that uses the actual table, NOT the index; why did it make this choice?\n",
                "\n",
                "We can learn more about this by using a Splice Machine *hint* to force use of an index. We use an `index` hint in next paragraph:\n"
            ]
        },
        {
            "cell_type": "code",
            "execution_count": null,
            "metadata": {},
            "outputs": [],
            "source": [
                "%%sql \n",
                "\n",
                "explain select count(*) from\n",
                "  (select j,i from index_example --splice-properties index=ij\n",
                "     where j > 950000) a"
            ]
        },
        {
            "cell_type": "markdown",
            "metadata": {},
            "source": [
                "<br />\n",
                "\n",
                "You add a Splice Machine __hint__ to your queries by appending a specially formatted *comment*. These hints:\n",
                "\n",
                "* are always prefaced by `--splice-properties`\n",
                "* must always be placed at the end of a line\n",
                "* can be used either after a table name or after a `FROM` clause\n",
                "\n",
                "The *index hint* in the above example  (`--splice-properties index=ij`) is an explicit instruction to the optimizer to use that named index now. And the results of using the index are evident in the generated plan, which now uses `IndexScan` instead of the `TableScan`. We can also see that the total cost (at the top of each plan) is much higher when using the index. Why is that?\n",
                "\n",
                "It's because the index only contains information for column `J`, and this query calls for information about column `I` as well. This means that we still have to get information from the base table for column I, and we have to do it *many* times.  You can see this in the plan: there is a step, `IndexLookup`, that is part of the plan.  You'll also see the cost jump up on that step, because for every row of where column J matches the criteria that we need to scan (and the optimizer estimates there are more then a million matches), we have to go back over to the base table to get the information about column `I`.  In distributed architectures like Splice Machine, this can be a very expensive operation.\n",
                "\n",
                "If you want, you can run these these two queries by removing the `explains`; you'll noticed a significant performance difference between them.\n",
                "\n",
                "<p class=\"noteNote\">If we change the <code>&gt;</code> to <code>=</code> in the query, things change dramatically. Even though there is still an <code>IndexLookup</code>, it's only called once, so clearly use of the Index vs the Table is a better and faster plan.  Try it and see!</p>\n",
                "\n",
                "When faced with situations where you have __many__ matching rows however, like our original query, you can address the issue by creating a compound index that includes both j and i in it:"
            ]
        },
        {
            "cell_type": "code",
            "execution_count": null,
            "metadata": {},
            "outputs": [],
            "source": [
                "%%sql \n",
                "create index iji on index_example (j, i)"
            ]
        },
        {
            "cell_type": "markdown",
            "metadata": {},
            "source": [
                "<br />\n",
                "\n",
                "Running the original query will now choose this index, and run faster."
            ]
        },
        {
            "cell_type": "markdown",
            "metadata": {},
            "source": [
                "## Joining Tables\n",
                "\n",
                "Few queries are written without joins between tables.  Shortly we will get into the join strategies Splice Machine employs, but first let's cover what it means to be on the *right* or *left* side of a join.  To begin, we'll click <img class=\"inline\" src=\"https://doc.splicemachine.com/zeppelin/images/zepPlayIcon.png\" alt=\"Run Zep Paragraph Icon\"> to run the next paragraph, which creates some tables and then runs an `EXPLAIN` on a join on those tables:\n"
            ]
        },
        {
            "cell_type": "code",
            "execution_count": null,
            "metadata": {},
            "outputs": [],
            "source": [
                "%%sql \n",
                "\n",
                "create table join1 (i int);\n",
                "create table join2 (i int);\n",
                "create table join3 (i int);\n",
                "create table join4 (i int);\n",
                "\n",
                "explain select * from join1 a, join2 b, join3 c, join4 d\n",
                "where a.i = b.i\n",
                "and a.i = c.i\n",
                "and a.i = d.i\n"
            ]
        },
        {
            "cell_type": "markdown",
            "metadata": {},
            "source": [
                "<br />\n",
                "\n",
                "For now, we'll ignore costs and join strategies and focus on the __order__ in which tables show up in the plan we just generated (with our `explain`).  Again, we need to think through this *bottom-up:* when examining our plan:\n",
                "\n",
                "* The bottom-most table (`JOIN1`) is the *left-hand side*\n",
                "* The next up table (`JOIN2`) is the *right-hand side*\n",
                "* Each join needs a left-hand side and a right-hand side, so the bottom-most join will be joining tables `JOIN1` and `JOIN2`.\n",
                "* The __result__ of this bottom-most join becomes the __NEW__ *left-hand side*, and the table above it (in this case `JOIN3`) will be the *right-hand side* for the next join, and so on.\n",
                "\n",
                "It is important to know what table (or join result) represents the left-hand or right-hand side of the join."
            ]
        },
        {
            "cell_type": "markdown",
            "metadata": {},
            "source": [
                "### Join Strategies\n",
                "\n",
                "Databases employ different algorithms to efficiently perform a join, depending on the circumstances.  Here are the join strategies Splice Machine employs:\n",
                "\n",
                "<table class=\"splicezep\">\n",
                "    <col />\n",
                "    <col />\n",
                "    <thead>\n",
                "        <tr>\n",
                "            <th>Join Strategy</th>\n",
                "            <th>Description</th>\n",
                "        </tr>\n",
                "    </thead>\n",
                "    <tbody>\n",
                "        <tr>\n",
                "            <td class=\"CodeFont\">SortMerge</td>\n",
                "            <td>Sorts the data being joined and performs a merge on the results</td>\n",
                "        </tr>\n",
                "        <tr>\n",
                "            <td class=\"CodeFont\">Merge</td>\n",
                "            <td>Performs a merge, but is not valid unless the data is not pre-sorted (via primary key or index) on the join key</td>\n",
                "        </tr>\n",
                "        <tr>\n",
                "            <td class=\"CodeFont\">Broadcast</td>\n",
                "            <td>Requires the right-hand-side table to be small (< 1 million rows), so that this table can be copied to all nodes for local joins on each node</td>\n",
                "        </tr>\n",
                "        <tr>\n",
                "            <td class=\"CodeFont\">NestedLoop</td>\n",
                "            <td>The general-purpose join strategy</td>\n",
                "        </tr>\n",
                "    </tbody>\n",
                "</table>\n",
                "\n",
                "Each join strategy has its strengths and weaknesses, which are summarized here:\n",
                "\n",
                "<table class=\"splicezep\">\n",
                "    <col />\n",
                "    <col />\n",
                "    <thead>\n",
                "        <tr>\n",
                "            <th>Join Strategy</th>\n",
                "            <th>Strengths and Weaknesses</th>\n",
                "        </tr>\n",
                "    </thead>\n",
                "    <tbody>\n",
                "        <tr>\n",
                "            <td class=\"CodeFont\">SortMerge</td>\n",
                "            <td><p>On queries processing a lot of data, when a Merge or Broadcast is not valid, SortMerge will be used.</p>\n",
                "                <p>It is slower than Merge and Broadcast, but can be used in more instances.</p>\n",
                "            </td>\n",
                "        </tr>\n",
                "        <tr>\n",
                "            <td class=\"CodeFont\">Merge</td>\n",
                "            <td><p>Generally the fastest query to process many rows of data on both the right and left side of the join.</p>\n",
                "                <p>However the data must be sorted on the join keys on both the right and left sides.</p>\n",
                "            </td>\n",
                "        </tr>\n",
                "        <tr>\n",
                "            <td class=\"CodeFont\">Broadcast</td>\n",
                "            <td><p>A very fast join algorithm as long as the *right-hand* table of the join has 1 million or fewer rows.</p>\n",
                "            </td>\n",
                "        </tr>\n",
                "        <tr>\n",
                "            <td class=\"CodeFont\">NestedLoop</td>\n",
                "            <td><p>The fastest join for *transaction-type* queries (i.e. keyed lookups with few rows on each side of the join).</p>\n",
                "                <p>If there are many rows on the right and/or left side, this query can be very slow.</p>\n",
                "            </td>\n",
                "        </tr>\n",
                "    </tbody>\n",
                "</table>\n",
                "\n",
                "When planning a query with joins, the optimizer will choose the join strategy with the lowest cost.  Its choice however might again influence how you make your own changes (for example, add an index so that a SortMerge becomes a Merge).  We will see more examples of this in the next Tutorial.\n",
                "\n"
            ]
        },
        {
            "cell_type": "markdown",
            "metadata": {},
            "source": [
                "## Where to Go Next\n",
                "\n",
                "We'll get deeper into tuning queries in our next tutorial, <a href=\"./2.6%20Using%20the%20Database%20Console%20UI%20Tutorial.ipynb\">Using the DB Console UI</a>.\n",
                "\n",
                "Our documentation has more information about the strategies described here; these topics are particularly relevant:\n",
                "\n",
                "* <a href=\"https://doc.splicemachine.com/developers_tuning_intro.html\" target=\"blank\">The <em>Tuning and Debugging</em> section of our Developer's Guide</a>\n",
                "* <a href=\"https://doc.splicemachine.com/sqlref_joinops_intro.html\" target=\"blank\">The <em>Join Operations</em> section of our SQL Reference Manual.</a>\n"
            ]
        },
        {
            "cell_type": "code",
            "execution_count": null,
            "metadata": {
                "autoscroll": "auto"
            },
            "outputs": [],
            "source": []
        }
    ],
    "metadata": {
        "kernelspec": {
            "display_name": "Python 3",
            "language": "python",
            "name": "python3"
        },
        "language_info": {
            "codemirror_mode": {
                "name": "ipython",
                "version": 3
            },
            "file_extension": ".py",
            "mimetype": "text/x-python",
            "name": "python",
            "nbconvert_exporter": "python",
            "pygments_lexer": "ipython3",
            "version": "3.7.3"
        },
        "toc": {
            "base_numbering": 1,
            "nav_menu": {},
            "number_sections": false,
            "sideBar": false,
            "skip_h1_title": false,
            "title_cell": "Table of Contents",
            "title_sidebar": "Contents",
            "toc_cell": false,
            "toc_position": {},
            "toc_section_display": false,
            "toc_window_display": false
        }
    },
    "nbformat": 4,
    "nbformat_minor": 2
}
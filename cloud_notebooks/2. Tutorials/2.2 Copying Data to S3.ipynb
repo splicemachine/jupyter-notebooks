{
    "cells": [
        {
            "cell_type": "code",
            "execution_count": null,
            "metadata": {},
            "outputs": [],
            "source": [
                "# setup-- \n",
                "import os\n",
                "import pyspark\n",
                "from splicemachine.spark.context import PySpliceContext\n",
                "from pyspark.conf import SparkConf\n",
                "from pyspark.sql import SparkSession\n",
                "\n",
                "# make sure pyspark tells workers to use python3 not 2 if both are installed\n",
                "os.environ['PYSPARK_PYTHON'] = '/usr/bin/python3'\n",
                "jdbc_host = os.environ['JDBC_HOST']\n",
                "\n",
                "conf = pyspark.SparkConf()\n",
                "sc = pyspark.SparkContext(conf=conf)\n",
                "\n",
                "spark = SparkSession.builder.config(conf=conf).getOrCreate()\n",
                "\n",
                "splicejdbc=f\"jdbc:splice://{jdbc_host}:1527/splicedb;user=splice;password=admin\"\n",
                "\n",
                "splice = PySpliceContext(spark, splicejdbc)\n"
            ]
        },
        {
            "cell_type": "markdown",
            "metadata": {},
            "source": [
                "<link rel=\"stylesheet\" href=\"https://doc.splicemachine.com/zeppelin/css/zepstyles.css\" />\n",
                "\n",
                "# Copying Data to S3\n",
                "\n",
                "Now that we've covered the basic of notebooks and SQL, we will show you how you can upload some data to <b>S3</b> and begin working with it on Splice Machine!\n",
                "\n",
                "The easiest way to get your database tables populated is to import data from flat files (csv, etc.). Splice Machine imports data directly from S3; if your flat files are already stored in S3, you can skip this tutorial and jump to the next, which walks you through importing your data from S3 into your Splice Machine database.\n",
                "\n",
                "If you need assistance getting started with S3, you can access Amazon's getting started guide [here](https://docs.aws.amazon.com/AmazonS3/latest/gsg/GetStartedWithS3.html).\n",
                "\n",
                "<p style=\"margin-left:50px\"><span style=\"color:red;font-weight:bold;\">Important:</span> the flat files you use to import should be delimited (using comma, etc.), with newlines between each record.</p>\n",
                "\n",
                "\n",
                "To copy your database to S3, you need to have an AWS account with access to S3 buckets.\n",
                "\n",
                "<p class=\"noteNote\">If you need assistance with copying your data to S3, please <a href=\"mailto:support@splicemachine.com\">contact Splice Machine</a>.</p>\n",
                "\n",
                "## Copying Small Files From Your Local Machine\n",
                "For small files on your local machine, you may be able to use the AWS Web UI to upload your files:\n",
                "\n",
                "1. Log in to your AWS account\n",
                "2. Navigate to the S3 area, as shown below\n",
                "<img src=https://doc.splicemachine.com/images/AWSSelectS3.png width=650>\n",
                "3. Create an S3 bucket, if necessary\n",
                "4. Navigate to your S3 bucket\n",
                "5. Click the `Upload` button, then `Add files` as seen below\n",
                "<img src=https://doc.splicemachine.com/images/AWSUploadFiles.png width=650>\n",
                "6. Select the files to copy  or use drag-and-drop to copy them to S3\n",
                "\n",
                "## Copying Large Files\n",
                "The files that you want to import into your database are typically large and not located on your local computer; this makes it necessary to use the *AWS Command Line Interface* to copy these files to S3.\n",
                "\n",
                "The AWS CLI site, <a href=\"https://aws.amazon.com/cli/\" target=\"_blank\">https://aws.amazon.com/cli/</a>, shows you how to install and use this interface to copy your data up to an S3 bucket. "
            ]
        },
        {
            "cell_type": "markdown",
            "metadata": {},
            "source": [
                "## Where to Go Next\n",
                "\n",
                "Once you have one or more delimited data files available on S3, visit our next tutorial Notebook, <a href=\"./2.3%20Importing%20Data%20Tutorial.ipynb\">Importing Data</a>, which walks you through using Splice Machine to quickly import that data into your database."
            ]
        },
        {
            "cell_type": "code",
            "execution_count": null,
            "metadata": {},
            "outputs": [],
            "source": []
        }
    ],
    "metadata": {
        "kernelspec": {
            "display_name": "Python 3",
            "language": "python",
            "name": "python3"
        },
        "language_info": {
            "codemirror_mode": {
                "name": "ipython",
                "version": 3
            },
            "file_extension": ".py",
            "mimetype": "text/x-python",
            "name": "python",
            "nbconvert_exporter": "python",
            "pygments_lexer": "ipython3",
            "version": "3.7.3"
        },
        "toc": {
            "base_numbering": 1,
            "nav_menu": {},
            "number_sections": false,
            "sideBar": false,
            "skip_h1_title": false,
            "title_cell": "Table of Contents",
            "title_sidebar": "Contents",
            "toc_cell": false,
            "toc_position": {},
            "toc_section_display": false,
            "toc_window_display": false
        }
    },
    "nbformat": 4,
    "nbformat_minor": 2
}
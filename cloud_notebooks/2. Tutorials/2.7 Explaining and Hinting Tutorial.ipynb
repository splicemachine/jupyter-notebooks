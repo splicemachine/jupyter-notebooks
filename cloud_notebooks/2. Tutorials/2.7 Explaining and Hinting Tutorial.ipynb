{
    "cells": [
        {
            "cell_type": "code",
            "execution_count": null,
            "metadata": {},
            "outputs": [],
            "source": [
                "import os\n",
                "os.environ['JDBC_HOST'] = 'jrtest01-splice-hregion'"
            ]
        },
        {
            "cell_type": "code",
            "execution_count": null,
            "metadata": {},
            "outputs": [],
            "source": [
                "# setup-- \n",
                "import os\n",
                "import pyspark\n",
                "from splicemachine.spark.context import PySpliceContext\n",
                "from pyspark.conf import SparkConf\n",
                "from pyspark.sql import SparkSession\n",
                "\n",
                "# make sure pyspark tells workers to use python3 not 2 if both are installed\n",
                "os.environ['PYSPARK_PYTHON'] = '/usr/bin/python3'\n",
                "jdbc_host = os.environ['JDBC_HOST']\n",
                "\n",
                "conf = pyspark.SparkConf()\n",
                "sc = pyspark.SparkContext(conf=conf)\n",
                "\n",
                "spark = SparkSession.builder.config(conf=conf).getOrCreate()\n",
                "\n",
                "splicejdbc=f\"jdbc:splice://{jdbc_host}:1527/splicedb;user=splice;password=admin\"\n",
                "\n",
                "splice = PySpliceContext(spark, splicejdbc)\n"
            ]
        },
        {
            "cell_type": "markdown",
            "metadata": {},
            "source": [
                "<link rel=\"stylesheet\" href=\"https://doc.splicemachine.com/zeppelin/css/zepstyles.css\" />\n",
                "\n",
                "# Explaining and Hinting\n",
                "\n",
                "In this notebook we'll dig into the explain and hint capabilities that we've briefly seen so far.  We'll see how they can help us:\n",
                "\n",
                "* Understand more deeply what the optimizer's plan is to run the query\n",
                "* How to potentially influence that plan if necessary\n"
            ]
        },
        {
            "cell_type": "markdown",
            "metadata": {},
            "source": [
                "## Understanding the Query Execution Plan\n",
                "\n",
                "This section describes more fully what information is in the Explain plan for a query; the key pieces of information in a plan include the:\n",
                "\n",
                "*  Ordering of the joins and other steps in the query\n",
                "*  Use of Tables vs Indexes\n",
                "*  Need for IndexLookup, which can slow a query down\n",
                "*  Join Strategies employed\n",
                "*  Actual row count and cost estimates at each step\n",
                "*  Presence of predicate pushdowns where available\n",
                "*  Indication of which *engine* will run the query: *control* or *Spark*\n",
                "\n",
                "We'll delve a bit deeper into pushing down predicates and join ordering/strategies to help you understand plans.\n",
                "\n",
                "### Explain and Predicates\n",
                "\n",
                "Let's start with a query variant that is based on the `index_example` table from a previous tutorial. Click the  <img class=\"inline\" src=\"https://doc.splicemachine.com/zeppelin/images/zepPlayIcon.png\" alt=\"Run Zep Paragraph Icon\"> *Run* button in the next paragraph to display the plan for this query:\n"
            ]
        },
        {
            "cell_type": "code",
            "execution_count": null,
            "metadata": {},
            "outputs": [],
            "source": [
                "%%sql \n",
                "\n",
                "explain select a.i, a.j from\n",
                "    index_example a\n",
                "    ,index_example b --splice-properties joinStrategy=sortmerge\n",
                "     where a.i = b.i\n",
                "     and a.j = 700000"
            ]
        },
        {
            "cell_type": "markdown",
            "metadata": {},
            "source": [
                "<br />\n",
                "\n",
                "You'll notice that on the very right of the plan are two lines with *preds=* on them. *Preds* is short for *predicates*, which in databases are true/false conditions that are tested during query execution.\n",
                "\n",
                "Starting on the bottom line, we see an `IndexScan` with the preds specification on it; this is called a *Predicate Pushdown*. A pushdown means: when we perform this `IndexScan`, we'll bring this predicate (`A.J = 700000`) along with us, and will return ONLY the rows that match.  Predicate pushdowns are extremely efficient when performed on keyed results (primary keys or indexes), because only the minimal number of rows are pushed up to the next step.\n",
                "\n",
                "The other kind of predicate shown here is of the form `[(A.I[4:2] = B.I[4:1])]`. You can ignore the numbers for now; the key part is `A.I = B.I`.  You can see that this is the join predicate, required for the actual join operation.\n",
                "\n",
                "The main takeaway is that, as with most databases: when you can *push down* a predicate that filters a lot of data with a keyed filter, it helps create efficient scans for that step. If the filter is not keyed, this becomes a potential opportunity for adding an index."
            ]
        },
        {
            "cell_type": "markdown",
            "metadata": {},
            "source": [
                "### Join Ordering\n",
                "\n",
                "The actual join ordering is part of the optimization process: do I get a better cost when I start with table A and join B with it, or the other way around?\n",
                "\n",
                "Smart join ordering depends a lot on the situation.  Generally speaking, the sooner you can filter out rows (thus working with fewer rows at each step of the query), the faster the query will run.\n",
                "\n",
                "When you look at an explain plan, if you are unsure of the ordering, remember again the order is *bottom up*. Another way to view this is to look at the counts on each row of the plan (n=1, n=2, etc.).  This dictates the table ordering being used."
            ]
        },
        {
            "cell_type": "markdown",
            "metadata": {},
            "source": [
                "## Influencing the Query Execution Plan with Hints\n",
                "\n",
                "If your query is still slower than you expect or if you want to experiment with plan alternatives, you can use Splice Machine *query hints*. Hints are Suppose your query is still slower than you would expect.  Or you just want to try out other plan alternatives to see what would happen.  This is when hinting helps.\n",
                "\n",
                "We introduced hints in an earlier tutorial, *Tuning for Performance.* To recap: you add a hint to a query by appending a specially formatted *comment*. These hints must always be placed at the end of a line, and can be used either after a table name or after a `FROM` clause. Most hints are used for these reasons:\n",
                "\n",
                "<table class=\"splicezep\">\n",
                "    <col />\n",
                "    <col />\n",
                "    <thead>\n",
                "        <tr>\n",
                "            <th>Hint Type</th>\n",
                "            <th>Description</th>\n",
                "        </tr>\n",
                "    </thead>\n",
                "    <tbody>\n",
                "        <tr>\n",
                "        <tr>\n",
                "            <td class=\"ItalicFont\">Join Order</td>\n",
                "            <td>Indicates that the join order of the tables in the plan should be exactly the same as entered in the query SQL (first to last)</td>\n",
                "        </tr>\n",
                "            <td class=\"ItalicFont\">Join Strategy</td>\n",
                "            <td><p>Explicitly specifies the join strategy to use:</p>\n",
                "                <ul>\n",
                "                    <li><code>broadcast</code></li>\n",
                "                    <li><code>sortmerge</code></li>\n",
                "                    <li><code>merge</code></li>\n",
                "                    <li><code>nestedloop</code></li>\n",
                "                </ul>\n",
                "            </td>\n",
                "        </tr>\n",
                "        <tr>\n",
                "            <td class=\"ItalicFont\">Index Selection</td>\n",
                "            <td>Explicitly specifies the use of a specific index, or explicitly specifies to NOT use an index</td>\n",
                "        </tr>\n",
                "    </tbody>\n",
                "</table>\n",
                "\n",
                "### Syntax Matters\n",
                "\n",
                "Note that in the example below, the comma separating the tables to be joined needs to be AFTER the index hint, and thus is on the next line.  Further, if there is a semicolon separating your SQL calls, you must put the semicolon AFTER the hint: on the next line.\n",
                "\n",
                "<div class=\"noteIcon\">\n",
                "    <p>Hints must be specified exactly; any misspelling or any extra text can result in the hint not working because it is considered a comment; for example, you <strong>must</strong> spell joinOrder and joinStrategy in exactly that way.</p>\n",
                "    <p>Splice Machine <strong>strongly recommends</strong> that you run an <code>explain</code> on any query that contains a hint before actually executing the query, so you can verify that the hint is correctly specified.\n",
                "</div>\n",
                "\n",
                "Here's the syntax to use for each hint type:\n",
                "\n",
                "<table class=\"splicezep\">\n",
                "    <col />\n",
                "    <col />\n",
                "    <col />\n",
                "    <thead>\n",
                "        <tr>\n",
                "            <th>Hint Type</th>\n",
                "            <th>Syntax Example</th>\n",
                "            <th>Usage Notes</th>\n",
                "        </tr>\n",
                "    </thead>\n",
                "    <tbody>\n",
                "        <tr>\n",
                "            <td class=\"ItalicFont\">Join Order</td>\n",
                "            <td class=\"CodeFont\">joinOrder=fixed</td>\n",
                "            <td>On the <code>FROM</code> line in the query</td>\n",
                "        </tr>\n",
                "        <tr>\n",
                "            <td class=\"ItalicFont\">Join Strategy</td>\n",
                "            <td class=\"CodeFont\">joinStrategy=broadcast</td>\n",
                "            <td>After the right-hand-side table. This is typically used with <code>joinOrder=fixed</code> to control which tables are joined.</td>\n",
                "       </tr>\n",
                "        <tr>\n",
                "            <td class=\"ItalicFont\">Index Selection</td>\n",
                "            <td class=\"CodeFont\">index=ix</td>\n",
                "            <td>After the specified table</td>\n",
                "        </tr>\n",
                "        <tr>\n",
                "            <td class=\"ItalicFont\">No index</td>\n",
                "            <td class=\"CodeFont\">index=null</td>\n",
                "            <td>After the specified table</td>\n",
                "        </tr>\n",
                "    </tbody>\n",
                "</table>\n",
                "\n",
                "Click <img class=\"inline\" src=\"https://doc.splicemachine.com/zeppelin/images/zepPlayIcon.png\" alt=\"Run Zep Paragraph Icon\"> in the next paragraph  to see a full example:\n"
            ]
        },
        {
            "cell_type": "code",
            "execution_count": null,
            "metadata": {},
            "outputs": [],
            "source": [
                "%%sql \n",
                "\n",
                "explain select count(*) from\n",
                "  (select a.i, a.j from --splice-properties joinOrder=fixed\n",
                "    index_example b --splice-properties index=ij\n",
                "    ,index_example a --splice-properties index=null, joinStrategy=nestedloop\n",
                "     where a.j = 700000) x\n"
            ]
        },
        {
            "cell_type": "markdown",
            "metadata": {},
            "source": [
                "### Examples of When to Hint\n",
                "\n",
                "If the optimizer doesn't give you the execution plan that you were expecting, you can supply hints to guide it. You can also use hints as an experimental tool to discover what happens when a different plan gets chosen: you'll typically find that the cost shown when you use `explain` is higher than the cost chosen by the optimizer.\n",
                "\n",
                "If you find that your plan (after hinting) runs faster, you should report this to support@splicemachine.com so we can determine if you've found a bug."
            ]
        },
        {
            "cell_type": "markdown",
            "metadata": {},
            "source": [
                "## Where to Go Next\n",
                "\n",
                "Our next tutorial, <a href=\"./2.8%20TPCH-1%20Tutorial.ipynb\">Running the TPCH-1 Benchmark Queries</a>, walks you through loading the TPCH-1 benchmark data and running the benchmark queries.\n"
            ]
        },
        {
            "cell_type": "code",
            "execution_count": null,
            "metadata": {},
            "outputs": [],
            "source": []
        }
    ],
    "metadata": {
        "kernelspec": {
            "display_name": "Python 3",
            "language": "python",
            "name": "python3"
        },
        "language_info": {
            "codemirror_mode": {
                "name": "ipython",
                "version": 3
            },
            "file_extension": ".py",
            "mimetype": "text/x-python",
            "name": "python",
            "nbconvert_exporter": "python",
            "pygments_lexer": "ipython3",
            "version": "3.7.3"
        },
        "toc": {
            "base_numbering": 1,
            "nav_menu": {},
            "number_sections": false,
            "sideBar": false,
            "skip_h1_title": false,
            "title_cell": "Table of Contents",
            "title_sidebar": "Contents",
            "toc_cell": false,
            "toc_position": {},
            "toc_section_display": false,
            "toc_window_display": false
        }
    },
    "nbformat": 4,
    "nbformat_minor": 2
}
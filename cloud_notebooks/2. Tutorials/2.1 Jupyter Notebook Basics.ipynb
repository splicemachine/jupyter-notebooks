{
 "cells": [
  {
   "cell_type": "markdown",
   "metadata": {},
   "source": [
    "\n",
    "# Introduction to Jupyter Notebooks\n",
    "\n",
    "This brief tutorial introduces you to creating, running, and modifying notebooks. Splice Machine uses *Jupyter Notebooks* to give you a flexible, interactive mechanism for working with the database and any code working with it. Here's some basic Jupyter Notebook terminology:\n",
    "\n",
    "* Notebooks are broken into *cells*. You are now viewing the first cell in this notebook.\n",
    " \n",
    "* Each cell has a *cell type* that knows how to process the source content in the cell. \n",
    "  We are using the *markdown* type in this cell. Markdown generates HTML from easy-to-read, plain text input that uses simplified formatting instructions.\n",
    " \n",
    "* You run a cell by clicking the *Run* button at the top (or clicking *Shift + Enter*); you can see the output of the cell after it runs. For example, the result of running this Markdown cell is to see the formatted text that you are currently reading.\n",
    "\n",
    "The next cell in this notebook is an empty Markdown cell. You can enter markdown text into it to see how a Markdown cell works. Follow these steps:\n",
    "\n",
    "* Enter some text on the line below.\n",
    "* Click the *Run* button above, or press *Shift+Enter* on your keyboard."
   ]
  },
  {
   "cell_type": "markdown",
   "metadata": {},
   "source": [
    "Double click this cell and replace this cell with anything properly formatted markdown"
   ]
  },
  {
   "cell_type": "markdown",
   "metadata": {},
   "source": [
    "## Cell Types\n",
    "\n",
    "Each Jupyter Notebook cell has a type, which defines how it works. The two main cell types are *Markdown* (like this one) and *Code*. You can change the type of a cell in the *Cell* menu or by using the dropdown in the toolbar:\n",
    "\n",
    "<img class=\"fit3qtrwidth\" src=\"https://doc.splicemachine.com/jupyter/images/celltype.png\">\n",
    "\n",
    "## Magics\n",
    "\n",
    "In *Code* cells, you can use [magics](https://ipython.readthedocs.io/en/stable/interactive/magics.html) to change the language you want to write in; to see the available magic types, run a cell with <code>%lsmagic</code> in it:"
   ]
  },
  {
   "cell_type": "code",
   "execution_count": null,
   "metadata": {},
   "outputs": [],
   "source": [
    "%lsmagic"
   ]
  },
  {
   "cell_type": "markdown",
   "metadata": {},
   "source": [
    "There are two kinds of magics:\n",
    "\n",
    "* _Line magics_ are magic functions that help you within that individual line of code.\n",
    "* _Cell magics_ are magic functions that help you within that *entire cell*.\n",
    "\n",
    "For example, you can use the _timeit_ magics to time executions:\n",
    "* The `%timeit` magic times execution of a line of code, as shown in the first cell below.\n",
    "* The `%%timeit` magic times the execution of  an entire cell, as shown in the second cell below."
   ]
  },
  {
   "cell_type": "code",
   "execution_count": null,
   "metadata": {},
   "outputs": [],
   "source": [
    "%timeit x = [i for i in range(1000)]"
   ]
  },
  {
   "cell_type": "code",
   "execution_count": null,
   "metadata": {},
   "outputs": [],
   "source": [
    "%%timeit\n",
    "x = []\n",
    "for i in range(1000):\n",
    "    x.append(i)"
   ]
  },
  {
   "cell_type": "markdown",
   "metadata": {},
   "source": [
    "Note that these cells above ran somewhat slowly; that's because they ran 7 times, and each run had 1000 loops. We set this up to generate more accurate timing: with additional loops and runs, `timeit` can give you the average run time with a standard deviation.\n",
    "\n",
    "You can:\n",
    "\n",
    "* change the number of loops per run by adding `-n<number>` after the `timeit` call\n",
    "* change the number of runs by adding `-r<number>` after the `timeit` call\n",
    "\n",
    "Here are two examples:"
   ]
  },
  {
   "cell_type": "code",
   "execution_count": null,
   "metadata": {},
   "outputs": [],
   "source": [
    "%timeit -n1 -r1 x = [i for i in range(1000)]"
   ]
  },
  {
   "cell_type": "code",
   "execution_count": null,
   "metadata": {},
   "outputs": [],
   "source": [
    "%%timeit -n1 -r1\n",
    "x = []\n",
    "for i in range(1000):\n",
    "    x.append(i)"
   ]
  },
  {
   "cell_type": "markdown",
   "metadata": {},
   "source": [
    "If you run these again, you will likely see different times, as each iteration will have some variance."
   ]
  },
  {
   "cell_type": "markdown",
   "metadata": {},
   "source": [
    "### SQL Magic\n",
    "\n",
    "As another example, we'll run `SQL` directly against the Splice Database:"
   ]
  },
  {
   "cell_type": "code",
   "execution_count": 2,
   "metadata": {
    "collapsed": true
   },
   "outputs": [
    {
     "ename": "java.lang.RuntimeException",
     "evalue": " No datasource",
     "output_type": "error",
     "traceback": [
      "\u001b[1;31mjava.lang.RuntimeException: No datasource\u001b[0;0m"
     ]
    },
    {
     "name": "stdout",
     "output_type": "stream",
     "text": [
      "Sql started successfully\n",
      "\n"
     ]
    }
   ],
   "source": [
    "%%sql \n",
    "\n",
    "drop table if exists a;\n",
    "create table a (i int, j int);\n",
    "\n",
    "insert into a values (1,1),(10,2),(100,3);\n",
    "\n",
    "select * from a;\n"
   ]
  },
  {
   "cell_type": "markdown",
   "metadata": {},
   "source": [
    "<p class=\"noteNote\">See <a href=\"https://ipython.readthedocs.io/en/stable/interactive/magics.html\" target=\"_blank\">https://ipython.readthedocs.io/en/stable/interactive/magics.html</a> for more information about Jupyter <em>magics</em>.</p>"
   ]
  },
  {
   "cell_type": "markdown",
   "metadata": {},
   "source": [
    "## Where to Go Next\n",
    "\n",
    "You've now learned about creating and running cells that use different interpreters within a single notebook. Our next notebooks walk you through importing data into your Splice Machine database and running queries; the first step is to vist our [*Copying Data to S3*](../2.%20Tutorials/2.2%20Copying%20Data%20to%20S3.ipynb) Notebook so that you can quickly and easily import your data.\n",
    "\n",
    "Again, we encourage you to visit the <a href=\"https://jupyter.readthedocs.io/en/latest/\" target=\"_blank\">Jupyter documentation site</a> to learn about other Jupyter features, including copying, saving, and importing notebooks.\n"
   ]
  },
  {
   "cell_type": "code",
   "execution_count": null,
   "metadata": {},
   "outputs": [],
   "source": []
  }
 ],
 "metadata": {
  "kernelspec": {
   "display_name": "Python 3",
   "language": "python",
   "name": "python3"
  },
  "language_info": {
   "codemirror_mode": {
    "name": "ipython",
    "version": 3
   },
   "file_extension": ".py",
   "mimetype": "text/x-python",
   "name": "python",
   "nbconvert_exporter": "python",
   "pygments_lexer": "ipython3",
   "version": "3.7.3"
  },
  "toc": {
   "base_numbering": 1,
   "nav_menu": {},
   "number_sections": false,
   "sideBar": false,
   "skip_h1_title": false,
   "title_cell": "Table of Contents",
   "title_sidebar": "Contents",
   "toc_cell": false,
   "toc_position": {},
   "toc_section_display": false,
   "toc_window_display": false
  }
 },
 "nbformat": 4,
 "nbformat_minor": 2
}
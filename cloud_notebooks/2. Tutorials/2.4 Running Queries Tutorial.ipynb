{
 "cells": [
  {
   "cell_type": "markdown",
   "metadata": {},
   "source": [
    "<link rel=\"stylesheet\" href=\"https://doc.splicemachine.com/zeppelin/css/zepstyles.css\" />\n",
    "\n",
    "# Running Queries in Splice Machine\n",
    "<link rel=\"stylesheet\" href=\"https://doc.splicemachine.com/zeppelin/css/zepstyles.css\" />\n",
    "\n",
    "Now that we have data imported into our database, we can run some simple queries in our notebook.\n",
    "\n",
    "## A Simple SQL SELECT statement\n",
    "\n",
    "Splice Machine supports ANSI SQL. Our example query uses an SQL `SELECT` statement to select records from a table. This query makes use of the sample data that we imported in the previous notebook, *Importing Data*. \n",
    "\n",
    "This query selects all records in the `import_example` table that have `100` as the value of column `i`; try it by running the next cell.\n"
   ]
  },
  {
   "cell_type": "code",
   "execution_count": null,
   "metadata": {},
   "outputs": [],
   "source": [
    "%%time\n",
    "%%sql \n",
    "\n",
    "select * from import_example\n",
    "where i = 100"
   ]
  },
  {
   "cell_type": "markdown",
   "metadata": {},
   "source": [
    "## EXPLAINing Queries\n",
    "\n",
    "If you have a query that is not performing as expected, you can run the `explain` command to display the execution plan for the query.\n",
    "\n",
    "All you need to do is put `EXPLAIN` in front of the query and run that. This generates the plan, but does not actually run the query. Try it by running the next cell."
   ]
  },
  {
   "cell_type": "code",
   "execution_count": 1,
   "metadata": {
    "collapsed": true
   },
   "outputs": [
    {
     "ename": "java.lang.RuntimeException",
     "evalue": " No datasource",
     "output_type": "error",
     "traceback": [
      "\u001b[1;31mjava.lang.RuntimeException: No datasource\u001b[0;0m"
     ]
    },
    {
     "name": "stdout",
     "output_type": "stream",
     "text": [
      "Sql started successfully\n",
      "\n"
     ]
    }
   ],
   "source": [
    "%%sql \n",
    "\n",
    "explain select * from import_example a, import_example b\n",
    "where a.i = 100"
   ]
  },
  {
   "cell_type": "markdown",
   "metadata": {},
   "source": [
    "\n",
    "To see the flow of the execution of the query, look at the generated plan from the *bottom up.*  The very first steps of the query are at the bottom, then each step follows above. You can see the costs and row count estimates for each step.\n",
    "\n",
    "In the *explain* example that we just ran, we can see we are scanning table `import_example` twice, then joining them with a particular strategy; in this case, the strategy is a nested join loop.\n",
    "\n",
    "The final steps, `Scroll Insensitive` and `Cursor` are typical end steps to the query execution.  There is one __very important__ piece of information shown on the `Cursor` line at the end:\n",
    "\n",
    "    Cursor(n=5,rows=360,updateMode=, engine=control)\n",
    "\n",
    "This line shows you which *engine* is used for the query. The engine parameter indicates which engine Splice Machine plans to use. \n",
    "\n",
    "<div class=\"noteIcon\">\n",
    "<p>As you may know, Splice Machine is a dual-engine database:</p>\n",
    "<ul style=\"margin-bottom:0; padding-bottom:0\">\n",
    "<li>Fast-running queries (e.g. those only processing a few rows) typically get executed on the <code>control</code> side, directly in HBase.</li>\n",
    "<li>Longer-running queries or queries that process a lot of data go through <code>Spark</code>.</li>\n",
    "</ul>\n",
    "</div>\n",
    "\n",
    "We'll cover more about the engines, and the Spark engine in particular, in a later notebook.\n"
   ]
  },
  {
   "cell_type": "markdown",
   "metadata": {},
   "source": [
    "## Where to Go Next\n",
    "\n",
    "By now, you've probably jumped ahead and run queries against your own data. It's possible that some of those queries did not run as quickly as you expected. Our next Tutorial, [*Tuning Queries for Performance*](../2.%20Tutorials/2.5%20Tuning%20for%20Performance%20Tutorial.ipynb), introduces the important elements required to make queries faster. \n",
    "\n",
    "You'll see noticeable performance improvements by tuning your queries using the simple methods explained there."
   ]
  }
 ],
 "metadata": {
  "kernelspec": {
   "display_name": "Python 3",
   "language": "python",
   "name": "python3"
  },
  "language_info": {
   "codemirror_mode": {
    "name": "ipython",
    "version": 3
   },
   "file_extension": ".py",
   "mimetype": "text/x-python",
   "name": "python",
   "nbconvert_exporter": "python",
   "pygments_lexer": "ipython3",
   "version": "3.7.3"
  },
  "toc": {
   "base_numbering": 1,
   "nav_menu": {},
   "number_sections": false,
   "sideBar": false,
   "skip_h1_title": false,
   "title_cell": "Table of Contents",
   "title_sidebar": "Contents",
   "toc_cell": false,
   "toc_position": {},
   "toc_section_display": false,
   "toc_window_display": false
  }
 },
 "nbformat": 4,
 "nbformat_minor": 2
}
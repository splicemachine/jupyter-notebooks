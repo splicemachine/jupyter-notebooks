{
 "cells": [
  {
   "cell_type": "markdown",
   "metadata": {},
   "source": [
    "\n",
    "# Deploying Applications\n",
    "\n",
    "Splice Machine is an ACID compliant RDMS, which means that you can build <a href=\"https://spring.io/\" target=\"_blank\"><em>Spring</em></a> applications on it.\n",
    "\n",
    "One such application is the commonly-used *Petclinic* web app.\n",
    "\n",
    "## Running the Petclinic Web App\n",
    "\n",
    "Here are links you can follow to download and run the Splice Machine/Spring implementation of the Petclinic app. You can:\n",
    "\n",
    "<table class=\"splicezepNoBorder\">\n",
    "   <tbody>\n",
    "        <tr>\n",
    "            <td>Access the repository:</td>\n",
    "            <td><a href=\"https://github.com/splicemachine/spring-petclinic\" target=\"_blank\">https://github.com/splicemachine/spring-petclinic</a></td>\n",
    "        </tr>\n",
    "        <tr>\n",
    "            <td>Download a JDBC driver to use with it:</td>\n",
    "            <td><a href=\"https://splice-releases.s3.amazonaws.com/3.0.0.1937/cluster/jdbc-driver/db-client-3.0.0.1937.jar\" target=\"_blank\">https://splice-releases.s3.amazonaws.com/3.0.0.1937/cluster/jdbc-driver/db-client-3.0.0.1937.jar</a></td>\n",
    "        </tr>\n",
    "        <tr>\n",
    "            <td>Download an ODBC driver to use with it:</td>\n",
    "            <td><a href=\"https://www.splicemachine.com/get-started/odbc-driver-download/\"target=\"_blank\">https://www.splicemachine.com/get-started/odbc-driver-download/</a></td>\n",
    "        </tr>\n",
    "   </tbody>\n",
    "</table>\n",
    "\n",
    "\n",
    "<p class=\"noteNote\">The Petclinic app uses the same basic Java persistence model as traditional databases, as described <a href=\"https://github.com/splicemachine/spring-petclinic/blob/master/src/main/java/org/springframework/samples/petclinic/model/Person.java\">here.</a></p>\n",
    "\n",
    "\n"
   ]
  },
  {
   "cell_type": "markdown",
   "metadata": {},
   "source": [
    "## Where to Go Next\n",
    "\n",
    "The next notebook in this presentation introduces you to <a href=\"./2.6%20Using%20our%20Native%20Spark%20DataSource.ipynb\">Using our Native Spark DataSource</a> for working with your database."
   ]
  }
 ],
 "metadata": {
  "kernelspec": {
   "display_name": "Python 3",
   "language": "python",
   "name": "python3"
  },
  "language_info": {
   "codemirror_mode": {
    "name": "ipython",
    "version": 3
   },
   "file_extension": ".py",
   "mimetype": "text/x-python",
   "name": "python",
   "nbconvert_exporter": "python",
   "pygments_lexer": "ipython3",
   "version": "3.8.5"
  },
  "toc": {
   "base_numbering": 1,
   "nav_menu": {},
   "number_sections": false,
   "sideBar": false,
   "skip_h1_title": false,
   "title_cell": "Table of Contents",
   "title_sidebar": "Contents",
   "toc_cell": false,
   "toc_position": {},
   "toc_section_display": false,
   "toc_window_display": false
  }
 },
 "nbformat": 4,
 "nbformat_minor": 2
}
